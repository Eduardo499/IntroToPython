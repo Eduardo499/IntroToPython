{
 "cells": [
  {
   "cell_type": "raw",
   "id": "e4b0dda2-6cde-4e0e-8b73-b28ac8378f03",
   "metadata": {},
   "source": [
    "(Odd or Even) Use if statements to determine whether an integer is odd or even.\n",
    "[Hint: Use the remainder operator. An even number is a multiple of 2. Any multiple of 2\n",
    "leaves a remainder of 0 when divided by 2.]"
   ]
  },
  {
   "cell_type": "code",
   "execution_count": 4,
   "id": "9bf7140d-10f8-43af-bf40-07458e873135",
   "metadata": {},
   "outputs": [
    {
     "name": "stdin",
     "output_type": "stream",
     "text": [
      "Enter a number:  20\n"
     ]
    },
    {
     "name": "stdout",
     "output_type": "stream",
     "text": [
      "20 is Even.\n"
     ]
    }
   ],
   "source": [
    "n = int(input('Enter a number: '))\n",
    "\n",
    "if n % 2 == 0:\n",
    "    print(f'{n} is Even.')\n",
    "else:\n",
    "    print(f'{n} is Odd.')"
   ]
  }
 ],
 "metadata": {
  "kernelspec": {
   "display_name": "Python 3 (ipykernel)",
   "language": "python",
   "name": "python3"
  },
  "language_info": {
   "codemirror_mode": {
    "name": "ipython",
    "version": 3
   },
   "file_extension": ".py",
   "mimetype": "text/x-python",
   "name": "python",
   "nbconvert_exporter": "python",
   "pygments_lexer": "ipython3",
   "version": "3.11.5"
  }
 },
 "nbformat": 4,
 "nbformat_minor": 5
}
