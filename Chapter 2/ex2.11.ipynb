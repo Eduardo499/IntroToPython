{
 "cells": [
  {
   "cell_type": "raw",
   "id": "80683a34-b96e-4ace-af14-d464726d0a2d",
   "metadata": {},
   "source": [
    "(Calculating Time) Write a script that inputs a number of seconds from the user.\n",
    "Calculate the number of hours, minutes, and remaining seconds. Print them separated by\n",
    "“ - ”. For example, if the user types 3750 seconds as input, the script should print:\n",
    "1 - 2 - 30\n",
    "Assume that the user enters a number of seconds that is higher than 3600. Use both the floor\n",
    "division and the remainder operation to calculate the number of hours, minutes, and seconds."
   ]
  },
  {
   "cell_type": "code",
   "execution_count": 6,
   "id": "796d2bea-0655-44aa-97a3-e388ceb84e24",
   "metadata": {},
   "outputs": [
    {
     "name": "stdin",
     "output_type": "stream",
     "text": [
      "Enter seconds:  3750\n"
     ]
    },
    {
     "name": "stdout",
     "output_type": "stream",
     "text": [
      "1  -  2  -  30\n"
     ]
    }
   ],
   "source": [
    "seconds = int(input('Enter seconds: '))\n",
    "\n",
    "if seconds >= 3600:\n",
    "    minutes = seconds // 60\n",
    "    seconds = seconds % 60\n",
    "    hours = minutes // 60\n",
    "    minutes = minutes % 60\n",
    "    print(hours, ' - ', minutes, ' - ', seconds)\n",
    "else:\n",
    "    print('Must be a value greater or equal than 3600')"
   ]
  }
 ],
 "metadata": {
  "kernelspec": {
   "display_name": "Python 3 (ipykernel)",
   "language": "python",
   "name": "python3"
  },
  "language_info": {
   "codemirror_mode": {
    "name": "ipython",
    "version": 3
   },
   "file_extension": ".py",
   "mimetype": "text/x-python",
   "name": "python",
   "nbconvert_exporter": "python",
   "pygments_lexer": "ipython3",
   "version": "3.11.5"
  }
 },
 "nbformat": 4,
 "nbformat_minor": 5
}
