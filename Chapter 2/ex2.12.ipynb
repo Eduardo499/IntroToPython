{
 "cells": [
  {
   "cell_type": "raw",
   "id": "b4a414b2-b8f9-4603-af75-92d7e94f25b6",
   "metadata": {},
   "source": [
    "(Hourly Wage Calculator) Every year, if an employee receives a good job performance\n",
    "review, they get a raise of 3% on their wages. In turn, if they receive a suboptimal performance\n",
    "review, their wages are deducted by 3%. Consider an employee starting with an hourly wage\n",
    "of $10. Calculate how much this employee is earning after 5 years of consistent good reviews\n",
    "and after 2 years of bad reviews. Use the following formula to calculate these wages:\n",
    "w = o(1 + p)^n\n",
    "\n",
    "where\n",
    "w is the new hourly wage,\n",
    "o is the original hourly wage,\n",
    "p is the percentage increase or decrease, and\n",
    "n is the number of years with an increase or decrease in hourly wage."
   ]
  },
  {
   "cell_type": "code",
   "execution_count": 2,
   "id": "23ae757c-8339-433b-b8f3-dbaa47b18932",
   "metadata": {},
   "outputs": [
    {
     "name": "stdout",
     "output_type": "stream",
     "text": [
      "11.592740743\n",
      "10.907609765088699\n"
     ]
    }
   ],
   "source": [
    "o = 10\n",
    "w = o * (1 + 0.03) ** 5\n",
    "# Good Review\n",
    "print(w)\n",
    "w = w * (1 - 0.03) ** 2\n",
    "# Bad Review\n",
    "print(w)\n"
   ]
  }
 ],
 "metadata": {
  "kernelspec": {
   "display_name": "Python 3 (ipykernel)",
   "language": "python",
   "name": "python3"
  },
  "language_info": {
   "codemirror_mode": {
    "name": "ipython",
    "version": 3
   },
   "file_extension": ".py",
   "mimetype": "text/x-python",
   "name": "python",
   "nbconvert_exporter": "python",
   "pygments_lexer": "ipython3",
   "version": "3.11.5"
  }
 },
 "nbformat": 4,
 "nbformat_minor": 5
}
