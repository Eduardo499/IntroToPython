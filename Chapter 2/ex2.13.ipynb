{
 "cells": [
  {
   "cell_type": "code",
   "execution_count": null,
   "id": "d731af4c-e681-480b-aa53-4accb83f8af1",
   "metadata": {},
   "outputs": [],
   "source": [
    "(How Big Can Python Integers Be?) We’ll answer this question later in the book.\n",
    "\n",
    "For now, use the exponentiation operator ** with large and very large exponents to pro-\n",
    "duce some huge integers and assign those to the variable number to see if Python accepts\n",
    "\n",
    "them. Did you find any integer value that Python won’t accept?"
   ]
  },
  {
   "cell_type": "code",
   "execution_count": null,
   "id": "bc8242b8-49db-473c-a896-7ecc31febc92",
   "metadata": {},
   "outputs": [],
   "source": [
    "n = 2 ** 999999\n",
    "print(n)"
   ]
  }
 ],
 "metadata": {
  "kernelspec": {
   "display_name": "Python 3 (ipykernel)",
   "language": "python",
   "name": "python3"
  },
  "language_info": {
   "codemirror_mode": {
    "name": "ipython",
    "version": 3
   },
   "file_extension": ".py",
   "mimetype": "text/x-python",
   "name": "python",
   "nbconvert_exporter": "python",
   "pygments_lexer": "ipython3",
   "version": "3.11.5"
  }
 },
 "nbformat": 4,
 "nbformat_minor": 5
}
