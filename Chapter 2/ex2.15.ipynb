{
 "cells": [
  {
   "cell_type": "raw",
   "id": "5035d05f-43e7-4ad6-9ba6-e1758362ebb2",
   "metadata": {},
   "source": [
    "(Sort in Ascending Order) After a running competition, three runners want to de-\n",
    "termine who won based on the time they needed to complete the course. Write a script\n",
    "\n",
    "that inputs the time they took through three different floating-point numbers (in seconds)\n",
    "from the user. Display the numbers in increasing order. Prove that your script works by\n",
    "\n",
    "running it on all six possible orderings of the numbers. Does your script work with dupli-\n",
    "cate numbers? [This is challenging. In later chapters, you’ll learn a more convenient way\n",
    "\n",
    "to do this with many more numbers.]"
   ]
  },
  {
   "cell_type": "code",
   "execution_count": 13,
   "id": "071ac98c",
   "metadata": {},
   "outputs": [
    {
     "name": "stdout",
     "output_type": "stream",
     "text": [
      "Enter the time in seconds that the runner 1 delayed to complete the course: 9\n",
      "Enter the time in seconds that the runner 2 delayed to complete the course: 6\n",
      "Enter the time in seconds that the runner 3 delayed to complete the course: 2\n",
      "2.0 6.0 9.0\n"
     ]
    }
   ],
   "source": [
    "runner1 = float(input('Enter the time in seconds that the runner 1 delayed to complete the course: '))\n",
    "runner2 = float(input('Enter the time in seconds that the runner 2 delayed to complete the course: '))\n",
    "runner3 = float(input('Enter the time in seconds that the runner 3 delayed to complete the course: '))\n",
    "\n",
    "if runner1 < runner2 and runner1 < runner3:\n",
    "    one = runner1\n",
    "    if runner2 < runner3:\n",
    "        two = runner2\n",
    "        three = runner3\n",
    "    else:\n",
    "        two = runner3\n",
    "        three = runner2\n",
    "elif runner2 < runner1 and runner2 < runner3:\n",
    "    one = runner2\n",
    "    if runner1 < runner3:\n",
    "        two = runner1\n",
    "        three = runner3\n",
    "    else:\n",
    "        two = runner3\n",
    "        three = runner1\n",
    "else:\n",
    "    one = runner3\n",
    "    if runner1 < runner2:\n",
    "        two = runner1\n",
    "        three = runner2\n",
    "    else:\n",
    "        two = runner2\n",
    "        three = runner1\n",
    "\n",
    "print(one, two, three)\n"
   ]
  },
  {
   "cell_type": "code",
   "execution_count": null,
   "id": "a64fbbd2",
   "metadata": {},
   "outputs": [],
   "source": []
  }
 ],
 "metadata": {
  "kernelspec": {
   "display_name": "Python 3 (ipykernel)",
   "language": "python",
   "name": "python3"
  },
  "language_info": {
   "codemirror_mode": {
    "name": "ipython",
    "version": 3
   },
   "file_extension": ".py",
   "mimetype": "text/x-python",
   "name": "python",
   "nbconvert_exporter": "python",
   "pygments_lexer": "ipython3",
   "version": "3.11.5"
  }
 },
 "nbformat": 4,
 "nbformat_minor": 5
}
