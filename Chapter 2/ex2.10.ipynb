{
 "cells": [
  {
   "cell_type": "raw",
   "id": "a4ea225f-66e4-46fc-b7d5-f98aebdb7d18",
   "metadata": {},
   "source": [
    "(Arithmetic, Highest and Lowest) Write a script that inputs the grades (in integers)\n",
    "of 3 courses from the user. First display the average grade of the three courses, and then\n",
    "the names and the grades of the courses with the highest and the lowest grades."
   ]
  },
  {
   "cell_type": "code",
   "execution_count": 1,
   "id": "1eae0a4f-d671-4111-9b2e-a5e7bea40619",
   "metadata": {},
   "outputs": [
    {
     "name": "stdin",
     "output_type": "stream",
     "text": [
      "Enter your grade in Math:  4\n",
      "Enter your grade in Physic:  3\n",
      "Enter your grade in Chemist:  7\n"
     ]
    },
    {
     "name": "stdout",
     "output_type": "stream",
     "text": [
      "Your average in these courses is 4\n",
      "Your best grade is 7 in Chemist\n"
     ]
    }
   ],
   "source": [
    "math = int(input('Enter your grade in Math: '))\n",
    "physic = int(input('Enter your grade in Physic: '))\n",
    "chemist = int(input('Enter your grade in Chemist: '))\n",
    "grades = dict(math=math, physic=physic, chemist=chemist)\n",
    "print(f'Your average in these courses is {(math + physic + chemist) // 3}')\n",
    "print(f'Your best grade is {max(grades.values())} in {max(grades, key=grades.get).capitalize()}.')\n"
   ]
  }
 ],
 "metadata": {
  "kernelspec": {
   "display_name": "Python 3 (ipykernel)",
   "language": "python",
   "name": "python3"
  },
  "language_info": {
   "codemirror_mode": {
    "name": "ipython",
    "version": 3
   },
   "file_extension": ".py",
   "mimetype": "text/x-python",
   "name": "python",
   "nbconvert_exporter": "python",
   "pygments_lexer": "ipython3",
   "version": "3.11.5"
  }
 },
 "nbformat": 4,
 "nbformat_minor": 5
}
