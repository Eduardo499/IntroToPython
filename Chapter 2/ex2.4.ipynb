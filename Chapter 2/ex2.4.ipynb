{
 "cells": [
  {
   "cell_type": "raw",
   "id": "f5d881aa-469d-465a-9167-00ac7bf02376",
   "metadata": {},
   "source": [
    "(Arithmetic) Test each of the arithmetic operators +, -, *, /, // and ** with -5, 0,\n",
    "5, and 7.5 as the left operand and 2 as the right operand."
   ]
  },
  {
   "cell_type": "code",
   "execution_count": 1,
   "id": "523051eb-32e6-40cb-b54a-a32a65a10e84",
   "metadata": {},
   "outputs": [
    {
     "data": {
      "text/plain": [
       "-3"
      ]
     },
     "execution_count": 1,
     "metadata": {},
     "output_type": "execute_result"
    }
   ],
   "source": [
    "-5 + 2"
   ]
  },
  {
   "cell_type": "code",
   "execution_count": 2,
   "id": "eaf934c7-00ef-43e0-986d-59425a2f8dff",
   "metadata": {},
   "outputs": [
    {
     "data": {
      "text/plain": [
       "-7"
      ]
     },
     "execution_count": 2,
     "metadata": {},
     "output_type": "execute_result"
    }
   ],
   "source": [
    "-5 - 2"
   ]
  },
  {
   "cell_type": "code",
   "execution_count": 3,
   "id": "5259285e-092b-48ed-9535-a39bb05df8b9",
   "metadata": {},
   "outputs": [
    {
     "data": {
      "text/plain": [
       "-10"
      ]
     },
     "execution_count": 3,
     "metadata": {},
     "output_type": "execute_result"
    }
   ],
   "source": [
    "-5 * 2"
   ]
  },
  {
   "cell_type": "code",
   "execution_count": 4,
   "id": "cd2916f9-bf94-4da0-8059-665ee87d2870",
   "metadata": {},
   "outputs": [
    {
     "data": {
      "text/plain": [
       "-2.5"
      ]
     },
     "execution_count": 4,
     "metadata": {},
     "output_type": "execute_result"
    }
   ],
   "source": [
    "-5 / 2"
   ]
  },
  {
   "cell_type": "code",
   "execution_count": 5,
   "id": "0daa97c0-5af7-406e-8e6b-5fd01816121e",
   "metadata": {},
   "outputs": [
    {
     "data": {
      "text/plain": [
       "-3"
      ]
     },
     "execution_count": 5,
     "metadata": {},
     "output_type": "execute_result"
    }
   ],
   "source": [
    "-5 // 2"
   ]
  },
  {
   "cell_type": "code",
   "execution_count": 6,
   "id": "f071b5cb-f958-44c1-a192-5b0f0dec2a2b",
   "metadata": {},
   "outputs": [
    {
     "data": {
      "text/plain": [
       "-25"
      ]
     },
     "execution_count": 6,
     "metadata": {},
     "output_type": "execute_result"
    }
   ],
   "source": [
    "-5 ** 2"
   ]
  },
  {
   "cell_type": "code",
   "execution_count": 7,
   "id": "87494d01-2239-4180-b37f-d10f96bb06ca",
   "metadata": {},
   "outputs": [
    {
     "data": {
      "text/plain": [
       "2"
      ]
     },
     "execution_count": 7,
     "metadata": {},
     "output_type": "execute_result"
    }
   ],
   "source": [
    "0 + 2"
   ]
  },
  {
   "cell_type": "code",
   "execution_count": 8,
   "id": "15cc531f-28b1-4155-8b3d-d0fde6e6893b",
   "metadata": {},
   "outputs": [
    {
     "data": {
      "text/plain": [
       "-2"
      ]
     },
     "execution_count": 8,
     "metadata": {},
     "output_type": "execute_result"
    }
   ],
   "source": [
    "0 - 2"
   ]
  },
  {
   "cell_type": "code",
   "execution_count": 9,
   "id": "d7d3e46e-f68d-400d-8fef-48df464fa56e",
   "metadata": {},
   "outputs": [
    {
     "data": {
      "text/plain": [
       "0"
      ]
     },
     "execution_count": 9,
     "metadata": {},
     "output_type": "execute_result"
    }
   ],
   "source": [
    "0 * 2"
   ]
  },
  {
   "cell_type": "code",
   "execution_count": 10,
   "id": "ae7e4788-08d9-428b-9821-7b7df0637594",
   "metadata": {},
   "outputs": [
    {
     "data": {
      "text/plain": [
       "0.0"
      ]
     },
     "execution_count": 10,
     "metadata": {},
     "output_type": "execute_result"
    }
   ],
   "source": [
    "0 / 2"
   ]
  },
  {
   "cell_type": "code",
   "execution_count": 11,
   "id": "1b53be62-8e98-411a-8e7b-89849b0bfc79",
   "metadata": {},
   "outputs": [
    {
     "data": {
      "text/plain": [
       "0"
      ]
     },
     "execution_count": 11,
     "metadata": {},
     "output_type": "execute_result"
    }
   ],
   "source": [
    "0 // 2"
   ]
  },
  {
   "cell_type": "code",
   "execution_count": 12,
   "id": "3f9f2928-d43f-4a83-b685-19c25f9feb2e",
   "metadata": {},
   "outputs": [
    {
     "data": {
      "text/plain": [
       "0"
      ]
     },
     "execution_count": 12,
     "metadata": {},
     "output_type": "execute_result"
    }
   ],
   "source": [
    "0 ** 2"
   ]
  },
  {
   "cell_type": "code",
   "execution_count": 13,
   "id": "593cc9e0-9812-4bdf-8d84-f0505cce0cfe",
   "metadata": {},
   "outputs": [
    {
     "data": {
      "text/plain": [
       "9.5"
      ]
     },
     "execution_count": 13,
     "metadata": {},
     "output_type": "execute_result"
    }
   ],
   "source": [
    "7.5 + 2"
   ]
  },
  {
   "cell_type": "code",
   "execution_count": 14,
   "id": "e486e44a-1bfe-4cf9-a276-916b5ba3ee22",
   "metadata": {},
   "outputs": [
    {
     "data": {
      "text/plain": [
       "5.5"
      ]
     },
     "execution_count": 14,
     "metadata": {},
     "output_type": "execute_result"
    }
   ],
   "source": [
    "7.5 -2"
   ]
  },
  {
   "cell_type": "code",
   "execution_count": 15,
   "id": "3c6e57e6-c500-4f35-9bf9-a0f61dc15042",
   "metadata": {},
   "outputs": [
    {
     "data": {
      "text/plain": [
       "15.0"
      ]
     },
     "execution_count": 15,
     "metadata": {},
     "output_type": "execute_result"
    }
   ],
   "source": [
    "7.5 * 2"
   ]
  },
  {
   "cell_type": "code",
   "execution_count": 16,
   "id": "34f953f9-2684-4b86-bb55-5dc44c530bd2",
   "metadata": {},
   "outputs": [
    {
     "data": {
      "text/plain": [
       "3.75"
      ]
     },
     "execution_count": 16,
     "metadata": {},
     "output_type": "execute_result"
    }
   ],
   "source": [
    "7.5 / 2"
   ]
  },
  {
   "cell_type": "code",
   "execution_count": 17,
   "id": "4676afdd-bf18-47aa-9eac-c3585ca50f34",
   "metadata": {},
   "outputs": [
    {
     "data": {
      "text/plain": [
       "3.0"
      ]
     },
     "execution_count": 17,
     "metadata": {},
     "output_type": "execute_result"
    }
   ],
   "source": [
    "7.5 // 2"
   ]
  },
  {
   "cell_type": "code",
   "execution_count": 18,
   "id": "9be5462a-2a47-43d4-8985-77fb800f3aa4",
   "metadata": {},
   "outputs": [
    {
     "data": {
      "text/plain": [
       "56.25"
      ]
     },
     "execution_count": 18,
     "metadata": {},
     "output_type": "execute_result"
    }
   ],
   "source": [
    "7.5 ** 2"
   ]
  },
  {
   "cell_type": "code",
   "execution_count": null,
   "id": "1f9276a8-fc19-4dd2-b2cc-604d8ea69283",
   "metadata": {},
   "outputs": [],
   "source": []
  }
 ],
 "metadata": {
  "kernelspec": {
   "display_name": "Python 3 (ipykernel)",
   "language": "python",
   "name": "python3"
  },
  "language_info": {
   "codemirror_mode": {
    "name": "ipython",
    "version": 3
   },
   "file_extension": ".py",
   "mimetype": "text/x-python",
   "name": "python",
   "nbconvert_exporter": "python",
   "pygments_lexer": "ipython3",
   "version": "3.11.5"
  }
 },
 "nbformat": 4,
 "nbformat_minor": 5
}
