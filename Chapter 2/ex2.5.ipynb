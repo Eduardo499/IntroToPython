{
 "cells": [
  {
   "cell_type": "raw",
   "id": "88d7d46e-3888-4457-b932-d1a552b0bb1b",
   "metadata": {},
   "source": [
    "(Eggs per Box) Typically 6 eggs fit in one box. Write a script to calculate the num-\n",
    "ber of boxes a farmer needs to store 28 eggs. The script will also determine how many eggs\n",
    "\n",
    "are placed in the last uncompleted box, and how many additional eggs are needed to fill\n",
    "this last box."
   ]
  },
  {
   "cell_type": "code",
   "execution_count": 5,
   "id": "fc876345-dc77-4c79-911e-7f027a725236",
   "metadata": {},
   "outputs": [
    {
     "name": "stdout",
     "output_type": "stream",
     "text": [
      "The last box has 4 eggs\n",
      "To fill it, you need more 2 eggs\n"
     ]
    }
   ],
   "source": [
    "eggs = 28\n",
    "print(f'The last box has {eggs % 6} eggs')\n",
    "print(f'To fill it, you need more {6 - eggs % 6} eggs')"
   ]
  }
 ],
 "metadata": {
  "kernelspec": {
   "display_name": "Python 3 (ipykernel)",
   "language": "python",
   "name": "python3"
  },
  "language_info": {
   "codemirror_mode": {
    "name": "ipython",
    "version": 3
   },
   "file_extension": ".py",
   "mimetype": "text/x-python",
   "name": "python",
   "nbconvert_exporter": "python",
   "pygments_lexer": "ipython3",
   "version": "3.11.5"
  }
 },
 "nbformat": 4,
 "nbformat_minor": 5
}
