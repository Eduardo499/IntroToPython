{
 "cells": [
  {
   "cell_type": "raw",
   "id": "8224131e-cbb6-410e-b2e5-482bc11d2045",
   "metadata": {},
   "source": [
    "(Target Heart-Rate Calculator) While exercising, you can use a heart-rate monitor\n",
    "to see that your heart rate stays within a safe range suggested by your doctors and trainers.\n",
    "\n",
    "According to the American Heart Association (AHA) (http://bit.ly/AHATargetHeart-\n",
    "Rates), the formula for calculating your maximum heart rate in beats per minute is 220\n",
    "\n",
    "minus your age in years. Your target heart rate is 50–85% of your maximum heart rate.\n",
    "Write a script that prompts for and inputs the user’s age and calculates and displays the\n",
    "user’s maximum heart rate and the range of the user’s target heart rate. [These formulas\n",
    "are estimates provided by the AHA; maximum and target heart rates may vary based on\n",
    "the health, fitness and gender of the individual. Always consult a physician or qualified\n",
    "healthcare professional before beginning or modifying an exercise program.]"
   ]
  },
  {
   "cell_type": "code",
   "execution_count": 3,
   "id": "71367606-7fe4-47ce-818a-0e085f5fcdf0",
   "metadata": {},
   "outputs": [
    {
     "name": "stdout",
     "output_type": "stream",
     "text": [
      "What is your age? 17\n",
      "Your maximum heart rate is 203\n",
      "your target heart rate range is 101.5 to 202.15\n"
     ]
    }
   ],
   "source": [
    "age = int(input('What is your age? '))\n",
    "maximum_frequence = 220 - age\n",
    "print(f'Your maximum heart rate is {maximum_frequence}')\n",
    "print(f'your target heart rate range is {maximum_frequence * 0.5} to {maximum_frequence - 0.85}')"
   ]
  },
  {
   "cell_type": "code",
   "execution_count": null,
   "id": "35cc2b99",
   "metadata": {},
   "outputs": [],
   "source": []
  }
 ],
 "metadata": {
  "kernelspec": {
   "display_name": "Python 3 (ipykernel)",
   "language": "python",
   "name": "python3"
  },
  "language_info": {
   "codemirror_mode": {
    "name": "ipython",
    "version": 3
   },
   "file_extension": ".py",
   "mimetype": "text/x-python",
   "name": "python",
   "nbconvert_exporter": "python",
   "pygments_lexer": "ipython3",
   "version": "3.11.5"
  }
 },
 "nbformat": 4,
 "nbformat_minor": 5
}
