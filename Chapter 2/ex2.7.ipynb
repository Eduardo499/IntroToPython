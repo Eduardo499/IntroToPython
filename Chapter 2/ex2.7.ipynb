{
 "cells": [
  {
   "cell_type": "raw",
   "id": "8e1e5377-8454-4ccb-80bc-392bfc3503e8",
   "metadata": {},
   "source": [
    "(The Remainder Operator) Jonah wants to distribute 22 marbles among his\n",
    "4 friends. All friends should receive an equal amount of marbles. Write a script that can\n",
    "determine if this is possible."
   ]
  },
  {
   "cell_type": "code",
   "execution_count": 2,
   "id": "a2583a0f-e820-49b7-94b8-8f3c4cb8e836",
   "metadata": {},
   "outputs": [
    {
     "name": "stdout",
     "output_type": "stream",
     "text": [
      "It'isnt possible.\n"
     ]
    }
   ],
   "source": [
    "if 22 % 4 == 0:\n",
    "    print(\"It's possible.\")\n",
    "else:\n",
    "    print(\"It'isnt possible.\")"
   ]
  }
 ],
 "metadata": {
  "kernelspec": {
   "display_name": "Python 3 (ipykernel)",
   "language": "python",
   "name": "python3"
  },
  "language_info": {
   "codemirror_mode": {
    "name": "ipython",
    "version": 3
   },
   "file_extension": ".py",
   "mimetype": "text/x-python",
   "name": "python",
   "nbconvert_exporter": "python",
   "pygments_lexer": "ipython3",
   "version": "3.11.5"
  }
 },
 "nbformat": 4,
 "nbformat_minor": 5
}
