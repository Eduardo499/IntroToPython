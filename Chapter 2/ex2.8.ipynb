{
 "cells": [
  {
   "cell_type": "raw",
   "id": "ea6a212c-897c-4ec0-a69e-395f9d9e8e57",
   "metadata": {},
   "source": [
    "(Table with Number of Bacteria) Starting with 200 bacteria, the growth in the\n",
    "number of bacteria after n hours is calculated as follows: B = 200 × 2n. Print the number\n",
    "of bacteria after 0, 5, 10, and 15 hours in table format as shown below. Use the tab escape\n",
    "sequence to achieve the two-column output.\n",
    "Hour    Number of Bacteria\n",
    "0       200\n",
    "5       6400\n",
    "10      204800\n",
    "15      6553600"
   ]
  },
  {
   "cell_type": "code",
   "execution_count": 21,
   "id": "0c0e2d79-05ee-4e77-a4bb-dd04e28ab02a",
   "metadata": {},
   "outputs": [
    {
     "name": "stdout",
     "output_type": "stream",
     "text": [
      "Hour    Number of Bacteria\n",
      "0       200\n",
      "5       6400\n",
      "10      204800\n",
      "15      6553600\n"
     ]
    }
   ],
   "source": [
    "n = [0, 5, 10, 15]\n",
    "b = []\n",
    "for i in n:\n",
    "    b.append(200 * 2 ** i)\n",
    "\n",
    "print('Hour    Number of Bacteria')\n",
    "print(\"\"\"0       {}\n",
    "5       {}\n",
    "10      {}\n",
    "15      {}\"\"\".format(b[0], b[1], b[2], b[3]))\n"
   ]
  }
 ],
 "metadata": {
  "kernelspec": {
   "display_name": "Python 3 (ipykernel)",
   "language": "python",
   "name": "python3"
  },
  "language_info": {
   "codemirror_mode": {
    "name": "ipython",
    "version": 3
   },
   "file_extension": ".py",
   "mimetype": "text/x-python",
   "name": "python",
   "nbconvert_exporter": "python",
   "pygments_lexer": "ipython3",
   "version": "3.11.5"
  }
 },
 "nbformat": 4,
 "nbformat_minor": 5
}
