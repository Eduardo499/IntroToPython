{
 "cells": [
  {
   "cell_type": "raw",
   "id": "1dce566d-d057-41db-8e7e-edf2376dd9f9",
   "metadata": {},
   "source": [
    "(Integer Value of a Character) In this chapter, you learned about strings. Each of\n",
    "a string’s characters has an integer representation. The set of characters a computer uses\n",
    "together with the characters’ integer representations is called that computer’s character set.\n",
    "You can indicate a character value in a program by enclosing that character in quotes, as\n",
    "in \"A.\" To determine a character’s integer value, call the built-in function ord. Tom and\n",
    "Jim want to play a game but are unable to choose who goes first. They decide that the\n",
    "person with the highest sum of the integer values of the characters of their name gets to\n",
    "play first. Write a script to determine who goes first. \n",
    "\n",
    "In [1]: ord('A')\n",
    "Out[1]: 65\n",
    "\n",
    "Display the integer equivalents of B C D b c d 0 1 2 $ * + and the space character."
   ]
  },
  {
   "cell_type": "code",
   "execution_count": 1,
   "id": "cc012c6e-280e-4f71-8749-f22f1b2bd7ea",
   "metadata": {},
   "outputs": [
    {
     "name": "stdout",
     "output_type": "stream",
     "text": [
      "66\n",
      "67\n",
      "68\n",
      "98\n",
      "99\n",
      "100\n",
      "48\n",
      "49\n",
      "50\n",
      "36\n",
      "42\n",
      "43\n",
      "32\n",
      "Tom goes first\n"
     ]
    }
   ],
   "source": [
    "print(ord('B'))\n",
    "print(ord('C'))\n",
    "print(ord('D'))\n",
    "print(ord('b'))\n",
    "print(ord('c'))\n",
    "print(ord('d'))\n",
    "print(ord('0'))\n",
    "print(ord('1'))\n",
    "print(ord('2'))\n",
    "print(ord('$'))\n",
    "print(ord('*'))\n",
    "print(ord('+'))\n",
    "print(ord(' '))\n",
    "\n",
    "tom = ord('T') + ord('o') + ord('m')\n",
    "jim = ord('J') + ord('i') + ord('m')\n",
    "\n",
    "if tom > jim:\n",
    "    print('Tom goes first')\n",
    "else:\n",
    "    print('Jim goes first')"
   ]
  },
  {
   "cell_type": "code",
   "execution_count": null,
   "id": "6543d918-8b42-4e8a-bebe-6e1bfdd3c81f",
   "metadata": {},
   "outputs": [],
   "source": []
  }
 ],
 "metadata": {
  "kernelspec": {
   "display_name": "Python 3 (ipykernel)",
   "language": "python",
   "name": "python3"
  },
  "language_info": {
   "codemirror_mode": {
    "name": "ipython",
    "version": 3
   },
   "file_extension": ".py",
   "mimetype": "text/x-python",
   "name": "python",
   "nbconvert_exporter": "python",
   "pygments_lexer": "ipython3",
   "version": "3.11.5"
  }
 },
 "nbformat": 4,
 "nbformat_minor": 5
}
