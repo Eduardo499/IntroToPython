{
 "cells": [
  {
   "cell_type": "raw",
   "id": "3f1ffa21-5e2b-4f4f-aaa3-87bd405bc1c8",
   "metadata": {},
   "source": [
    "(What’s wrong with this code?) The following code should calculate the square of\n",
    "a number:\n",
    "number = input(\"Input a number between 1 and 10\")\n",
    "square = number * number"
   ]
  },
  {
   "cell_type": "code",
   "execution_count": 1,
   "id": "6b1c2789-545f-4efe-97a7-c9ac2d07a118",
   "metadata": {},
   "outputs": [
    {
     "name": "stdin",
     "output_type": "stream",
     "text": [
      "Input a number between 1 and 10 5\n"
     ]
    },
    {
     "ename": "TypeError",
     "evalue": "can't multiply sequence by non-int of type 'str'",
     "output_type": "error",
     "traceback": [
      "\u001b[1;31m---------------------------------------------------------------------------\u001b[0m",
      "\u001b[1;31mTypeError\u001b[0m                                 Traceback (most recent call last)",
      "Cell \u001b[1;32mIn[1], line 2\u001b[0m\n\u001b[0;32m      1\u001b[0m number \u001b[38;5;241m=\u001b[39m \u001b[38;5;28minput\u001b[39m(\u001b[38;5;124m'\u001b[39m\u001b[38;5;124mInput a number between 1 and 10\u001b[39m\u001b[38;5;124m'\u001b[39m)\n\u001b[1;32m----> 2\u001b[0m square \u001b[38;5;241m=\u001b[39m \u001b[43mnumber\u001b[49m\u001b[43m \u001b[49m\u001b[38;5;241;43m*\u001b[39;49m\u001b[43m \u001b[49m\u001b[43mnumber\u001b[49m\n",
      "\u001b[1;31mTypeError\u001b[0m: can't multiply sequence by non-int of type 'str'"
     ]
    }
   ],
   "source": [
    "number = input('Input a number between 1 and 10')\n",
    "square = number * number"
   ]
  },
  {
   "cell_type": "markdown",
   "id": "68b4b98d-6821-4d1f-b9d8-e42a2258ae55",
   "metadata": {},
   "source": [
    "The variable <code>number</code> does not <b>int</b>. To fix it, just add the <code>int()</code> function before the <code>input()</code> function. Furthermore, the variable <code>square</code> is not printed.\n"
   ]
  },
  {
   "cell_type": "code",
   "execution_count": 6,
   "id": "3689aafb-30dc-455e-b1ac-228690d1ca83",
   "metadata": {},
   "outputs": [
    {
     "name": "stdin",
     "output_type": "stream",
     "text": [
      "Input a number between 1 and 10 2\n"
     ]
    },
    {
     "name": "stdout",
     "output_type": "stream",
     "text": [
      "4\n"
     ]
    }
   ],
   "source": [
    "number = int(input('Input a number between 1 and 10'))\n",
    "square = number * number\n",
    "print(square)"
   ]
  }
 ],
 "metadata": {
  "kernelspec": {
   "display_name": "Python 3 (ipykernel)",
   "language": "python",
   "name": "python3"
  },
  "language_info": {
   "codemirror_mode": {
    "name": "ipython",
    "version": 3
   },
   "file_extension": ".py",
   "mimetype": "text/x-python",
   "name": "python",
   "nbconvert_exporter": "python",
   "pygments_lexer": "ipython3",
   "version": "3.11.5"
  }
 },
 "nbformat": 4,
 "nbformat_minor": 5
}
