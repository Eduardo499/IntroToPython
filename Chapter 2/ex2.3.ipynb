{
 "cells": [
  {
   "cell_type": "raw",
   "id": "0e143ddd-e1db-44e3-8b2f-0fcdf9613405",
   "metadata": {},
   "source": [
    "(Fill in the missing code) Replace *** in the following code with a statement that\n",
    "will print a message like 'Congratulations! Your grade of 91 earns you an A in this\n",
    "course'. Your statement should print the value stored in the variable grade:\n",
    "if grade >= 90:\n",
    "    ***"
   ]
  },
  {
   "cell_type": "code",
   "execution_count": 3,
   "id": "9e07e091-0c0b-45f3-af3d-f74da35837c5",
   "metadata": {},
   "outputs": [
    {
     "name": "stdin",
     "output_type": "stream",
     "text": [
      "Enter your grade:  2\n"
     ]
    },
    {
     "name": "stdout",
     "output_type": "stream",
     "text": [
      "Better luck next time.\n"
     ]
    }
   ],
   "source": [
    "grade = int(input('Enter your grade: '))\n",
    "\n",
    "if grade >= 90:\n",
    "    print('Congratulations! Your grade of 91 earns you an A in this course')\n",
    "else:\n",
    "    print('Better luck next time.')\n"
   ]
  }
 ],
 "metadata": {
  "kernelspec": {
   "display_name": "Python 3 (ipykernel)",
   "language": "python",
   "name": "python3"
  },
  "language_info": {
   "codemirror_mode": {
    "name": "ipython",
    "version": 3
   },
   "file_extension": ".py",
   "mimetype": "text/x-python",
   "name": "python",
   "nbconvert_exporter": "python",
   "pygments_lexer": "ipython3",
   "version": "3.11.5"
  }
 },
 "nbformat": 4,
 "nbformat_minor": 5
}
