{
 "cells": [
  {
   "cell_type": "raw",
   "id": "e1577a8b-cb4c-4b00-97a0-04944174f109",
   "metadata": {},
   "source": [
    "(What does this code do?) Create the variables x = 2 and y = 3, then determine what\n",
    "each of the following statements displays:\n",
    "a) print('x =', x)\n",
    "b) print('Value of', x, '+', x, 'is', (x + x))\n",
    "c) print('x =')\n",
    "d) print((x + y), '=', (y + x))"
   ]
  },
  {
   "cell_type": "code",
   "execution_count": 3,
   "id": "0f3454e3-4521-45e4-b7c3-98bdfb35a29e",
   "metadata": {},
   "outputs": [],
   "source": [
    "x = 2\n",
    "y = 3"
   ]
  },
  {
   "cell_type": "code",
   "execution_count": 4,
   "id": "0c737799-a7d6-4b9c-b24e-0e7c8bcd2be5",
   "metadata": {},
   "outputs": [
    {
     "name": "stdout",
     "output_type": "stream",
     "text": [
      "x =  2\n"
     ]
    }
   ],
   "source": [
    "print('x = ', x)"
   ]
  },
  {
   "cell_type": "code",
   "execution_count": 7,
   "id": "4406f104-5e2d-4dd9-8d56-d65439b27d0e",
   "metadata": {},
   "outputs": [
    {
     "name": "stdout",
     "output_type": "stream",
     "text": [
      "Value of 2 + 2 is 4\n"
     ]
    }
   ],
   "source": [
    "print('Value of', x, '+', x, 'is', (x + x))"
   ]
  },
  {
   "cell_type": "code",
   "execution_count": 8,
   "id": "4346a3f5-0497-41a4-afb8-6e47e5c9837f",
   "metadata": {},
   "outputs": [
    {
     "name": "stdout",
     "output_type": "stream",
     "text": [
      "x =\n"
     ]
    }
   ],
   "source": [
    "print('x =')"
   ]
  },
  {
   "cell_type": "code",
   "execution_count": 9,
   "id": "a0fdd8e9-040c-41b9-9714-80ee4fdd7c0f",
   "metadata": {},
   "outputs": [
    {
     "name": "stdout",
     "output_type": "stream",
     "text": [
      "5 = 5\n"
     ]
    }
   ],
   "source": [
    "print((x + y), '=', (y + x))"
   ]
  }
 ],
 "metadata": {
  "kernelspec": {
   "display_name": "Python 3 (ipykernel)",
   "language": "python",
   "name": "python3"
  },
  "language_info": {
   "codemirror_mode": {
    "name": "ipython",
    "version": 3
   },
   "file_extension": ".py",
   "mimetype": "text/x-python",
   "name": "python",
   "nbconvert_exporter": "python",
   "pygments_lexer": "ipython3",
   "version": "3.11.5"
  }
 },
 "nbformat": 4,
 "nbformat_minor": 5
}
