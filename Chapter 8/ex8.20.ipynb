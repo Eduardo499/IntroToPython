{
 "cells": [
  {
   "cell_type": "raw",
   "id": "aed012aa-d829-4f5e-a9a9-bf495356eb2f",
   "metadata": {},
   "source": [
    "(Regular Expressions: Munging Dates) Dates are stored and displayed in several common formats. Three common formats are\n",
    "    042555\n",
    "    04/25/1955\n",
    "    April 25, 1955\n",
    "Use regular expressions to search a string containing dates, find substrings that match these formats and munge them into the other formats. The original string should have one date in each format, so there will be a total of six transformations."
   ]
  },
  {
   "cell_type": "code",
   "execution_count": 6,
   "id": "f8b3113d-7871-46fb-922f-766040335f27",
   "metadata": {},
   "outputs": [
    {
     "name": "stdout",
     "output_type": "stream",
     "text": [
      "Original text: Dates in various formats: 042555, 04/25/1955, April 25, 1955.\n",
      "Transformed text: Dates in various formats: 042555, 042555, 042555.\n"
     ]
    }
   ],
   "source": [
    "import re\n",
    "\n",
    "def munging_dates(text):\n",
    "    def format_mmddyy(match):\n",
    "        month = match.group(1)\n",
    "        day = match.group(2)\n",
    "        year = \"20\" + match.group(3)\n",
    "        return f\"{month}/{day}/{year}\"\n",
    "\n",
    "    def format_mmddyyyy(match):\n",
    "        month = match.group(1)\n",
    "        day = match.group(2)\n",
    "        year = match.group(3)\n",
    "        months = [\n",
    "            \"January\", \"February\", \"March\", \"April\", \"May\", \"June\",\n",
    "            \"July\", \"August\", \"September\", \"October\", \"November\", \"December\"\n",
    "        ]\n",
    "        month_name = months[int(month) - 1]\n",
    "        return f\"{month_name} {int(day)}, {year}\"\n",
    "\n",
    "    def format_month_day_year(match):\n",
    "        month_name = match.group(1)\n",
    "        day = match.group(2)\n",
    "        year = match.group(3)\n",
    "        months = {\n",
    "            \"January\": \"01\", \"February\": \"02\", \"March\": \"03\", \"April\": \"04\", \"May\": \"05\", \"June\": \"06\",\n",
    "            \"July\": \"07\", \"August\": \"08\", \"September\": \"09\", \"October\": \"10\", \"November\": \"11\", \"December\": \"12\"\n",
    "        }\n",
    "        month = months[month_name]\n",
    "        year_short = year[-2:]\n",
    "        return f\"{month}{day}{year_short}\"\n",
    "\n",
    "    text = re.sub(r'(\\d{2})(\\d{2})(\\d{2})(?!\\d)', format_mmddyy, text) \n",
    "    text = re.sub(r'(\\d{2})/(\\d{2})/(\\d{4})', format_mmddyyyy, text) \n",
    "    text = re.sub(r'([A-Za-z]+) (\\d{1,2}), (\\d{4})', format_month_day_year, text)\n",
    "\n",
    "    return text\n",
    "\n",
    "text = \"Dates in various formats: 042555, 04/25/1955, April 25, 1955.\"\n",
    "\n",
    "result = munging_dates(text)\n",
    "\n",
    "print(\"Original text:\", text)\n",
    "print(\"Transformed text:\", result)\n"
   ]
  },
  {
   "cell_type": "code",
   "execution_count": null,
   "id": "9d45d570-fff8-403d-b742-372a617b8d42",
   "metadata": {},
   "outputs": [],
   "source": []
  }
 ],
 "metadata": {
  "kernelspec": {
   "display_name": "Python 3 (ipykernel)",
   "language": "python",
   "name": "python3"
  },
  "language_info": {
   "codemirror_mode": {
    "name": "ipython",
    "version": 3
   },
   "file_extension": ".py",
   "mimetype": "text/x-python",
   "name": "python",
   "nbconvert_exporter": "python",
   "pygments_lexer": "ipython3",
   "version": "3.10.12"
  }
 },
 "nbformat": 4,
 "nbformat_minor": 5
}
