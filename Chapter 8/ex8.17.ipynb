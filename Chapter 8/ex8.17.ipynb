{
 "cells": [
  {
   "cell_type": "raw",
   "id": "491de527-ff3f-4081-984f-66719313c3c9",
   "metadata": {},
   "source": [
    "(Using Regular Expressions for Autocorrection) When we type a message on a smartphone, autocorrect changes the text we enter to remove errors. One common error is using two capital letters to start a capitalized word instead of one. Write a script that uses regular expressions to correct this error using the following algorithm:\n",
    "\n",
    "a) Search for all capitalized letters in the sample text.\n",
    "b) Check for each capitalized letter if the next letter is also capitalized.\n",
    "c) If this is the case, change the second letter to lower case.\n",
    "d) Repeat this process until you reach the end of the phrase.\n",
    "\n",
    "Test your script with different phrases with different errors."
   ]
  },
  {
   "cell_type": "code",
   "execution_count": 3,
   "id": "ff14571a-2362-489c-975b-4348df529eff",
   "metadata": {},
   "outputs": [
    {
     "name": "stdout",
     "output_type": "stream",
     "text": [
      "Original: THis is a Test PHrase.\n",
      "Corrected: This is a Test Phrase.\n",
      "\n",
      "Original: My CAReer goals include being a CTO.\n",
      "Corrected: My Career goals include being a Cto.\n",
      "\n",
      "Original: I MET a PeRson WhO MAkes ICECream.\n",
      "Corrected: I Met a PeRson WhO Makes Icecream.\n",
      "\n",
      "Original: HELlo, this IS An EXample with ERRors.\n",
      "Corrected: Hello, this Is An Example with Errors.\n",
      "\n"
     ]
    }
   ],
   "source": [
    "import re\n",
    "\n",
    "def autocorrect_capitalization(text):\n",
    "    return re.sub(\n",
    "        r'\\b([A-Z])([A-Z]+)',\n",
    "        lambda m: f\"{m.group(1)}{m.group(2).lower()}\", \n",
    "        text\n",
    "    )\n",
    "\n",
    "phrases = [\n",
    "    \"THis is a Test PHrase.\",\n",
    "    \"My CAReer goals include being a CTO.\",\n",
    "    \"I MET a PeRson WhO MAkes ICECream.\",\n",
    "    \"HELlo, this IS An EXample with ERRors.\"\n",
    "]\n",
    "\n",
    "for phrase in phrases:\n",
    "    corrected = autocorrect_capitalization(phrase)\n",
    "    print(f\"Original: {phrase}\")\n",
    "    print(f\"Corrected: {corrected}\\n\")"
   ]
  },
  {
   "cell_type": "code",
   "execution_count": null,
   "id": "8896817a-6e0e-4937-91b0-fd5ce39abbb6",
   "metadata": {},
   "outputs": [],
   "source": []
  },
  {
   "cell_type": "code",
   "execution_count": null,
   "id": "8a769aac-eeaa-4d01-b256-b337c6813348",
   "metadata": {},
   "outputs": [],
   "source": []
  }
 ],
 "metadata": {
  "kernelspec": {
   "display_name": "Python 3 (ipykernel)",
   "language": "python",
   "name": "python3"
  },
  "language_info": {
   "codemirror_mode": {
    "name": "ipython",
    "version": 3
   },
   "file_extension": ".py",
   "mimetype": "text/x-python",
   "name": "python",
   "nbconvert_exporter": "python",
   "pygments_lexer": "ipython3",
   "version": "3.10.12"
  }
 },
 "nbformat": 4,
 "nbformat_minor": 5
}
