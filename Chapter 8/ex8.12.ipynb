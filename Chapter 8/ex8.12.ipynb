{
 "cells": [
  {
   "cell_type": "raw",
   "id": "8265d7a4-2240-4dbe-9c0d-2029f2d82b04",
   "metadata": {},
   "source": [
    "(Project: Scrambled Text) Use string-processing capabilities to keep the first and last letter of a word and scramble the remaining letters in between the first and last. Search online for “University of Cambridge scrambled text” for an intriguing paper on the readability of texts consisting of such scrambled words. Investigate the random module’s shuffle function to help you implement this exercise’s solution."
   ]
  },
  {
   "cell_type": "code",
   "execution_count": 18,
   "id": "0581eb0b-4d91-4e6c-aeef-58031e727e18",
   "metadata": {},
   "outputs": [
    {
     "name": "stdout",
     "output_type": "stream",
     "text": [
      "pthyon\n"
     ]
    }
   ],
   "source": [
    "from random import shuffle\n",
    "\n",
    "word = list('python')\n",
    "\n",
    "first = word[0]\n",
    "last = word[-1]\n",
    "\n",
    "del word[0]\n",
    "del word[-1]\n",
    "\n",
    "shuffle(word)\n",
    "\n",
    "word_shuffle = []\n",
    "\n",
    "word_shuffle.append(first)\n",
    "\n",
    "for letter in word:\n",
    "    word_shuffle.append(letter)\n",
    "\n",
    "word_shuffle.append(last)\n",
    "\n",
    "print(''.join(word_shuffle))"
   ]
  },
  {
   "cell_type": "code",
   "execution_count": null,
   "id": "a403da83-0e48-4d15-a4a6-d00386ece54f",
   "metadata": {},
   "outputs": [],
   "source": []
  }
 ],
 "metadata": {
  "kernelspec": {
   "display_name": "Python 3 (ipykernel)",
   "language": "python",
   "name": "python3"
  },
  "language_info": {
   "codemirror_mode": {
    "name": "ipython",
    "version": 3
   },
   "file_extension": ".py",
   "mimetype": "text/x-python",
   "name": "python",
   "nbconvert_exporter": "python",
   "pygments_lexer": "ipython3",
   "version": "3.10.12"
  }
 },
 "nbformat": 4,
 "nbformat_minor": 5
}
