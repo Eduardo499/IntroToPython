{
 "cells": [
  {
   "cell_type": "raw",
   "id": "9a35e36f-effc-49c0-a612-409debb11007",
   "metadata": {},
   "source": [
    "(Project: Simple Sentiment Analysis) Search online for lists of positive sentiment words and negative sentiment words. Create a script that inputs text, then determines whether that text is positive or negative, based on the total number of positive words and the total number of negative words. Test your script by searching for Twitter tweets on a topic of your choosing, then entering the text for several tweets. In the data science case study chapters, we’ll take a deeper look at sentiment analysis."
   ]
  },
  {
   "cell_type": "code",
   "execution_count": 5,
   "id": "1749b03a-2fd4-4f17-9918-58ce596e273e",
   "metadata": {},
   "outputs": [
    {
     "name": "stdin",
     "output_type": "stream",
     "text": [
      "Enter text for sentiment analysis:  Today is a wonderful day! I am so happy.\n"
     ]
    },
    {
     "name": "stdout",
     "output_type": "stream",
     "text": [
      "The sentiment of the text is: Positive\n"
     ]
    }
   ],
   "source": [
    "import re\n",
    "\n",
    "def load_word_list(file):\n",
    "    with open(file, 'r', encoding='utf-8') as f:\n",
    "        return set(f.read().splitlines())\n",
    "\n",
    "def analyze_sentiment(text, positive_words, negative_words):\n",
    "    text = re.sub(r'[^\\w\\s]', '', text.lower())\n",
    "    words = text.split()\n",
    "\n",
    "    positive_count = sum(1 for word in words if word in positive_words)\n",
    "    negative_count = sum(1 for word in words if word in negative_words)\n",
    "\n",
    "    if positive_count > negative_count:\n",
    "        return \"Positive\"\n",
    "    elif negative_count > positive_count:\n",
    "        return \"Negative\"\n",
    "    else:\n",
    "        return \"Neutral\"\n",
    "\n",
    "if __name__ == \"__main__\":\n",
    "    positive_words = load_word_list('positive-words.txt')\n",
    "    negative_words = load_word_list('negative-words.txt')\n",
    "\n",
    "    text = input(\"Enter text for sentiment analysis: \")\n",
    "\n",
    "    sentiment = analyze_sentiment(text, positive_words, negative_words)\n",
    "    print(f\"The sentiment of the text is: {sentiment}\")"
   ]
  },
  {
   "cell_type": "code",
   "execution_count": null,
   "id": "e5d9242e-f83f-49fc-a688-6a72c61529e4",
   "metadata": {},
   "outputs": [],
   "source": []
  },
  {
   "cell_type": "code",
   "execution_count": null,
   "id": "44ea28da-8786-40c0-9ae8-ee0a576a5116",
   "metadata": {},
   "outputs": [],
   "source": []
  }
 ],
 "metadata": {
  "kernelspec": {
   "display_name": "Python 3 (ipykernel)",
   "language": "python",
   "name": "python3"
  },
  "language_info": {
   "codemirror_mode": {
    "name": "ipython",
    "version": 3
   },
   "file_extension": ".py",
   "mimetype": "text/x-python",
   "name": "python",
   "nbconvert_exporter": "python",
   "pygments_lexer": "ipython3",
   "version": "3.10.12"
  }
 },
 "nbformat": 4,
 "nbformat_minor": 5
}
