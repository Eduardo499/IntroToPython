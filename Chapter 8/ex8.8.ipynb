{
 "cells": [
  {
   "cell_type": "raw",
   "id": "6f30cf82-dfab-4c9e-96d0-b528501b1e2d",
   "metadata": {},
   "source": [
    "(Converting Integers to Emojis) Modify the previous exercise to display 10 emojis beginning with the smiley face, which has the value 0x1F600:5 The value 0x1F600 is a hexadecimal (base 16) integer. See the online appendix “Number Systems” for information on the hexadecimal number system. You can find emoji codes by searching online for “Unicode full emoji list.” The Unicode website precedes each character code with \"U+\" (representing Unicode). Replace \"U+\" with \"0x\" to properly format the code as a Python hexadecimal integer."
   ]
  },
  {
   "cell_type": "code",
   "execution_count": 7,
   "id": "9078df61-8178-4a0d-a273-f6cb453730eb",
   "metadata": {},
   "outputs": [
    {
     "name": "stdout",
     "output_type": "stream",
     "text": [
      "Code      Emoji     \n",
      "--------------------\n",
      "0x1f600   😀         \n",
      "0x1f601   😁         \n",
      "0x1f602   😂         \n",
      "0x1f603   😃         \n",
      "0x1f604   😄         \n",
      "0x1f605   😅         \n",
      "0x1f606   😆         \n",
      "0x1f607   😇         \n",
      "0x1f608   😈         \n",
      "0x1f609   😉         \n"
     ]
    }
   ],
   "source": [
    "def display_emoji_table():\n",
    "    print(f\"{'Code':<10}{'Emoji':<10}\")\n",
    "    print(\"-\" * 20)\n",
    "\n",
    "    for i in range(0x1F600, 0x1F600 + 10):\n",
    "        emoji = chr(i)\n",
    "        print(f\"{hex(i):<10}{emoji:<10}\")\n",
    "\n",
    "if __name__ == '__main__':\n",
    "    display_emoji_table()"
   ]
  },
  {
   "cell_type": "code",
   "execution_count": null,
   "id": "76991f73-5dc6-4c9d-b55d-8b40ee779969",
   "metadata": {},
   "outputs": [],
   "source": []
  }
 ],
 "metadata": {
  "kernelspec": {
   "display_name": "Python 3 (ipykernel)",
   "language": "python",
   "name": "python3"
  },
  "language_info": {
   "codemirror_mode": {
    "name": "ipython",
    "version": 3
   },
   "file_extension": ".py",
   "mimetype": "text/x-python",
   "name": "python",
   "nbconvert_exporter": "python",
   "pygments_lexer": "ipython3",
   "version": "3.10.12"
  }
 },
 "nbformat": 4,
 "nbformat_minor": 5
}
