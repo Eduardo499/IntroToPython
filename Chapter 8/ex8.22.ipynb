{
 "cells": [
  {
   "cell_type": "raw",
   "id": "0a6927ac-21c8-4ccc-b3d9-9c3e08942483",
   "metadata": {},
   "source": [
    "(Project: Cooking with Healthier Ingredients) In the “Dictionaries and Sets” chapter’s exercises, you created a dictionary that mapped ingredients to lists of their possible substitutions. Use that dictionary in a script that helps users choose healthier ingredients when cooking. The script should read a recipe from the user and suggest healthier replacements for some of the ingredients. For simplicity, your script should assume the recipe has no abbreviations for measures such as teaspoons, cups, and tablespoons, and uses numerical digits for quantities (e.g., 1 egg, 2 cups) rather than spelling them out (one egg, two cups). Your program should display a warning such as, “Always consult your healthcare professional before making significant changes to your diet.” Your program should take into consideration that replacements are not always one-for-one. For example, each whole egg in a recipe can be replaced with two egg whites."
   ]
  },
  {
   "cell_type": "code",
   "execution_count": 1,
   "id": "c55fba29-8d8d-4a74-94b6-ac47a7cf7411",
   "metadata": {},
   "outputs": [
    {
     "name": "stdout",
     "output_type": "stream",
     "text": [
      "Enter your recipe (type 'done' on a new line when finished):\n"
     ]
    },
    {
     "name": "stdin",
     "output_type": "stream",
     "text": [
      " a\n",
      " done\n"
     ]
    },
    {
     "name": "stdout",
     "output_type": "stream",
     "text": [
      "Always consult your healthcare professional before making significant changes to your diet.\n"
     ]
    }
   ],
   "source": [
    "ingredient_substitutes = {\n",
    "    \"1 cup sour cream\": [\"1 cup yogurt\"],\n",
    "    \"1 cup milk\": [\"1/2 cup evaporated milk and 1/2 cup water\", \"1 cup soy milk\"],\n",
    "    \"1 teaspoon lemon juice\": [\"1/2 teaspoon vinegar\"],\n",
    "    \"1 cup sugar\": [\"1/2 cup honey\", \"1 cup molasses\", \"1/4 cup agave nectar\"],\n",
    "    \"1 cup butter\": [\"1 cup margarine\", \"1 cup yogurt\"],\n",
    "    \"1 cup flour\": [\"1 cup rye flour\", \"1 cup rice flour\"],\n",
    "    \"1 cup mayonnaise\": [\"1 cup cottage cheese\", \"1/8 cup mayonnaise and 7/8 cup yogurt\"],\n",
    "    \"1 egg\": [\n",
    "        \"2 tablespoons cornstarch\",\n",
    "        \"2 tablespoons arrowroot flour\",\n",
    "        \"2 tablespoons potato starch\",\n",
    "        \"2 egg whites\",\n",
    "        \"1/2 of a large banana (mashed)\"\n",
    "    ],\n",
    "    \"1 cup oil\": [\"1 cup applesauce\"]\n",
    "}\n",
    "\n",
    "def suggest_substitutes(recipe):\n",
    "    print(\"Always consult your healthcare professional before making significant changes to your diet.\")\n",
    "    recipe_lines = recipe.split('\\n')\n",
    "    for line in recipe_lines:\n",
    "        for ingredient, substitutes in ingredient_substitutes.items():\n",
    "            if ingredient in line:\n",
    "                print(f\"Ingredient found: {ingredient}\")\n",
    "                print(f\"Possible healthier substitutes for {ingredient}:\")\n",
    "                for substitute in substitutes:\n",
    "                    print(f\"- {substitute}\")\n",
    "\n",
    "def main():\n",
    "    print(\"Enter your recipe (type 'done' on a new line when finished):\")\n",
    "    recipe_lines = []\n",
    "    while True:\n",
    "        line = input()\n",
    "        if line.strip().lower() == 'done':\n",
    "            break\n",
    "        recipe_lines.append(line)\n",
    "    recipe = '\\n'.join(recipe_lines)\n",
    "    suggest_substitutes(recipe)\n",
    "\n",
    "if __name__ == \"__main__\":\n",
    "    main()"
   ]
  },
  {
   "cell_type": "code",
   "execution_count": null,
   "id": "7453a9ed-71d2-4ffd-95a1-235ae891017f",
   "metadata": {},
   "outputs": [],
   "source": []
  }
 ],
 "metadata": {
  "kernelspec": {
   "display_name": "Python 3 (ipykernel)",
   "language": "python",
   "name": "python3"
  },
  "language_info": {
   "codemirror_mode": {
    "name": "ipython",
    "version": 3
   },
   "file_extension": ".py",
   "mimetype": "text/x-python",
   "name": "python",
   "nbconvert_exporter": "python",
   "pygments_lexer": "ipython3",
   "version": "3.10.12"
  }
 },
 "nbformat": 4,
 "nbformat_minor": 5
}
