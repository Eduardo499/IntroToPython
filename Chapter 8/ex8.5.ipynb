{
 "cells": [
  {
   "cell_type": "raw",
   "id": "d7015996-1e97-4f2a-ace6-51f36c4c7ffc",
   "metadata": {},
   "source": [
    "(Tokenizing and Comparing Strings) Write a script that reads a line of text, tokenizes the line using space characters as delimiters and outputs only those words beginning with the letter 'b'."
   ]
  },
  {
   "cell_type": "code",
   "execution_count": 4,
   "id": "384b934b-e78a-4161-b3d2-cfdd91f0723a",
   "metadata": {},
   "outputs": [
    {
     "name": "stdin",
     "output_type": "stream",
     "text": [
      "Enter a sentence:  The quick brown fox jumps over the lazy dog\n"
     ]
    },
    {
     "name": "stdout",
     "output_type": "stream",
     "text": [
      "brown\n"
     ]
    }
   ],
   "source": [
    "def separate_words(sentence):\n",
    "    return sentence.split()\n",
    "\n",
    "def main():\n",
    "    sentence = input('Enter a sentence: ')\n",
    "    separate = separate_words(sentence)\n",
    "    for word in separate:\n",
    "        if word[0] == 'b' or word[0] == 'b':\n",
    "            print(word)\n",
    "\n",
    "if __name__ == '__main__':\n",
    "    main()\n"
   ]
  },
  {
   "cell_type": "code",
   "execution_count": null,
   "id": "0c52933b-6073-4ea4-8174-0f81ee9bc176",
   "metadata": {},
   "outputs": [],
   "source": []
  }
 ],
 "metadata": {
  "kernelspec": {
   "display_name": "Python 3 (ipykernel)",
   "language": "python",
   "name": "python3"
  },
  "language_info": {
   "codemirror_mode": {
    "name": "ipython",
    "version": 3
   },
   "file_extension": ".py",
   "mimetype": "text/x-python",
   "name": "python",
   "nbconvert_exporter": "python",
   "pygments_lexer": "ipython3",
   "version": "3.10.12"
  }
 },
 "nbformat": 4,
 "nbformat_minor": 5
}
