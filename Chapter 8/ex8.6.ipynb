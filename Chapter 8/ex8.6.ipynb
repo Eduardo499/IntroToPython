{
 "cells": [
  {
   "cell_type": "raw",
   "id": "04aaf62a-65f5-4c4f-b9b3-f9b5bd22822f",
   "metadata": {},
   "source": [
    "(Tokenizing and Comparing Strings) Write a script that reads a line of text, tokenizes it using space characters as delimiters and outputs only those words ending with the letters 'ed'."
   ]
  },
  {
   "cell_type": "code",
   "execution_count": 2,
   "id": "7558b85e-2584-49d1-8ef0-6f55c4a536cd",
   "metadata": {},
   "outputs": [
    {
     "name": "stdin",
     "output_type": "stream",
     "text": [
      "Enter a sentence:  The quick brown fox jumps over the lazy dog\n"
     ]
    }
   ],
   "source": [
    "def separate_words(sentence):\n",
    "    return sentence.split()\n",
    "\n",
    "def main():\n",
    "    sentence = input('Enter a sentence: ')\n",
    "    separate = separate_words(sentence)\n",
    "    for word in separate:\n",
    "        if word[-2] + word[-1] == 'ed':\n",
    "            print(word)\n",
    "\n",
    "if __name__ == '__main__':\n",
    "    main()\n"
   ]
  },
  {
   "cell_type": "code",
   "execution_count": null,
   "id": "2afcf911-6ab0-4d78-8505-854d2f50a7a5",
   "metadata": {},
   "outputs": [],
   "source": []
  }
 ],
 "metadata": {
  "kernelspec": {
   "display_name": "Python 3 (ipykernel)",
   "language": "python",
   "name": "python3"
  },
  "language_info": {
   "codemirror_mode": {
    "name": "ipython",
    "version": 3
   },
   "file_extension": ".py",
   "mimetype": "text/x-python",
   "name": "python",
   "nbconvert_exporter": "python",
   "pygments_lexer": "ipython3",
   "version": "3.10.12"
  }
 },
 "nbformat": 4,
 "nbformat_minor": 5
}
