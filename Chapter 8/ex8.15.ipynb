{
 "cells": [
  {
   "cell_type": "raw",
   "id": "23c845a2-23b5-471a-9f0e-badb486254cb",
   "metadata": {},
   "source": [
    "(Regular Expressions: Count Number of Occurrences of a Letter) Use the findall function to check the number of occurrences of the letter “a” in the sentence. The mouse that the cat that the dog that the man frightened and chased ran away"
   ]
  },
  {
   "cell_type": "code",
   "execution_count": 3,
   "id": "86eac19e-7853-421e-a75d-549e5691cd1d",
   "metadata": {},
   "outputs": [
    {
     "name": "stdout",
     "output_type": "stream",
     "text": [
      "The letter 'a' appears 10 times.\n"
     ]
    }
   ],
   "source": [
    "import re\n",
    "\n",
    "def count_letter_a(sentence):\n",
    "    occurrences = re.findall(r'a', sentence)\n",
    "    return len(occurrences)\n",
    "\n",
    "sentence = \"The mouse that the cat that the dog that the man frightened and chased ran away\"\n",
    "\n",
    "count = count_letter_a(sentence)\n",
    "print(f\"The letter 'a' appears {count} times.\")"
   ]
  },
  {
   "cell_type": "code",
   "execution_count": null,
   "id": "c00c7167-f7a3-4ec8-bb31-6b38d0febdf5",
   "metadata": {},
   "outputs": [],
   "source": []
  }
 ],
 "metadata": {
  "kernelspec": {
   "display_name": "Python 3 (ipykernel)",
   "language": "python",
   "name": "python3"
  },
  "language_info": {
   "codemirror_mode": {
    "name": "ipython",
    "version": 3
   },
   "file_extension": ".py",
   "mimetype": "text/x-python",
   "name": "python",
   "nbconvert_exporter": "python",
   "pygments_lexer": "ipython3",
   "version": "3.10.12"
  }
 },
 "nbformat": 4,
 "nbformat_minor": 5
}
