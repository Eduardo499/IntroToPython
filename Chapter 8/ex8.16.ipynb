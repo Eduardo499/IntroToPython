{
 "cells": [
  {
   "cell_type": "raw",
   "id": "87897faa-ba1c-47cf-ae7d-fc382ff149b2",
   "metadata": {},
   "source": [
    "(Regular Expressions: Locating URLs) Use a regular expression to search through a string and to locate all valid URLs. For this exercise, assume that a valid URL has the form http://www.domain_name.extension, where extension must be two or more characters."
   ]
  },
  {
   "cell_type": "code",
   "execution_count": 4,
   "id": "e9f7ec77-b929-49f7-9277-b19888368236",
   "metadata": {},
   "outputs": [
    {
     "name": "stdout",
     "output_type": "stream",
     "text": [
      "Valid URLs found:\n",
      "http://www.example.com\n",
      "http://www.test-site.org\n",
      "http://www.valid.co\n"
     ]
    }
   ],
   "source": [
    "import re\n",
    "\n",
    "def find_urls(text):\n",
    "    pattern = r'http://www\\.[a-zA-Z0-9-]+\\.[a-zA-Z]{2,}'\n",
    "    urls = re.findall(pattern, text)\n",
    "    return urls\n",
    "\n",
    "text = \"\"\"\n",
    "Here are some URLs to check:\n",
    "http://www.example.com\n",
    "http://www.test-site.org\n",
    "http://www.invalid-url.x\n",
    "and this one: http://www.valid.co.uk\n",
    "\"\"\"\n",
    "\n",
    "urls = find_urls(text)\n",
    "print(\"Valid URLs found:\")\n",
    "for url in urls:\n",
    "    print(url)"
   ]
  },
  {
   "cell_type": "code",
   "execution_count": null,
   "id": "189bf796-7e71-4c64-9bd4-d55c82f669d6",
   "metadata": {},
   "outputs": [],
   "source": []
  }
 ],
 "metadata": {
  "kernelspec": {
   "display_name": "Python 3 (ipykernel)",
   "language": "python",
   "name": "python3"
  },
  "language_info": {
   "codemirror_mode": {
    "name": "ipython",
    "version": 3
   },
   "file_extension": ".py",
   "mimetype": "text/x-python",
   "name": "python",
   "nbconvert_exporter": "python",
   "pygments_lexer": "ipython3",
   "version": "3.10.12"
  }
 },
 "nbformat": 4,
 "nbformat_minor": 5
}
