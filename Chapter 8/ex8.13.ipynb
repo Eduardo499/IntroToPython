{
 "cells": [
  {
   "cell_type": "raw",
   "id": "304f7a66-9569-4a72-a435-44339bafa1e4",
   "metadata": {},
   "source": [
    "(Regular Expressions: Replacing Substrings) Use regular expressions to change the name in a line from a poem. Jennifer, you are more beautiful than the most beautiful rose"
   ]
  },
  {
   "cell_type": "code",
   "execution_count": 1,
   "id": "94eee4d1-dfaf-478c-ac71-fd269731d6b9",
   "metadata": {},
   "outputs": [
    {
     "name": "stdout",
     "output_type": "stream",
     "text": [
      "Emily, you are more beautiful than the most beautiful rose\n"
     ]
    }
   ],
   "source": [
    "import re\n",
    "\n",
    "line = \"Jennifer, you are more beautiful than the most beautiful rose\"\n",
    "\n",
    "new_line = re.sub(r'\\bJennifer\\b', 'Emily', line)\n",
    "\n",
    "print(new_line)\n"
   ]
  },
  {
   "cell_type": "code",
   "execution_count": null,
   "id": "fff641c2-b922-40e6-96cf-861171fef3ac",
   "metadata": {},
   "outputs": [],
   "source": []
  }
 ],
 "metadata": {
  "kernelspec": {
   "display_name": "Python 3 (ipykernel)",
   "language": "python",
   "name": "python3"
  },
  "language_info": {
   "codemirror_mode": {
    "name": "ipython",
    "version": 3
   },
   "file_extension": ".py",
   "mimetype": "text/x-python",
   "name": "python",
   "nbconvert_exporter": "python",
   "pygments_lexer": "ipython3",
   "version": "3.10.12"
  }
 },
 "nbformat": 4,
 "nbformat_minor": 5
}
