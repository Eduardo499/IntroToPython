{
 "cells": [
  {
   "cell_type": "raw",
   "id": "615c7f34-100a-4370-9de7-425968252b7d",
   "metadata": {},
   "source": [
    "(Random Sentences) Write a script that uses random-number generation to compose sentences. Use four arrays of strings called article, noun, verb and preposition. Create a sentence by selecting a word at random from each array in the following order: article, noun, verb, preposition, article and noun. As each word is picked, concatenate it to the previous words in the sentence. Spaces should separate the words. When the final sentence is output, it should start with a capital letter and end with a period. The script should generate and display 20 sentences."
   ]
  },
  {
   "cell_type": "code",
   "execution_count": 6,
   "id": "0d648c8f-88cf-4c10-a076-44e178b4c337",
   "metadata": {},
   "outputs": [
    {
     "name": "stdout",
     "output_type": "stream",
     "text": [
      "One boy drove to one boy.\n",
      "A town ran from the girl.\n",
      "Any dog ran from the town.\n",
      "Any town skipped under one boy.\n",
      "Any car walked on the town.\n",
      "Some girl walked over any dog.\n",
      "One boy walked under a boy.\n",
      "Some girl skipped over some dog.\n",
      "A town walked from the girl.\n",
      "Any town jumped over any dog.\n",
      "Some car jumped from some town.\n",
      "Some car walked over any car.\n",
      "The car drove under one car.\n",
      "Some girl ran to one car.\n",
      "Some girl drove from some town.\n",
      "A girl drove from the town.\n",
      "The town walked to a car.\n",
      "One town drove over any town.\n",
      "A girl walked under a town.\n",
      "The girl skipped from any boy.\n"
     ]
    }
   ],
   "source": [
    "import random\n",
    "\n",
    "articles = [\"the\", \"a\", \"one\", \"some\", \"any\"]\n",
    "nouns = [\"boy\", \"girl\", \"dog\", \"town\", \"car\"]\n",
    "verbs = [\"drove\", \"jumped\", \"ran\", \"walked\", \"skipped\"]\n",
    "prepositions = [\"to\", \"from\", \"over\", \"under\", \"on\"]\n",
    "\n",
    "def generate_sentence():\n",
    "    sentence = (\n",
    "        random.choice(articles) + \" \" +\n",
    "        random.choice(nouns) + \" \" +\n",
    "        random.choice(verbs) + \" \" +\n",
    "        random.choice(prepositions) + \" \" +\n",
    "        random.choice(articles) + \" \" +\n",
    "        random.choice(nouns)\n",
    "    )\n",
    "\n",
    "    return sentence.capitalize() + '.'\n",
    "\n",
    "sentences = [generate_sentence() for _ in range(20)]\n",
    "\n",
    "for sentence in sentences:\n",
    "    print(sentence)"
   ]
  },
  {
   "cell_type": "code",
   "execution_count": null,
   "id": "aa05044c-25c5-41d3-b6ff-1977dcc8e18a",
   "metadata": {},
   "outputs": [],
   "source": []
  }
 ],
 "metadata": {
  "kernelspec": {
   "display_name": "Python 3 (ipykernel)",
   "language": "python",
   "name": "python3"
  },
  "language_info": {
   "codemirror_mode": {
    "name": "ipython",
    "version": 3
   },
   "file_extension": ".py",
   "mimetype": "text/x-python",
   "name": "python",
   "nbconvert_exporter": "python",
   "pygments_lexer": "ipython3",
   "version": "3.10.12"
  }
 },
 "nbformat": 4,
 "nbformat_minor": 5
}
