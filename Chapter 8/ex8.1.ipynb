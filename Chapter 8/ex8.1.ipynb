{
 "cells": [
  {
   "cell_type": "raw",
   "id": "58338ff6-c721-4568-b1ef-c54b39bd3ec7",
   "metadata": {},
   "source": [
    "(Check Protection) Although electronic deposit has become extremely popular, payroll and accounts payable applications often print checks. A serious problem is the intentional alteration of a check amount by someone who plans to cash a check fraudulently. To prevent a dollar amount from being altered, some computerized check-writing systems employ a technique called check protection. Checks designed for printing by computer typically contain a fixed number of spaces for the printed amount. Suppose a paycheck contains eight blank spaces in which the computer is supposed to print the amount of a weekly paycheck. If the amount is large, then all eight of the spaces will be filled:\n",
    "    1,230.60 (check amount)\n",
    "    --------\n",
    "    01234567 (position numbers)\n",
    "On the other hand, if the amount is smaller, then several of the spaces would ordinarily be left blank. For example,\n",
    "      399.87\n",
    "    --------\n",
    "    01234567\n",
    "contains two blank spaces. If a check is printed with blank spaces, it’s easier for someone to alter the amount. Check-writing systems often insert leading asterisks to prevent alteration and protect the amount as follows:\n",
    "    **399.87\n",
    "    --------\n",
    "    01234567\n",
    "Write a script that inputs a dollar amount, then prints the amount in check-protected format in a field of 10 characters with leading asterisks if necessary. [Hint: In a format string that explicitly specifies alignment with <, ^ or >, you can precede the alignment specifier with the fill character of your choice.]"
   ]
  },
  {
   "cell_type": "code",
   "execution_count": 12,
   "id": "8a013857-4873-4b5e-8617-03b8f5357ff9",
   "metadata": {},
   "outputs": [
    {
     "name": "stdin",
     "output_type": "stream",
     "text": [
      "Enter a value:  3.14\n"
     ]
    },
    {
     "name": "stdout",
     "output_type": "stream",
     "text": [
      "******3.14\n"
     ]
    }
   ],
   "source": [
    "dolar = float(input('Enter a value: '))\n",
    "\n",
    "print(f\"{'*' * (10 - len(str(dolar)))}{dolar}\")"
   ]
  }
 ],
 "metadata": {
  "kernelspec": {
   "display_name": "Python 3 (ipykernel)",
   "language": "python",
   "name": "python3"
  },
  "language_info": {
   "codemirror_mode": {
    "name": "ipython",
    "version": 3
   },
   "file_extension": ".py",
   "mimetype": "text/x-python",
   "name": "python",
   "nbconvert_exporter": "python",
   "pygments_lexer": "ipython3",
   "version": "3.10.12"
  }
 },
 "nbformat": 4,
 "nbformat_minor": 5
}
