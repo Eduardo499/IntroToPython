{
 "cells": [
  {
   "cell_type": "raw",
   "id": "f8b9cc34-bff5-431c-8e1d-62e2b6c97b49",
   "metadata": {},
   "source": [
    "(Project: Evaluate Word Problems) Write a script that enables the user to enter mathematical word problems like “two times three” and “seven minus five”, then use string processing to break apart the string into the numbers and the operation and return the result. So “two times three” would return 6 and “seven minus five” would return 2. To keep things simple, assume the user enters only the words for the numbers 0 through 9 and only the operations 'plus', 'minus', 'times' and 'divided by'."
   ]
  },
  {
   "cell_type": "code",
   "execution_count": 20,
   "id": "3b9e5918-a5c8-4c58-b010-e598221c270b",
   "metadata": {},
   "outputs": [
    {
     "name": "stdin",
     "output_type": "stream",
     "text": [
      "Enter a mathematical word problem:  two times three\n"
     ]
    },
    {
     "name": "stdout",
     "output_type": "stream",
     "text": [
      "6\n"
     ]
    }
   ],
   "source": [
    "numbers = {'zero': 0, 'one': 1, 'two': 2, 'three': 3, 'four': 4, 'five': 5, 'six': 6, 'seven': 7, 'eight': 8, 'nine': 9}\n",
    "\n",
    "def get_problem():\n",
    "    problem = str(input('Enter a mathematical word problem: ')).lower().strip()\n",
    "    return problem.split()\n",
    "\n",
    "def calculate(problem):\n",
    "    try:\n",
    "        if problem[1] == 'plus':\n",
    "            return numbers[problem[0]] + numbers[problem[2]]\n",
    "        elif problem[1] == 'minus':\n",
    "            return numbers[problem[0]] - numbers[problem[2]]\n",
    "        elif problem[1] == 'times':\n",
    "            return numbers[problem[0]] * numbers[problem[2]]\n",
    "        elif problem[1] == 'divided':\n",
    "            return numbers[problem[0]] / numbers[problem[2]]\n",
    "    except:\n",
    "        print('Invalid problem. Try again.')\n",
    "def main():\n",
    "    problem = get_problem()\n",
    "    result = calculate(problem)\n",
    "    print(result)\n",
    "    \n",
    "if __name__ == '__main__':\n",
    "    main()"
   ]
  },
  {
   "cell_type": "code",
   "execution_count": null,
   "id": "476aa13d-0f51-40a4-bf52-29c51a5d51b0",
   "metadata": {},
   "outputs": [],
   "source": []
  }
 ],
 "metadata": {
  "kernelspec": {
   "display_name": "Python 3 (ipykernel)",
   "language": "python",
   "name": "python3"
  },
  "language_info": {
   "codemirror_mode": {
    "name": "ipython",
    "version": 3
   },
   "file_extension": ".py",
   "mimetype": "text/x-python",
   "name": "python",
   "nbconvert_exporter": "python",
   "pygments_lexer": "ipython3",
   "version": "3.10.12"
  }
 },
 "nbformat": 4,
 "nbformat_minor": 5
}
