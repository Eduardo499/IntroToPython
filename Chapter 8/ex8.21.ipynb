{
 "cells": [
  {
   "cell_type": "raw",
   "id": "614951f1-a893-4cf3-9117-1115b16e642a",
   "metadata": {},
   "source": [
    "(Project: Metric Conversions) Write a script that assists the user with some common metric-to-English conversions. Your script should allow the user to specify the names of the units as strings (i.e., centimeters, liters, grams, and so on for the metric system and inches, quarts, pounds, and so on for the English system) and should respond to simple questions, such as\n",
    "    'How many inches are in 2 meters?'\n",
    "    'How many liters are in 10 quarts?'\n",
    "Your script should recognize invalid conversions. For example, the following question is not meaningful, because 'feet' is a unit of length and 'kilograms' is a unit of mass:\n",
    "    'How many feet are in 5 kilograms?'\n",
    "Assume that all questions are in the form shown above. Use regular expressions to capture the important substrings, such as 'inches', '2' and 'meters' in the first sample question above. Recall that functions int and float can convert strings to numbers."
   ]
  },
  {
   "cell_type": "code",
   "execution_count": 3,
   "id": "24eaa41e-a1ef-4754-ab7c-42edf3dbdaa9",
   "metadata": {},
   "outputs": [
    {
     "name": "stdin",
     "output_type": "stream",
     "text": [
      "Enter your query (or type 'exit' to quit):  a\n"
     ]
    },
    {
     "name": "stdout",
     "output_type": "stream",
     "text": [
      "Invalid query format. Please use the format: 'How many [unit] are in [value] [unit]?'.\n"
     ]
    },
    {
     "name": "stdin",
     "output_type": "stream",
     "text": [
      "Enter your query (or type 'exit' to quit):  how many metter are in feets\n"
     ]
    },
    {
     "name": "stdout",
     "output_type": "stream",
     "text": [
      "Invalid query format. Please use the format: 'How many [unit] are in [value] [unit]?'.\n"
     ]
    },
    {
     "name": "stdin",
     "output_type": "stream",
     "text": [
      "Enter your query (or type 'exit' to quit):  How many inches are in 2 meters\n"
     ]
    },
    {
     "name": "stdout",
     "output_type": "stream",
     "text": [
      "Invalid query format. Please use the format: 'How many [unit] are in [value] [unit]?'.\n"
     ]
    },
    {
     "name": "stdin",
     "output_type": "stream",
     "text": [
      "Enter your query (or type 'exit' to quit):  How many inches are in 2 meters?\n"
     ]
    },
    {
     "name": "stdout",
     "output_type": "stream",
     "text": [
      "2.0 meters is equal to 78.74 inches.\n"
     ]
    },
    {
     "name": "stdin",
     "output_type": "stream",
     "text": [
      "Enter your query (or type 'exit' to quit):  quit\n"
     ]
    },
    {
     "name": "stdout",
     "output_type": "stream",
     "text": [
      "Invalid query format. Please use the format: 'How many [unit] are in [value] [unit]?'.\n"
     ]
    },
    {
     "name": "stdin",
     "output_type": "stream",
     "text": [
      "Enter your query (or type 'exit' to quit):  exit\n"
     ]
    }
   ],
   "source": [
    "import re\n",
    "\n",
    "def metric_to_english(value, from_unit, to_unit):\n",
    "    conversions = {\n",
    "        'meters': {'inches': value * 39.3701, 'feet': value * 3.28084},\n",
    "        'centimeters': {'inches': value * 0.393701, 'feet': value * 0.0328084},\n",
    "        'liters': {'quarts': value * 1.05669, 'gallons': value * 0.264172},\n",
    "        'grams': {'pounds': value * 0.00220462, 'ounces': value * 0.035274},\n",
    "        'kilograms': {'pounds': value * 2.20462, 'ounces': value * 35.274},\n",
    "    }\n",
    "\n",
    "    if from_unit in conversions and to_unit in conversions[from_unit]:\n",
    "        return conversions[from_unit][to_unit]\n",
    "    return None\n",
    "\n",
    "def handle_query(query):\n",
    "    pattern = r\"How many (\\w+) are in ([\\d.]+) (\\w+)\\?\"\n",
    "    match = re.match(pattern, query)\n",
    "    if match:\n",
    "        to_unit, value, from_unit = match.groups()\n",
    "        value = float(value)\n",
    "\n",
    "        result = metric_to_english(value, from_unit, to_unit)\n",
    "\n",
    "        if result is not None:\n",
    "            return f\"{value} {from_unit} is equal to {result:.2f} {to_unit}.\"\n",
    "        else:\n",
    "            return \"Invalid conversion. Ensure the units are compatible (e.g., both are lengths or volumes).\"\n",
    "    else:\n",
    "        return \"Invalid query format. Please use the format: 'How many [unit] are in [value] [unit]?'.\"\n",
    "\n",
    "if __name__ == \"__main__\":\n",
    "    while True:\n",
    "        query = input(\"Enter your query (or type 'exit' to quit): \")\n",
    "        if query.lower() == 'exit':\n",
    "            break\n",
    "        print(handle_query(query))"
   ]
  },
  {
   "cell_type": "code",
   "execution_count": null,
   "id": "dd4fbd78-5d63-47e9-9aa6-c0ca3b9fbe52",
   "metadata": {},
   "outputs": [],
   "source": []
  }
 ],
 "metadata": {
  "kernelspec": {
   "display_name": "Python 3 (ipykernel)",
   "language": "python",
   "name": "python3"
  },
  "language_info": {
   "codemirror_mode": {
    "name": "ipython",
    "version": 3
   },
   "file_extension": ".py",
   "mimetype": "text/x-python",
   "name": "python",
   "nbconvert_exporter": "python",
   "pygments_lexer": "ipython3",
   "version": "3.10.12"
  }
 },
 "nbformat": 4,
 "nbformat_minor": 5
}
