{
 "cells": [
  {
   "cell_type": "raw",
   "id": "fb14765c-0bbf-4cb7-84bb-953ef76877be",
   "metadata": {},
   "source": [
    "(Research: Inter-Language Translation) This exercise will help you explore one of the most challenging problems in natural language processing and artificial intelligence. The Internet brings us all together in ways that make inter-language translation particularly important. As authors, we frequently receive messages from non-English speaking\n",
    "readers worldwide. Not long ago, we’d write back asking them to write to us in English so we could understand.\n",
    "With advances in machine learning, artificial intelligence and natural language processing, services like Google Translate (100+ languages) and Bing Microsoft Translator (60+ languages) can translate between languages instantly. In fact, the translations are so good that when non-English speakers write to us in English, we often ask them to write\n",
    "back in their native language, then we translate their message online. There are many challenges in natural language translation. To get a sense of this, use online translation services to perform the following tasks:\n",
    "    a) Start with a sentence in English. A popular sentence in machine translation lore is from the Bible’s Matthew  26:41, “The spirit is willing, but the flesh is weak.”\n",
    "    b) Translate that sentence to another language, like Japanese.\n",
    "    c) Translate the Japanese text back to English.\n",
    "Do you get the original sentence? Often, translating from one language to another and back gives the original sentence or something close. Try chaining multiple language translations together. For instance, we took the phrase in Part (a) above and translated it from English to Chinese Traditional to Japanese to Arabic and back to English. The result was, “The soul is very happy, but the flesh is very crisp.” Send us your favorite translations!"
   ]
  },
  {
   "cell_type": "raw",
   "id": "82b6df25-a20b-4da9-8d70-739c4808a765",
   "metadata": {},
   "source": [
    "Original Sentence:\n",
    "English: \"The spirit is willing, but the flesh is weak.\"\n",
    "\n",
    "Translation Path 1:\n",
    "English → Japanese → English\n",
    "\n",
    "Japanese Translation:\n",
    "\"精神は強いが、肉体は弱い\" \n",
    "GLOSBE\n",
    "\n",
    "Back to English:\n",
    "\"The spirit is strong, but the body is weak.\"\n",
    "\n",
    "Translation Path 2:\n",
    "English → Chinese (Traditional) → Japanese → Arabic → English\n",
    "\n",
    "Chinese (Traditional) Translation:\n",
    "\"心有餘而力不足\" \n",
    "DICIONÁRIO CAMBRIDGE\n",
    "\n",
    "Japanese Translation:\n",
    "\"心は余裕があるが、力が足りない\"\n",
    "\n",
    "Arabic Translation:\n",
    "\"القلب لديه فائض، ولكن القوة غير كافية\"\n",
    "\n",
    "Back to English:\n",
    "\"The heart has surplus, but the strength is insufficient.\""
   ]
  }
 ],
 "metadata": {
  "kernelspec": {
   "display_name": "Python 3 (ipykernel)",
   "language": "python",
   "name": "python3"
  },
  "language_info": {
   "codemirror_mode": {
    "name": "ipython",
    "version": 3
   },
   "file_extension": ".py",
   "mimetype": "text/x-python",
   "name": "python",
   "nbconvert_exporter": "python",
   "pygments_lexer": "ipython3",
   "version": "3.10.12"
  }
 },
 "nbformat": 4,
 "nbformat_minor": 5
}
