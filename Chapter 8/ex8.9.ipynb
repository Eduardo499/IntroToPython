{
 "cells": [
  {
   "cell_type": "raw",
   "id": "15b1af89-b97b-4135-bf80-51694e4b309a",
   "metadata": {},
   "source": [
    "(Counting Vowels in a Sentence) Write a script that reads a phrase and calculates the number of vowels used in it. To assess if a character in the string is a vowel, check if it is present in a second string. The second string consists of the vowels “aeiou.” For example, the letter “a” is present in the string “aeiou” and is thus considered a vowel. Count all the vowels in the given string and output this number to the user."
   ]
  },
  {
   "cell_type": "code",
   "execution_count": 9,
   "id": "234eb68d-cacc-48a9-8d2e-40b96a4c3e0f",
   "metadata": {},
   "outputs": [
    {
     "name": "stdout",
     "output_type": "stream",
     "text": [
      "e:  3\n",
      "u:  2\n",
      "o:  4\n",
      "a:  1\n"
     ]
    }
   ],
   "source": [
    "from collections import Counter\n",
    "\n",
    "vowels = ['a', 'e', 'i,', 'o', 'u']\n",
    "sentence = 'The quick brown fox jumps over the lazy dog'.lower()\n",
    "\n",
    "sentence_list = [letter for letter in sentence if letter in vowels]\n",
    "\n",
    "count = Counter(sentence_list)\n",
    "\n",
    "for letter, value in count.items():\n",
    "    print(f'{letter}:{value:>3}')\n"
   ]
  },
  {
   "cell_type": "code",
   "execution_count": null,
   "id": "fcdb7572-14fd-46a1-8cdb-0ecb5489185a",
   "metadata": {},
   "outputs": [],
   "source": []
  },
  {
   "cell_type": "code",
   "execution_count": null,
   "id": "1c71468b-b6bb-45fa-8730-e8ed4faa18b7",
   "metadata": {},
   "outputs": [],
   "source": []
  }
 ],
 "metadata": {
  "kernelspec": {
   "display_name": "Python 3 (ipykernel)",
   "language": "python",
   "name": "python3"
  },
  "language_info": {
   "codemirror_mode": {
    "name": "ipython",
    "version": 3
   },
   "file_extension": ".py",
   "mimetype": "text/x-python",
   "name": "python",
   "nbconvert_exporter": "python",
   "pygments_lexer": "ipython3",
   "version": "3.10.12"
  }
 },
 "nbformat": 4,
 "nbformat_minor": 5
}
