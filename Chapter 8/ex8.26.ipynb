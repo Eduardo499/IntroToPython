{
 "cells": [
  {
   "cell_type": "raw",
   "id": "5e3fe23d-0f7a-420d-ae2a-d129ee2bca1d",
   "metadata": {},
   "source": [
    "(Research: Grammarly) Copy and paste State of the Union speeches into the free version of Grammarly or similar software. Compare the reading grade levels for speeches from several presidents."
   ]
  }
 ],
 "metadata": {
  "kernelspec": {
   "display_name": "Python 3 (ipykernel)",
   "language": "python",
   "name": "python3"
  },
  "language_info": {
   "codemirror_mode": {
    "name": "ipython",
    "version": 3
   },
   "file_extension": ".py",
   "mimetype": "text/x-python",
   "name": "python",
   "nbconvert_exporter": "python",
   "pygments_lexer": "ipython3",
   "version": "3.10.12"
  }
 },
 "nbformat": 4,
 "nbformat_minor": 5
}
