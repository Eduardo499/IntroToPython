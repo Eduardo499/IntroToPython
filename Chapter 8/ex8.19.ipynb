{
 "cells": [
  {
   "cell_type": "raw",
   "id": "a7dfb83e-454b-4de3-9b5d-266a97a93511",
   "metadata": {},
   "source": [
    "(Regular Expressions: Testing Regular Expressions Online) Before using any regular expression in your code, you should thoroughly test it to ensure that it meets your needs. Use a regular expression website like regex101.com to explore and test existing regular expressions, then write your own regular expression tester."
   ]
  },
  {
   "cell_type": "code",
   "execution_count": 2,
   "id": "c5493be1-4549-45bf-96ef-818c171124b4",
   "metadata": {},
   "outputs": [
    {
     "name": "stdin",
     "output_type": "stream",
     "text": [
      "Enter a regular expression:  \\b[A-Za-z]+\\b\n",
      "Enter the string to test:  Hello world!\n"
     ]
    },
    {
     "name": "stdout",
     "output_type": "stream",
     "text": [
      "Match found: ['Hello', 'world']\n",
      "No full match found.\n"
     ]
    }
   ],
   "source": [
    "import re\n",
    "\n",
    "def test_regex(pattern, test_string):\n",
    "    try:\n",
    "        regex = re.compile(pattern)\n",
    "        matches = regex.findall(test_string)\n",
    "        if matches:\n",
    "            print(f\"Match found: {matches}\")\n",
    "        else:\n",
    "            print(\"No match found.\")\n",
    "        full_match = regex.fullmatch(test_string)\n",
    "        if full_match:\n",
    "            print(f\"Full match found: {full_match.group(0)}\")\n",
    "        else:\n",
    "            print(\"No full match found.\")\n",
    "    except re.error as e:\n",
    "        print(f\"Error in regular expression: {e}\")\n",
    "\n",
    "def main():\n",
    "    pattern = input(\"Enter a regular expression: \")\n",
    "    test_string = input(\"Enter the string to test: \")\n",
    "    test_regex(pattern, test_string)\n",
    "\n",
    "if __name__ == \"__main__\":\n",
    "    main()"
   ]
  },
  {
   "cell_type": "code",
   "execution_count": null,
   "id": "27f52e29-f7d7-4905-a5b4-fb755234e660",
   "metadata": {},
   "outputs": [],
   "source": []
  }
 ],
 "metadata": {
  "kernelspec": {
   "display_name": "Python 3 (ipykernel)",
   "language": "python",
   "name": "python3"
  },
  "language_info": {
   "codemirror_mode": {
    "name": "ipython",
    "version": 3
   },
   "file_extension": ".py",
   "mimetype": "text/x-python",
   "name": "python",
   "nbconvert_exporter": "python",
   "pygments_lexer": "ipython3",
   "version": "3.10.12"
  }
 },
 "nbformat": 4,
 "nbformat_minor": 5
}
