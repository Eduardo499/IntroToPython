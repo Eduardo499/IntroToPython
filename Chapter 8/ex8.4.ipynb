{
 "cells": [
  {
   "cell_type": "raw",
   "id": "7e643222-f3dc-4d63-a5ef-639766d475e8",
   "metadata": {},
   "source": [
    "(Sorting Words in a Sentence) Write a script that reads a line of text as a string, tokenizes the string, and outputs the tokens in alphabetical order. Use space characters as delimiters."
   ]
  },
  {
   "cell_type": "code",
   "execution_count": 4,
   "id": "24ff51aa-66db-4b28-a92d-5c1d0f31d0b1",
   "metadata": {},
   "outputs": [
    {
     "name": "stdin",
     "output_type": "stream",
     "text": [
      "Enter a sentence:  The quick brown fox jumps over the lazy dog\n"
     ]
    },
    {
     "name": "stdout",
     "output_type": "stream",
     "text": [
      "brown dog fox jumps lazy over quick The the\n"
     ]
    }
   ],
   "source": [
    "def sort_words_in_sentence(sentence):\n",
    "    tokens = sentence.split()\n",
    "    sorted_tokens = sorted(tokens, key=str.lower)\n",
    "    return sorted_tokens\n",
    "\n",
    "def main():\n",
    "    sentence = input('Enter a sentence: ')\n",
    "    sorted_words = sort_words_in_sentence(sentence)\n",
    "    print(' '.join(sorted_words))\n",
    "\n",
    "if __name__ == '__main__':\n",
    "    main()"
   ]
  },
  {
   "cell_type": "code",
   "execution_count": null,
   "id": "d3007b7c-ad49-496c-9fa0-c24494110a24",
   "metadata": {},
   "outputs": [],
   "source": []
  }
 ],
 "metadata": {
  "kernelspec": {
   "display_name": "Python 3 (ipykernel)",
   "language": "python",
   "name": "python3"
  },
  "language_info": {
   "codemirror_mode": {
    "name": "ipython",
    "version": 3
   },
   "file_extension": ".py",
   "mimetype": "text/x-python",
   "name": "python",
   "nbconvert_exporter": "python",
   "pygments_lexer": "ipython3",
   "version": "3.10.12"
  }
 },
 "nbformat": 4,
 "nbformat_minor": 5
}
