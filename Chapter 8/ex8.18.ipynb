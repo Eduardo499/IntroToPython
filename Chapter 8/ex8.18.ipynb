{
 "cells": [
  {
   "cell_type": "raw",
   "id": "11eaf2d5-5f83-4590-82fe-b671f2114663",
   "metadata": {},
   "source": [
    "(Using Regular Expressions for Password Validation) When choosing a password, a user is often confronted with a set of rules they have to comply with in order to set a valid password. Write a script using the necessary regular expressions to check if a password is valid. For a chosen password to be valid, it should contain at least one lowercase and one uppercase letter and at least one number. The use of whites paces in a password is not allowed. Provide the necessary feedback to the user for their chosen password."
   ]
  },
  {
   "cell_type": "code",
   "execution_count": 2,
   "id": "6e54918a-5586-4944-95f9-e4455024c4db",
   "metadata": {},
   "outputs": [
    {
     "name": "stdout",
     "output_type": "stream",
     "text": [
      "Password: Valid123\n",
      "Password is valid.\n",
      "\n",
      "Password: invalid\n",
      "Password must contain at least one uppercase letter.\n",
      "\n",
      "Password: INVALID1\n",
      "Password must contain at least one lowercase letter.\n",
      "\n",
      "Password: Valid password\n",
      "Password cannot contain spaces.\n",
      "\n",
      "Password: Valid1234\n",
      "Password is valid.\n",
      "\n"
     ]
    }
   ],
   "source": [
    "import re\n",
    "\n",
    "def validate_password(password):\n",
    "    if re.search(r'\\s', password):\n",
    "        return \"Password cannot contain spaces.\"\n",
    "    if not re.search(r'[a-z]', password):\n",
    "        return \"Password must contain at least one lowercase letter.\"\n",
    "    if not re.search(r'[A-Z]', password):\n",
    "        return \"Password must contain at least one uppercase letter.\"\n",
    "    if not re.search(r'[0-9]', password):\n",
    "        return \"Password must contain at least one number.\"\n",
    "    return \"Password is valid.\"\n",
    "\n",
    "passwords = [\n",
    "    \"Valid123\",\n",
    "    \"invalid\",    \n",
    "    \"INVALID1\",\n",
    "    \"Valid password\",\n",
    "    \"Valid1234\"\n",
    "]\n",
    "\n",
    "for password in passwords:\n",
    "    print(f\"Password: {password}\")\n",
    "    print(validate_password(password))\n",
    "    print()"
   ]
  },
  {
   "cell_type": "code",
   "execution_count": null,
   "id": "71542a2e-c6c6-4438-83f7-3834a57a248a",
   "metadata": {},
   "outputs": [],
   "source": []
  }
 ],
 "metadata": {
  "kernelspec": {
   "display_name": "Python 3 (ipykernel)",
   "language": "python",
   "name": "python3"
  },
  "language_info": {
   "codemirror_mode": {
    "name": "ipython",
    "version": 3
   },
   "file_extension": ".py",
   "mimetype": "text/x-python",
   "name": "python",
   "nbconvert_exporter": "python",
   "pygments_lexer": "ipython3",
   "version": "3.10.12"
  }
 },
 "nbformat": 4,
 "nbformat_minor": 5
}
