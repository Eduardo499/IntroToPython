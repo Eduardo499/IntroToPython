{
 "cells": [
  {
   "cell_type": "raw",
   "id": "f9e79650-3b09-45ee-9787-7d67ae511ea9",
   "metadata": {},
   "source": [
    "(Encrypt a Phrase) In Exercise 5.11, you wrote a function to calculate an encryption key based on a given sentence. Use this function to generate an encryption key to help encrypt a phrase. Write a function to encrypt the phrase using the following algorithm:\n",
    "To encrypt a phrase, you need to tokenize it using the string method split. After this, you can encrypt each word individually. Search for the index of each letter of the word in the alphabet. Select the letter in the encryption key with the same index. Replace the original letter in the word with the encrypted letter. Replace the original word in the tokenized sentence with the encrypted word. If the word is only one letter long, it will not be encrypted. When all the individual words are encrypted, they are combined into a new sentence making sure that blanks between words remain blanks. Enable the user to enter a phrase and subsequently display the encrypted phrase."
   ]
  },
  {
   "cell_type": "code",
   "execution_count": 3,
   "id": "d131b9e4-3cf3-4265-a851-5daf8b1baedc",
   "metadata": {},
   "outputs": [
    {
     "name": "stdout",
     "output_type": "stream",
     "text": [
      "Sample Text: During the second world war, messages were often encrypted based on an extract of a book.\n",
      "Encryption Key: abcdefghiklmnoprstuwxyjqvz\n"
     ]
    }
   ],
   "source": [
    "import string\n",
    "\n",
    "def generate_encryption_key(text):\n",
    "    \"\"\"Generate an encryption key from a given text.\"\"\"\n",
    "    # Remove punctuation, spaces, and convert to lowercase\n",
    "    cleaned_text = ''.join(filter(str.isalpha, text.lower()))\n",
    "    # Get unique letters\n",
    "    unique_letters = ''.join(sorted(set(cleaned_text)))\n",
    "    # Add missing letters of the alphabet\n",
    "    all_letters = set(string.ascii_lowercase)\n",
    "    missing_letters = all_letters - set(unique_letters)\n",
    "    encryption_key = unique_letters + ''.join(sorted(missing_letters))\n",
    "    return encryption_key\n",
    "\n",
    "def main():\n",
    "    \"\"\"Main function to demonstrate the encryption key generator.\"\"\"\n",
    "    sample_text = \"During the second world war, messages were often encrypted based on an extract of a book.\"\n",
    "    encryption_key = generate_encryption_key(sample_text)\n",
    "    print(\"Sample Text:\", sample_text)\n",
    "    print(\"Encryption Key:\", encryption_key)\n",
    "\n",
    "if __name__ == \"__main__\":\n",
    "    main()\n"
   ]
  },
  {
   "cell_type": "code",
   "execution_count": null,
   "id": "ce77b26d-0174-40a3-858d-87f00395830e",
   "metadata": {},
   "outputs": [],
   "source": []
  }
 ],
 "metadata": {
  "kernelspec": {
   "display_name": "Python 3 (ipykernel)",
   "language": "python",
   "name": "python3"
  },
  "language_info": {
   "codemirror_mode": {
    "name": "ipython",
    "version": 3
   },
   "file_extension": ".py",
   "mimetype": "text/x-python",
   "name": "python",
   "nbconvert_exporter": "python",
   "pygments_lexer": "ipython3",
   "version": "3.10.12"
  }
 },
 "nbformat": 4,
 "nbformat_minor": 5
}
