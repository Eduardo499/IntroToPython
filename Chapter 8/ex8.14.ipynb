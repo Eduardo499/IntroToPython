{
 "cells": [
  {
   "cell_type": "raw",
   "id": "45ca81e0-504d-4934-9536-39c662f9c3bd",
   "metadata": {},
   "source": [
    "(Regular Expressions: Capturing Substrings) Reimplement Exercises 8.5 and 8.6 using regular expressions that capture the matching substrings, then display them."
   ]
  },
  {
   "cell_type": "code",
   "execution_count": 5,
   "id": "5d6a8150-bb06-4773-9592-389be814b724",
   "metadata": {},
   "outputs": [
    {
     "name": "stdin",
     "output_type": "stream",
     "text": [
      "Enter a sentence:  Birds build beautiful bridges between big buildings.\n"
     ]
    },
    {
     "name": "stdout",
     "output_type": "stream",
     "text": [
      "Birds\n",
      "build\n",
      "beautiful\n",
      "bridges\n",
      "between\n",
      "big\n",
      "buildings\n"
     ]
    }
   ],
   "source": [
    "import re\n",
    "\n",
    "def main():\n",
    "    sentence = input('Enter a sentence: ')\n",
    "\n",
    "    words = re.findall(r'\\b[bB]\\w*', sentence)\n",
    "    for word in words:\n",
    "        print(word)\n",
    "\n",
    "if __name__ == '__main__':\n",
    "    main()"
   ]
  },
  {
   "cell_type": "code",
   "execution_count": 6,
   "id": "3189c59c-328d-4605-a389-99d3aa00acb2",
   "metadata": {},
   "outputs": [
    {
     "name": "stdin",
     "output_type": "stream",
     "text": [
      "Enter a sentence:  She walked, talked, and danced with the tired old man.\n"
     ]
    },
    {
     "name": "stdout",
     "output_type": "stream",
     "text": [
      "walked\n",
      "talked\n",
      "danced\n",
      "tired\n"
     ]
    }
   ],
   "source": [
    "import re\n",
    "\n",
    "def main():\n",
    "    sentence = input('Enter a sentence: ')\n",
    "\n",
    "    words = re.findall(r'\\b\\w*ed\\b', sentence)\n",
    "    for word in words:\n",
    "        print(word)\n",
    "\n",
    "if __name__ == '__main__':\n",
    "    main()"
   ]
  },
  {
   "cell_type": "code",
   "execution_count": null,
   "id": "e444baec-8427-4b14-bf4f-f0278804be07",
   "metadata": {},
   "outputs": [],
   "source": []
  }
 ],
 "metadata": {
  "kernelspec": {
   "display_name": "Python 3 (ipykernel)",
   "language": "python",
   "name": "python3"
  },
  "language_info": {
   "codemirror_mode": {
    "name": "ipython",
    "version": 3
   },
   "file_extension": ".py",
   "mimetype": "text/x-python",
   "name": "python",
   "nbconvert_exporter": "python",
   "pygments_lexer": "ipython3",
   "version": "3.10.12"
  }
 },
 "nbformat": 4,
 "nbformat_minor": 5
}
