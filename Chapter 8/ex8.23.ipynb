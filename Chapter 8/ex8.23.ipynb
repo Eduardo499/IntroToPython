{
 "cells": [
  {
   "cell_type": "raw",
   "id": "a7d4ef62-5f76-4b4b-bd70-7236f6ef7485",
   "metadata": {},
   "source": [
    "(Project: Guess the Correct Synonym) In this project, you will write a guessing game where the user is given a hint, and they need to find its synonym. To start your script, you will need to create a dictionary to store both the hint (key) and the synonym (value). Add a minimum of 5 key-value pairs to the dictionary. Write a first function to select a random key-value pair from this dictionary. Do not use the popitem() method to write this function as this is absent in later python versions. Write a second function that displays the hint and allows the user to guess the different letters of the word. Each time, the user guesses a letter, the number of correctly guessed letters is displayed. If all the letters of the word are found, the user will have the possibility to guess the synonym. The appropriate output is shown on the screen depending on whether the guess was correct or not."
   ]
  },
  {
   "cell_type": "code",
   "execution_count": 1,
   "id": "36f313d9-547f-43eb-b68e-fb86942b157d",
   "metadata": {},
   "outputs": [
    {
     "name": "stdout",
     "output_type": "stream",
     "text": [
      "Hint: happy\n",
      "Guess the synonym letter by letter!\n",
      "Word: ______\n",
      "Remaining attempts: 6\n"
     ]
    },
    {
     "name": "stdin",
     "output_type": "stream",
     "text": [
      "Guess a letter:  joyful\n"
     ]
    },
    {
     "name": "stdout",
     "output_type": "stream",
     "text": [
      "Please enter a single alphabetical character.\n",
      "Word: ______\n",
      "Remaining attempts: 6\n"
     ]
    },
    {
     "name": "stdin",
     "output_type": "stream",
     "text": [
      "Guess a letter:  j\n"
     ]
    },
    {
     "name": "stdout",
     "output_type": "stream",
     "text": [
      "Correct! The letter 'j' is in the word.\n",
      "Word: j_____\n",
      "Remaining attempts: 6\n"
     ]
    },
    {
     "name": "stdin",
     "output_type": "stream",
     "text": [
      "Guess a letter:  o\n"
     ]
    },
    {
     "name": "stdout",
     "output_type": "stream",
     "text": [
      "Correct! The letter 'o' is in the word.\n",
      "Word: jo____\n",
      "Remaining attempts: 6\n"
     ]
    },
    {
     "name": "stdin",
     "output_type": "stream",
     "text": [
      "Guess a letter:  y\n"
     ]
    },
    {
     "name": "stdout",
     "output_type": "stream",
     "text": [
      "Correct! The letter 'y' is in the word.\n",
      "Word: joy___\n",
      "Remaining attempts: 6\n"
     ]
    },
    {
     "name": "stdin",
     "output_type": "stream",
     "text": [
      "Guess a letter:  f\n"
     ]
    },
    {
     "name": "stdout",
     "output_type": "stream",
     "text": [
      "Correct! The letter 'f' is in the word.\n",
      "Word: joyf__\n",
      "Remaining attempts: 6\n"
     ]
    },
    {
     "name": "stdin",
     "output_type": "stream",
     "text": [
      "Guess a letter:  u\n"
     ]
    },
    {
     "name": "stdout",
     "output_type": "stream",
     "text": [
      "Correct! The letter 'u' is in the word.\n",
      "Word: joyfu_\n",
      "Remaining attempts: 6\n"
     ]
    },
    {
     "name": "stdin",
     "output_type": "stream",
     "text": [
      "Guess a letter:  l\n"
     ]
    },
    {
     "name": "stdout",
     "output_type": "stream",
     "text": [
      "Correct! The letter 'l' is in the word.\n",
      "You have guessed all the letters! The word is 'joyful'.\n"
     ]
    },
    {
     "name": "stdin",
     "output_type": "stream",
     "text": [
      "Guess the synonym:  joyful\n"
     ]
    },
    {
     "name": "stdout",
     "output_type": "stream",
     "text": [
      "Congratulations! You guessed the synonym correctly.\n"
     ]
    }
   ],
   "source": [
    "import random\n",
    "\n",
    "def create_dictionary():\n",
    "    \"\"\"Create a dictionary with hints and synonyms.\"\"\"\n",
    "    return {\n",
    "        \"happy\": \"joyful\",\n",
    "        \"fast\": \"quick\",\n",
    "        \"smart\": \"intelligent\",\n",
    "        \"strong\": \"powerful\",\n",
    "        \"cold\": \"chilly\"\n",
    "    }\n",
    "\n",
    "def select_random_pair(word_dict):\n",
    "    \"\"\"Select a random key-value pair from the dictionary.\"\"\"\n",
    "    key = random.choice(list(word_dict.keys()))\n",
    "    value = word_dict[key]\n",
    "    return key, value\n",
    "\n",
    "def play_game(hint, synonym):\n",
    "    \"\"\"Play the synonym guessing game.\"\"\"\n",
    "    guessed_letters = set()\n",
    "    attempts = len(synonym)\n",
    "    synonym_set = set(synonym)\n",
    "\n",
    "    print(f\"Hint: {hint}\")\n",
    "    print(\"Guess the synonym letter by letter!\")\n",
    "\n",
    "    while attempts > 0:\n",
    "        display_word = ''.join([letter if letter in guessed_letters else '_' for letter in synonym])\n",
    "        print(f\"Word: {display_word}\")\n",
    "        print(f\"Remaining attempts: {attempts}\")\n",
    "\n",
    "        guess = input(\"Guess a letter: \").lower()\n",
    "        if len(guess) != 1 or not guess.isalpha():\n",
    "            print(\"Please enter a single alphabetical character.\")\n",
    "            continue\n",
    "\n",
    "        if guess in synonym_set:\n",
    "            guessed_letters.add(guess)\n",
    "            print(f\"Correct! The letter '{guess}' is in the word.\")\n",
    "        else:\n",
    "            attempts -= 1\n",
    "            print(f\"Incorrect! The letter '{guess}' is not in the word.\")\n",
    "\n",
    "        if synonym_set.issubset(guessed_letters):\n",
    "            print(f\"You have guessed all the letters! The word is '{synonym}'.\")\n",
    "            break\n",
    "    else:\n",
    "        print(\"Out of attempts! You couldn't guess all the letters.\")\n",
    "        return\n",
    "\n",
    "    final_guess = input(\"Guess the synonym: \").lower()\n",
    "    if final_guess == synonym:\n",
    "        print(\"Congratulations! You guessed the synonym correctly.\")\n",
    "    else:\n",
    "        print(f\"Sorry, the correct synonym was '{synonym}'.\")\n",
    "\n",
    "def main():\n",
    "    word_dict = create_dictionary()\n",
    "    hint, synonym = select_random_pair(word_dict)\n",
    "    play_game(hint, synonym)\n",
    "\n",
    "if __name__ == \"__main__\":\n",
    "    main()"
   ]
  },
  {
   "cell_type": "code",
   "execution_count": null,
   "id": "99a068cb-7c0a-441b-befa-323e39c3ccbb",
   "metadata": {},
   "outputs": [],
   "source": []
  }
 ],
 "metadata": {
  "kernelspec": {
   "display_name": "Python 3 (ipykernel)",
   "language": "python",
   "name": "python3"
  },
  "language_info": {
   "codemirror_mode": {
    "name": "ipython",
    "version": 3
   },
   "file_extension": ".py",
   "mimetype": "text/x-python",
   "name": "python",
   "nbconvert_exporter": "python",
   "pygments_lexer": "ipython3",
   "version": "3.10.12"
  }
 },
 "nbformat": 4,
 "nbformat_minor": 5
}
