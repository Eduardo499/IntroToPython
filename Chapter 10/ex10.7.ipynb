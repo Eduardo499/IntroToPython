{
 "cells": [
  {
   "cell_type": "raw",
   "id": "e1c62b82-07d0-42c9-8d43-c969d6999ff9",
   "metadata": {},
   "source": [
    "(Manipulating Dates and Times with Module datetime) The Python Standard Library’s datetime module contains a datetime class for manipulating dates and times. The class provides various overloaded operators. Research class datetime’s capabilities, then perform the following tasks:\n",
    "    a) Get the current date and time and store it in variable x.\n",
    "    b) Repeat Part (a) and store the result in variable y.\n",
    "    c) Display each datetime object.\n",
    "    d) Display each datetime object’s data attributes individually.\n",
    "    e) Use the comparison operators to compare the two datetime objects.\n",
    "    f) Calculate the difference between y and x."
   ]
  },
  {
   "cell_type": "code",
   "execution_count": 6,
   "id": "6eab90af-31ec-42f5-9eab-ab996242a331",
   "metadata": {},
   "outputs": [
    {
     "name": "stdout",
     "output_type": "stream",
     "text": [
      "x: 2025-01-14 15:11:37.421630\n",
      "y: 2025-01-14 15:11:37.421748\n",
      "\n",
      "Attributes of x:\n",
      "Year: 2025\n",
      "Month: 1\n",
      "Day: 14\n",
      "Hour: 15\n",
      "Minute: 11\n",
      "Second: 37\n",
      "Microsecond: 421630\n",
      "\n",
      "Attributes of y:\n",
      "Year: 2025\n",
      "Month: 1\n",
      "Day: 14\n",
      "Hour: 15\n",
      "Minute: 11\n",
      "Second: 37\n",
      "Microsecond: 421748\n",
      "\n",
      "Comparison results:\n",
      "x == y: False\n",
      "x != y: True\n",
      "x < y: True\n",
      "x > y: False\n",
      "x <= y: True\n",
      "x >= y: False\n",
      "\n",
      "Time difference between y and x: 0:00:00.000118\n"
     ]
    }
   ],
   "source": [
    "import datetime\n",
    "\n",
    "# a) Get the current date and time and store it in variable x.\n",
    "x = datetime.datetime.now()\n",
    "\n",
    "# b) Repeat Part (a) and store the result in variable y.\n",
    "y = datetime.datetime.now()\n",
    "\n",
    "# c) Display each datetime object.\n",
    "print(\"x:\", x)\n",
    "print(\"y:\", y)\n",
    "\n",
    "# d) Display each datetime object’s data attributes individually.\n",
    "print(\"\\nAttributes of x:\")\n",
    "print(\"Year:\", x.year)\n",
    "print(\"Month:\", x.month)\n",
    "print(\"Day:\", x.day)\n",
    "print(\"Hour:\", x.hour)\n",
    "print(\"Minute:\", x.minute)\n",
    "print(\"Second:\", x.second)\n",
    "print(\"Microsecond:\", x.microsecond)\n",
    "\n",
    "print(\"\\nAttributes of y:\")\n",
    "print(\"Year:\", y.year)\n",
    "print(\"Month:\", y.month)\n",
    "print(\"Day:\", y.day)\n",
    "print(\"Hour:\", y.hour)\n",
    "print(\"Minute:\", y.minute)\n",
    "print(\"Second:\", y.second)\n",
    "print(\"Microsecond:\", y.microsecond)\n",
    "\n",
    "# e) Use the comparison operators to compare the two datetime objects.\n",
    "comparison_results = {\n",
    "    \"x == y\": x == y,\n",
    "    \"x != y\": x != y,\n",
    "    \"x < y\": x < y,\n",
    "    \"x > y\": x > y,\n",
    "    \"x <= y\": x <= y,\n",
    "    \"x >= y\": x >= y\n",
    "}\n",
    "\n",
    "print(\"\\nComparison results:\")\n",
    "for key, value in comparison_results.items():\n",
    "    print(f\"{key}: {value}\")\n",
    "\n",
    "# f) Calculate the difference between y and x.\n",
    "time_difference = y - x\n",
    "print(\"\\nTime difference between y and x:\", time_difference)\n"
   ]
  }
 ],
 "metadata": {
  "kernelspec": {
   "display_name": "Python 3 (ipykernel)",
   "language": "python",
   "name": "python3"
  },
  "language_info": {
   "codemirror_mode": {
    "name": "ipython",
    "version": 3
   },
   "file_extension": ".py",
   "mimetype": "text/x-python",
   "name": "python",
   "nbconvert_exporter": "python",
   "pygments_lexer": "ipython3",
   "version": "3.10.12"
  }
 },
 "nbformat": 4,
 "nbformat_minor": 5
}
