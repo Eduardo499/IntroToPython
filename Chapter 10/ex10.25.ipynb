{
 "cells": [
  {
   "cell_type": "raw",
   "id": "50b263b8-26f2-4db0-9ca4-af7bdfec3c99",
   "metadata": {},
   "source": [
    "(Project: Enumerations) Many programming languages provide a language element called an enumeration for creating sets of named constants. Often, these are used to make code more readable. The Python Standard Library’s enum module enables you to emulate this concept by creating subclasses of the Enum base class. Investigate the enum module’s capabilities, then create subclasses of Enum that represent card faces and card suits. Modify class Card to use these to represent the face and suit as enum constants rather than as strings."
   ]
  },
  {
   "cell_type": "code",
   "execution_count": 2,
   "id": "26a14586-ba33-4521-9b4e-72b66f5ed789",
   "metadata": {},
   "outputs": [
    {
     "name": "stdout",
     "output_type": "stream",
     "text": [
      "Ace of Hearts\n"
     ]
    }
   ],
   "source": [
    "from enum import Enum\n",
    "\n",
    "class Face(Enum):\n",
    "    ACE = 1\n",
    "    TWO = 2\n",
    "    THREE = 3\n",
    "    FOUR = 4\n",
    "    FIVE = 5\n",
    "    SIX = 6\n",
    "    SEVEN = 7\n",
    "    EIGHT = 8\n",
    "    NINE = 9\n",
    "    TEN = 10\n",
    "    JACK = 11\n",
    "    QUEEN = 12\n",
    "    KING = 13\n",
    "\n",
    "class Suit(Enum):\n",
    "    HEARTS = 1\n",
    "    DIAMONDS = 2\n",
    "    CLUBS = 3\n",
    "    SPADES = 4\n",
    "\n",
    "class Card:\n",
    "    def __init__(self, face: Face, suit: Suit):\n",
    "        self.face = face\n",
    "        self.suit = suit\n",
    "\n",
    "    def __str__(self):\n",
    "        return f\"{self.face.name.capitalize()} of {self.suit.name.capitalize()}\"\n",
    "\n",
    "if __name__ == \"__main__\":\n",
    "    card = Card(Face.ACE, Suit.HEARTS)\n",
    "    print(card)"
   ]
  },
  {
   "cell_type": "code",
   "execution_count": null,
   "id": "cbf685e8-4a1d-4008-9be9-aeada1487ce3",
   "metadata": {},
   "outputs": [],
   "source": []
  }
 ],
 "metadata": {
  "kernelspec": {
   "display_name": "Python 3 (ipykernel)",
   "language": "python",
   "name": "python3"
  },
  "language_info": {
   "codemirror_mode": {
    "name": "ipython",
    "version": 3
   },
   "file_extension": ".py",
   "mimetype": "text/x-python",
   "name": "python",
   "nbconvert_exporter": "python",
   "pygments_lexer": "ipython3",
   "version": "3.10.12"
  }
 },
 "nbformat": 4,
 "nbformat_minor": 5
}
