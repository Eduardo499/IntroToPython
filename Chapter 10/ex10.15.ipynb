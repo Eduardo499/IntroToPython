{
 "cells": [
  {
   "cell_type": "raw",
   "id": "1a3061e4-d11d-47b4-9cb7-611eca48d014",
   "metadata": {},
   "source": [
    "(Immutable Data Class Objects) Built-in types int, float, str and tuple are immutable. Data classes can simulate immutability by designating that objects of the class should be “frozen” after they’re created. Client code cannot assign values to the attributes of a frozen object. Research “frozen” data classes, then reimplement this chapter’s Complex class as a “frozen” data class. Show that you cannot modify a Complex object after you create it."
   ]
  },
  {
   "cell_type": "code",
   "execution_count": 39,
   "id": "b4268e53-d002-4ee6-9d15-e9110d40e379",
   "metadata": {},
   "outputs": [],
   "source": [
    "from dataclasses import dataclass\n",
    "\n",
    "@dataclass(frozen=True)\n",
    "class Complex:\n",
    "    real: float\n",
    "    imaginary: float\n",
    "    \n",
    "    def __add__(self, right):\n",
    "        return Complex(self.real + right.real, \n",
    "                       self.imaginary + right.imaginary)\n",
    "\n",
    "    def __sub__(self, right):\n",
    "        return Complex(self.real - right.real, \n",
    "                       self.imaginary - right.imaginary)\n",
    "\n",
    "    def __repr__(self):\n",
    "        return (f'({self.real}' + \n",
    "                (' + ' if self.imaginary >= 0 else ' - ') +\n",
    "                f'{abs(self.imaginary)}i)')\n"
   ]
  },
  {
   "cell_type": "code",
   "execution_count": 40,
   "id": "981fe02e-b259-4e26-b6db-73c54e47f845",
   "metadata": {},
   "outputs": [],
   "source": [
    "x = Complex(3, 4)\n",
    "y = Complex(5, 6)"
   ]
  },
  {
   "cell_type": "code",
   "execution_count": 41,
   "id": "161e079f-0b68-42bc-8d6d-3ac71d684c26",
   "metadata": {},
   "outputs": [
    {
     "name": "stdout",
     "output_type": "stream",
     "text": [
      "(8 + 10i)\n"
     ]
    }
   ],
   "source": [
    "x += y\n",
    "print(x)"
   ]
  },
  {
   "cell_type": "code",
   "execution_count": null,
   "id": "34c63f21-51f7-4653-9eaf-c48b59da091e",
   "metadata": {},
   "outputs": [],
   "source": []
  }
 ],
 "metadata": {
  "kernelspec": {
   "display_name": "Python 3 (ipykernel)",
   "language": "python",
   "name": "python3"
  },
  "language_info": {
   "codemirror_mode": {
    "name": "ipython",
    "version": 3
   },
   "file_extension": ".py",
   "mimetype": "text/x-python",
   "name": "python",
   "nbconvert_exporter": "python",
   "pygments_lexer": "ipython3",
   "version": "3.10.12"
  }
 },
 "nbformat": 4,
 "nbformat_minor": 5
}
