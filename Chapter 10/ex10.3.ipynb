{
 "cells": [
  {
   "cell_type": "raw",
   "id": "783f3209-5188-4dc2-8535-837539673cb4",
   "metadata": {},
   "source": [
    "(Coin Class) Write a Coin Class to keep track of the number of 2 euro, 1 euro, 50 euro cent, 20 euro cent, and 10 euro cent coins in a wallet. Provide a read-only property universal_str that returns a string with the number of coins for each coin type. Write a second method that returns the total amount of money. Keep your attributes hidden and use the read-only properties. Create a coin object and test the methods."
   ]
  },
  {
   "cell_type": "code",
   "execution_count": 5,
   "id": "6bcdd283-1619-4f2c-97be-9f533abeedfb",
   "metadata": {},
   "outputs": [
    {
     "name": "stdout",
     "output_type": "stream",
     "text": [
      "2 Euro coins: 5\n",
      "1 Euro coins: 10\n",
      "50 Cent coins: 20\n",
      "20 Cent coins: 30\n",
      "10 Cent coins: 40\n",
      "Total amount: 40.0 EUR\n"
     ]
    }
   ],
   "source": [
    "class Coin:\n",
    "    def __init__(self, two_euro=0, one_euro=0, fifty_cent=0, twenty_cent=0, ten_cent=0):\n",
    "        self._two_euro = two_euro\n",
    "        self._one_euro = one_euro\n",
    "        self._fifty_cent = fifty_cent\n",
    "        self._twenty_cent = twenty_cent\n",
    "        self._ten_cent = ten_cent\n",
    "\n",
    "    @property\n",
    "    def universal_str(self):\n",
    "        return (f\"2 Euro coins: {self._two_euro}\\n\"\n",
    "                f\"1 Euro coins: {self._one_euro}\\n\"\n",
    "                f\"50 Cent coins: {self._fifty_cent}\\n\"\n",
    "                f\"20 Cent coins: {self._twenty_cent}\\n\"\n",
    "                f\"10 Cent coins: {self._ten_cent}\")\n",
    "\n",
    "    def total_amount(self):\n",
    "        # Calculate the total amount of money in the wallet\n",
    "        total = (self._two_euro * 2 +\n",
    "                 self._one_euro * 1 +\n",
    "                 self._fifty_cent * 0.50 +\n",
    "                 self._twenty_cent * 0.20 +\n",
    "                 self._ten_cent * 0.10)\n",
    "        return total\n",
    "\n",
    "wallet = Coin(two_euro=5, one_euro=10, fifty_cent=20, twenty_cent=30, ten_cent=40)\n",
    "\n",
    "print(wallet.universal_str)\n",
    "\n",
    "print(f\"Total amount: {wallet.total_amount()} EUR\")"
   ]
  },
  {
   "cell_type": "code",
   "execution_count": null,
   "id": "dc94cded-4d5d-4e34-b62a-b2ba8614862c",
   "metadata": {},
   "outputs": [],
   "source": []
  }
 ],
 "metadata": {
  "kernelspec": {
   "display_name": "Python 3 (ipykernel)",
   "language": "python",
   "name": "python3"
  },
  "language_info": {
   "codemirror_mode": {
    "name": "ipython",
    "version": 3
   },
   "file_extension": ".py",
   "mimetype": "text/x-python",
   "name": "python",
   "nbconvert_exporter": "python",
   "pygments_lexer": "ipython3",
   "version": "3.10.12"
  }
 },
 "nbformat": 4,
 "nbformat_minor": 5
}
