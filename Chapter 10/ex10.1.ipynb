{
 "cells": [
  {
   "cell_type": "raw",
   "id": "1f599d13-ef55-41a4-97f2-617f5e8cbf48",
   "metadata": {},
   "source": [
    "(What’s Wrong with This Code?) What is wrong with the code in the following IPython session?\n",
    "try:\n",
    "    raise RuntimeError()\n",
    "except Exception:\n",
    "    print('An Exception occurred')\n",
    "except RuntimeError:\n",
    "    print('A RuntimeError occurred')\n",
    "\n",
    ">>An Exception occurred"
   ]
  },
  {
   "cell_type": "code",
   "execution_count": 50,
   "id": "38e212ae-7c35-4c46-aba3-dfc096a68c9b",
   "metadata": {},
   "outputs": [
    {
     "name": "stdout",
     "output_type": "stream",
     "text": [
      "An Exception occurred\n"
     ]
    }
   ],
   "source": [
    "try:\n",
    "    raise RuntimeError()\n",
    "except Exception:\n",
    "    print('An Exception occurred')\n",
    "except RuntimeError:\n",
    "    print('A RuntimeError occurred')\n"
   ]
  },
  {
   "cell_type": "raw",
   "id": "64f03927-cf3d-41a2-954b-53b074b873a4",
   "metadata": {},
   "source": [
    "When handling exceptions with multiple except blocks, always place the more specific exceptions before the more general ones to ensure proper handling and to avoid unreachable code."
   ]
  }
 ],
 "metadata": {
  "kernelspec": {
   "display_name": "Python 3 (ipykernel)",
   "language": "python",
   "name": "python3"
  },
  "language_info": {
   "codemirror_mode": {
    "name": "ipython",
    "version": 3
   },
   "file_extension": ".py",
   "mimetype": "text/x-python",
   "name": "python",
   "nbconvert_exporter": "python",
   "pygments_lexer": "ipython3",
   "version": "3.10.12"
  }
 },
 "nbformat": 4,
 "nbformat_minor": 5
}
