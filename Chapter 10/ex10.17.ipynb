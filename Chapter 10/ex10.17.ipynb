{
 "cells": [
  {
   "cell_type": "raw",
   "id": "8d2c0d6b-277a-4f3f-bbba-de8f8d61bf68",
   "metadata": {},
   "source": [
    "(Nested Functions and Namespaces) Section 10.15 discussed namespaces and how Python uses them to determine which identifiers are in scope. We also mentioned the LEGB (local, enclosing, global, built-in) rule for the order in which Python searches for identifiers in namespaces. For each of the print function calls in the following IPython\n",
    "session, list the namespaces that Python searches for print’s argument:\n",
    "In [1]: z = 'global z'\n",
    "In [2]: def print_variables():\n",
    "...:        y = 'local y in print_variables'\n",
    "...:        print(y)\n",
    "...:        print(z)\n",
    "...:        def nested_function():\n",
    "...:            x = 'x in nested function'\n",
    "...:            print(x)\n",
    "...:            print(y)\n",
    "...:            print(z)\n",
    "...:        nested_function()\n",
    "...:\n",
    "In [3]: print_variables()\n",
    "local y in print_variables\n",
    "global z\n",
    "x in nested function\n",
    "local y in print_variables\n",
    "global z"
   ]
  },
  {
   "cell_type": "raw",
   "id": "04ad4a03-0373-4292-a770-e6d62620bdae",
   "metadata": {},
   "source": [
    "Analyzing the print Function Calls\n",
    "First print(y):\n",
    "\n",
    "Namespace Search:\n",
    "Local: Python first looks for y in the local namespace of print_variables.\n",
    "Result: y is found in the local namespace of print_variables.\n",
    "Output: 'local y in print_variables'\n",
    "Second print(z):\n",
    "\n",
    "Namespace Search:\n",
    "Local: First, Python checks for z in the local namespace of print_variables.\n",
    "Enclosing: There is no z in the enclosing scope (the global scope, in this case).\n",
    "Global: Python then checks the global namespace, where z is defined as 'global z'.\n",
    "Output: 'global z'\n",
    "Inside nested_function, first print(x):\n",
    "\n",
    "Namespace Search:\n",
    "Local: Python first checks for x in the local namespace of nested_function.\n",
    "Result: x is found locally in nested_function.\n",
    "Output: 'x in nested function'\n",
    "Inside nested_function, second print(y):\n",
    "\n",
    "Namespace Search:\n",
    "Local: Python checks the local namespace of nested_function for y.\n",
    "Enclosing: It then looks in the enclosing print_variables function's local namespace, where y is defined.\n",
    "Output: 'local y in print_variables'\n",
    "Inside nested_function, third print(z):\n",
    "\n",
    "Namespace Search:\n",
    "Local: Python checks for z in the local namespace of nested_function.\n",
    "Enclosing: It then checks the enclosing print_variables function's local namespace.\n",
    "Global: Finally, it finds z in the global namespace, where it is defined as 'global z'.\n",
    "Output: 'global z'"
   ]
  }
 ],
 "metadata": {
  "kernelspec": {
   "display_name": "Python 3 (ipykernel)",
   "language": "python",
   "name": "python3"
  },
  "language_info": {
   "codemirror_mode": {
    "name": "ipython",
    "version": 3
   },
   "file_extension": ".py",
   "mimetype": "text/x-python",
   "name": "python",
   "nbconvert_exporter": "python",
   "pygments_lexer": "ipython3",
   "version": "3.10.12"
  }
 },
 "nbformat": 4,
 "nbformat_minor": 5
}
