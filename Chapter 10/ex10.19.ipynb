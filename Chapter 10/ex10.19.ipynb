{
 "cells": [
  {
   "cell_type": "raw",
   "id": "53c325b8-65b2-46dd-888b-fe32e3feda81",
   "metadata": {},
   "source": [
    "(Project: Static Code Analysis with Prospector and MyPy) In Exercise 3.24, you used the prospector static code analysis tool to check your code for common errors and suggested improvements. The prospector tool includes support for checking variable annotations with the MyPy static code analysis tool. Research MyPy online. Write a script that creates objects of this chapter’s Card data class. In the script, assign integers to a Card’s face and suit string attributes. Then, use MyPy to analyze the script and see the warning messages that MyPy produces. For instructions on using MyPy with prospector, see\n",
    "    https://github.com/PyCQA/prospector/blob/master/docs/supported_tools.rst"
   ]
  },
  {
   "cell_type": "code",
   "execution_count": 1,
   "id": "01d670a6-f57c-44f5-ab61-79d126eeb490",
   "metadata": {},
   "outputs": [
    {
     "name": "stdout",
     "output_type": "stream",
     "text": [
      "Card(face=2, suit=3)\n",
      "Card(face=10, suit=11)\n"
     ]
    }
   ],
   "source": [
    "from dataclasses import dataclass\n",
    "\n",
    "@dataclass\n",
    "class Card:\n",
    "    face: str \n",
    "    suit: str \n",
    "\n",
    "card1 = Card(face=2, suit=3)\n",
    "card2 = Card(face=10, suit=11)\n",
    "\n",
    "print(card1)\n",
    "print(card2)"
   ]
  },
  {
   "cell_type": "code",
   "execution_count": null,
   "id": "c86fb167-d553-4a61-a54e-04c26dce9a3c",
   "metadata": {},
   "outputs": [],
   "source": []
  }
 ],
 "metadata": {
  "kernelspec": {
   "display_name": "Python 3 (ipykernel)",
   "language": "python",
   "name": "python3"
  },
  "language_info": {
   "codemirror_mode": {
    "name": "ipython",
    "version": 3
   },
   "file_extension": ".py",
   "mimetype": "text/x-python",
   "name": "python",
   "nbconvert_exporter": "python",
   "pygments_lexer": "ipython3",
   "version": "3.10.12"
  }
 },
 "nbformat": 4,
 "nbformat_minor": 5
}
