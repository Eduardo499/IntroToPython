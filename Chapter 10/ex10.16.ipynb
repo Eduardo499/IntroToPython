{
 "cells": [
  {
   "cell_type": "raw",
   "id": "198e9afa-fc09-4599-8bfb-1a8511aeb7f6",
   "metadata": {},
   "source": [
    "(Account Inheritance Hierarchy) Create an inheritance hierarchy that a bank might use to represent customer bank accounts. All customers at this bank can deposit money into their accounts and withdraw money from their accounts. More specific types of accounts also exist. Savings accounts, for instance, earn interest on the money they hold. Checking accounts, on the other hand, don’t earn interest and charge a fee per transaction.\n",
    "    Start with class Account from this chapter and create two subclasses SavingsAccount and CheckingAccount. A SavingsAccount should also include a data attribute indicating the interest rate. A SavingsAccount’s calculate_interest method should return the Decimal result of multiplying the interest rate by the account balance. SavingsAccount should inherit methods deposit and withdraw without redefining them.\n",
    "    A CheckingAccount should include a Decimal data attribute that represents the fee charged per transaction. Class CheckingAccount should override methods deposit and withdraw so that they subtract the fee from the account balance whenever either transaction is performed successfully. CheckingAccount’s versions of these methods should invoke the base-class Account versions to update the account balance. CheckingAccount’s withdraw method should charge a fee only if money is withdrawn (that is, the withdrawal amount does not exceed the account balance).\n",
    "    Create objects of each class and tests their methods. Add interest to the SavingsAc- count object by invoking its calculate_interest method, then passing the returned interest amount to the object’s deposit method."
   ]
  },
  {
   "cell_type": "code",
   "execution_count": 1,
   "id": "8aeb4da5-5261-4e0c-890c-303b1d056a5d",
   "metadata": {},
   "outputs": [
    {
     "data": {
      "text/plain": [
       "(Account(001, 1100.000000000000002775557562), CheckingAccount(002, 547.5))"
      ]
     },
     "execution_count": 1,
     "metadata": {},
     "output_type": "execute_result"
    }
   ],
   "source": [
    "from decimal import Decimal\n",
    "\n",
    "class Account:\n",
    "    def __init__(self, account_number, balance):\n",
    "        self.account_number = account_number\n",
    "        self.balance = Decimal(balance)\n",
    "\n",
    "    def deposit(self, amount):\n",
    "        \"\"\"Deposit money into the account.\"\"\"\n",
    "        self.balance += Decimal(amount)\n",
    "\n",
    "    def withdraw(self, amount):\n",
    "        \"\"\"Withdraw money from the account.\"\"\"\n",
    "        if self.balance >= Decimal(amount):\n",
    "            self.balance -= Decimal(amount)\n",
    "            return True\n",
    "        return False\n",
    "\n",
    "    def __repr__(self):\n",
    "        return f\"Account({self.account_number}, {self.balance})\"\n",
    "        \n",
    "class SavingsAccount(Account):\n",
    "    def __init__(self, account_number, balance, interest_rate):\n",
    "        super().__init__(account_number, balance)\n",
    "        self.interest_rate = Decimal(interest_rate)\n",
    "\n",
    "    def calculate_interest(self):\n",
    "        \"\"\"Calculate interest for the savings account.\"\"\"\n",
    "        return self.balance * self.interest_rate\n",
    "\n",
    "class CheckingAccount(Account):\n",
    "    def __init__(self, account_number, balance, transaction_fee):\n",
    "        super().__init__(account_number, balance)\n",
    "        self.transaction_fee = Decimal(transaction_fee)\n",
    "\n",
    "    def deposit(self, amount):\n",
    "        \"\"\"Deposit money and subtract the transaction fee.\"\"\"\n",
    "        if super().deposit(amount):\n",
    "            self.balance -= self.transaction_fee\n",
    "        return True\n",
    "\n",
    "    def withdraw(self, amount):\n",
    "        \"\"\"Withdraw money and subtract the transaction fee (if withdrawal is successful).\"\"\"\n",
    "        if super().withdraw(amount):\n",
    "            self.balance -= self.transaction_fee\n",
    "            return True\n",
    "        return False\n",
    "\n",
    "    def __repr__(self):\n",
    "        return f\"CheckingAccount({self.account_number}, {self.balance})\"\n",
    "\n",
    "\n",
    "\n",
    "savings = SavingsAccount(account_number=\"001\", balance=1000, interest_rate=0.05)\n",
    "interest = savings.calculate_interest()\n",
    "savings.deposit(interest)\n",
    "\n",
    "checking = CheckingAccount(account_number=\"002\", balance=500, transaction_fee=2.5)\n",
    "\n",
    "savings.deposit(200)\n",
    "savings.withdraw(150)\n",
    "checking.deposit(100)\n",
    "checking.withdraw(50)\n",
    "\n",
    "savings, checking"
   ]
  },
  {
   "cell_type": "code",
   "execution_count": null,
   "id": "5a178a1b-84ab-495d-991d-077d890f38e9",
   "metadata": {},
   "outputs": [],
   "source": []
  }
 ],
 "metadata": {
  "kernelspec": {
   "display_name": "Python 3 (ipykernel)",
   "language": "python",
   "name": "python3"
  },
  "language_info": {
   "codemirror_mode": {
    "name": "ipython",
    "version": 3
   },
   "file_extension": ".py",
   "mimetype": "text/x-python",
   "name": "python",
   "nbconvert_exporter": "python",
   "pygments_lexer": "ipython3",
   "version": "3.10.12"
  }
 },
 "nbformat": 4,
 "nbformat_minor": 5
}
