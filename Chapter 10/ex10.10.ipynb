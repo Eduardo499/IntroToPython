{
 "cells": [
  {
   "cell_type": "raw",
   "id": "52659e70-ed3f-4b4b-a3d6-d80356b80299",
   "metadata": {},
   "source": [
    "(Player Class) Write a class called Player that can be used in a turn-based strategy game to create player objects. Create the following data attributes-the name (a string), level (an int), strength (an int), and Health Points (a Decimal). The class should have an __init__ method to initialize the data attributes. Provide a property for each data attribute. Use validation in the properties of the level and health attribute to ensure that they remain non-negative. Provide a defence method to defend from an attack. The intensity of the attack is calculated as follows—divide the strength of the attacker by a random number between 1 and 3, subtract from this result the strength of our player multiplied with the level of our player. If the intensity is ≤ 0, the player loses, and the intensity is subtracted from the health points of the player."
   ]
  },
  {
   "cell_type": "code",
   "execution_count": 2,
   "id": "23f11792-87f4-421a-8a5b-508ffcc0ac5d",
   "metadata": {},
   "outputs": [
    {
     "name": "stdout",
     "output_type": "stream",
     "text": [
      "Defender loses the defense, health is now 25.00.\n"
     ]
    }
   ],
   "source": [
    "import random\n",
    "from decimal import Decimal\n",
    "\n",
    "class Player:\n",
    "    def __init__(self, name, level, strength, health_points):\n",
    "        self.name = name\n",
    "        self.level = level\n",
    "        self.strength = strength\n",
    "        self.health_points = health_points\n",
    "    \n",
    "    # Property for name\n",
    "    @property\n",
    "    def name(self):\n",
    "        return self._name\n",
    "\n",
    "    @name.setter\n",
    "    def name(self, value):\n",
    "        self._name = value\n",
    "    \n",
    "    @property\n",
    "    def level(self):\n",
    "        return self._level\n",
    "\n",
    "    @level.setter\n",
    "    def level(self, value):\n",
    "        if value < 0:\n",
    "            raise ValueError(\"Level cannot be negative\")\n",
    "        self._level = value\n",
    "    \n",
    "    @property\n",
    "    def strength(self):\n",
    "        return self._strength\n",
    "\n",
    "    @strength.setter\n",
    "    def strength(self, value):\n",
    "        self._strength = value\n",
    "    \n",
    "    @property\n",
    "    def health_points(self):\n",
    "        return self._health_points\n",
    "\n",
    "    @health_points.setter\n",
    "    def health_points(self, value):\n",
    "        if value < 0:\n",
    "            raise ValueError(\"Health Points cannot be negative\")\n",
    "        self._health_points = Decimal(value)\n",
    "    \n",
    "    def defence(self, attacker):\n",
    "        attack_intensity = attacker.strength / random.randint(1, 3) - (self.strength * self.level)\n",
    "        \n",
    "        attack_intensity = Decimal(attack_intensity)\n",
    "        \n",
    "        if attack_intensity <= 0:\n",
    "            self.health_points += attack_intensity \n",
    "            result = f\"{self.name} loses the defense, health is now {self.health_points:.2f}.\"\n",
    "        else:\n",
    "            result = f\"{self.name} successfully defends against the attack. No damage.\"\n",
    "        \n",
    "        return result\n",
    "\n",
    "attacker = Player(\"Attacker\", 5, 20, 100)\n",
    "defender = Player(\"Defender\", 3, 15, 50)\n",
    "\n",
    "print(defender.defence(attacker))"
   ]
  },
  {
   "cell_type": "code",
   "execution_count": null,
   "id": "cc1bf80c-ca27-44ea-a41b-83d5007f66c0",
   "metadata": {},
   "outputs": [],
   "source": []
  }
 ],
 "metadata": {
  "kernelspec": {
   "display_name": "Python 3 (ipykernel)",
   "language": "python",
   "name": "python3"
  },
  "language_info": {
   "codemirror_mode": {
    "name": "ipython",
    "version": 3
   },
   "file_extension": ".py",
   "mimetype": "text/x-python",
   "name": "python",
   "nbconvert_exporter": "python",
   "pygments_lexer": "ipython3",
   "version": "3.10.12"
  }
 },
 "nbformat": 4,
 "nbformat_minor": 5
}
