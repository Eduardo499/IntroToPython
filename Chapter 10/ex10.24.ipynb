{
 "cells": [
  {
   "cell_type": "raw",
   "id": "56556b43-6043-4832-beac-5c58d1023f27",
   "metadata": {},
   "source": [
    "(Project: PyDealer Library) We demonstrated basic card shuffling and dealing in this chapter, but many card games require significant additional capabilities. As is often the case in Python, libraries already exist that can help you build more substantial card games. One such library is PyDealer. Research this library’s extensive capabilities, then use it to implement your favorite card game."
   ]
  },
  {
   "cell_type": "code",
   "execution_count": 15,
   "id": "ce829e2c-0429-400d-bebb-d256e888f7d9",
   "metadata": {},
   "outputs": [
    {
     "name": "stdout",
     "output_type": "stream",
     "text": [
      "Your Hand: 8 of Diamonds, 9 of Hearts Value: 17\n"
     ]
    },
    {
     "name": "stdin",
     "output_type": "stream",
     "text": [
      "Do you want to 'hit' or 'stand'?  stand\n"
     ]
    },
    {
     "name": "stdout",
     "output_type": "stream",
     "text": [
      "Dealer's Hand: 8 of Spades and [hidden]\n",
      "Dealer hits.\n",
      "Dealer's Hand: 8 of Spades and [hidden]\n",
      "Dealer busts! You win.\n"
     ]
    }
   ],
   "source": [
    "import pydealer\n",
    "\n",
    "class Blackjack:\n",
    "    def __init__(self):\n",
    "        self.deck = pydealer.Deck()  \n",
    "        self.deck.shuffle()  \n",
    "        \n",
    "        self.player_hand = []\n",
    "        self.dealer_hand = []\n",
    "\n",
    "    def card_value(self, card):\n",
    "        \"\"\"Return the value of a card in Blackjack.\"\"\"\n",
    "        if card.value in ['Jack', 'Queen', 'King']:\n",
    "            return 10\n",
    "        elif card.value == 'Ace':\n",
    "            return 1  \n",
    "        return int(card.value)\n",
    "\n",
    "    def hand_value(self, hand):\n",
    "        \"\"\"Calculate the value of a player's or dealer's hand.\"\"\"\n",
    "        value = sum(self.card_value(card) for card in hand)\n",
    "        ace_count = sum(1 for card in hand if card.value == 'Ace')\n",
    "        \n",
    "        for _ in range(ace_count):\n",
    "            if value <= 11:\n",
    "                value += 10 \n",
    "        return value\n",
    "\n",
    "    def display_hand(self, hand, is_dealer=False):\n",
    "        \"\"\"Display the cards of a hand. If it's the dealer, only show one card.\"\"\"\n",
    "        if is_dealer:\n",
    "            print(f\"Dealer's Hand: {hand[0]} and [hidden]\")\n",
    "        else:\n",
    "            print(f\"Your Hand: {', '.join(map(str, hand))} Value: {self.hand_value(hand)}\")\n",
    "\n",
    "    def hit(self, hand):\n",
    "        \"\"\"Deal one card from the deck to the player or dealer.\"\"\"\n",
    "        card = self.deck.deal(1)[0] \n",
    "        hand.append(card) \n",
    "\n",
    "    def player_turn(self):\n",
    "        \"\"\"Handle the player's turn: Hit or Stand.\"\"\"\n",
    "        self.display_hand(self.player_hand)\n",
    "        while self.hand_value(self.player_hand) < 21:\n",
    "            action = input(\"Do you want to 'hit' or 'stand'? \").lower()\n",
    "            if action == 'hit':\n",
    "                self.hit(self.player_hand)\n",
    "                self.display_hand(self.player_hand)\n",
    "            elif action == 'stand':\n",
    "                break\n",
    "        if self.hand_value(self.player_hand) > 21:\n",
    "            print(\"You bust! You lose.\")\n",
    "            return False\n",
    "        return True\n",
    "\n",
    "    def dealer_turn(self):\n",
    "        \"\"\"Handle the dealer's turn based on standard Blackjack rules.\"\"\"\n",
    "        self.display_hand(self.dealer_hand, is_dealer=True)\n",
    "        while self.hand_value(self.dealer_hand) < 17:\n",
    "            print(\"Dealer hits.\")\n",
    "            self.hit(self.dealer_hand)\n",
    "            self.display_hand(self.dealer_hand, is_dealer=True)\n",
    "        if self.hand_value(self.dealer_hand) > 21:\n",
    "            print(\"Dealer busts! You win.\")\n",
    "            return False\n",
    "        return True\n",
    "\n",
    "    def play_game(self):\n",
    "        \"\"\"Play a full round of Blackjack.\"\"\"\n",
    "        self.player_hand = list(self.deck.deal(2))\n",
    "        self.dealer_hand = list(self.deck.deal(2))\n",
    "\n",
    "        if not self.player_turn():\n",
    "            return\n",
    "\n",
    "        if not self.dealer_turn():\n",
    "            return\n",
    "\n",
    "        player_score = self.hand_value(self.player_hand)\n",
    "        dealer_score = self.hand_value(self.dealer_hand)\n",
    "\n",
    "        print(f\"Your final hand: {self.player_hand} Value: {player_score}\")\n",
    "        print(f\"Dealer's final hand: {self.dealer_hand} Value: {dealer_score}\")\n",
    "\n",
    "        if player_score > dealer_score:\n",
    "            print(\"You win!\")\n",
    "        elif player_score < dealer_score:\n",
    "            print(\"Dealer wins!\")\n",
    "        else:\n",
    "            print(\"It's a tie!\")\n",
    "\n",
    "if __name__ == \"__main__\":\n",
    "    game = Blackjack()\n",
    "    game.play_game()"
   ]
  },
  {
   "cell_type": "code",
   "execution_count": null,
   "id": "92f309b7-b061-407f-979f-7a2fdb5df68e",
   "metadata": {},
   "outputs": [],
   "source": []
  }
 ],
 "metadata": {
  "kernelspec": {
   "display_name": "Python 3 (ipykernel)",
   "language": "python",
   "name": "python3"
  },
  "language_info": {
   "codemirror_mode": {
    "name": "ipython",
    "version": 3
   },
   "file_extension": ".py",
   "mimetype": "text/x-python",
   "name": "python",
   "nbconvert_exporter": "python",
   "pygments_lexer": "ipython3",
   "version": "3.10.12"
  }
 },
 "nbformat": 4,
 "nbformat_minor": 5
}
