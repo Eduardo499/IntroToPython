{
 "cells": [
  {
   "cell_type": "raw",
   "id": "2c255dc6-d318-4be3-a2b0-927539a26cb6",
   "metadata": {},
   "source": [
    "(Built-in Type complex) Python supports complex numbers with the built-in type complex. Research complex’s capabilities, then demonstrate:\n",
    "    a) Adding two complex numbers.\n",
    "    b) Subtracting two complex numbers.\n",
    "    c) Printing complex numbers.\n",
    "    d) Getting the real and imaginary parts of complex numbers."
   ]
  },
  {
   "cell_type": "code",
   "execution_count": 1,
   "id": "3266c625-2f67-409b-a446-6ba8cf153334",
   "metadata": {},
   "outputs": [
    {
     "name": "stdout",
     "output_type": "stream",
     "text": [
      "(8+3j)\n",
      "(2-1j)\n",
      "(5+1j)\n",
      "(3+2j)\n"
     ]
    }
   ],
   "source": [
    "x = 5 + 1j\n",
    "y = 3 + 2j\n",
    "\n",
    "print(x+y)\n",
    "print(x-y)\n",
    "print(x)\n",
    "print(y)"
   ]
  },
  {
   "cell_type": "code",
   "execution_count": 6,
   "id": "c182a0ac-c7c2-4f0f-9407-5d5dff018eca",
   "metadata": {},
   "outputs": [
    {
     "name": "stdout",
     "output_type": "stream",
     "text": [
      "5.0\n",
      "1.0\n",
      "3.0\n",
      "2.0\n"
     ]
    }
   ],
   "source": [
    "print(x.real)\n",
    "print(x.imag)\n",
    "print(y.real)\n",
    "print(y.imag)"
   ]
  },
  {
   "cell_type": "code",
   "execution_count": null,
   "id": "5760082b-ae6c-4450-a663-05ebb70707fa",
   "metadata": {},
   "outputs": [],
   "source": []
  }
 ],
 "metadata": {
  "kernelspec": {
   "display_name": "Python 3 (ipykernel)",
   "language": "python",
   "name": "python3"
  },
  "language_info": {
   "codemirror_mode": {
    "name": "ipython",
    "version": 3
   },
   "file_extension": ".py",
   "mimetype": "text/x-python",
   "name": "python",
   "nbconvert_exporter": "python",
   "pygments_lexer": "ipython3",
   "version": "3.10.12"
  }
 },
 "nbformat": 4,
 "nbformat_minor": 5
}
