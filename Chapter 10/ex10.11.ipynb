{
 "cells": [
  {
   "cell_type": "raw",
   "id": "63615073-9a68-4764-a2cc-415c075ce576",
   "metadata": {},
   "source": [
    "(Class Fraction) The Python Standard Library module fractions provides a Fraction class that stores the numerator and denominator of a fraction, such as:\n",
    "2/4\n",
    "Research Fraction’s capabilities, then demonstrate:\n",
    "    a) Adding two Fractions.\n",
    "    b) Subtracting two Fractions.\n",
    "    c) Multiplying two Fractions.\n",
    "    d) Dividing two Fractions.\n",
    "    e) Printing Fractions in the form a/b, where a is the numerator and b is the denominator.\n",
    "    f) Converting Fractions to floating-point numbers with built-in function float."
   ]
  },
  {
   "cell_type": "code",
   "execution_count": 10,
   "id": "339a18ec-7e83-4943-a23a-2dca775c542e",
   "metadata": {},
   "outputs": [],
   "source": [
    "from fractions import Fraction\n",
    "\n",
    "x = Fraction(9, 4)\n",
    "y = Fraction(1, 7)"
   ]
  },
  {
   "cell_type": "code",
   "execution_count": 11,
   "id": "244a8444-23d2-4fcd-bffc-e4e4fb6eb47d",
   "metadata": {},
   "outputs": [
    {
     "name": "stdout",
     "output_type": "stream",
     "text": [
      "67/28\n",
      "59/28\n",
      "9/28\n",
      "63/4\n",
      "2.25\n",
      "0.14285714285714285\n"
     ]
    }
   ],
   "source": [
    "print(x+y)\n",
    "print(x-y)\n",
    "print(x*y)\n",
    "print(x/y)\n",
    "print(float(x))\n",
    "print(float(y))"
   ]
  },
  {
   "cell_type": "code",
   "execution_count": null,
   "id": "cafba5fc-ef11-4c65-9a2a-c57ee9902bef",
   "metadata": {},
   "outputs": [],
   "source": []
  }
 ],
 "metadata": {
  "kernelspec": {
   "display_name": "Python 3 (ipykernel)",
   "language": "python",
   "name": "python3"
  },
  "language_info": {
   "codemirror_mode": {
    "name": "ipython",
    "version": 3
   },
   "file_extension": ".py",
   "mimetype": "text/x-python",
   "name": "python",
   "nbconvert_exporter": "python",
   "pygments_lexer": "ipython3",
   "version": "3.10.12"
  }
 },
 "nbformat": 4,
 "nbformat_minor": 5
}
