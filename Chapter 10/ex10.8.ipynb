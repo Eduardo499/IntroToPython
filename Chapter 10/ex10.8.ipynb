{
 "cells": [
  {
   "cell_type": "raw",
   "id": "2c129b4f-5d89-4383-a142-605161db1054",
   "metadata": {},
   "source": [
    "(Converting Data Class Objects to Tuples and Dictionaries) In some cases, you might want to treat data class objects as tuples or dictionaries. The dataclasses module provides functions astuple and asdict for this purpose. Research these functions, then create an object of this chapter’s Card data class and use these functions to convert the Card to a tuple and a dictionary. Display the results."
   ]
  },
  {
   "cell_type": "code",
   "execution_count": 3,
   "id": "59d81d7d-bc57-4f8a-897c-205b330eab28",
   "metadata": {},
   "outputs": [
    {
     "name": "stdout",
     "output_type": "stream",
     "text": [
      "Card as tuple: ('Ace', 'Spades')\n",
      "Card as dictionary: {'face': 'Ace', 'suit': 'Spades'}\n"
     ]
    }
   ],
   "source": [
    "from dataclasses import dataclass, astuple, asdict\n",
    "\n",
    "# Define the Card data class\n",
    "@dataclass\n",
    "class Card:\n",
    "    face: str\n",
    "    suit: str\n",
    "\n",
    "# Create an instance of the Card class\n",
    "card = Card(face=\"Ace\", suit=\"Spades\")\n",
    "\n",
    "# Convert the Card instance to a tuple\n",
    "card_tuple = astuple(card)\n",
    "\n",
    "# Convert the Card instance to a dictionary\n",
    "card_dict = asdict(card)\n",
    "\n",
    "# Display the results\n",
    "print(f\"Card as tuple: {card_tuple}\")\n",
    "print(f\"Card as dictionary: {card_dict}\")\n"
   ]
  },
  {
   "cell_type": "code",
   "execution_count": null,
   "id": "2647e588-e0fa-4ef7-83da-6dab4f9f9ab5",
   "metadata": {},
   "outputs": [],
   "source": []
  }
 ],
 "metadata": {
  "kernelspec": {
   "display_name": "Python 3 (ipykernel)",
   "language": "python",
   "name": "python3"
  },
  "language_info": {
   "codemirror_mode": {
    "name": "ipython",
    "version": 3
   },
   "file_extension": ".py",
   "mimetype": "text/x-python",
   "name": "python",
   "nbconvert_exporter": "python",
   "pygments_lexer": "ipython3",
   "version": "3.10.12"
  }
 },
 "nbformat": 4,
 "nbformat_minor": 5
}
