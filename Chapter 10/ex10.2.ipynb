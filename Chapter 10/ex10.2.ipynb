{
 "cells": [
  {
   "cell_type": "raw",
   "id": "08bbb1ec-53a1-4b45-be2b-b27f5e21a4d3",
   "metadata": {},
   "source": [
    "(Car Class with Read-Only Properties) Write a class Car that contains the model, year (of manufacture), and speed of a car as hidden attributes (name these attributes with a leading underscore). Provide the necessary read-only properties. Write two methods to drive the car faster and slower. Test your Car class."
   ]
  },
  {
   "cell_type": "code",
   "execution_count": 5,
   "id": "33afea3c-f394-4270-ad94-416bb43ae5c6",
   "metadata": {},
   "outputs": [
    {
     "name": "stdout",
     "output_type": "stream",
     "text": [
      "Model: Toyota Camry, Year: 2020, Speed: 0 km/h\n",
      "Speed increased to 50 km/h.\n",
      "Speed decreased to 30 km/h.\n",
      "Speed decreased to 0 km/h.\n"
     ]
    }
   ],
   "source": [
    "class Car:\n",
    "    def __init__(self, model, year, speed=0):\n",
    "        self._model = model\n",
    "        self._year = year\n",
    "        self._speed = speed\n",
    "\n",
    "    @property\n",
    "    def model(self):\n",
    "        return self._model\n",
    "\n",
    "    @property\n",
    "    def year(self):\n",
    "        return self._year\n",
    "\n",
    "    @property\n",
    "    def speed(self):\n",
    "        return self._speed\n",
    "\n",
    "    def drive_faster(self, increase):\n",
    "        self._speed += increase\n",
    "        print(f\"Speed increased to {self._speed} km/h.\")\n",
    "\n",
    "    def drive_slower(self, decrease):\n",
    "        if self._speed - decrease < 0:\n",
    "            self._speed = 0\n",
    "        else:\n",
    "            self._speed -= decrease\n",
    "        print(f\"Speed decreased to {self._speed} km/h.\")\n",
    "\n",
    "car = Car(\"Toyota Camry\", 2020)\n",
    "print(f\"Model: {car.model}, Year: {car.year}, Speed: {car.speed} km/h\")\n",
    "\n",
    "car.drive_faster(50)\n",
    "car.drive_slower(20)\n",
    "car.drive_slower(40)"
   ]
  },
  {
   "cell_type": "code",
   "execution_count": null,
   "id": "3aa83b53-e054-4cbb-b4c7-f5a4d8312792",
   "metadata": {},
   "outputs": [],
   "source": []
  }
 ],
 "metadata": {
  "kernelspec": {
   "display_name": "Python 3 (ipykernel)",
   "language": "python",
   "name": "python3"
  },
  "language_info": {
   "codemirror_mode": {
    "name": "ipython",
    "version": 3
   },
   "file_extension": ".py",
   "mimetype": "text/x-python",
   "name": "python",
   "nbconvert_exporter": "python",
   "pygments_lexer": "ipython3",
   "version": "3.10.12"
  }
 },
 "nbformat": 4,
 "nbformat_minor": 5
}
