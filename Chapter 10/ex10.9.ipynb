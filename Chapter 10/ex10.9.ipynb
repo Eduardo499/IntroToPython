{
 "cells": [
  {
   "cell_type": "raw",
   "id": "3155843e-9d9a-443e-ae0a-141217860eb7",
   "metadata": {},
   "source": [
    "(Calculator Class) Write a class that implements a Calculator. The class should contain 2 numbers. Provide an __init__ method that takes the 2 numbers as arguments.\n",
    "Also, provide the following read-only properties:\n",
    "    a) sum returns the sum of the 2 numbers\n",
    "    b) difference returns the difference between the 2 numbers\n",
    "    c) product returns the product between the 2 numbers\n",
    "    d) division returns the quotient of number1 divided by number2\n",
    "These properties should not have corresponding data attributes; rather, they should use side in calculations that return the desired values. Create a Calculator object and display its properties."
   ]
  },
  {
   "cell_type": "code",
   "execution_count": 1,
   "id": "4ed69251-ff04-4e68-81fc-312b446838c7",
   "metadata": {},
   "outputs": [
    {
     "name": "stdout",
     "output_type": "stream",
     "text": [
      "Sum: 15\n",
      "Difference: 5\n",
      "Product: 50\n",
      "Division: 2.0\n"
     ]
    }
   ],
   "source": [
    "class Calculator:\n",
    "    def __init__(self, number1, number2):\n",
    "        self.number1 = number1\n",
    "        self.number2 = number2\n",
    "\n",
    "    @property\n",
    "    def sum(self):\n",
    "        return self.number1 + self.number2\n",
    "\n",
    "    @property\n",
    "    def difference(self):\n",
    "        return self.number1 - self.number2\n",
    "\n",
    "    @property\n",
    "    def product(self):\n",
    "        return self.number1 * self.number2\n",
    "\n",
    "    @property\n",
    "    def division(self):\n",
    "        if self.number2 == 0:\n",
    "            return \"Cannot divide by zero\"\n",
    "        return self.number1 / self.number2\n",
    "\n",
    "calc = Calculator(10, 5)\n",
    "\n",
    "print(f\"Sum: {calc.sum}\")\n",
    "print(f\"Difference: {calc.difference}\")\n",
    "print(f\"Product: {calc.product}\")\n",
    "print(f\"Division: {calc.division}\")"
   ]
  },
  {
   "cell_type": "code",
   "execution_count": null,
   "id": "19e4aa71-67ed-4dd8-98ab-cb1929fb5038",
   "metadata": {},
   "outputs": [],
   "source": []
  }
 ],
 "metadata": {
  "kernelspec": {
   "display_name": "Python 3 (ipykernel)",
   "language": "python",
   "name": "python3"
  },
  "language_info": {
   "codemirror_mode": {
    "name": "ipython",
    "version": 3
   },
   "file_extension": ".py",
   "mimetype": "text/x-python",
   "name": "python",
   "nbconvert_exporter": "python",
   "pygments_lexer": "ipython3",
   "version": "3.10.12"
  }
 },
 "nbformat": 4,
 "nbformat_minor": 5
}
