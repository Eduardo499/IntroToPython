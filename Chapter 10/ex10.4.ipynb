{
 "cells": [
  {
   "cell_type": "raw",
   "id": "0a0cff75-8efe-4e02-826b-292ca15e7cc8",
   "metadata": {},
   "source": [
    "(Modifying the Internal Data Representation of a Class) Section 10.4.2’s Time class represents the time as three integer values. Modify the class to store the time as the total number of seconds since midnight. Replace the _hour, _minute and _second attributes with one _total_seconds attribute. Modify the bodies of the hour, minute and second properties’ methods to get and set _total_seconds. Re-execute Section 10.4’s IPython session using the modified Time class to show that the updated class Time is interchangeable with the original one."
   ]
  },
  {
   "cell_type": "code",
   "execution_count": 3,
   "id": "0052efa8-924e-435e-a9c7-a879ed0590d4",
   "metadata": {},
   "outputs": [
    {
     "name": "stdout",
     "output_type": "stream",
     "text": [
      "1:45:30 PM\n",
      "Time(hour=13, minute=45, second=30)\n",
      "3:30:45 PM\n"
     ]
    }
   ],
   "source": [
    "class Time:\n",
    "    def __init__(self, hour=0, minute=0, second=0):\n",
    "        self.total_seconds = hour * 3600 + minute * 60 + second \n",
    "        \n",
    "    @property\n",
    "    def hour(self):\n",
    "        return self.total_seconds // 3600 \n",
    "        \n",
    "    @hour.setter\n",
    "    def hour(self, hour):\n",
    "        if not (0 <= hour < 24):\n",
    "            raise ValueError(f'Hour ({hour}) must be 0-23')\n",
    "        self.total_seconds = self.total_seconds % 3600 + hour * 3600\n",
    "        \n",
    "    @property\n",
    "    def minute(self):\n",
    "        return (self.total_seconds % 3600) // 60 \n",
    "        \n",
    "    @minute.setter\n",
    "    def minute(self, minute):\n",
    "        if not (0 <= minute < 60):\n",
    "            raise ValueError(f'Minute ({minute}) must be 0-59')\n",
    "        self.total_seconds = self.total_seconds // 3600 * 3600 + minute * 60 + self.second\n",
    "        \n",
    "    @property\n",
    "    def second(self):\n",
    "        return self.total_seconds % 60 \n",
    "        \n",
    "    @second.setter\n",
    "    def second(self, second):\n",
    "        if not (0 <= second < 60):\n",
    "            raise ValueError(f'Second ({second}) must be 0-59')\n",
    "        self.total_seconds = self.total_seconds // 60 * 60 + second\n",
    "        \n",
    "    def set_time(self, hour=0, minute=0, second=0):\n",
    "        self.hour = hour\n",
    "        self.minute = minute\n",
    "        self.second = second\n",
    "\n",
    "    def __repr__(self):\n",
    "        return (f'Time(hour={self.hour}, minute={self.minute}, ' +\n",
    "                f'second={self.second})')\n",
    "\n",
    "    def __str__(self):\n",
    "        return (('12' if self.hour in (0, 12) else str(self.hour % 12)) +\n",
    "                f':{self.minute:0>2}:{self.second:0>2}' +\n",
    "                (' AM' if self.hour < 12 else ' PM'))\n",
    "\n",
    "t = Time(13, 45, 30)\n",
    "\n",
    "print(t)\n",
    "print(repr(t)) \n",
    "\n",
    "t.hour = 15\n",
    "t.minute = 30\n",
    "t.second = 45\n",
    "\n",
    "print(t)"
   ]
  },
  {
   "cell_type": "code",
   "execution_count": null,
   "id": "9c4d17a3-4327-4931-a77c-d8b4ceff7420",
   "metadata": {},
   "outputs": [],
   "source": []
  }
 ],
 "metadata": {
  "kernelspec": {
   "display_name": "Python 3 (ipykernel)",
   "language": "python",
   "name": "python3"
  },
  "language_info": {
   "codemirror_mode": {
    "name": "ipython",
    "version": 3
   },
   "file_extension": ".py",
   "mimetype": "text/x-python",
   "name": "python",
   "nbconvert_exporter": "python",
   "pygments_lexer": "ipython3",
   "version": "3.10.12"
  }
 },
 "nbformat": 4,
 "nbformat_minor": 5
}
