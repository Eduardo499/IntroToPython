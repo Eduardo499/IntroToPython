{
 "cells": [
  {
   "cell_type": "raw",
   "id": "e6075a5b-02dd-4578-ab73-d0fb2c81bee9",
   "metadata": {},
   "source": [
    "(Duck Typing) Recall that with duck typing, objects of unrelated classes can respond to the same method calls if they implement those methods. In Section 10.8, you created a list containing a CommissionEmployee and a SalariedCommissionEmployee. Then, you iterated through it, displaying each employee’s string representation and earnings. Create a class SalariedEmployee for an employee that gets paid a fixed weekly salary. Do not inherit from CommissionEmployee or SalariedCommissionEmployee. In class SalariedEmployee, override method __repr__ and provide an earnings method. Demonstrate duck typing by creating an object of your class, adding it to the list at the end of Section 10.8, then executing\n",
    "the loop to show that it properly processes objects of all three classes."
   ]
  },
  {
   "cell_type": "code",
   "execution_count": 2,
   "id": "5d2d9582-2f4b-4830-8ee9-f9eaac87b226",
   "metadata": {},
   "outputs": [
    {
     "name": "stdout",
     "output_type": "stream",
     "text": [
      "CommissionEmployee(name=Alice, sales=10000, commission_rate=0.1): Earnings = 1000.0 EUR\n",
      "SalariedCommissionEmployee(name=Bob, sales=5000, commission_rate=0.12, weekly_salary=500): Earnings = 1100.0 EUR\n",
      "SalariedEmployee(name=Charlie, weekly_salary=800): Earnings = 800 EUR\n"
     ]
    }
   ],
   "source": [
    "class SalariedEmployee:\n",
    "    def __init__(self, name, weekly_salary):\n",
    "        self.name = name\n",
    "        self.weekly_salary = weekly_salary\n",
    "\n",
    "    def __repr__(self):\n",
    "        return f\"SalariedEmployee(name={self.name}, weekly_salary={self.weekly_salary})\"\n",
    "    \n",
    "    def earnings(self):\n",
    "        return self.weekly_salary\n",
    "\n",
    "class CommissionEmployee:\n",
    "    def __init__(self, name, sales, commission_rate):\n",
    "        self.name = name\n",
    "        self.sales = sales\n",
    "        self.commission_rate = commission_rate\n",
    "    \n",
    "    def __repr__(self):\n",
    "        return f\"CommissionEmployee(name={self.name}, sales={self.sales}, commission_rate={self.commission_rate})\"\n",
    "    \n",
    "    def earnings(self):\n",
    "        return self.sales * self.commission_rate\n",
    "\n",
    "class SalariedCommissionEmployee(CommissionEmployee):\n",
    "    def __init__(self, name, sales, commission_rate, weekly_salary):\n",
    "        super().__init__(name, sales, commission_rate)\n",
    "        self.weekly_salary = weekly_salary\n",
    "    \n",
    "    def __repr__(self):\n",
    "        return f\"SalariedCommissionEmployee(name={self.name}, sales={self.sales}, commission_rate={self.commission_rate}, weekly_salary={self.weekly_salary})\"\n",
    "    \n",
    "    def earnings(self):\n",
    "        return self.weekly_salary + (self.sales * self.commission_rate)\n",
    "\n",
    "employees = [\n",
    "    CommissionEmployee(\"Alice\", 10000, 0.1),\n",
    "    SalariedCommissionEmployee(\"Bob\", 5000, 0.12, 500),\n",
    "    SalariedEmployee(\"Charlie\", 800)\n",
    "]\n",
    "\n",
    "for employee in employees:\n",
    "    print(f\"{repr(employee)}: Earnings = {employee.earnings()} EUR\")"
   ]
  },
  {
   "cell_type": "code",
   "execution_count": null,
   "id": "f500f4d8-5202-49e7-bcc1-216fd0c51fb2",
   "metadata": {},
   "outputs": [],
   "source": []
  }
 ],
 "metadata": {
  "kernelspec": {
   "display_name": "Python 3 (ipykernel)",
   "language": "python",
   "name": "python3"
  },
  "language_info": {
   "codemirror_mode": {
    "name": "ipython",
    "version": 3
   },
   "file_extension": ".py",
   "mimetype": "text/x-python",
   "name": "python",
   "nbconvert_exporter": "python",
   "pygments_lexer": "ipython3",
   "version": "3.10.12"
  }
 },
 "nbformat": 4,
 "nbformat_minor": 5
}
