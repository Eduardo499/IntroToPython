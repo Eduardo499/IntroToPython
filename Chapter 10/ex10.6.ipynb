{
 "cells": [
  {
   "cell_type": "raw",
   "id": "da67071f-e63b-4dc5-b132-5b18a4cf2a25",
   "metadata": {},
   "source": [
    "(Calculating Vector Lengths) A vector is an object that has a magnitude and a direction. A vector is represented as a line segment with an arrow where the arrow represents the direction and the length of the vector is the magnitude. A vector can also be a single point with x- and y-coordinates. The magnitude calculated from this type of vector equals the distance between the origin of the cartesian coordinate system and the point. Write a class Point that represents an (x-y) coordinate pair and provides x and y read-write properties as well as a method to calculate the distance between the point and the origin of the coordinate system. Include __init__ and __repr__ methods. Write a class Vector that has two Point objects as its attributes. Include __init__ and __repr__ methods and a method that can calculate the magnitude of the vector. Test your Point and your Vector class."
   ]
  },
  {
   "cell_type": "code",
   "execution_count": 3,
   "id": "2e9c2ca9-290a-48f6-987b-5f473dbff172",
   "metadata": {},
   "outputs": [
    {
     "name": "stdout",
     "output_type": "stream",
     "text": [
      "Point1: Point(3, 4)\n",
      "Point2: Point(6, 8)\n",
      "Distance from Point1 to origin: 5.0\n",
      "Distance from Point2 to origin: 10.0\n",
      "Vector: Vector(start=Point(3, 4), end=Point(6, 8))\n",
      "Magnitude of the vector: 5.0\n"
     ]
    }
   ],
   "source": [
    "import math\n",
    "\n",
    "class Point:\n",
    "    def __init__(self, x=0, y=0):\n",
    "        self._x = x\n",
    "        self._y = y\n",
    "\n",
    "    @property\n",
    "    def x(self):\n",
    "        return self._x\n",
    "\n",
    "    @x.setter\n",
    "    def x(self, value):\n",
    "        self._x = value\n",
    "\n",
    "    @property\n",
    "    def y(self):\n",
    "        return self._y\n",
    "    \n",
    "    @y.setter\n",
    "    def y(self, value):\n",
    "        self._y = value\n",
    "\n",
    "    def distance_from_origin(self):\n",
    "        return math.sqrt(self.x ** 2 + self.y ** 2)\n",
    "\n",
    "    def __repr__(self):\n",
    "        return f\"Point({self.x}, {self.y})\"\n",
    "\n",
    "class Vector:\n",
    "    def __init__(self, start_point, end_point):\n",
    "        self.start = start_point\n",
    "        self.end = end_point\n",
    "    \n",
    "    def __repr__(self):\n",
    "        return f\"Vector(start={repr(self.start)}, end={repr(self.end)})\"\n",
    "\n",
    "    def magnitude(self):\n",
    "        dx = self.end.x - self.start.x\n",
    "        dy = self.end.y - self.start.y\n",
    "        return math.sqrt(dx ** 2 + dy ** 2)\n",
    "\n",
    "point1 = Point(3, 4)\n",
    "point2 = Point(6, 8)\n",
    "\n",
    "print(f\"Point1: {point1}\")  \n",
    "print(f\"Point2: {point2}\") \n",
    "\n",
    "print(f\"Distance from Point1 to origin: {point1.distance_from_origin()}\") \n",
    "print(f\"Distance from Point2 to origin: {point2.distance_from_origin()}\") \n",
    "\n",
    "vector = Vector(point1, point2)\n",
    "\n",
    "print(f\"Vector: {vector}\") \n",
    "\n",
    "print(f\"Magnitude of the vector: {vector.magnitude()}\")  # 5.0"
   ]
  },
  {
   "cell_type": "code",
   "execution_count": null,
   "id": "bf7be64b-a35a-49bc-9730-11ac6643c7f0",
   "metadata": {},
   "outputs": [],
   "source": []
  }
 ],
 "metadata": {
  "kernelspec": {
   "display_name": "Python 3 (ipykernel)",
   "language": "python",
   "name": "python3"
  },
  "language_info": {
   "codemirror_mode": {
    "name": "ipython",
    "version": 3
   },
   "file_extension": ".py",
   "mimetype": "text/x-python",
   "name": "python",
   "nbconvert_exporter": "python",
   "pygments_lexer": "ipython3",
   "version": "3.10.12"
  }
 },
 "nbformat": 4,
 "nbformat_minor": 5
}
