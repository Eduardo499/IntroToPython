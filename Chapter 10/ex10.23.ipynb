{
 "cells": [
  {
   "cell_type": "raw",
   "id": "327a17a9-1d66-4c4d-bea1-c23e8b7f95bb",
   "metadata": {},
   "source": [
    "(Project: Poker) Exercises 5.25–5.26 asked you to create functions for comparing poker hands. Develop equivalent features for use with this chapter’s DeckOfCards class. Develop a new class called Hand that represents a five-card poker hand. Use operator overloading to enable two Hands to be compared with the comparison operators. Use your new\n",
    "capabilities in a simple poker game script."
   ]
  },
  {
   "cell_type": "code",
   "execution_count": 2,
   "id": "e5f0caa9-0198-4384-b2a4-3f609d662f88",
   "metadata": {},
   "outputs": [
    {
     "name": "stdout",
     "output_type": "stream",
     "text": [
      "Ace of Hearts & King of Hearts & Queen of Hearts & Jack of Hearts & 10 of Hearts\n",
      "Ace of Spades & Ace of Diamonds & Ace of Clubs & King of Hearts & King of Diamonds\n",
      "True\n"
     ]
    }
   ],
   "source": [
    "from functools import total_ordering\n",
    "from collections import Counter\n",
    "from card import Card\n",
    "\n",
    "@total_ordering\n",
    "class Hand:\n",
    "    RANKS = ['High Card', 'One Pair', 'Two Pair', 'Three of a Kind', 'Straight', \n",
    "             'Flush', 'Full House', 'Four of a Kind', 'Straight Flush', 'Royal Flush']\n",
    "\n",
    "    def __init__(self, cards):\n",
    "        \"\"\"Initialize Hand with a list of 5 Cards.\"\"\"\n",
    "        self.cards = sorted(cards, key=lambda card: card.card_value(), reverse=True)\n",
    "        self.rank = self.evaluate_hand()\n",
    "\n",
    "    def evaluate_hand(self):\n",
    "        \"\"\"Evaluate the hand and return its rank.\"\"\"\n",
    "        values = [card.card_value() for card in self.cards]\n",
    "        suits = [card.suit for card in self.cards]\n",
    "        value_counts = Counter(values)\n",
    "        is_flush = len(set(suits)) == 1\n",
    "        is_straight = len(value_counts) == 5 and values[0] - values[4] == 4\n",
    "\n",
    "        if is_flush and is_straight:\n",
    "            if values[0] == 14: \n",
    "                return 9\n",
    "            return 8 \n",
    "        if 4 in value_counts.values(): \n",
    "            return 7\n",
    "        if sorted(value_counts.values()) == [2, 3]: \n",
    "            return 6\n",
    "        if is_flush: \n",
    "            return 5\n",
    "        if is_straight:  \n",
    "            return 4\n",
    "        if 3 in value_counts.values(): \n",
    "            return 3\n",
    "        if list(value_counts.values()).count(2) == 2: \n",
    "            return 2\n",
    "        if 2 in value_counts.values():  \n",
    "            return 1\n",
    "        return 0 \n",
    "\n",
    "    def __repr__(self):\n",
    "        \"\"\"String representation of Hand.\"\"\"\n",
    "        return \" & \".join(str(card) for card in self.cards)\n",
    "\n",
    "    def __eq__(self, other):\n",
    "        \"\"\"Check if two hands are equal.\"\"\"\n",
    "        return self.rank == other.rank and self.cards == other.cards\n",
    "\n",
    "    def __lt__(self, other):\n",
    "        \"\"\"Compare two hands based on their rank.\"\"\"\n",
    "        if self.rank != other.rank:\n",
    "            return self.rank < other.rank\n",
    "        for card1, card2 in zip(self.cards, other.cards):\n",
    "            if card1.card_value() != card2.card_value():\n",
    "                return card1.card_value() < card2.card_value()\n",
    "        return False\n",
    "\n",
    "card1 = Card('Ace', 'Hearts')\n",
    "card2 = Card('King', 'Hearts')\n",
    "card3 = Card('Queen', 'Hearts')\n",
    "card4 = Card('Jack', 'Hearts')\n",
    "card5 = Card('10', 'Hearts')\n",
    "\n",
    "hand1 = Hand([card1, card2, card3, card4, card5])\n",
    "\n",
    "card6 = Card('Ace', 'Spades')\n",
    "card7 = Card('Ace', 'Diamonds')\n",
    "card8 = Card('Ace', 'Clubs')\n",
    "card9 = Card('King', 'Hearts')\n",
    "card10 = Card('King', 'Diamonds')\n",
    "\n",
    "hand2 = Hand([card6, card7, card8, card9, card10])\n",
    "\n",
    "print(hand1) \n",
    "print(hand2)\n",
    "print(hand1 > hand2) \n"
   ]
  },
  {
   "cell_type": "code",
   "execution_count": null,
   "id": "08615c17-7d01-404a-af95-7d368e90d3de",
   "metadata": {},
   "outputs": [],
   "source": []
  }
 ],
 "metadata": {
  "kernelspec": {
   "display_name": "Python 3 (ipykernel)",
   "language": "python",
   "name": "python3"
  },
  "language_info": {
   "codemirror_mode": {
    "name": "ipython",
    "version": 3
   },
   "file_extension": ".py",
   "mimetype": "text/x-python",
   "name": "python",
   "nbconvert_exporter": "python",
   "pygments_lexer": "ipython3",
   "version": "3.10.12"
  }
 },
 "nbformat": 4,
 "nbformat_minor": 5
}
