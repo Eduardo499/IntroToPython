{
 "cells": [
  {
   "cell_type": "raw",
   "id": "c1bfa337-4317-45a4-a3b6-3aecfe8e69f0",
   "metadata": {},
   "source": [
    "(Creating an Account Data Class Dynamically) The dataclasses module’s make_dataclass function creates a data class dynamically from a list of strings that represent the data class’s attributes. Research function make_dataclass, then use it to generate an Account class from the following list of strings:\n",
    "    ['account', 'name', 'balance']\n",
    "Create objects of the new Account class, then display their string representations and compare the objects with the == and != operators."
   ]
  },
  {
   "cell_type": "code",
   "execution_count": 1,
   "id": "2fb73265-7257-49aa-9574-61f568d480e0",
   "metadata": {},
   "outputs": [
    {
     "data": {
      "text/plain": [
       "(\"Account(account=1, name='Alice', balance=1000.5)\",\n",
       " \"Account(account=2, name='Bob', balance=1500.75)\",\n",
       " \"Account(account=1, name='Alice', balance=1000.5)\",\n",
       " True,\n",
       " True)"
      ]
     },
     "execution_count": 1,
     "metadata": {},
     "output_type": "execute_result"
    }
   ],
   "source": [
    "from dataclasses import make_dataclass\n",
    "\n",
    "Account = make_dataclass('Account', ['account', 'name', 'balance'])\n",
    "\n",
    "account1 = Account(account=1, name=\"Alice\", balance=1000.50)\n",
    "account2 = Account(account=2, name=\"Bob\", balance=1500.75)\n",
    "account3 = Account(account=1, name=\"Alice\", balance=1000.50)\n",
    "\n",
    "account1_repr = repr(account1)\n",
    "account2_repr = repr(account2)\n",
    "account3_repr = repr(account3)\n",
    "\n",
    "comparison_eq = account1 == account3\n",
    "comparison_neq = account1 != account2\n",
    "\n",
    "account1_repr, account2_repr, account3_repr, comparison_eq, comparison_neq"
   ]
  },
  {
   "cell_type": "code",
   "execution_count": null,
   "id": "02fe37c8-6b11-41de-bb02-608e61a7ec56",
   "metadata": {},
   "outputs": [],
   "source": []
  }
 ],
 "metadata": {
  "kernelspec": {
   "display_name": "Python 3 (ipykernel)",
   "language": "python",
   "name": "python3"
  },
  "language_info": {
   "codemirror_mode": {
    "name": "ipython",
    "version": 3
   },
   "file_extension": ".py",
   "mimetype": "text/x-python",
   "name": "python",
   "nbconvert_exporter": "python",
   "pygments_lexer": "ipython3",
   "version": "3.10.12"
  }
 },
 "nbformat": 4,
 "nbformat_minor": 5
}
