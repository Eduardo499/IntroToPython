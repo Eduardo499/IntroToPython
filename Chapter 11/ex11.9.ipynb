{
 "cells": [
  {
   "cell_type": "raw",
   "id": "741619e6-d283-4425-b7ae-d0c96a424e47",
   "metadata": {},
   "source": [
    "(Calculate the Number of Possible Combinations) For a gymnastic competition, there are 8 participants and 3 medals to win. Write a function that calculates the number of possible combinations of participants that can win the 3 medals. For this function, you will need to rewrite the factorial function that you studied at the beginning of this chapter."
   ]
  },
  {
   "cell_type": "code",
   "execution_count": 1,
   "id": "871fe7ce-e2de-4806-b531-5940ffcf6ee4",
   "metadata": {},
   "outputs": [
    {
     "name": "stdout",
     "output_type": "stream",
     "text": [
      "Number of possible combinations: 336\n"
     ]
    }
   ],
   "source": [
    "def factorial(n):\n",
    "    if n == 0 or n == 1:\n",
    "        return 1\n",
    "    return n * factorial(n - 1)\n",
    "\n",
    "def permutation(n, k):\n",
    "    return factorial(n) // factorial(n - k)\n",
    "\n",
    "participants = 8\n",
    "medals = 3\n",
    "print(f\"Number of possible combinations: {permutation(participants, medals)}\")"
   ]
  },
  {
   "cell_type": "code",
   "execution_count": null,
   "id": "03634aef-df01-4b3d-a883-6330a907b68b",
   "metadata": {},
   "outputs": [],
   "source": []
  }
 ],
 "metadata": {
  "kernelspec": {
   "display_name": "Python 3 (ipykernel)",
   "language": "python",
   "name": "python3"
  },
  "language_info": {
   "codemirror_mode": {
    "name": "ipython",
    "version": 3
   },
   "file_extension": ".py",
   "mimetype": "text/x-python",
   "name": "python",
   "nbconvert_exporter": "python",
   "pygments_lexer": "ipython3",
   "version": "3.10.12"
  }
 },
 "nbformat": 4,
 "nbformat_minor": 5
}
