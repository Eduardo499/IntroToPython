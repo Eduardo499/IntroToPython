{
 "cells": [
  {
   "cell_type": "raw",
   "id": "e6655da4-1d28-43d4-b5d0-ac775786f30f",
   "metadata": {},
   "source": [
    "(Project: Recursive Directory Searching) To better understand the concept of recursion, let’s look at an example that’s quite familiar to computer users—the recursive definition of a file-system directory on a computer. A computer normally stores related files in a directory (also called a folder). A directory can be empty, can contain files and/or can contain other directories, usually referred to as subdirectories. Each of these subdirec- tories, in turn, may also contain both files and directories. If we want to list each file in a directory (including all the files in the directory’s subdirectories), we need to create a function that first lists the initial directory’s files, then makes recursive calls to list the files in each of that directory’s subdirectories. The base case occurs when a directory is reached that does not contain any subdirectories. At this point, all the files in the original directory have been listed, and no further recursion is necessary. Write a print_directory function that recursively walks through the files and subdirectories of a directory specified as an argument. The output from each recursive call should indent the names of the files and directories it prints one additional “level” so you can see the file and directory structure. Precede each file or directory name with F (for file) or D (for directory)."
   ]
  },
  {
   "cell_type": "code",
   "execution_count": null,
   "id": "84dc6048-40d0-4bb5-b0e3-e6d5e52c90bd",
   "metadata": {},
   "outputs": [],
   "source": [
    "import os\n",
    "\n",
    "def print_directory(path, level=0):\n",
    "    if os.path.isdir(path):\n",
    "        print('  ' * level + f'D {os.path.basename(path)}')\n",
    "        \n",
    "        for item in os.listdir(path):\n",
    "            item_path = os.path.join(path, item)\n",
    "            print_directory(item_path, level + 1)\n",
    "    else:\n",
    "        print('  ' * level + f'F {os.path.basename(path)}')\n",
    "\n",
    "print_directory('/path/to/directory')"
   ]
  }
 ],
 "metadata": {
  "kernelspec": {
   "display_name": "Python 3 (ipykernel)",
   "language": "python",
   "name": "python3"
  },
  "language_info": {
   "codemirror_mode": {
    "name": "ipython",
    "version": 3
   },
   "file_extension": ".py",
   "mimetype": "text/x-python",
   "name": "python",
   "nbconvert_exporter": "python",
   "pygments_lexer": "ipython3",
   "version": "3.10.12"
  }
 },
 "nbformat": 4,
 "nbformat_minor": 5
}
