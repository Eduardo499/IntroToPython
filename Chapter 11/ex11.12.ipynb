{
 "cells": [
  {
   "cell_type": "raw",
   "id": "e885283b-c58c-49c3-a3c7-12bc3b155f63",
   "metadata": {},
   "source": [
    "(Towers of Hanoi) In this chapter, you studied functions that can be easily implemented both recursively and iteratively. In this exercise, we present a problem whose recursive solution demonstrates the elegance of recursion, and whose iterative solution may not be as apparent.\n",
    "    The Towers of Hanoi is one of the most famous classic problems every budding computer scientist must grapple with. Legend has it that in a temple in the Far East, priests are attempting to move a stack of golden disks from one diamond peg to another. The following diagram shows the pegs with four disks on peg 1.\n",
    "    The initial stack has 64 disks threaded onto one peg and arranged from bottom to top by decreasing size. The priests are attempting to move the stack from one peg to another under the constraints that exactly one disk is moved at a time and at no time may a larger disk be placed above a smaller disk. Three pegs are provided, one being used for temporarily holding disks. Supposedly, the world will end when the priests complete their task, so there is little incentive for us to facilitate their efforts.\n",
    "    Let’s assume that the priests are attempting to move the disks from peg 1 to peg 3. We wish to develop an algorithm that prints the precise sequence of peg-to-peg disk transfers.\n",
    "    If we were to approach this problem with conventional functions, we would rapidly find ourselves hopelessly knotted up in managing the disks. Instead, attacking this problem with recursion in mind allows the steps to be simple. Moving n disks can be viewed in terms of moving only n – 1 disks (hence, the recursion), as follows:\n",
    "        a) Move n – 1 disks from peg 1 to peg 2, using peg 3 as a temporary holding area.\n",
    "        b) Move the last disk (the largest) from peg 1 to peg 3.\n",
    "        c) Move the n – 1 disks from peg 2 to peg 3, using peg 1 as a temporary holding area.\n",
    "    The process ends when the last task involves moving n = 1 disk (i.e., the base case). This task is accomplished by simply moving the disk, without the need for a temporary holding area. Write a program to solve the Towers of Hanoi problem. Use a recursive function with four parameters:\n",
    "        a) The number of disks to be moved.\n",
    "        b) The peg on which these disks are initially threaded.\n",
    "        c) The peg to which this stack of disks is to be moved.\n",
    "        d) The peg to be used as a temporary holding area.\n",
    "    Display the precise instructions for moving the disks from the starting peg to the destination peg. To move a stack of three disks from peg 1 to peg 3, the program displays the following moves:\n",
    "        1 → 3 (This means move one disk from peg 1 to peg 3.)\n",
    "        1 → 2\n",
    "        3 → 2\n",
    "        1 → 3\n",
    "        2 → 1\n",
    "        2 → 3\n",
    "        1 → 3"
   ]
  },
  {
   "cell_type": "code",
   "execution_count": 3,
   "id": "681f0522-551d-4b0a-80db-b4de9059c114",
   "metadata": {},
   "outputs": [
    {
     "name": "stdout",
     "output_type": "stream",
     "text": [
      "1 → 3\n",
      "1 → 2\n",
      "3 → 2\n",
      "1 → 3\n",
      "2 → 1\n",
      "2 → 3\n",
      "1 → 3\n"
     ]
    }
   ],
   "source": [
    "def towers_of_hanoi(n, source, target, auxiliary):\n",
    "    if n == 1:\n",
    "        print(f\"{source} → {target}\")\n",
    "        return\n",
    "\n",
    "    towers_of_hanoi(n - 1, source, auxiliary, target)\n",
    "\n",
    "    print(f\"{source} → {target}\")\n",
    "\n",
    "    towers_of_hanoi(n - 1, auxiliary, target, source)\n",
    "\n",
    "\n",
    "n_disks = 3\n",
    "towers_of_hanoi(n_disks, 1, 3, 2)"
   ]
  },
  {
   "cell_type": "code",
   "execution_count": null,
   "id": "36570418-2301-460c-8c23-96fa398c63ae",
   "metadata": {},
   "outputs": [],
   "source": []
  }
 ],
 "metadata": {
  "kernelspec": {
   "display_name": "Python 3 (ipykernel)",
   "language": "python",
   "name": "python3"
  },
  "language_info": {
   "codemirror_mode": {
    "name": "ipython",
    "version": 3
   },
   "file_extension": ".py",
   "mimetype": "text/x-python",
   "name": "python",
   "nbconvert_exporter": "python",
   "pygments_lexer": "ipython3",
   "version": "3.10.12"
  }
 },
 "nbformat": 4,
 "nbformat_minor": 5
}
