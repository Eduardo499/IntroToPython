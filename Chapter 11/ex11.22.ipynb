{
 "cells": [
  {
   "cell_type": "raw",
   "id": "a0dba779-9ce4-4028-8ef5-ce86834b7466",
   "metadata": {},
   "source": [
    "(Project: Merge Sort Animation) Using the techniques you learned in the selection sort animation, modify the merge sort presented in this chapter to display an animation of the algorithm in action."
   ]
  },
  {
   "cell_type": "code",
   "execution_count": 1,
   "id": "01f7cde1-84d0-4d68-8c7d-1047b442a7f3",
   "metadata": {},
   "outputs": [
    {
     "data": {
      "image/png": "[encoded data removed]",
      "text/plain": [
       "<Figure size 640x480 with 1 Axes>"
      ]
     },
     "metadata": {},
     "output_type": "display_data"
    },
    {
     "data": {
      "text/plain": [
       "<Figure size 640x480 with 0 Axes>"
      ]
     },
     "metadata": {},
     "output_type": "display_data"
    }
   ],
   "source": [
    "import matplotlib.pyplot as plt\n",
    "import matplotlib.animation as animation\n",
    "import numpy as np\n",
    "\n",
    "def merge(arr, left, mid, right, ax, bars, interval, swaps):\n",
    "    i = left   \n",
    "    j = mid + 1 \n",
    "    k = left    \n",
    "    temp = arr[left:right + 1]\n",
    "    \n",
    "    while i <= mid and j <= right:\n",
    "        if arr[i] <= arr[j]:\n",
    "            temp[k - left] = arr[i]\n",
    "            i += 1\n",
    "        else:\n",
    "            temp[k - left] = arr[j]\n",
    "            j += 1\n",
    "        k += 1\n",
    "        update_plot(arr, ax, bars, interval)\n",
    "    \n",
    "    while i <= mid:\n",
    "        temp[k - left] = arr[i]\n",
    "        i += 1\n",
    "        k += 1\n",
    "        update_plot(arr, ax, bars, interval)\n",
    "        \n",
    "    while j <= right:\n",
    "        temp[k - left] = arr[j]\n",
    "        j += 1\n",
    "        k += 1\n",
    "        update_plot(arr, ax, bars, interval)\n",
    "\n",
    "    for i in range(left, right + 1):\n",
    "        arr[i] = temp[i - left]\n",
    "    \n",
    "    swaps.append((left, right))\n",
    "    update_plot(arr, ax, bars, interval)\n",
    "\n",
    "def merge_sort_helper(arr, left, right, ax, bars, interval, swaps):\n",
    "    if left < right:\n",
    "        mid = (left + right) // 2\n",
    "        merge_sort_helper(arr, left, mid, ax, bars, interval, swaps)\n",
    "        merge_sort_helper(arr, mid + 1, right, ax, bars, interval, swaps)\n",
    "        merge(arr, left, mid, right, ax, bars, interval, swaps)\n",
    "\n",
    "def update_plot(arr, ax, bars, interval):\n",
    "    for bar, val in zip(bars, arr):\n",
    "        bar.set_height(val)\n",
    "    plt.pause(interval)\n",
    "\n",
    "def merge_sort(array):\n",
    "    fig, ax = plt.subplots()\n",
    "    bars = ax.bar(range(len(array)), array, color='lightblue')\n",
    "    ax.set_title('Merge Sort Animation')\n",
    "    ax.set_xlabel('Index')\n",
    "    ax.set_ylabel('Value')\n",
    "\n",
    "    swaps = []\n",
    "    interval = 0.1  \n",
    "\n",
    "    writer = animation.FFMpegWriter(fps=30, metadata=dict(artist='Me'), bitrate=1800)\n",
    "\n",
    "    with writer.saving(fig, \"mergesort_animation.mp4\", dpi=200):\n",
    "        merge_sort_helper(array, 0, len(array) - 1, ax, bars, interval, swaps)\n",
    "        \n",
    "        for bar in bars:\n",
    "            bar.set_color('green')\n",
    "\n",
    "        plt.draw()\n",
    "        writer.grab_frame()\n",
    "\n",
    "array = [37, 2, 6, 4, 89, 8, 10, 12, 68, 45]\n",
    "\n",
    "merge_sort(array)"
   ]
  },
  {
   "cell_type": "code",
   "execution_count": null,
   "id": "02a7fba4-36ab-4fa4-833d-7763327d9d32",
   "metadata": {},
   "outputs": [],
   "source": []
  }
 ],
 "metadata": {
  "kernelspec": {
   "display_name": "Python 3 (ipykernel)",
   "language": "python",
   "name": "python3"
  },
  "language_info": {
   "codemirror_mode": {
    "name": "ipython",
    "version": 3
   },
   "file_extension": ".py",
   "mimetype": "text/x-python",
   "name": "python",
   "nbconvert_exporter": "python",
   "pygments_lexer": "ipython3",
   "version": "3.10.12"
  }
 },
 "nbformat": 4,
 "nbformat_minor": 5
}
