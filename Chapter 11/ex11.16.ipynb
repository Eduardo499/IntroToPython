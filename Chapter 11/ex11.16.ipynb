{
 "cells": [
  {
   "cell_type": "raw",
   "id": "1a3e5428-ecc4-42d7-adc1-049169d3c030",
   "metadata": {},
   "source": [
    "(Timing Sorting Algorithms) Remove the output statements from the functions selection_sort, insertion_sort and merge_sort defined in this chapter, then import each example’s source-code file into IPython. Create a 100,000-element array of random integers named data1 and make two additional copies of the array (data2 and data3) by calling method copy on the original array. Next, use %timeit as follows to compare the performance of each sorting algorithm:\n",
    "\n",
    "%timeit -n 1 -r 1 selectionsort.selection_sort(data1)\n",
    "%timeit -n 1 -r 1 insertionsort.insertion_sort(data2)\n",
    "%timeit -n 1 -r 1 mergesort.merge_sort(data3)\n",
    "\n",
    "Do the selection_sort and insertion_sort take approximately the same amount of time? Is merge_sort much faster?"
   ]
  },
  {
   "cell_type": "code",
   "execution_count": 1,
   "id": "9741d68f-2df7-47fa-ac08-352d85351729",
   "metadata": {},
   "outputs": [],
   "source": [
    "import numpy as np\n",
    "\n",
    "data1 = np.random.randint(1, 1000000, size=100000)\n",
    "data2 = data1.copy()\n",
    "data3 = data1.copy()"
   ]
  },
  {
   "cell_type": "code",
   "execution_count": 6,
   "id": "7eeab4b9-4bea-47c8-84a4-bb91e06d0b1e",
   "metadata": {},
   "outputs": [],
   "source": [
    "def selection_sort(data):\n",
    "    swaps = 0\n",
    "    comparisons = 0\n",
    "    colors = ['lightgray'] * len(data)\n",
    "    yield (data, colors, swaps, comparisons)\n",
    "\n",
    "    for index1 in range(0, len(data) - 1):\n",
    "        smallest = index1\n",
    "        for index2 in range(index1 + 1, len(data)):\n",
    "            comparisons += 1\n",
    "            colors[smallest] = 'purple'\n",
    "            colors[index2] = 'red'\n",
    "            yield (data, colors, swaps, comparisons)\n",
    "            play_sound(data[index2], seconds=0.05)\n",
    "\n",
    "            if data[index2] < data[smallest]:\n",
    "                colors[smallest] = 'lightgray'\n",
    "                smallest = index2\n",
    "                colors[smallest] = 'purple'\n",
    "                yield (data, colors, swaps, comparisons)\n",
    "            else:\n",
    "                colors[index2] = 'lightgray'\n",
    "                yield (data, colors, swaps, comparisons)\n",
    "\n",
    "        colors[-1] = 'lightgray'\n",
    "        yield from flash_bars(index1, smallest, data, colors, swaps, comparisons)\n",
    "        swaps += 1\n",
    "        data[smallest], data[index1] = data[index1], data[smallest]\n",
    "        yield from flash_bars(index1, smallest, data, colors, swaps, comparisons)\n",
    "        colors[index1] = 'lightgreen'\n",
    "        yield (data, colors, swaps, comparisons)\n",
    "\n",
    "    colors[-1] = 'lightgreen'\n",
    "    yield (data, colors, swaps, comparisons)\n",
    "    play_sound(data[-1], seconds=0.05)\n",
    "\n",
    "    for index in range(len(data)):\n",
    "        colors[index] = 'green'\n",
    "        yield (data, colors, swaps, comparisons)\n",
    "        play_sound(data[index], seconds=0.05)\n",
    "\n",
    "def insertion_sort(data):\n",
    "    comparisons = 0\n",
    "    swaps = 0\n",
    "    for i in range(1, len(data)):\n",
    "        key = data[i]\n",
    "        j = i - 1\n",
    "\n",
    "        while j >= 0 and data[j] > key:\n",
    "            comparisons += 1\n",
    "            data[j + 1] = data[j]\n",
    "            j -= 1\n",
    "            swaps += 1\n",
    "        \n",
    "        data[j + 1] = key\n",
    "        swaps += 1\n",
    "\n",
    "    return data, comparisons, swaps\n",
    "\n",
    "def merge_sort(data):\n",
    "    if len(data) > 1:\n",
    "        mid = len(data) // 2\n",
    "        left_half = data[:mid]\n",
    "        right_half = data[mid:]\n",
    "\n",
    "        merge_sort(left_half)\n",
    "        merge_sort(right_half)\n",
    "\n",
    "        i = j = k = 0\n",
    "\n",
    "        while i < len(left_half) and j < len(right_half):\n",
    "            if left_half[i] < right_half[j]:\n",
    "                data[k] = left_half[i]\n",
    "                i += 1\n",
    "            else:\n",
    "                data[k] = right_half[j]\n",
    "                j += 1\n",
    "            k += 1\n",
    "\n",
    "        while i < len(left_half):\n",
    "            data[k] = left_half[i]\n",
    "            i += 1\n",
    "            k += 1\n",
    "\n",
    "        while j < len(right_half):\n",
    "            data[k] = right_half[j]\n",
    "            j += 1\n",
    "            k += 1\n",
    "\n",
    "    return data"
   ]
  },
  {
   "cell_type": "code",
   "execution_count": 5,
   "id": "b805433d-ce8b-4dbf-a454-b4e1c53bb2cc",
   "metadata": {},
   "outputs": [
    {
     "name": "stdout",
     "output_type": "stream",
     "text": [
      "9.23 µs ± 0 ns per loop (mean ± std. dev. of 1 run, 1 loop each)\n"
     ]
    }
   ],
   "source": [
    "%timeit -n 1 -r 1 selection_sort(data1)"
   ]
  },
  {
   "cell_type": "code",
   "execution_count": null,
   "id": "2ec1baa7-2216-4489-b2fb-5e2992c9a0fe",
   "metadata": {},
   "outputs": [],
   "source": [
    "%timeit -n 1 -r 1 insertion_sort(data2)"
   ]
  },
  {
   "cell_type": "code",
   "execution_count": 8,
   "id": "7d194590-041e-4513-af3e-71dcd0e44d02",
   "metadata": {},
   "outputs": [
    {
     "name": "stdout",
     "output_type": "stream",
     "text": [
      "3.67 s ± 0 ns per loop (mean ± std. dev. of 1 run, 1 loop each)\n"
     ]
    }
   ],
   "source": [
    "%timeit -n 1 -r 1 merge_sort(data3)"
   ]
  },
  {
   "cell_type": "code",
   "execution_count": null,
   "id": "f76c91b1-1177-4b47-92af-b89bf7df8f59",
   "metadata": {},
   "outputs": [],
   "source": []
  }
 ],
 "metadata": {
  "kernelspec": {
   "display_name": "Python 3 (ipykernel)",
   "language": "python",
   "name": "python3"
  },
  "language_info": {
   "codemirror_mode": {
    "name": "ipython",
    "version": 3
   },
   "file_extension": ".py",
   "mimetype": "text/x-python",
   "name": "python",
   "nbconvert_exporter": "python",
   "pygments_lexer": "ipython3",
   "version": "3.10.12"
  }
 },
 "nbformat": 4,
 "nbformat_minor": 5
}
