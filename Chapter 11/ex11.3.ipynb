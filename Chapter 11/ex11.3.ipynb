{
 "cells": [
  {
   "cell_type": "raw",
   "id": "f2de6168-17f6-41e6-a0dc-8e85d9ef76e5",
   "metadata": {},
   "source": [
    "What does the following code do?"
   ]
  },
  {
   "cell_type": "code",
   "execution_count": 1,
   "id": "a60a97da-8d7b-442a-adca-21db4c66a289",
   "metadata": {},
   "outputs": [],
   "source": [
    "def mystery(a_array, size):\n",
    "    if size == 1:\n",
    "        return a_array[0]\n",
    "    else:\n",
    "        return a_array[size - 1] + mystery(a_array, size - 1)"
   ]
  },
  {
   "cell_type": "code",
   "execution_count": 6,
   "id": "6ea2d34f-783f-4b10-927a-b1e72bbb1db3",
   "metadata": {},
   "outputs": [
    {
     "data": {
      "text/plain": [
       "np.int64(5050)"
      ]
     },
     "execution_count": 6,
     "metadata": {},
     "output_type": "execute_result"
    }
   ],
   "source": [
    "import numpy as np\n",
    "\n",
    "numbers = np.arange(1, 101)\n",
    "\n",
    "mystery(numbers, len(numbers))"
   ]
  },
  {
   "cell_type": "raw",
   "id": "77bdcc29-8e2f-48fc-a15d-17c519e1491f",
   "metadata": {},
   "source": [
    "The function return the sum of the elements of array"
   ]
  }
 ],
 "metadata": {
  "kernelspec": {
   "display_name": "Python 3 (ipykernel)",
   "language": "python",
   "name": "python3"
  },
  "language_info": {
   "codemirror_mode": {
    "name": "ipython",
    "version": 3
   },
   "file_extension": ".py",
   "mimetype": "text/x-python",
   "name": "python",
   "nbconvert_exporter": "python",
   "pygments_lexer": "ipython3",
   "version": "3.10.12"
  }
 },
 "nbformat": 4,
 "nbformat_minor": 5
}
