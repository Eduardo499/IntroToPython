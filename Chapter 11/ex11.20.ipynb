{
 "cells": [
  {
   "cell_type": "raw",
   "id": "c2dbcd61-150e-4eff-aeb5-b7d2ef7ba293",
   "metadata": {},
   "source": [
    "(Determining Big O of Various Algorithms) Determine the Big O for each of the following. You may need to research some of these items online:\n",
    "a) Get or set an item by index in a Python list.\n",
    "b) Insert a new value in order in a Python sorted list.\n",
    "c) Shell short an array.\n",
    "d) Bubble sort an array.\n",
    "e) Towers of Hanoi for n disks. [Hint: For n=1, 2, 3, 4, 5 or 6, the number of operations is 1, 3, 7, 15, 31 or 63, respectively.] You’ll see that the Big O for the Towers of Hanoi—O(2n)—is far worse than that of the O(n2) sorts in this chapter. By the way, for 64 disks, the number of operations is 18,446,744,073,709,551,615. If the priests could move one disk per second, it would take 584,942,417,355 years to move the stack of 64 disks!\n",
    "f) Find all the permutations (unique arrangements) of n unique items. [Hint: For the digits 1, 2 and 3 there are six permutations—123, 132, 213, 231, 312 and 321.] For the digits 1, 2, 3 and 4 there are 24 permutations. For the digits 1, 2, 3, 4 and 5 there are 120 permutations. You’ll see that this Big O is far worse even than that of the Towers of Hanoi."
   ]
  },
  {
   "cell_type": "raw",
   "id": "e2b78c49-99ed-4104-b756-c1b9424faf9b",
   "metadata": {},
   "source": [
    "a) (Get/Set item by index) O(1)\n",
    "b) (Insertion into sorted list) O(n)\n",
    "c) (Shell sort, depending on gaps) O(n^3/2)\n",
    "d) (Bubble sort) O(n²)\n",
    "e) (Towers of Hanoi) O(2^n)\n",
    "f) (Factorial of n) O(n!)"
   ]
  }
 ],
 "metadata": {
  "kernelspec": {
   "display_name": "Python 3 (ipykernel)",
   "language": "python",
   "name": "python3"
  },
  "language_info": {
   "codemirror_mode": {
    "name": "ipython",
    "version": 3
   },
   "file_extension": ".py",
   "mimetype": "text/x-python",
   "name": "python",
   "nbconvert_exporter": "python",
   "pygments_lexer": "ipython3",
   "version": "3.10.12"
  }
 },
 "nbformat": 4,
 "nbformat_minor": 5
}
