{
 "cells": [
  {
   "cell_type": "raw",
   "id": "ac78dfd2-ec1a-471e-9d68-26bdfd2c7ebc",
   "metadata": {},
   "source": [
    "(Logarithmic Portion of Big O) What key aspect of both the binary search and the merge sort accounts for the logarithmic portion of their respective Big Os?"
   ]
  },
  {
   "cell_type": "raw",
   "id": "a2070ee4-33a1-4be5-a560-3d6fc2237cdc",
   "metadata": {},
   "source": [
    "In both algorithms, the logarithmic behavior arises because the problem size is reduced by a factor of 2 (halved) at each step."
   ]
  }
 ],
 "metadata": {
  "kernelspec": {
   "display_name": "Python 3 (ipykernel)",
   "language": "python",
   "name": "python3"
  },
  "language_info": {
   "codemirror_mode": {
    "name": "ipython",
    "version": 3
   },
   "file_extension": ".py",
   "mimetype": "text/x-python",
   "name": "python",
   "nbconvert_exporter": "python",
   "pygments_lexer": "ipython3",
   "version": "3.10.12"
  }
 },
 "nbformat": 4,
 "nbformat_minor": 5
}
