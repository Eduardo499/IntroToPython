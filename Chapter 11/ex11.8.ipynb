{
 "cells": [
  {
   "cell_type": "raw",
   "id": "6f2bc246-b293-4a8c-ac7c-e3c4c07bcefe",
   "metadata": {},
   "source": [
    "(Visualizing Recursion) Modify the recursive sum of a list function you wrote in Exercise 11.5 to print the subtotal and the recursive-call parameter. For each recursive call, display the step number and the outputs on a separate line. Add a level of indentation to provide more clarity in the visualization."
   ]
  },
  {
   "cell_type": "code",
   "execution_count": 1,
   "id": "649afa55-57d2-4ce2-a43a-a8411b1a559b",
   "metadata": {},
   "outputs": [
    {
     "name": "stdout",
     "output_type": "stream",
     "text": [
      "Step 1: index=4, total=0\n",
      "  Step 2: index=3, total=1\n",
      "    Step 3: index=2, total=3\n",
      "      Step 4: index=1, total=6\n",
      "        Step 5: index=0, total=10\n",
      "          Step 6: index=-1, total=15\n",
      "          Returning total=15\n",
      "Final Sum: 15\n"
     ]
    }
   ],
   "source": [
    "def sum_with_visualization(numbers, index, total, step=1, indent=0):\n",
    "    print(\"  \" * indent + f\"Step {step}: index={index}, total={total}\")\n",
    "    \n",
    "    if index < 0:\n",
    "        print(\"  \" * indent + f\"Returning total={total}\")\n",
    "        return total\n",
    "\n",
    "    return sum_with_visualization(numbers, index - 1, total + numbers[index], step + 1, indent + 1)\n",
    "\n",
    "numbers = [5, 4, 3, 2, 1]\n",
    "index = len(numbers) - 1\n",
    "total = 0\n",
    "print(\"Final Sum:\", sum_with_visualization(numbers, index, total))"
   ]
  },
  {
   "cell_type": "code",
   "execution_count": null,
   "id": "32df3f23-5446-437d-a6fd-89f1f78a3960",
   "metadata": {},
   "outputs": [],
   "source": []
  }
 ],
 "metadata": {
  "kernelspec": {
   "display_name": "Python 3 (ipykernel)",
   "language": "python",
   "name": "python3"
  },
  "language_info": {
   "codemirror_mode": {
    "name": "ipython",
    "version": 3
   },
   "file_extension": ".py",
   "mimetype": "text/x-python",
   "name": "python",
   "nbconvert_exporter": "python",
   "pygments_lexer": "ipython3",
   "version": "3.10.12"
  }
 },
 "nbformat": 4,
 "nbformat_minor": 5
}
