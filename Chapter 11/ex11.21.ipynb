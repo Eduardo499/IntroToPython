{
 "cells": [
  {
   "cell_type": "raw",
   "id": "a6efe9e4-207a-4294-a3d6-9fe39f80a8ea",
   "metadata": {},
   "source": [
    "(Project: Quicksort Animation) Look at the QuickSort.mp4 video file provided with this chapter’s examples. Using the techniques you learned in the selection sort animation, modify your solution to Exercise 11.19 to display an animation of the quicksort algorithm in action."
   ]
  },
  {
   "cell_type": "code",
   "execution_count": 4,
   "id": "5e30965b-2744-405b-86c1-6bdbe0f73f0c",
   "metadata": {},
   "outputs": [
    {
     "data": {
      "image/png": "[encoded data removed]",
      "text/plain": [
       "<Figure size 640x480 with 1 Axes>"
      ]
     },
     "metadata": {},
     "output_type": "display_data"
    },
    {
     "data": {
      "text/plain": [
       "<Figure size 640x480 with 0 Axes>"
      ]
     },
     "metadata": {},
     "output_type": "display_data"
    }
   ],
   "source": [
    "import matplotlib.pyplot as plt\n",
    "import matplotlib.animation as animation\n",
    "import numpy as np\n",
    "\n",
    "def partition(array, start, end, ax, bars, interval, swaps):\n",
    "    pivot = array[start]\n",
    "    left = start + 1\n",
    "    right = end\n",
    "\n",
    "    while True:\n",
    "        while left <= right and array[left] <= pivot:\n",
    "            left += 1\n",
    "\n",
    "        while left <= right and array[right] >= pivot:\n",
    "            right -= 1\n",
    "\n",
    "        if left <= right:\n",
    "            array[left], array[right] = array[right], array[left]\n",
    "            swaps.append((left, right))\n",
    "            update_plot(array, ax, bars, interval)\n",
    "        else:\n",
    "            array[start], array[right] = array[right], array[start]\n",
    "            swaps.append((start, right))\n",
    "            update_plot(array, ax, bars, interval)\n",
    "            return right\n",
    "\n",
    "def update_plot(array, ax, bars, interval):\n",
    "    for bar, val in zip(bars, array):\n",
    "        bar.set_height(val)\n",
    "    plt.pause(interval)\n",
    "\n",
    "def quick_sort_helper(array, start, end, ax, bars, interval, swaps):\n",
    "    if start >= end:\n",
    "        return\n",
    "\n",
    "    pivot_index = partition(array, start, end, ax, bars, interval, swaps)\n",
    "\n",
    "    quick_sort_helper(array, start, pivot_index - 1, ax, bars, interval, swaps)\n",
    "    quick_sort_helper(array, pivot_index + 1, end, ax, bars, interval, swaps)\n",
    "\n",
    "def quick_sort(array):\n",
    "    fig, ax = plt.subplots()\n",
    "    bars = ax.bar(range(len(array)), array, color='lightblue')\n",
    "    ax.set_title('QuickSort Animation')\n",
    "    ax.set_xlabel('Index')\n",
    "    ax.set_ylabel('Value')\n",
    "\n",
    "    swaps = []\n",
    "    interval = 0.1 \n",
    "\n",
    "    writer = animation.FFMpegWriter(fps=30, metadata=dict(artist='Me'), bitrate=1800)\n",
    "\n",
    "    with writer.saving(fig, \"quicksort_animation.mp4\", dpi=200):\n",
    "        quick_sort_helper(array, 0, len(array) - 1, ax, bars, interval, swaps)\n",
    "        \n",
    "        for bar in bars:\n",
    "            bar.set_color('green')\n",
    "\n",
    "        plt.draw()\n",
    "        writer.grab_frame()\n",
    "\n",
    "array = [37, 2, 6, 4, 89, 8, 10, 12, 68, 45]\n",
    "\n",
    "quick_sort(array)"
   ]
  },
  {
   "cell_type": "code",
   "execution_count": null,
   "id": "1748b72f-3be4-4aa5-bdd1-473e933b4bf3",
   "metadata": {},
   "outputs": [],
   "source": []
  }
 ],
 "metadata": {
  "kernelspec": {
   "display_name": "Python 3 (ipykernel)",
   "language": "python",
   "name": "python3"
  },
  "language_info": {
   "codemirror_mode": {
    "name": "ipython",
    "version": 3
   },
   "file_extension": ".py",
   "mimetype": "text/x-python",
   "name": "python",
   "nbconvert_exporter": "python",
   "pygments_lexer": "ipython3",
   "version": "3.10.12"
  }
 },
 "nbformat": 4,
 "nbformat_minor": 5
}
