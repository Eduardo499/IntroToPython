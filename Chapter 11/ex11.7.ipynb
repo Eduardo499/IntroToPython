{
 "cells": [
  {
   "cell_type": "raw",
   "id": "7b60ff5d-e8a8-4167-a626-209e4a24a595",
   "metadata": {},
   "source": [
    "(Improving Recursive Fibonacci Performance: Memoization) Research the performance enhancement technique called memoization. Modify Section 11.4’s recursive fibonacci function to incorporate memoization. Compare the performance of both versions for fibonacci(10), fibonacci(20) and fibonacci(30)."
   ]
  },
  {
   "cell_type": "code",
   "execution_count": 1,
   "id": "205e42ff-4a83-4e10-a17b-bbf7986576d3",
   "metadata": {},
   "outputs": [],
   "source": [
    "def fibonacci(n):\n",
    "    if n <= 1:\n",
    "        return n\n",
    "    return fibonacci(n-1) + fibonacci(n-2)"
   ]
  },
  {
   "cell_type": "code",
   "execution_count": 2,
   "id": "13580f01-9cbe-4068-a01b-ff2343b6ef09",
   "metadata": {},
   "outputs": [
    {
     "name": "stdout",
     "output_type": "stream",
     "text": [
      "64.3 µs ± 3.92 µs per loop (mean ± std. dev. of 7 runs, 10,000 loops each)\n"
     ]
    }
   ],
   "source": [
    "%timeit fibonacci(10)"
   ]
  },
  {
   "cell_type": "code",
   "execution_count": 3,
   "id": "c9e7d280-0c46-4a08-87a3-6a1a3d05ee7a",
   "metadata": {},
   "outputs": [
    {
     "name": "stdout",
     "output_type": "stream",
     "text": [
      "7.48 ms ± 180 µs per loop (mean ± std. dev. of 7 runs, 100 loops each)\n"
     ]
    }
   ],
   "source": [
    "%timeit fibonacci(20)"
   ]
  },
  {
   "cell_type": "code",
   "execution_count": 5,
   "id": "0399acea-d63e-42e1-b708-fd5433ada8be",
   "metadata": {},
   "outputs": [
    {
     "name": "stdout",
     "output_type": "stream",
     "text": [
      "883 ms ± 6.3 ms per loop (mean ± std. dev. of 7 runs, 1 loop each)\n"
     ]
    }
   ],
   "source": [
    "%timeit fibonacci(30)"
   ]
  },
  {
   "cell_type": "code",
   "execution_count": 4,
   "id": "220517fd-3550-4156-be15-77f4740529f2",
   "metadata": {},
   "outputs": [],
   "source": [
    "def fibonacci_memo(n, memo={}):\n",
    "    if n in memo:\n",
    "        return memo[n]\n",
    "    if n <= 1:\n",
    "        return n\n",
    "    memo[n] = fibonacci_memo(n-1, memo) + fibonacci_memo(n-2, memo)\n",
    "    return memo[n]"
   ]
  },
  {
   "cell_type": "code",
   "execution_count": 6,
   "id": "2d773ec3-1084-459d-9591-c5b2c083381f",
   "metadata": {},
   "outputs": [
    {
     "name": "stdout",
     "output_type": "stream",
     "text": [
      "396 ns ± 3.07 ns per loop (mean ± std. dev. of 7 runs, 1,000,000 loops each)\n"
     ]
    }
   ],
   "source": [
    "%timeit fibonacci_memo(10)"
   ]
  },
  {
   "cell_type": "code",
   "execution_count": 7,
   "id": "95a78843-a8f7-4f27-9103-5bb59c3b4016",
   "metadata": {},
   "outputs": [
    {
     "name": "stdout",
     "output_type": "stream",
     "text": [
      "393 ns ± 2.09 ns per loop (mean ± std. dev. of 7 runs, 1,000,000 loops each)\n"
     ]
    }
   ],
   "source": [
    "%timeit fibonacci_memo(20)"
   ]
  },
  {
   "cell_type": "code",
   "execution_count": 8,
   "id": "14f80749-dfc4-45b9-a7e6-fb85983ff875",
   "metadata": {},
   "outputs": [
    {
     "name": "stdout",
     "output_type": "stream",
     "text": [
      "392 ns ± 0.586 ns per loop (mean ± std. dev. of 7 runs, 1,000,000 loops each)\n"
     ]
    }
   ],
   "source": [
    "%timeit fibonacci_memo(30)"
   ]
  },
  {
   "cell_type": "code",
   "execution_count": null,
   "id": "9b471246-5d03-4327-b628-9e1700a0d966",
   "metadata": {},
   "outputs": [],
   "source": []
  }
 ],
 "metadata": {
  "kernelspec": {
   "display_name": "Python 3 (ipykernel)",
   "language": "python",
   "name": "python3"
  },
  "language_info": {
   "codemirror_mode": {
    "name": "ipython",
    "version": 3
   },
   "file_extension": ".py",
   "mimetype": "text/x-python",
   "name": "python",
   "nbconvert_exporter": "python",
   "pygments_lexer": "ipython3",
   "version": "3.10.12"
  }
 },
 "nbformat": 4,
 "nbformat_minor": 5
}
