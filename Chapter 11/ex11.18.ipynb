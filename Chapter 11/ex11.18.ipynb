{
 "cells": [
  {
   "cell_type": "raw",
   "id": "a7393085-b406-4231-94d6-031f39e7574f",
   "metadata": {},
   "source": [
    "(Recursive Binary Search) Modify this chapter’s binary_search function to perform a recursive binary search of the array. The function should receive the search key, starting index and ending index as arguments. If the search key is found, return its index in the array. If the search key is not found, return –1."
   ]
  },
  {
   "cell_type": "code",
   "execution_count": 1,
   "id": "32a3ce4b-1ecb-4c72-bca5-cb2de4b4c012",
   "metadata": {},
   "outputs": [
    {
     "name": "stdout",
     "output_type": "stream",
     "text": [
      "Element 7 found at index 3.\n"
     ]
    }
   ],
   "source": [
    "def binary_search(array, key, start, end):\n",
    "    if start > end:\n",
    "        return -1\n",
    "\n",
    "    mid = (start + end) // 2\n",
    "\n",
    "    if array[mid] == key:\n",
    "        return mid\n",
    "\n",
    "    if key < array[mid]:\n",
    "        return binary_search(array, key, start, mid - 1)\n",
    "\n",
    "    return binary_search(array, key, mid + 1, end)\n",
    "\n",
    "array = [1, 3, 5, 7, 9, 11, 13, 15, 17, 19]\n",
    "\n",
    "key = 7\n",
    "\n",
    "index = binary_search(array, key, 0, len(array) - 1)\n",
    "\n",
    "if index != -1:\n",
    "    print(f\"Element {key} found at index {index}.\")\n",
    "else:\n",
    "    print(f\"Element {key} not found.\")"
   ]
  },
  {
   "cell_type": "code",
   "execution_count": null,
   "id": "faafa288-1d87-492a-89d8-62a2cd02513c",
   "metadata": {},
   "outputs": [],
   "source": []
  }
 ],
 "metadata": {
  "kernelspec": {
   "display_name": "Python 3 (ipykernel)",
   "language": "python",
   "name": "python3"
  },
  "language_info": {
   "codemirror_mode": {
    "name": "ipython",
    "version": 3
   },
   "file_extension": ".py",
   "mimetype": "text/x-python",
   "name": "python",
   "nbconvert_exporter": "python",
   "pygments_lexer": "ipython3",
   "version": "3.10.12"
  }
 },
 "nbformat": 4,
 "nbformat_minor": 5
}
