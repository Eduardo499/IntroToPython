{
 "cells": [
  {
   "cell_type": "raw",
   "id": "a934743d-61d7-4df6-8803-3f7b820d166c",
   "metadata": {},
   "source": [
    "(Project: Binary Search Animation) Using the techniques you learned in the selection sort animation, modify the binary search presented in this chapter to display an animation of the algorithm in action. The ch11soundutilities.py files includes functions play_found_sound and play_not_found_sound for use in this exercise."
   ]
  },
  {
   "cell_type": "code",
   "execution_count": 3,
   "id": "183fc74e-fc16-4183-bd83-9b239274c80c",
   "metadata": {},
   "outputs": [
    {
     "ename": "ModuleNotFoundError",
     "evalue": "No module named 'pysine'",
     "output_type": "error",
     "traceback": [
      "\u001b[0;31m---------------------------------------------------------------------------\u001b[0m",
      "\u001b[0;31mModuleNotFoundError\u001b[0m                       Traceback (most recent call last)",
      "Cell \u001b[0;32mIn[3], line 3\u001b[0m\n\u001b[1;32m      1\u001b[0m \u001b[38;5;28;01mimport\u001b[39;00m \u001b[38;5;21;01mmatplotlib\u001b[39;00m\u001b[38;5;21;01m.\u001b[39;00m\u001b[38;5;21;01mpyplot\u001b[39;00m \u001b[38;5;28;01mas\u001b[39;00m \u001b[38;5;21;01mplt\u001b[39;00m\n\u001b[1;32m      2\u001b[0m \u001b[38;5;28;01mimport\u001b[39;00m \u001b[38;5;21;01mmatplotlib\u001b[39;00m\u001b[38;5;21;01m.\u001b[39;00m\u001b[38;5;21;01manimation\u001b[39;00m \u001b[38;5;28;01mas\u001b[39;00m \u001b[38;5;21;01manimation\u001b[39;00m\n\u001b[0;32m----> 3\u001b[0m \u001b[38;5;28;01mfrom\u001b[39;00m \u001b[38;5;21;01mch11soundutilities\u001b[39;00m \u001b[38;5;28;01mimport\u001b[39;00m play_found_sound, play_not_found_sound\n\u001b[1;32m      5\u001b[0m \u001b[38;5;28;01mdef\u001b[39;00m \u001b[38;5;21mbinary_search\u001b[39m(arr, target):\n\u001b[1;32m      6\u001b[0m     low, high \u001b[38;5;241m=\u001b[39m \u001b[38;5;241m0\u001b[39m, \u001b[38;5;28mlen\u001b[39m(arr) \u001b[38;5;241m-\u001b[39m \u001b[38;5;241m1\u001b[39m\n",
      "File \u001b[0;32m~/Python/Intro to Python for Computer Science and Data Science/Chapter 11/ch11soundutilities.py:3\u001b[0m\n\u001b[1;32m      1\u001b[0m \u001b[38;5;66;03m# ch11soundutilities.py\u001b[39;00m\n\u001b[1;32m      2\u001b[0m \u001b[38;5;124;03m\"\"\"Functions to play sounds.\"\"\"\u001b[39;00m\n\u001b[0;32m----> 3\u001b[0m \u001b[38;5;28;01mfrom\u001b[39;00m \u001b[38;5;21;01mpysine\u001b[39;00m \u001b[38;5;28;01mimport\u001b[39;00m sine\n\u001b[1;32m      5\u001b[0m TWELFTH_ROOT_2 \u001b[38;5;241m=\u001b[39m \u001b[38;5;241m1.059463094359\u001b[39m  \u001b[38;5;66;03m# 12th root of 2\u001b[39;00m\n\u001b[1;32m      6\u001b[0m A3 \u001b[38;5;241m=\u001b[39m \u001b[38;5;241m220\u001b[39m  \u001b[38;5;66;03m# hertz frequency for musical note A from third octave \u001b[39;00m\n",
      "\u001b[0;31mModuleNotFoundError\u001b[0m: No module named 'pysine'"
     ]
    }
   ],
   "source": [
    "import matplotlib.pyplot as plt\n",
    "import matplotlib.animation as animation\n",
    "from ch11soundutilities import play_found_sound, play_not_found_sound\n",
    "\n",
    "def binary_search(arr, target):\n",
    "    low, high = 0, len(arr) - 1\n",
    "    steps = []\n",
    "\n",
    "    while low <= high:\n",
    "        mid = (low + high) // 2\n",
    "        steps.append((low, high, mid)) \n",
    "        if arr[mid] == target:\n",
    "            return mid, steps  \n",
    "        elif arr[mid] < target:\n",
    "            low = mid + 1\n",
    "        else:\n",
    "            high = mid - 1\n",
    "\n",
    "    return -1, steps  \n",
    "\n",
    "def animate_binary_search(arr, target):\n",
    "    fig, ax = plt.subplots()\n",
    "    ax.set_xlim(-1, len(arr))\n",
    "    ax.set_ylim(-1, max(arr) + 1)\n",
    "    bars = ax.bar(range(len(arr)), arr, align='center')\n",
    "\n",
    "    def update(frame):\n",
    "        low, high, mid = frame\n",
    "        for rect in bars:\n",
    "            rect.set_color('blue') \n",
    "        bars[mid].set_color('red')\n",
    "\n",
    "        if arr[mid] == target:\n",
    "            play_found_sound() \n",
    "            return bars  \n",
    "        elif low > high:\n",
    "            play_not_found_sound()  \n",
    "            return bars \n",
    "\n",
    "        return bars\n",
    "\n",
    "    target_index, steps = binary_search(arr, target)\n",
    "    anim = animation.FuncAnimation(fig, update, frames=steps, repeat=False)\n",
    "\n",
    "    plt.show()\n",
    "\n",
    "arr = [1, 3, 5, 7, 9, 11, 13, 15, 17, 19]\n",
    "target = 9\n",
    "animate_binary_search(arr, target)"
   ]
  },
  {
   "cell_type": "code",
   "execution_count": null,
   "id": "7c88dc46-79c2-49da-b082-dba76ae73ab5",
   "metadata": {},
   "outputs": [],
   "source": []
  }
 ],
 "metadata": {
  "kernelspec": {
   "display_name": "Python 3 (ipykernel)",
   "language": "python",
   "name": "python3"
  },
  "language_info": {
   "codemirror_mode": {
    "name": "ipython",
    "version": 3
   },
   "file_extension": ".py",
   "mimetype": "text/x-python",
   "name": "python",
   "nbconvert_exporter": "python",
   "pygments_lexer": "ipython3",
   "version": "3.10.12"
  }
 },
 "nbformat": 4,
 "nbformat_minor": 5
}
