{
 "cells": [
  {
   "cell_type": "raw",
   "id": "36794d4f-47b2-431d-bb3d-7a46194cbd34",
   "metadata": {},
   "source": [
    "(Random Order) Write a function that inputs a list and prints the elements of the list in random order on the screen. Use a recursive function order to determine the next element to be printed on screen. Test this function to determine the order in which five participants in a Formula One competition can start. [Hint: Use the pop function to remove an element from a list based on the index of this element.]"
   ]
  },
  {
   "cell_type": "code",
   "execution_count": 1,
   "id": "6bc22292-c10e-4dbf-b02d-bf5fd25503c6",
   "metadata": {},
   "outputs": [
    {
     "name": "stdout",
     "output_type": "stream",
     "text": [
      "Verstappen\n",
      "Leclerc\n",
      "Bottas\n",
      "Sainz\n",
      "Hamilton\n"
     ]
    }
   ],
   "source": [
    "import random\n",
    "\n",
    "def random_order(lst):\n",
    "    if not lst:  \n",
    "        return\n",
    "    index = random.randint(0, len(lst) - 1)\n",
    "    print(lst.pop(index))\n",
    "    random_order(lst)\n",
    "\n",
    "participants = [\"Hamilton\", \"Verstappen\", \"Leclerc\", \"Bottas\", \"Sainz\"]\n",
    "random_order(participants)"
   ]
  },
  {
   "cell_type": "code",
   "execution_count": null,
   "id": "1b98b07e-28de-4135-910f-de6911d92351",
   "metadata": {},
   "outputs": [],
   "source": []
  }
 ],
 "metadata": {
  "kernelspec": {
   "display_name": "Python 3 (ipykernel)",
   "language": "python",
   "name": "python3"
  },
  "language_info": {
   "codemirror_mode": {
    "name": "ipython",
    "version": 3
   },
   "file_extension": ".py",
   "mimetype": "text/x-python",
   "name": "python",
   "nbconvert_exporter": "python",
   "pygments_lexer": "ipython3",
   "version": "3.10.12"
  }
 },
 "nbformat": 4,
 "nbformat_minor": 5
}
