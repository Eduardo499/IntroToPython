{
 "cells": [
  {
   "cell_type": "raw",
   "id": "a743481d-27ca-4ac2-a2c8-6a8dc0eaf842",
   "metadata": {},
   "source": [
    "(Recursive Sum of a List Modification) Modify your solution for Exercise 11.5 to keep track of the total number of function calls. Display the number of calls for different lists with a different number of list elements."
   ]
  },
  {
   "cell_type": "code",
   "execution_count": 1,
   "id": "3552e025-8624-4a7e-9695-a4b747dd2c44",
   "metadata": {},
   "outputs": [
    {
     "name": "stdout",
     "output_type": "stream",
     "text": [
      "List: [5, 4, 3, 2, 1]\n",
      "Sum: 15\n",
      "Call count: 6\n",
      "------------------------------\n",
      "List: [10, 20, 30]\n",
      "Sum: 60\n",
      "Call count: 4\n",
      "------------------------------\n",
      "List: [1]\n",
      "Sum: 1\n",
      "Call count: 2\n",
      "------------------------------\n",
      "List: []\n",
      "Sum: 0\n",
      "Call count: 1\n",
      "------------------------------\n"
     ]
    }
   ],
   "source": [
    "def sum_with_count(numbers, index, total, call_count):\n",
    "    call_count[0] += 1\n",
    "    if index < 0:\n",
    "        return total\n",
    "    return sum_with_count(numbers, index - 1, total + numbers[index], call_count)\n",
    "\n",
    "def calculate_sum_and_calls(numbers):\n",
    "    call_count = [0]  \n",
    "    total = sum_with_count(numbers, len(numbers) - 1, 0, call_count)\n",
    "    print(f\"List: {numbers}\")\n",
    "    print(f\"Sum: {total}\")\n",
    "    print(f\"Call count: {call_count[0]}\")\n",
    "    print(\"-\" * 30)\n",
    "\n",
    "\n",
    "calculate_sum_and_calls([5, 4, 3, 2, 1]) \n",
    "calculate_sum_and_calls([10, 20, 30])     \n",
    "calculate_sum_and_calls([1])            \n",
    "calculate_sum_and_calls([])              "
   ]
  },
  {
   "cell_type": "code",
   "execution_count": null,
   "id": "0e0eefa3-69bb-4f52-8681-49cb8dfcc05d",
   "metadata": {},
   "outputs": [],
   "source": []
  }
 ],
 "metadata": {
  "kernelspec": {
   "display_name": "Python 3 (ipykernel)",
   "language": "python",
   "name": "python3"
  },
  "language_info": {
   "codemirror_mode": {
    "name": "ipython",
    "version": 3
   },
   "file_extension": ".py",
   "mimetype": "text/x-python",
   "name": "python",
   "nbconvert_exporter": "python",
   "pygments_lexer": "ipython3",
   "version": "3.10.12"
  }
 },
 "nbformat": 4,
 "nbformat_minor": 5
}
