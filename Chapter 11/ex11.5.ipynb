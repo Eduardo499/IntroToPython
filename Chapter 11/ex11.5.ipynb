{
 "cells": [
  {
   "cell_type": "raw",
   "id": "22ae95ec-0c9c-4b79-b286-2e578269f6ab",
   "metadata": {},
   "source": [
    "(Recursive Function to Calculate the Sum of a List) Write a recursive function sum(numbers, index, total) that, when called, returns the sum of all the elements in a list of numbers.\n",
    "When, for instance, using the list numbers = [5,4,3,2,1] and initializing index = 4 and total = 0, the function sum(numbers, index, total) should return 15.\n",
    "Hint: The recursion function should first calculate the sum of the total and numbers[index] and then recall itself with index – 1."
   ]
  },
  {
   "cell_type": "code",
   "execution_count": 3,
   "id": "50df63ed-f6c2-48a6-ad9f-a8bee9e87fc1",
   "metadata": {},
   "outputs": [
    {
     "name": "stdout",
     "output_type": "stream",
     "text": [
      "15\n"
     ]
    }
   ],
   "source": [
    "def sum(numbers, index, total):\n",
    "    if index < 0:\n",
    "        return total\n",
    "    return sum(numbers, index - 1, total + numbers[index])\n",
    "\n",
    "numbers = [5, 4, 3, 2, 1]\n",
    "index = 4\n",
    "total = 0\n",
    "print(sum(numbers, index, total))\n"
   ]
  },
  {
   "cell_type": "code",
   "execution_count": null,
   "id": "5cb3078e-3782-480f-988e-c4abe5f30d49",
   "metadata": {},
   "outputs": [],
   "source": []
  }
 ],
 "metadata": {
  "kernelspec": {
   "display_name": "Python 3 (ipykernel)",
   "language": "python",
   "name": "python3"
  },
  "language_info": {
   "codemirror_mode": {
    "name": "ipython",
    "version": 3
   },
   "file_extension": ".py",
   "mimetype": "text/x-python",
   "name": "python",
   "nbconvert_exporter": "python",
   "pygments_lexer": "ipython3",
   "version": "3.10.12"
  }
 },
 "nbformat": 4,
 "nbformat_minor": 5
}
