{
 "cells": [
  {
   "cell_type": "raw",
   "id": "0762131f-2fa6-413b-a305-32914fcc9d58",
   "metadata": {},
   "source": [
    "(Merge Sort: Sorting Subarrays) In the text, we say that after the merge sort splits the array into two subarrays, it then sorts these two subarrays and merges them. Why might someone be puzzled by our statement that “it then sorts these two subarrays”?"
   ]
  },
  {
   "cell_type": "raw",
   "id": "64f0efe9-2fac-4c18-be35-845647019af7",
   "metadata": {},
   "source": [
    "A clearer way to describe this process might be:\n",
    "\n",
    "\"After splitting the array into two subarrays, merge sort recursively sorts these subarrays by further splitting and merging them. Once the subarrays are sorted, they are merged into a single sorted array.\"\n",
    "This phrasing makes it clear that:\n",
    "\n",
    "Sorting the subarrays is not a separate or external process but is done recursively.\n",
    "The merging step assumes that the subarrays are already sorted from the recursive calls."
   ]
  }
 ],
 "metadata": {
  "kernelspec": {
   "display_name": "Python 3 (ipykernel)",
   "language": "python",
   "name": "python3"
  },
  "language_info": {
   "codemirror_mode": {
    "name": "ipython",
    "version": 3
   },
   "file_extension": ".py",
   "mimetype": "text/x-python",
   "name": "python",
   "nbconvert_exporter": "python",
   "pygments_lexer": "ipython3",
   "version": "3.10.12"
  }
 },
 "nbformat": 4,
 "nbformat_minor": 5
}
