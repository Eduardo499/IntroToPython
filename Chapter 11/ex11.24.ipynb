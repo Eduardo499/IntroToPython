{
 "cells": [
  {
   "cell_type": "raw",
   "id": "aeaed547-e0e6-4502-841f-46b238f433a6",
   "metadata": {},
   "source": [
    "(Challenge Project: Animated Towers of Hanoi) The following website https://svn.python.org/projects/stackless/trunk/Demo/tkinter/guido/hanoi.py has an animated implementation of the Towers of Hanoi using the tkinter module. Study the code, then modify it to run faster. [Note: The code has a typo—the import statement for tkinter has a capital T, which should be lowercase.]"
   ]
  },
  {
   "cell_type": "code",
   "execution_count": 3,
   "id": "2cf22869-9c71-4fed-9968-c814a10c2dca",
   "metadata": {},
   "outputs": [],
   "source": [
    "import tkinter as tk\n",
    "\n",
    "def move_disk(from_peg, to_peg):\n",
    "    disk = canvas.find_withtag(from_peg) \n",
    "    canvas.move(disk, to_peg[0] - from_peg[0], to_peg[1] - from_peg[1])\n",
    "\n",
    "def solve_towers_of_hanoi(n, from_peg, to_peg, aux_peg, delay=500):\n",
    "    if n == 1:\n",
    "        move_disk(from_peg, to_peg)\n",
    "        return\n",
    "    solve_towers_of_hanoi(n-1, from_peg, aux_peg, to_peg, delay)\n",
    "    move_disk(from_peg, to_peg)\n",
    "    root.after(delay)\n",
    "    solve_towers_of_hanoi(n-1, aux_peg, to_peg, from_peg, delay)\n",
    "\n",
    "root = tk.Tk()\n",
    "root.title(\"Animated Towers of Hanoi\")\n",
    "\n",
    "canvas = tk.Canvas(root, width=400, height=400)\n",
    "canvas.pack()\n",
    "\n",
    "canvas.create_rectangle(50, 100, 150, 300, fill=\"gray\")\n",
    "canvas.create_rectangle(200, 100, 300, 300, fill=\"gray\")\n",
    "canvas.create_rectangle(350, 100, 450, 300, fill=\"gray\")\n",
    "\n",
    "canvas.create_oval(60, 250, 140, 270, fill=\"red\", tags=\"disk1\")\n",
    "canvas.create_oval(60, 230, 140, 250, fill=\"green\", tags=\"disk2\")\n",
    "canvas.create_oval(60, 210, 140, 230, fill=\"blue\", tags=\"disk3\")\n",
    "\n",
    "solve_towers_of_hanoi(3, (60, 250), (350, 250), (200, 250))\n",
    "\n",
    "root.mainloop()"
   ]
  },
  {
   "cell_type": "code",
   "execution_count": null,
   "id": "bd9086c0-2169-4c5a-a0e2-cc3017a8cd37",
   "metadata": {},
   "outputs": [],
   "source": []
  }
 ],
 "metadata": {
  "kernelspec": {
   "display_name": "Python 3 (ipykernel)",
   "language": "python",
   "name": "python3"
  },
  "language_info": {
   "codemirror_mode": {
    "name": "ipython",
    "version": 3
   },
   "file_extension": ".py",
   "mimetype": "text/x-python",
   "name": "python",
   "nbconvert_exporter": "python",
   "pygments_lexer": "ipython3",
   "version": "3.10.12"
  }
 },
 "nbformat": 4,
 "nbformat_minor": 5
}
