{
 "cells": [
  {
   "cell_type": "raw",
   "id": "218fd1e7-a1ca-44cc-aba4-661834feae8e",
   "metadata": {},
   "source": [
    "(Bucket Sort) A bucket sort begins with a one-dimensional array of positive integers to be sorted and a two-dimensional array of integers with rows indexed from 0 to 9 and columns indexed from 0 to n – 1, where n is the number of values to be sorted. Each row of the two-dimensional array is referred to as a bucket. Write a class named BucketSort containing a function called sort that operates as follows:\n",
    "a) Place each value of the one-dimensional array into a row of the bucket array, based on the value’s “ones” (rightmost) digit. For example, 97 is placed in row 7, 3 is placed in row 3, and 100 is placed in row 0. This procedure is called a distribution pass.\n",
    "b) Loop through the bucket array row by row, and copy the values back to the original array. This procedure is called a gathering pass. The new order of the preceding values in the one-dimensional array is 100, 3 and 97.\n",
    "c) Repeat this process for each subsequent digit position (tens, hundreds, thousands, etc.). On the second (tens digit) pass, 100 is placed in row 0, 3 is placed in row 0 (because 3 has no tens digit), and 97 is placed in row 9. After the gathering pass, the order of the values in the one-dimensional array is 100, 3 and 97. On the third (hundreds digit) pass, 100 is placed in row 1, 3 is placed in row 0, and 97 is placed in row 0 (after the 3). After this last gathering pass, the original array is in sorted order.\n",
    "    The two-dimensional array of buckets is 10 times the length of the integer array being sorted. This sorting technique provides better performance than a selection and insertion sorts but requires much more memory—the selection and insertion sorts require space for only one additional element of data. This comparison is an example of a space/time trade-off: The bucket sort uses more memory than the selection and insertion sorts, but performs better. This version of the bucket sort requires copying all the data back to the original array on each pass. Another possibility is to create a second two-dimensional bucket array and repeatedly swap the data between the two bucket arrays."
   ]
  },
  {
   "cell_type": "code",
   "execution_count": 1,
   "id": "3a6ae649-591f-4bb1-b047-f61babebe3d5",
   "metadata": {},
   "outputs": [
    {
     "name": "stdout",
     "output_type": "stream",
     "text": [
      "Original array: [97, 3, 100, 45, 2, 76, 89, 1, 56]\n",
      "Sorted array: [1, 2, 3, 45, 56, 76, 89, 97, 100]\n"
     ]
    }
   ],
   "source": [
    "class BucketSort:\n",
    "    @staticmethod\n",
    "    def sort(array):\n",
    "        if not array: \n",
    "            return array\n",
    "\n",
    "        max_value = max(array)\n",
    "        num_digits = len(str(max_value))\n",
    "\n",
    "        for digit_position in range(num_digits):\n",
    "            buckets = [[] for _ in range(10)]\n",
    "\n",
    "            for number in array:\n",
    "                digit = (number // (10 ** digit_position)) % 10\n",
    "                buckets[digit].append(number)\n",
    "\n",
    "            array = [number for bucket in buckets for number in bucket]\n",
    "\n",
    "        return array\n",
    "\n",
    "array = [97, 3, 100, 45, 2, 76, 89, 1, 56]\n",
    "\n",
    "sorted_array = BucketSort.sort(array)\n",
    "print(\"Original array:\", array)\n",
    "print(\"Sorted array:\", sorted_array)"
   ]
  },
  {
   "cell_type": "code",
   "execution_count": null,
   "id": "2a7f4258-e584-46cd-abbe-795809548f92",
   "metadata": {},
   "outputs": [],
   "source": []
  }
 ],
 "metadata": {
  "kernelspec": {
   "display_name": "Python 3 (ipykernel)",
   "language": "python",
   "name": "python3"
  },
  "language_info": {
   "codemirror_mode": {
    "name": "ipython",
    "version": 3
   },
   "file_extension": ".py",
   "mimetype": "text/x-python",
   "name": "python",
   "nbconvert_exporter": "python",
   "pygments_lexer": "ipython3",
   "version": "3.10.12"
  }
 },
 "nbformat": 4,
 "nbformat_minor": 5
}
