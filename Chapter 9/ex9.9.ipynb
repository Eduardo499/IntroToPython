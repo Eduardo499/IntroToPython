{
 "cells": [
  {
   "cell_type": "raw",
   "id": "3faa0fc1-94d5-44ff-8774-803a42ba2006",
   "metadata": {},
   "source": [
    "(Telephone-Number Word Generator) In Exercise 5.12, you created a telephone-number word-generator program. Modify that program to write its output to a text file."
   ]
  },
  {
   "cell_type": "code",
   "execution_count": 1,
   "id": "dfc46bdd-c704-48ff-8fec-adf5078948ac",
   "metadata": {},
   "outputs": [
    {
     "name": "stdin",
     "output_type": "stream",
     "text": [
      "Enter a 7-digit phone number (e.g., 2345678):  5644386\n"
     ]
    },
    {
     "name": "stdout",
     "output_type": "stream",
     "text": [
      "Words generated and saved to 'telephone_words.txt'.\n"
     ]
    }
   ],
   "source": [
    "from itertools import product\n",
    "\n",
    "digit_to_letters = {\n",
    "    '2': 'ABC', '3': 'DEF', '4': 'GHI', '5': 'JKL',\n",
    "    '6': 'MNO', '7': 'PQRS', '8': 'TUV', '9': 'WXYZ'\n",
    "}\n",
    "\n",
    "def generate_words(phone_number):\n",
    "    letter_groups = [digit_to_letters[digit] for digit in phone_number if digit in digit_to_letters]\n",
    "    \n",
    "    return [''.join(word) for word in product(*letter_groups)]\n",
    "\n",
    "phone_number = input(\"Enter a 7-digit phone number (e.g., 2345678): \").strip()\n",
    "\n",
    "if len(phone_number) != 7 or not phone_number.isdigit():\n",
    "    print(\"Invalid input. Please enter a 7-digit phone number.\")\n",
    "else:\n",
    "    words = generate_words(phone_number)\n",
    "    \n",
    "    with open(\"telephone_words.txt\", \"w\") as file:\n",
    "        file.write(f\"Telephone Number: {phone_number}\\n\")\n",
    "        file.write(f\"Generated Words ({len(words)}):\\n\")\n",
    "        for word in words:\n",
    "            file.write(word + \"\\n\")\n",
    "    \n",
    "    print(f\"Words generated and saved to 'telephone_words.txt'.\")\n"
   ]
  },
  {
   "cell_type": "code",
   "execution_count": null,
   "id": "3166637c-2067-43b3-912b-555d4f87dce3",
   "metadata": {},
   "outputs": [],
   "source": []
  }
 ],
 "metadata": {
  "kernelspec": {
   "display_name": "Python 3 (ipykernel)",
   "language": "python",
   "name": "python3"
  },
  "language_info": {
   "codemirror_mode": {
    "name": "ipython",
    "version": 3
   },
   "file_extension": ".py",
   "mimetype": "text/x-python",
   "name": "python",
   "nbconvert_exporter": "python",
   "pygments_lexer": "ipython3",
   "version": "3.10.12"
  }
 },
 "nbformat": 4,
 "nbformat_minor": 5
}
