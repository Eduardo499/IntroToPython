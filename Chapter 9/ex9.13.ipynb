{
 "cells": [
  {
   "cell_type": "raw",
   "id": "ee2b5491-2ac0-428a-a4cd-22877cdbb5b3",
   "metadata": {},
   "source": [
    "(Project: Building a Basic Sentiment Analyzer) We’ll do lots of sentiment analysis in the data-science chapters. For example, we’ll look at large numbers of tweets from Twitter on various topics, determining whether people had positive or negative opinions about those topics. We’ll see that many software packages have built-in sentiment-analysis capabilities. In this exercise, you’ll build a basic sentiment analyzer. A basic way to do this is to search online for files of positive words (like happy, pleasant, ...) and files of negative words (like sad, angry, ...). Then, search through a text to see how many positive words and how many negative words it contains. Based on those counts, rate the text as positive, negative or neutral."
   ]
  },
  {
   "cell_type": "code",
   "execution_count": 4,
   "id": "55d604b0-b9f4-4fb7-b4fd-28425e5536d2",
   "metadata": {},
   "outputs": [
    {
     "name": "stdout",
     "output_type": "stream",
     "text": [
      "Sentiment Analysis Results\n",
      "==========================\n",
      "Positive Word Count: 3107\n",
      "Negative Word Count: 2205\n",
      "Overall Sentiment: Positive\n"
     ]
    }
   ],
   "source": [
    "import re\n",
    "\n",
    "def load_words(file_path):\n",
    "    \"\"\"Load words from a file into a set.\"\"\"\n",
    "    with open(file_path, 'r', encoding='utf-8') as file:\n",
    "        words = {line.strip().lower() for line in file if line.strip()}\n",
    "    return words\n",
    "\n",
    "def analyze_sentiment(text, positive_words, negative_words):\n",
    "    \"\"\"Analyze the sentiment of a text.\"\"\"\n",
    "    words = re.findall(r'\\b\\w+\\b', text.lower())\n",
    "    positive_count = sum(1 for word in words if word in positive_words)\n",
    "    negative_count = sum(1 for word in words if word in negative_words)\n",
    "    \n",
    "    if positive_count > negative_count:\n",
    "        sentiment = \"Positive\"\n",
    "    elif negative_count > positive_count:\n",
    "        sentiment = \"Negative\"\n",
    "    else:\n",
    "        sentiment = \"Neutral\"\n",
    "    \n",
    "    return {\n",
    "        \"positive_count\": positive_count,\n",
    "        \"negative_count\": negative_count,\n",
    "        \"sentiment\": sentiment,\n",
    "    }\n",
    "\n",
    "def display_results(results):\n",
    "    \"\"\"Display sentiment analysis results.\"\"\"\n",
    "    print(\"Sentiment Analysis Results\")\n",
    "    print(\"==========================\")\n",
    "    print(f\"Positive Word Count: {results['positive_count']}\")\n",
    "    print(f\"Negative Word Count: {results['negative_count']}\")\n",
    "    print(f\"Overall Sentiment: {results['sentiment']}\")\n",
    "\n",
    "positive_words_file = \"positive-words.txt\" \n",
    "negative_words_file = \"negative-words.txt\" \n",
    "\n",
    "positive_words = load_words(positive_words_file)\n",
    "negative_words = load_words(negative_words_file)\n",
    "\n",
    "input_file = \"ebook.txt\" \n",
    "with open(input_file, 'r', encoding='utf-8') as file:\n",
    "    text = file.read()\n",
    "\n",
    "results = analyze_sentiment(text, positive_words, negative_words)\n",
    "\n",
    "display_results(results)"
   ]
  },
  {
   "cell_type": "raw",
   "id": "159ce34a-f9e3-4406-9ebc-0c07de074e07",
   "metadata": {},
   "source": [
    "Minqing Hu and Bing Liu. \"Mining and Summarizing Customer Reviews.\" \n",
    "    Proceedings of the ACM SIGKDD International Conference on Knowledge \n",
    "    Discovery and Data Mining (KDD-2004), Aug 22-25, 2004, Seattle, \n",
    "    Washington, USA, \n",
    "Bing Liu, Minqing Hu and Junsheng Cheng. \"Opinion Observer: Analyzing \n",
    "    and Comparing Opinions on the Web.\" Proceedings of the 14th \n",
    "    International World Wide Web conference (WWW-2005), May 10-14, \n",
    "    2005, Chiba, Japan."
   ]
  }
 ],
 "metadata": {
  "kernelspec": {
   "display_name": "Python 3 (ipykernel)",
   "language": "python",
   "name": "python3"
  },
  "language_info": {
   "codemirror_mode": {
    "name": "ipython",
    "version": 3
   },
   "file_extension": ".py",
   "mimetype": "text/x-python",
   "name": "python",
   "nbconvert_exporter": "python",
   "pygments_lexer": "ipython3",
   "version": "3.10.12"
  }
 },
 "nbformat": 4,
 "nbformat_minor": 5
}
