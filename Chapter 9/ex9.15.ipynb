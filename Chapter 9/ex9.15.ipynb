{
 "cells": [
  {
   "cell_type": "raw",
   "id": "a5e909bb-2d9b-4745-863e-dcfde1a0e94c",
   "metadata": {},
   "source": [
    "(Project: Working with CSV Datasets Using the csv Module) In the Intro to Data Science section, we loaded the Titanic disaster dataset into a pandas DataFrame, then used DataFrame capabilities to perform some simple analysis of that data. For this exercise, use the csv module to read the Titanic disaster dataset, then manually count the records that contain a value for the age column. Those that do not will have the value 'NA'. For only those records that have an age value, calculate the average age. For this exercise, investigate and use the csv module’s DictReader class."
   ]
  },
  {
   "cell_type": "code",
   "execution_count": 2,
   "id": "7e959adb-5593-443a-aedd-42c6a3823c34",
   "metadata": {},
   "outputs": [
    {
     "name": "stdout",
     "output_type": "stream",
     "text": [
      "File downloaded and saved as TitanicSurvival.csv.\n",
      "\n",
      "Análise do Dataset TitanicSurvival\n",
      "===================================\n",
      "Records with Valid Age: 1046\n",
      "Average Age: 29.88\n"
     ]
    }
   ],
   "source": [
    "import csv\n",
    "import requests\n",
    "\n",
    "def download_csv(url, filename):\n",
    "    response = requests.get(url)\n",
    "    response.raise_for_status() \n",
    "    with open(filename, 'wb') as file:\n",
    "        file.write(response.content)\n",
    "    print(f\"File downloaded and saved as {filename}.\")\n",
    "\n",
    "def analyze_titanic_data(file_path):\n",
    "    total_age = 0\n",
    "    valid_age_count = 0\n",
    "    \n",
    "    with open(file_path, 'r', encoding='utf-8') as file:\n",
    "        reader = csv.DictReader(file)\n",
    "        \n",
    "        for row in reader:\n",
    "            age = row.get('age', 'NA') \n",
    "            if age != 'NA':\n",
    "                try:\n",
    "                    total_age += float(age)\n",
    "                    valid_age_count += 1\n",
    "                except ValueError:\n",
    "                    continue\n",
    "\n",
    "    average_age = total_age / valid_age_count if valid_age_count > 0 else 0\n",
    "\n",
    "    return {\n",
    "        \"valid_age_count\": valid_age_count,\n",
    "        \"average_age\": average_age\n",
    "    }\n",
    "\n",
    "def main():\n",
    "    url = \"https://vincentarelbundock.github.io/Rdatasets/csv/carData/TitanicSurvival.csv\"\n",
    "    filename = \"TitanicSurvival.csv\"\n",
    "\n",
    "    download_csv(url, filename)\n",
    "\n",
    "    results = analyze_titanic_data(filename)\n",
    "\n",
    "    print(\"\\nAnálise do Dataset TitanicSurvival\")\n",
    "    print(\"===================================\")\n",
    "    print(f\"Records with Valid Age: {results['valid_age_count']}\")\n",
    "    print(f\"Average Age: {results['average_age']:.2f}\")\n",
    "\n",
    "if __name__ == \"__main__\":\n",
    "    main()\n"
   ]
  },
  {
   "cell_type": "code",
   "execution_count": null,
   "id": "418eec5f-7ca2-45a3-bef1-23f7346bf409",
   "metadata": {},
   "outputs": [],
   "source": []
  }
 ],
 "metadata": {
  "kernelspec": {
   "display_name": "Python 3 (ipykernel)",
   "language": "python",
   "name": "python3"
  },
  "language_info": {
   "codemirror_mode": {
    "name": "ipython",
    "version": 3
   },
   "file_extension": ".py",
   "mimetype": "text/x-python",
   "name": "python",
   "nbconvert_exporter": "python",
   "pygments_lexer": "ipython3",
   "version": "3.10.12"
  }
 },
 "nbformat": 4,
 "nbformat_minor": 5
}
