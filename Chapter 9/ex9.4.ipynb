{
 "cells": [
  {
   "cell_type": "raw",
   "id": "b5888b5c-63f5-46e9-bb34-b905ba9163a5",
   "metadata": {},
   "source": [
    "(Class Average: Reading Student Records from a CSV File) Use the csv module to read the grades.csv file from the previous exercise. Display the data in tabular format."
   ]
  },
  {
   "cell_type": "code",
   "execution_count": null,
   "id": "376b4518-a784-47e5-9f07-588bf202f170",
   "metadata": {},
   "outputs": [],
   "source": [
    "import csv\n",
    "\n",
    "with open('grades.csv', 'r', newline='') as file:\n",
    "    print(f'{\"First Name\":<15}{\"Last Name\":<15}{\"Exam 1 Grade\":<15}{\"Exam 2 Grade\":<15}{\"Exam 3 Grade\":>15}')\n",
    "    reader = csv.reader(file)\n",
    "    for record in reader:\n",
    "        first_name, last_name, exam1, exam2, exam3 = record\n",
    "        print(f'{first_name:<15}{last_name:<15}{exam1:<15}{exam2:<15}{exam3:>15}')"
   ]
  },
  {
   "cell_type": "code",
   "execution_count": null,
   "id": "5574851e-78b2-435e-891d-b7ea2e15e653",
   "metadata": {},
   "outputs": [],
   "source": []
  }
 ],
 "metadata": {
  "kernelspec": {
   "display_name": "Python 3 (ipykernel)",
   "language": "python",
   "name": "python3"
  },
  "language_info": {
   "codemirror_mode": {
    "name": "ipython",
    "version": 3
   },
   "file_extension": ".py",
   "mimetype": "text/x-python",
   "name": "python",
   "nbconvert_exporter": "python",
   "pygments_lexer": "ipython3",
   "version": "3.10.12"
  }
 },
 "nbformat": 4,
 "nbformat_minor": 5
}
