{
 "cells": [
  {
   "cell_type": "raw",
   "id": "33e7a4a6-b100-4cda-a093-b732116483b7",
   "metadata": {},
   "source": [
    "(Class Average: Writing a Gradebook Dictionary to a JSON File) Reimplement Exercise 9.3 using the json module to write the student information to the file in JSON format. For this exercise, create a dictionary of student data in the following format:\n",
    "    gradebook_dict = {'students': [student1dictionary, student2dictionary, ...]}\n",
    "Each dictionary in the list represents one student and contains the keys 'first_name', 'last_name', 'exam1', 'exam2' and 'exam3', which map to the values representing each student’s first name (string), last name (string) and three exam scores (integers). Output the gradebook_dict in JSON format to the file grades.json."
   ]
  },
  {
   "cell_type": "code",
   "execution_count": 3,
   "id": "21ce0390-3aba-41e8-bb65-5d8672abbf1f",
   "metadata": {},
   "outputs": [
    {
     "name": "stdout",
     "output_type": "stream",
     "text": [
      "Enter student records. Press Enter for the first name to stop.\n"
     ]
    },
    {
     "name": "stdin",
     "output_type": "stream",
     "text": [
      "Enter the student's first name (or press Enter to stop):  John\n",
      "Enter the student's last name:  Stuart\n",
      "Enter Exam 1 grade:  3.5\n",
      "Enter Exam 2 grade:  8.9\n",
      "Enter Exam 3 grade:  9.5\n"
     ]
    },
    {
     "name": "stdout",
     "output_type": "stream",
     "text": [
      "Record added successfully!\n",
      "\n"
     ]
    },
    {
     "name": "stdin",
     "output_type": "stream",
     "text": [
      "Enter the student's first name (or press Enter to stop):  Edward\n",
      "Enter the student's last name:  Armystrong\n",
      "Enter Exam 1 grade:  5.9\n",
      "Enter Exam 2 grade:  3.5\n",
      "Enter Exam 3 grade:  10\n"
     ]
    },
    {
     "name": "stdout",
     "output_type": "stream",
     "text": [
      "Record added successfully!\n",
      "\n"
     ]
    },
    {
     "name": "stdin",
     "output_type": "stream",
     "text": [
      "Enter the student's first name (or press Enter to stop):  \n"
     ]
    },
    {
     "name": "stdout",
     "output_type": "stream",
     "text": [
      "All records have been saved to 'grades.json'.\n"
     ]
    }
   ],
   "source": [
    "import json\n",
    "\n",
    "gradebook_dict = {'students': []}\n",
    "\n",
    "print(\"Enter student records. Press Enter for the first name to stop.\")\n",
    "while True:\n",
    "    first_name = input(\"Enter the student's first name (or press Enter to stop): \")\n",
    "    if first_name == '':\n",
    "        break\n",
    "    last_name = input(\"Enter the student's last name: \")\n",
    "\n",
    "    try:\n",
    "        exam1 = float(input(\"Enter Exam 1 grade: \"))\n",
    "        exam2 = float(input(\"Enter Exam 2 grade: \"))\n",
    "        exam3 = float(input(\"Enter Exam 3 grade: \"))\n",
    "    except ValueError:\n",
    "        print(\"Invalid grade. Please enter float values for grades.\")\n",
    "        continue\n",
    "\n",
    "    student_dict = {\n",
    "        'first_name': first_name,\n",
    "        'last_name': last_name,\n",
    "        'exam1': exam1,\n",
    "        'exam2': exam2,\n",
    "        'exam3': exam3\n",
    "    }\n",
    "    gradebook_dict['students'].append(student_dict)\n",
    "    print(\"Record added successfully!\\n\")\n",
    "\n",
    "with open('grades.json', 'w') as json_file:\n",
    "    json.dump(gradebook_dict, json_file, indent=4)\n",
    "\n",
    "print(\"All records have been saved to 'grades.json'.\")\n"
   ]
  },
  {
   "cell_type": "code",
   "execution_count": null,
   "id": "d3497e57-9da7-4961-a0af-fe5d1f0c3cd1",
   "metadata": {},
   "outputs": [],
   "source": []
  }
 ],
 "metadata": {
  "kernelspec": {
   "display_name": "Python 3 (ipykernel)",
   "language": "python",
   "name": "python3"
  },
  "language_info": {
   "codemirror_mode": {
    "name": "ipython",
    "version": 3
   },
   "file_extension": ".py",
   "mimetype": "text/x-python",
   "name": "python",
   "nbconvert_exporter": "python",
   "pygments_lexer": "ipython3",
   "version": "3.10.12"
  }
 },
 "nbformat": 4,
 "nbformat_minor": 5
}
