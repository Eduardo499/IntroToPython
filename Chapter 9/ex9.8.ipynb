{
 "cells": [
  {
   "cell_type": "raw",
   "id": "f81472f2-90c2-4348-bc00-cd78c8fd904f",
   "metadata": {},
   "source": [
    "(pickle Object Serialization and Deserialization) We mentioned that we prefer to use JSON for object serialization due to the Python documentation’s stern security warnings about pickle. However, pickle has been used to serialize objects for many years, so you’re likely to encounter it in Python legacy code. According to the documentation, “If you are doing your own pickle writing and reading, you’re safe (provided no one else has access to the pickle file, of course.)”14 Reimplement your solutions to Exercises 9.6–9.7 using the pickle module’s dump function to serialize the dictionary into a file and its load function to deserialize the object. Pickle is a binary format, so this exercise requires binary files. Use the file-open mode 'wb' to open the binary file for writing and 'rb' to open the binary file for reading. Function dump receives as arguments an object to serialize and a file object in which to write the serialized object. Function load receives the file object containing the serialized data and returns the original object. The Python documentation suggests the pickle file extension .p."
   ]
  },
  {
   "cell_type": "code",
   "execution_count": 1,
   "id": "e3b6a252-0fe6-4a00-87c9-62350f8f22cd",
   "metadata": {},
   "outputs": [
    {
     "name": "stdout",
     "output_type": "stream",
     "text": [
      "Enter student records. Press Enter for the first name to stop.\n"
     ]
    },
    {
     "name": "stdin",
     "output_type": "stream",
     "text": [
      "Enter the student's first name (or press Enter to stop):  John\n",
      "Enter the student's last name:  Stuart\n",
      "Enter Exam 1 grade:  3.5\n",
      "Enter Exam 2 grade:  9\n",
      "Enter Exam 3 grade:  10\n"
     ]
    },
    {
     "name": "stdout",
     "output_type": "stream",
     "text": [
      "Record added successfully!\n",
      "\n"
     ]
    },
    {
     "name": "stdin",
     "output_type": "stream",
     "text": [
      "Enter the student's first name (or press Enter to stop):  \n"
     ]
    },
    {
     "name": "stdout",
     "output_type": "stream",
     "text": [
      "All records have been saved to 'grades.p'.\n"
     ]
    }
   ],
   "source": [
    "import pickle\n",
    "\n",
    "gradebook_dict = {'students': []}\n",
    "\n",
    "print(\"Enter student records. Press Enter for the first name to stop.\")\n",
    "while True:\n",
    "    first_name = input(\"Enter the student's first name (or press Enter to stop): \")\n",
    "    if first_name == '':\n",
    "        break\n",
    "    last_name = input(\"Enter the student's last name: \")\n",
    "\n",
    "    try:\n",
    "        exam1 = float(input(\"Enter Exam 1 grade: \"))\n",
    "        exam2 = float(input(\"Enter Exam 2 grade: \"))\n",
    "        exam3 = float(input(\"Enter Exam 3 grade: \"))\n",
    "    except ValueError:\n",
    "        print(\"Invalid grade. Please enter float values for grades.\")\n",
    "        continue\n",
    "\n",
    "    student_dict = {\n",
    "        'first_name': first_name,\n",
    "        'last_name': last_name,\n",
    "        'exam1': exam1,\n",
    "        'exam2': exam2,\n",
    "        'exam3': exam3\n",
    "    }\n",
    "    gradebook_dict['students'].append(student_dict)\n",
    "    print(\"Record added successfully!\\n\")\n",
    "\n",
    "with open('grades.p', 'wb') as pickle_file:\n",
    "    pickle.dump(gradebook_dict, pickle_file)\n",
    "\n",
    "print(\"All records have been saved to 'grades.p'.\")\n"
   ]
  },
  {
   "cell_type": "code",
   "execution_count": 2,
   "id": "86de15c9-27f7-4fa1-8cdc-a24a3350bbc5",
   "metadata": {},
   "outputs": [
    {
     "name": "stdout",
     "output_type": "stream",
     "text": [
      "First Name     Last Name      Exam 1 Grade   Exam 2 Grade   Exam 3 Grade   Average        \n",
      "John           Stuart         3.5            9.0            10.0           7.50           \n",
      "\n",
      "Class Averages:\n",
      "                              Exam 1         Exam 2         Exam 3         \n",
      "                              3.50           9.00           10.00          \n"
     ]
    }
   ],
   "source": [
    "import pickle\n",
    "\n",
    "try:\n",
    "    with open('grades.p', 'rb') as pickle_file:\n",
    "        gradebook_dict = pickle.load(pickle_file)\n",
    "except FileNotFoundError:\n",
    "    print(\"The file 'grades.p' was not found.\")\n",
    "    exit()\n",
    "\n",
    "print(f'{\"First Name\":<15}{\"Last Name\":<15}{\"Exam 1 Grade\":<15}{\"Exam 2 Grade\":<15}{\"Exam 3 Grade\":<15}{\"Average\":<15}')\n",
    "\n",
    "exam1_total = 0\n",
    "exam2_total = 0\n",
    "exam3_total = 0\n",
    "student_count = 0\n",
    "\n",
    "for student in gradebook_dict['students']:\n",
    "    first_name = student['first_name']\n",
    "    last_name = student['last_name']\n",
    "    exam1 = student['exam1']\n",
    "    exam2 = student['exam2']\n",
    "    exam3 = student['exam3']\n",
    "    \n",
    "    student_average = (exam1 + exam2 + exam3) / 3\n",
    "    \n",
    "    exam1_total += exam1\n",
    "    exam2_total += exam2\n",
    "    exam3_total += exam3\n",
    "    student_count += 1\n",
    "    \n",
    "    print(f'{first_name:<15}{last_name:<15}{exam1:<15}{exam2:<15}{exam3:<15}{student_average:<15.2f}')\n",
    "\n",
    "if student_count > 0:\n",
    "    exam1_class_average = exam1_total / student_count\n",
    "    exam2_class_average = exam2_total / student_count\n",
    "    exam3_class_average = exam3_total / student_count\n",
    "else:\n",
    "    exam1_class_average = exam2_class_average = exam3_class_average = 0\n",
    "\n",
    "print(\"\\nClass Averages:\")\n",
    "print(f'{\"\":<15}{\"\":<15}{\"Exam 1\":<15}{\"Exam 2\":<15}{\"Exam 3\":<15}')\n",
    "print(f'{\"\":<15}{\"\":<15}{exam1_class_average:<15.2f}{exam2_class_average:<15.2f}{exam3_class_average:<15.2f}')\n"
   ]
  },
  {
   "cell_type": "code",
   "execution_count": null,
   "id": "2d733002-1170-471a-af4e-6ef67ea5525a",
   "metadata": {},
   "outputs": [],
   "source": []
  }
 ],
 "metadata": {
  "kernelspec": {
   "display_name": "Python 3 (ipykernel)",
   "language": "python",
   "name": "python3"
  },
  "language_info": {
   "codemirror_mode": {
    "name": "ipython",
    "version": 3
   },
   "file_extension": ".py",
   "mimetype": "text/x-python",
   "name": "python",
   "nbconvert_exporter": "python",
   "pygments_lexer": "ipython3",
   "version": "3.10.12"
  }
 },
 "nbformat": 4,
 "nbformat_minor": 5
}
