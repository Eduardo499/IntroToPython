{
 "cells": [
  {
   "cell_type": "raw",
   "id": "345c4d1d-90d4-4446-a768-268a1da9b811",
   "metadata": {},
   "source": [
    "(Project: Basic Similarity Detection via Average Sentence Length and Average Word Length) Who actually wrote William Shakespeare’s works? Some researchers believe that Sir Francis Bacon may have authored some or all of these works. Download one of Shakespeare’s works and one of Bacon’s works from Project Gutenberg. For each, calculate the average sentence length and average word length. Are these close? Compute other statistics as well."
   ]
  },
  {
   "cell_type": "code",
   "execution_count": 3,
   "id": "07107a0a-e151-4ac9-9b71-48d6f103d673",
   "metadata": {},
   "outputs": [
    {
     "name": "stdout",
     "output_type": "stream",
     "text": [
      "Statistics for Shakespeare's Work\n",
      "===============================\n",
      "Total Words: 29575\n",
      "Total Characters: 122288\n",
      "Total Sentences: 2366\n",
      "Average Word Length: 4.13\n",
      "Average Sentence Length: 12.50 words\n",
      "\n",
      "Statistics for Bacon's Work\n",
      "=========================\n",
      "Total Words: 52237\n",
      "Total Characters: 230110\n",
      "Total Sentences: 1827\n",
      "Average Word Length: 4.41\n",
      "Average Sentence Length: 28.59 words\n",
      "\n"
     ]
    }
   ],
   "source": [
    "import re\n",
    "\n",
    "def clean_text(text):\n",
    "    text = re.sub(r'[^\\w\\s]', '', text)\n",
    "    return text.lower()\n",
    "\n",
    "def calculate_statistics(text):\n",
    "    cleaned_text = clean_text(text)\n",
    "    words = re.findall(r'\\b\\w+\\b', cleaned_text)\n",
    "    sentences = re.split(r'[.!?]', text)\n",
    "\n",
    "    total_words = len(words)\n",
    "    total_characters = sum(len(word) for word in words)\n",
    "    total_sentences = len(sentences)\n",
    "    avg_word_length = total_characters / total_words if total_words > 0 else 0\n",
    "    avg_sentence_length = total_words / total_sentences if total_sentences > 0 else 0\n",
    "\n",
    "    return {\n",
    "        \"total_words\": total_words,\n",
    "        \"total_characters\": total_characters,\n",
    "        \"total_sentences\": total_sentences,\n",
    "        \"avg_word_length\": avg_word_length,\n",
    "        \"avg_sentence_length\": avg_sentence_length\n",
    "    }\n",
    "\n",
    "def display_statistics(stats, title):\n",
    "    print(f\"Statistics for {title}\")\n",
    "    print(\"=\" * (13 + len(title)))\n",
    "    print(f\"Total Words: {stats['total_words']}\")\n",
    "    print(f\"Total Characters: {stats['total_characters']}\")\n",
    "    print(f\"Total Sentences: {stats['total_sentences']}\")\n",
    "    print(f\"Average Word Length: {stats['avg_word_length']:.2f}\")\n",
    "    print(f\"Average Sentence Length: {stats['avg_sentence_length']:.2f} words\")\n",
    "    print()\n",
    "\n",
    "def main():\n",
    "    shakespeare_file = \"shakespeare.txt\" \n",
    "    bacon_file = \"bacon.txt\" \n",
    "\n",
    "    with open(shakespeare_file, 'r', encoding='utf-8') as file:\n",
    "        shakespeare_text = file.read()\n",
    "\n",
    "    with open(bacon_file, 'r', encoding='utf-8') as file:\n",
    "        bacon_text = file.read()\n",
    "\n",
    "    shakespeare_stats = calculate_statistics(shakespeare_text)\n",
    "    bacon_stats = calculate_statistics(bacon_text)\n",
    "\n",
    "    display_statistics(shakespeare_stats, \"Shakespeare's Work\")\n",
    "    display_statistics(bacon_stats, \"Bacon's Work\")\n",
    "\n",
    "if __name__ == \"__main__\":\n",
    "    main()\n"
   ]
  },
  {
   "cell_type": "code",
   "execution_count": null,
   "id": "c8373707-4789-40cb-bb88-6383cbe487b8",
   "metadata": {},
   "outputs": [],
   "source": []
  }
 ],
 "metadata": {
  "kernelspec": {
   "display_name": "Python 3 (ipykernel)",
   "language": "python",
   "name": "python3"
  },
  "language_info": {
   "codemirror_mode": {
    "name": "ipython",
    "version": 3
   },
   "file_extension": ".py",
   "mimetype": "text/x-python",
   "name": "python",
   "nbconvert_exporter": "python",
   "pygments_lexer": "ipython3",
   "version": "3.10.12"
  }
 },
 "nbformat": 4,
 "nbformat_minor": 5
}
