{
 "cells": [
  {
   "cell_type": "raw",
   "id": "bc9d3f91-e596-4d11-9746-55be558cfff5",
   "metadata": {},
   "source": [
    "(Class Average: Reading Grades from a Plain Text File) In an IPython session, write code that reads the grades from the grades.txt file you created in the previous exercise. Display the individual grades and their total, count and average."
   ]
  },
  {
   "cell_type": "code",
   "execution_count": 13,
   "id": "513dd627-525d-4069-b903-55057ebc6249",
   "metadata": {},
   "outputs": [
    {
     "name": "stdout",
     "output_type": "stream",
     "text": [
      "Total: 56.00\n",
      "Count: 9\n",
      "Average: 6.22\n"
     ]
    }
   ],
   "source": [
    "total = 0\n",
    "count = 0\n",
    "\n",
    "try:\n",
    "    with open('grades.txt', 'r') as file:\n",
    "        for grade in file:\n",
    "            try:\n",
    "                count += 1\n",
    "                total += float(grade)\n",
    "            except ValueError:\n",
    "                print(f\"Invalid grade found and ignored: {grade.strip()}\")\n",
    "                \n",
    "        if count > 0:\n",
    "            print(f'Total: {total:.2f}')\n",
    "            print(f'Count: {count}')\n",
    "            print(f'Average: {(total / count):.2f}')\n",
    "        else:\n",
    "            print(\"No valid grades to calculate the average.\")\n",
    "except FileNotFoundError: \n",
    "    print(f'File \"grades.txt\" not found.')\n",
    "\n"
   ]
  },
  {
   "cell_type": "code",
   "execution_count": null,
   "id": "ba179707-e645-4f93-8180-d71c2887c1f2",
   "metadata": {},
   "outputs": [],
   "source": []
  }
 ],
 "metadata": {
  "kernelspec": {
   "display_name": "Python 3 (ipykernel)",
   "language": "python",
   "name": "python3"
  },
  "language_info": {
   "codemirror_mode": {
    "name": "ipython",
    "version": 3
   },
   "file_extension": ".py",
   "mimetype": "text/x-python",
   "name": "python",
   "nbconvert_exporter": "python",
   "pygments_lexer": "ipython3",
   "version": "3.10.12"
  }
 },
 "nbformat": 4,
 "nbformat_minor": 5
}
