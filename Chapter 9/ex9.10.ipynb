{
 "cells": [
  {
   "cell_type": "raw",
   "id": "4946b260-d872-4423-97a1-e4a63c3daafe",
   "metadata": {},
   "source": [
    "(Project: Analyzing a Book from Project Gutenberg) A great source of plain text files is the collection of over 57,000 free e-books at Project Gutenberg:\n",
    "    https://www.gutenberg.org\n",
    "These books are out of copyright in the United States. For information about Project Gutenberg’s Terms of Use and copyright in other countries, see:\n",
    "    https://www.gutenberg.org/wiki/Gutenberg:Terms_of_Use\n",
    "Download the text-file version of Pride and Prejudice from Project Gutenberg\n",
    "    https://www.gutenberg.org/ebooks/1342\n",
    "Create a script that reads Pride and Prejudice from a text file. Produce statistics about the book, including the total word count, the total character count, the average word length, the average sentence length, a word distribution containing frequency counts of all words, and the top 10 longest words. In the “Natural Language Processing (NLP)” chapter, you’ll\n",
    "find lots of more sophisticated techniques for analyzing and comparing such texts.\n",
    "    Each Project Gutenberg e-book begins and ends with some additional text, such as\n",
    "licensing information, which is not part of the e-book itself. You may want to remove\n",
    "that text from your copy of the book before analyzing its text."
   ]
  },
  {
   "cell_type": "code",
   "execution_count": 6,
   "id": "a654d95f-c5c3-4ea2-9c88-ffdb866568e7",
   "metadata": {},
   "outputs": [
    {
     "name": "stdout",
     "output_type": "stream",
     "text": [
      "Analysis complete. Results saved to 'pride_and_prejudice_analysis.txt'.\n"
     ]
    }
   ],
   "source": [
    "import re\n",
    "from collections import Counter\n",
    "\n",
    "def analyze(file_path):\n",
    "    with open(file_path, 'r') as file:\n",
    "        text = file.read()\n",
    "    words = re.findall(r'\\b\\w+\\b', text.lower())\n",
    "    sentences = re.split(r'[.!?]', text)\n",
    "\n",
    "    total_word_count = len(words)\n",
    "    total_character_count = sum(len(word) for word in words)\n",
    "    avg_word_length = total_character_count / total_word_count if total_word_count > 0 else 0\n",
    "    \n",
    "    avg_sentence_length = total_word_count / len(sentences) if len(sentences) > 0 else 0\n",
    "    \n",
    "    word_distribution = Counter(words)\n",
    "    \n",
    "    unique_words = set(words)\n",
    "    longest_words = sorted(unique_words, key=len, reverse=True)[:10]\n",
    "    return {\n",
    "        \"total_word_count\": total_word_count,\n",
    "        \"total_character_count\": total_character_count,\n",
    "        \"avg_word_length\": avg_word_length,\n",
    "        \"avg_sentence_length\": avg_sentence_length,\n",
    "        \"word_distribution\": word_distribution,\n",
    "        \"longest_words\": longest_words,\n",
    "    }\n",
    "\n",
    "def save(results, output_file):\n",
    "    with open(output_file, 'w', encoding='utf-8') as file:\n",
    "        file.write(\"Book Analysis Results\\n\")\n",
    "        file.write(\"======================\\n\")\n",
    "        file.write(f\"Total Word Count: {results['total_word_count']}\\n\")\n",
    "        file.write(f\"Total Character Count: {results['total_character_count']}\\n\")\n",
    "        file.write(f\"Average Word Length: {results['avg_word_length']:.2f}\\n\")\n",
    "        file.write(f\"Average Sentence Length: {results['avg_sentence_length']:.2f} words\\n\")\n",
    "        file.write(\"\\nTop 10 Longest Words:\\n\")\n",
    "        for word in results['longest_words']:\n",
    "            file.write(f\"{word}\\n\")\n",
    "        file.write(\"\\nWord Frequency Distribution (Top 20):\\n\")\n",
    "        for word, count in results['word_distribution'].most_common(20):\n",
    "            file.write(f\"{word}: {count}\\n\")\n",
    "\n",
    "input_file = \"ebook.txt\"\n",
    "output_file = \"pride_and_prejudice_analysis.txt\"\n",
    "\n",
    "results = analyze(input_file)\n",
    "\n",
    "save(results, output_file)\n",
    "\n",
    "print(f\"Analysis complete. Results saved to '{output_file}'.\")"
   ]
  },
  {
   "cell_type": "code",
   "execution_count": null,
   "id": "c3d7640d-253e-48c1-b925-decd3f0ad7ec",
   "metadata": {},
   "outputs": [],
   "source": []
  }
 ],
 "metadata": {
  "kernelspec": {
   "display_name": "Python 3 (ipykernel)",
   "language": "python",
   "name": "python3"
  },
  "language_info": {
   "codemirror_mode": {
    "name": "ipython",
    "version": 3
   },
   "file_extension": ".py",
   "mimetype": "text/x-python",
   "name": "python",
   "nbconvert_exporter": "python",
   "pygments_lexer": "ipython3",
   "version": "3.10.12"
  }
 },
 "nbformat": 4,
 "nbformat_minor": 5
}
