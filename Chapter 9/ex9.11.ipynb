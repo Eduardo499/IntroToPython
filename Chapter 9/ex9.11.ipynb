{
 "cells": [
  {
   "cell_type": "raw",
   "id": "3aea4aab-8b66-4af3-8af1-a28b4a355c85",
   "metadata": {},
   "source": [
    "(Project: Visualizing Word Frequencies with a Word Cloud) A word cloud visualizes words, displaying more frequently occurring words in larger fonts. In this exercise, you’ll create a word cloud that visualizes the top 200 words in Pride and Prejudice. You’ll use the open-source wordcloud module’s15 WordCloud class to generate a word cloud with\n",
    "just a few lines of code. To install wordcloud, open your Anaconda Prompt (Windows), Terminal (macOS/Linux) or shell (Linux) and enter the command:\n",
    "    conda install -c conda-forge wordcloud\n",
    "You create and configure a WordCloud object as follows:\n",
    "    from wordcloud import WordCloud\n",
    "    wordcloud = WordCloud(colormap='prism', background_color='white')\n",
    "Using the techniques from the previous exercise, create a frequencies dictionary containing the frequencies of the top-200 words in Pride and Prejudice. Then execute the following statements to generate a rectangular word cloud and save its image to a file on disk:\n",
    "    wordcloud = wordcloud.fit_words(frequencies)\n",
    "    wordcloud = wordcloud.to_file('PrideAndPrejudice.png')\n",
    "You can then double-click the PrideAndPrejudice.png image file on your system to view it. In the “Natural Language Processing” chapter, we’ll show you how to place your word clouds into shapes. For example, we placed our Romeo and Juliet word cloud into a heart."
   ]
  },
  {
   "cell_type": "code",
   "execution_count": 5,
   "id": "c9cc44fd-e4ed-4968-8917-364b62221561",
   "metadata": {},
   "outputs": [
    {
     "name": "stdout",
     "output_type": "stream",
     "text": [
      "Word cloud saved to 'PrideAndPrejudice.png'.\n"
     ]
    }
   ],
   "source": [
    "import re\n",
    "from collections import Counter\n",
    "from wordcloud import WordCloud\n",
    "\n",
    "def get_word_frequencies(text, top_n=200):\n",
    "    \"\"\"Get the frequencies of the top N words.\"\"\"\n",
    "    words = re.findall(r'\\b\\w+\\b', text.lower())\n",
    "    stop_words = {\n",
    "        'the', 'and', 'to', 'of', 'a', 'in', 'that', 'it', 'is', 'was', \n",
    "        'he', 'for', 'on', 'as', 'with', 'his', 'i', 'at', 'by', 'this',\n",
    "        'had', 'not', 'be', 'but', 'from', 'or', 'an', 'which', 'you',\n",
    "        'were', 'her', 'she', 'they', 'we', 'their', 'him', 'been', \n",
    "        'has', 'are', 'will', 'all', 'would', 'there', 'one', 'so',\n",
    "        'if', 'no', 'when', 'more', 'who', 'what', 'my', 'them', \n",
    "        'me', 'than', 'its', 'out', 'into', 'about', 'up', 'then', \n",
    "        'now', 'some', 'over', 'only', 'any', 'how', 'may', 'your'\n",
    "    } \n",
    "    \n",
    "    filtered_words = [word for word in words if word not in stop_words]\n",
    "    word_counts = Counter(filtered_words)\n",
    "    return dict(word_counts.most_common(top_n))\n",
    "\n",
    "def create_wordcloud(frequencies, output_file):\n",
    "    \"\"\"Generate and save a word cloud image.\"\"\"\n",
    "    wordcloud = WordCloud(colormap='prism', background_color='white', width=800, height=400)\n",
    "    wordcloud = wordcloud.fit_words(frequencies)\n",
    "    wordcloud.to_file(output_file)\n",
    "    print(f\"Word cloud saved to '{output_file}'.\")\n",
    "\n",
    "input_file = \"ebook.txt\"  \n",
    "output_file = \"PrideAndPrejudice.png\"\n",
    "\n",
    "with open(input_file, 'r', encoding='utf-8') as file:\n",
    "    text = file.read()\n",
    "\n",
    "frequencies = get_word_frequencies(text)\n",
    "\n",
    "create_wordcloud(frequencies, output_file)"
   ]
  },
  {
   "cell_type": "code",
   "execution_count": null,
   "id": "9aadfa0b-cbc7-4dbd-a824-4bd703eee4e5",
   "metadata": {},
   "outputs": [],
   "source": []
  }
 ],
 "metadata": {
  "kernelspec": {
   "display_name": "Python 3 (ipykernel)",
   "language": "python",
   "name": "python3"
  },
  "language_info": {
   "codemirror_mode": {
    "name": "ipython",
    "version": 3
   },
   "file_extension": ".py",
   "mimetype": "text/x-python",
   "name": "python",
   "nbconvert_exporter": "python",
   "pygments_lexer": "ipython3",
   "version": "3.10.12"
  }
 },
 "nbformat": 4,
 "nbformat_minor": 5
}
