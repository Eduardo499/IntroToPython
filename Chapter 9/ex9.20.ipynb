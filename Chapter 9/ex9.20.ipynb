{
 "cells": [
  {
   "cell_type": "raw",
   "id": "9cd90633-5a52-4985-a843-2c75134bade5",
   "metadata": {},
   "source": [
    "(Challenging Project: A Spell Checker) Many apps you use daily have built-in spell checkers. In the “Natural Language Processing,” “Machine Learning” and “Deep Learning” chapters, you’ll learn techniques that can be used to build sophisticated spell checkers. In this project, you’ll take a simpler, more mechanical approach. You’ll need a computerized dictionary as a source of words.\n",
    "    Why do we type so many words incorrectly? In some cases, it’s because we do not know the correct spelling, so we guess. In some cases, it’s because we transpose two letters (e.g., “defualt” instead of “default”). Sometimes we accidentally double-type a letter (e.g., “hanndy” instead of “handy”). Sometimes we type a nearby key instead of the one we intended (e.g., “biryhday” instead of “birthday”), and so on.\n",
    "    Design and implement a spell-checker application. Create a text file that has some words spelled correctly and some misspelled. Your script should look up each word in the dictionary. Your script should point out each incorrect word and suggest some correct alternatives that might have been what was intended.\n",
    "    For example, you can try all possible single transpositions of adjacent letters to discover that the word “default” is a direct match for “default.” Of course, this implies that your application will check all other single transpositions, such as “edfault,” “dfeault,” “deafult,” “defalut” and “defautl.” When you find a new transposition that matches a word in the dictionary, print it in a message, such as\n",
    "        Did you mean \"default\"?\n",
    "    Implement other tests, such as replacing each double letter with a single letter, and any other tests you can develop to improve the value of your spell checker."
   ]
  },
  {
   "cell_type": "code",
   "execution_count": null,
   "id": "1370512d-0872-44f6-abde-4b76ff7318e2",
   "metadata": {},
   "outputs": [],
   "source": []
  }
 ],
 "metadata": {
  "kernelspec": {
   "display_name": "Python 3 (ipykernel)",
   "language": "python",
   "name": "python3"
  },
  "language_info": {
   "codemirror_mode": {
    "name": "ipython",
    "version": 3
   },
   "file_extension": ".py",
   "mimetype": "text/x-python",
   "name": "python",
   "nbconvert_exporter": "python",
   "pygments_lexer": "ipython3",
   "version": "3.10.12"
  }
 },
 "nbformat": 4,
 "nbformat_minor": 5
}
