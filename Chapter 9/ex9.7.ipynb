{
 "cells": [
  {
   "cell_type": "raw",
   "id": "589517c8-ba2a-4ad3-9c0c-2f0c2df94980",
   "metadata": {},
   "source": [
    "(Class Average: Reading a Gradebook Dictionary from a JSON File) Reimplement Exercise 9.4 using the json module to read the grades.json file created in the previous exercise. Display the data in tabular format, including an additional column showing each student’s average to the right of that student’s three exam grades and an additional row showing the class average on each exam below that exam’s column."
   ]
  },
  {
   "cell_type": "code",
   "execution_count": 1,
   "id": "c6b3a1eb-83f0-4e7e-9016-5de875b893d3",
   "metadata": {},
   "outputs": [
    {
     "name": "stdout",
     "output_type": "stream",
     "text": [
      "First Name     Last Name      Exam 1 Grade   Exam 2 Grade   Exam 3 Grade   Average        \n",
      "John           Stuart         3.5            8.9            9.5            7.30           \n",
      "Edward         Armystrong     5.9            3.5            10.0           6.47           \n",
      "\n",
      "Class Averages:\n",
      "                              Exam 1         Exam 2         Exam 3         \n",
      "                              4.70           6.20           9.75           \n"
     ]
    }
   ],
   "source": [
    "import json\n",
    "\n",
    "with open('grades.json', 'r') as json_file:\n",
    "    gradebook_dict = json.load(json_file)\n",
    "\n",
    "print(f'{\"First Name\":<15}{\"Last Name\":<15}{\"Exam 1 Grade\":<15}{\"Exam 2 Grade\":<15}{\"Exam 3 Grade\":<15}{\"Average\":<15}')\n",
    "\n",
    "exam1_total = 0\n",
    "exam2_total = 0\n",
    "exam3_total = 0\n",
    "student_count = 0\n",
    "\n",
    "for student in gradebook_dict['students']:\n",
    "    first_name = student['first_name']\n",
    "    last_name = student['last_name']\n",
    "    exam1 = student['exam1']\n",
    "    exam2 = student['exam2']\n",
    "    exam3 = student['exam3']\n",
    "    \n",
    "    student_average = (exam1 + exam2 + exam3) / 3\n",
    "    \n",
    "    exam1_total += exam1\n",
    "    exam2_total += exam2\n",
    "    exam3_total += exam3\n",
    "    student_count += 1\n",
    "    \n",
    "    print(f'{first_name:<15}{last_name:<15}{exam1:<15}{exam2:<15}{exam3:<15}{student_average:<15.2f}')\n",
    "\n",
    "if student_count > 0:\n",
    "    exam1_class_average = exam1_total / student_count\n",
    "    exam2_class_average = exam2_total / student_count\n",
    "    exam3_class_average = exam3_total / student_count\n",
    "else:\n",
    "    exam1_class_average = exam2_class_average = exam3_class_average = 0\n",
    "\n",
    "print(\"\\nClass Averages:\")\n",
    "print(f'{\"\":<15}{\"\":<15}{\"Exam 1\":<15}{\"Exam 2\":<15}{\"Exam 3\":<15}')\n",
    "print(f'{\"\":<15}{\"\":<15}{exam1_class_average:<15.2f}{exam2_class_average:<15.2f}{exam3_class_average:<15.2f}')\n"
   ]
  },
  {
   "cell_type": "code",
   "execution_count": null,
   "id": "d580253c-9d8b-40d5-bcdb-1efc31c1df9d",
   "metadata": {},
   "outputs": [],
   "source": []
  }
 ],
 "metadata": {
  "kernelspec": {
   "display_name": "Python 3 (ipykernel)",
   "language": "python",
   "name": "python3"
  },
  "language_info": {
   "codemirror_mode": {
    "name": "ipython",
    "version": 3
   },
   "file_extension": ".py",
   "mimetype": "text/x-python",
   "name": "python",
   "nbconvert_exporter": "python",
   "pygments_lexer": "ipython3",
   "version": "3.10.12"
  }
 },
 "nbformat": 4,
 "nbformat_minor": 5
}
