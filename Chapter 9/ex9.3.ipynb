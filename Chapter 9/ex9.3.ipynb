{
 "cells": [
  {
   "cell_type": "raw",
   "id": "0089f616-9211-4073-9a14-a5207a0d1537",
   "metadata": {},
   "source": [
    "(Class Average: Writing Student Records to a CSV File) An instructor teaches a class in which each student takes three exams. The instructor would like to store this information in a file named grades.csv for later use. Write code that enables an instructor to enter each student’s first name and last name as strings and the student’s three exam grades as integers. Use the csv module to write each record into the grades.csv file. Each record should be a single line of text in the following CSV format:\n",
    "    firstname,lastname,exam1grade,exam2grade,exam3grade"
   ]
  },
  {
   "cell_type": "code",
   "execution_count": 2,
   "id": "e2067271-c197-4e8c-9fe6-9e16779d5e28",
   "metadata": {},
   "outputs": [
    {
     "name": "stdout",
     "output_type": "stream",
     "text": [
      "Enter student records. Press Enter for the first name to stop.\n"
     ]
    },
    {
     "name": "stdin",
     "output_type": "stream",
     "text": [
      "Enter the student's first name (or press Enter to stop):  John\n",
      "Enter the student's last name:  Stuart\n",
      "Enter Exam 1 grade:  3.5\n",
      "Enter Exam 2 grade:  8.9\n",
      "Enter Exam 3 grade:  9.5\n"
     ]
    },
    {
     "name": "stdout",
     "output_type": "stream",
     "text": [
      "Record added successfully!\n",
      "\n"
     ]
    },
    {
     "name": "stdin",
     "output_type": "stream",
     "text": [
      "Enter the student's first name (or press Enter to stop):  Edward\n",
      "Enter the student's last name:  Armystrong\n",
      "Enter Exam 1 grade:  5.9\n",
      "Enter Exam 2 grade:  3.5\n",
      "Enter Exam 3 grade:  10\n"
     ]
    },
    {
     "name": "stdout",
     "output_type": "stream",
     "text": [
      "Record added successfully!\n",
      "\n"
     ]
    },
    {
     "name": "stdin",
     "output_type": "stream",
     "text": [
      "Enter the student's first name (or press Enter to stop):  \n"
     ]
    },
    {
     "name": "stdout",
     "output_type": "stream",
     "text": [
      "All records have been saved to 'grades.csv'.\n"
     ]
    }
   ],
   "source": [
    "import csv\n",
    "\n",
    "with open('grades.csv', 'a', newline='') as file:\n",
    "    writer = csv.writer(file)\n",
    "\n",
    "    print(\"Enter student records. Press Enter for the first name to stop.\")\n",
    "    while True:\n",
    "        first_name = input(\"Enter the student's first name (or press Enter to stop): \")\n",
    "        if first_name == '':\n",
    "            break\n",
    "        last_name = input(\"Enter the student's last name: \")\n",
    "\n",
    "        try:\n",
    "            exam1 = float(input(\"Enter Exam 1 grade: \"))\n",
    "            exam2 = float(input(\"Enter Exam 2 grade: \"))\n",
    "            exam3 = float(input(\"Enter Exam 3 grade: \"))\n",
    "        except ValueError:\n",
    "            print(\"Invalid grade. Please enter float values for grades.\")\n",
    "            continue\n",
    "\n",
    "        writer.writerow([first_name, last_name, exam1, exam2, exam3])\n",
    "        print(\"Record added successfully!\\n\")\n",
    "\n",
    "print(\"All records have been saved to 'grades.csv'.\")"
   ]
  },
  {
   "cell_type": "code",
   "execution_count": null,
   "id": "2d8dfe51-0db8-4a9e-b02d-be368a354658",
   "metadata": {},
   "outputs": [],
   "source": []
  }
 ],
 "metadata": {
  "kernelspec": {
   "display_name": "Python 3 (ipykernel)",
   "language": "python",
   "name": "python3"
  },
  "language_info": {
   "codemirror_mode": {
    "name": "ipython",
    "version": 3
   },
   "file_extension": ".py",
   "mimetype": "text/x-python",
   "name": "python",
   "nbconvert_exporter": "python",
   "pygments_lexer": "ipython3",
   "version": "3.10.12"
  }
 },
 "nbformat": 4,
 "nbformat_minor": 5
}
