{
 "cells": [
  {
   "cell_type": "raw",
   "id": "3b0778d2-8581-4c00-a681-4ef414877eab",
   "metadata": {},
   "source": [
    "(Class Average: Writing Grades to a Plain Text File) Figure 3.2 presented a class-average script in which you could enter any number of grades followed by a sentinel value, then calculate the class average. Another approach would be to read the grades from a file. In an IPython session, write code that enables you to store any number of grades into a grades.txt plain text file."
   ]
  },
  {
   "cell_type": "code",
   "execution_count": 16,
   "id": "7978e32e-6995-4fce-a067-6c1faa298a28",
   "metadata": {},
   "outputs": [
    {
     "name": "stdout",
     "output_type": "stream",
     "text": [
      "Enter grades to add. Press Enter without typing anything to stop.\n"
     ]
    },
    {
     "name": "stdin",
     "output_type": "stream",
     "text": [
      "Enter a grade (or press Enter to finish):  3\n",
      "Enter a grade (or press Enter to finish):  5\n",
      "Enter a grade (or press Enter to finish):  8\n",
      "Enter a grade (or press Enter to finish):  9\n",
      "Enter a grade (or press Enter to finish):  10\n",
      "Enter a grade (or press Enter to finish):  9\n",
      "Enter a grade (or press Enter to finish):  3\n",
      "Enter a grade (or press Enter to finish):  4\n",
      "Enter a grade (or press Enter to finish):  5\n",
      "Enter a grade (or press Enter to finish):  \n"
     ]
    },
    {
     "name": "stdout",
     "output_type": "stream",
     "text": [
      "New grades added to 'grades.txt'.\n"
     ]
    }
   ],
   "source": [
    "with open('grades.txt', 'a') as file:\n",
    "    print(\"Enter grades to add. Press Enter without typing anything to stop.\")\n",
    "    while True:\n",
    "        grade = input(\"Enter a grade (or press Enter to finish): \")\n",
    "        if grade == '':\n",
    "            break\n",
    "        try:\n",
    "            grade = float(grade)\n",
    "            file.write(f'{grade}\\n')\n",
    "        except ValueError:\n",
    "            print(\"Invalid input. Please enter a numeric grade.\")\n",
    "            \n",
    "print(\"New grades added to 'grades.txt'.\")"
   ]
  },
  {
   "cell_type": "code",
   "execution_count": null,
   "id": "ec5ae6a9-4eb7-498b-84d3-789d4c3e6082",
   "metadata": {},
   "outputs": [],
   "source": []
  }
 ],
 "metadata": {
  "kernelspec": {
   "display_name": "Python 3 (ipykernel)",
   "language": "python",
   "name": "python3"
  },
  "language_info": {
   "codemirror_mode": {
    "name": "ipython",
    "version": 3
   },
   "file_extension": ".py",
   "mimetype": "text/x-python",
   "name": "python",
   "nbconvert_exporter": "python",
   "pygments_lexer": "ipython3",
   "version": "3.10.12"
  }
 },
 "nbformat": 4,
 "nbformat_minor": 5
}
