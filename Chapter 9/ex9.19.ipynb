{
 "cells": [
  {
   "cell_type": "raw",
   "id": "d8f745de-f816-46d2-9629-b34fa2079fd7",
   "metadata": {},
   "source": [
    "(Challenging Project: A Crossword-Puzzle Generator) Most people have worked crossword puzzles, but few have ever attempted to generate one by hand. Generating a crossword puzzle is suggested here as a string-manipulation and file-processing project requiring substantial sophistication and effort.\n",
    "    There are many issues you must resolve to get even the most straightforward crossword-puzzle-generator application working. For example, how do you represent the grid of squares of a crossword puzzle inside the computer? Consider using a two-dimensional list where each element is one square. Some of those elements will be “black” and some will be “white.” Some of the “white” cells will include a number that corresponds to a number in your across and down clues.\n",
    "    You need a source of words (i.e., a computerized dictionary) that can be directly referenced by the script. In what form should these words be stored to facilitate the complex manipulations required by the application? Consider using a Python dictionary for this purpose.\n",
    "    You’ll want to generate the clues portion of the puzzle, in which the word definitions for each across and down word are printed. Merely printing a version of the blank puzzle itself is not a simple problem, especially if you’d like the black-squared regions to be symmetric as they often are in published crossword puzzles."
   ]
  },
  {
   "cell_type": "code",
   "execution_count": 1,
   "id": "4e3be0f4-b12a-41a7-bd6f-1fd98f50108e",
   "metadata": {},
   "outputs": [
    {
     "name": "stdout",
     "output_type": "stream",
     "text": [
      "B j B B B B B B B B\n",
      "B a s w i f t B B B\n",
      "B v B j B B B B B B\n",
      "B a B a B B B B B c\n",
      "B s B v B B B B B s\n",
      "B c B a B h t m l s\n",
      "B r r u b y B B B B\n",
      "B i B B p y t h o n\n",
      "B p B B B B B B B B\n",
      "B t B B B B B B B B\n"
     ]
    }
   ],
   "source": [
    "import random\n",
    "\n",
    "GRID_SIZE = 10\n",
    "\n",
    "grid = [['B' for _ in range(GRID_SIZE)] for _ in range(GRID_SIZE)]\n",
    "\n",
    "words = ['python', 'java', 'ruby', 'swift', 'html', 'css', 'javascript']\n",
    "\n",
    "def place_word(grid, word, direction, start_row, start_col):\n",
    "    word_length = len(word)\n",
    "    if direction == 'across':\n",
    "        for i in range(word_length):\n",
    "            grid[start_row][start_col + i] = word[i]\n",
    "    elif direction == 'down':\n",
    "        for i in range(word_length):\n",
    "            grid[start_row + i][start_col] = word[i]\n",
    "\n",
    "def generate_crossword(grid, words):\n",
    "    random.shuffle(words)\n",
    "    for word in words:\n",
    "        placed = False\n",
    "        while not placed:\n",
    "            direction = random.choice(['across', 'down'])\n",
    "            start_row = random.randint(0, GRID_SIZE - 1)\n",
    "            start_col = random.randint(0, GRID_SIZE - 1)\n",
    "\n",
    "            if direction == 'across' and start_col + len(word) <= GRID_SIZE:\n",
    "                if all(grid[start_row][start_col + i] == 'B' for i in range(len(word))):\n",
    "                    place_word(grid, word, direction, start_row, start_col)\n",
    "                    placed = True\n",
    "            elif direction == 'down' and start_row + len(word) <= GRID_SIZE:\n",
    "                if all(grid[start_row + i][start_col] == 'B' for i in range(len(word))):\n",
    "                    place_word(grid, word, direction, start_row, start_col)\n",
    "                    placed = True\n",
    "\n",
    "def print_grid(grid):\n",
    "    for row in grid:\n",
    "        print(' '.join(row))\n",
    "\n",
    "def main():\n",
    "    generate_crossword(grid, words)\n",
    "\n",
    "    print_grid(grid)\n",
    "\n",
    "if __name__ == \"__main__\":\n",
    "    main()\n"
   ]
  },
  {
   "cell_type": "code",
   "execution_count": null,
   "id": "5b0f2145-a9b9-448f-97a5-e80585618999",
   "metadata": {},
   "outputs": [],
   "source": []
  }
 ],
 "metadata": {
  "kernelspec": {
   "display_name": "Python 3 (ipykernel)",
   "language": "python",
   "name": "python3"
  },
  "language_info": {
   "codemirror_mode": {
    "name": "ipython",
    "version": 3
   },
   "file_extension": ".py",
   "mimetype": "text/x-python",
   "name": "python",
   "nbconvert_exporter": "python",
   "pygments_lexer": "ipython3",
   "version": "3.10.12"
  }
 },
 "nbformat": 4,
 "nbformat_minor": 5
}
