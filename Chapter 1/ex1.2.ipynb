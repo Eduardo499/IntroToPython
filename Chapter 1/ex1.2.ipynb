{
 "cells": [
  {
   "cell_type": "raw",
   "id": "837515b5-b1ae-4d85-bc45-517786ac9d2b",
   "metadata": {},
   "source": [
    "(IPython Session) Using the techniques you learned in Section 1.10.1, execute the\n",
    "following expressions. Which, if any, produce a runtime error?\n",
    "a) 10 / 3 + 7\n",
    "b) 10 // 3 + 7\n",
    "c) 10 / (3 + 7)\n",
    "d) 10 / 3 - 3\n",
    "e) 10 / (3 - 3)\n",
    "f) 10 // (3 - 3)"
   ]
  },
  {
   "cell_type": "code",
   "execution_count": 1,
   "id": "f4d59b45-24d6-43d6-8200-b95c66c3ab5f",
   "metadata": {},
   "outputs": [
    {
     "data": {
      "text/plain": [
       "10.333333333333334"
      ]
     },
     "execution_count": 1,
     "metadata": {},
     "output_type": "execute_result"
    }
   ],
   "source": [
    "10 / 3 + 7"
   ]
  },
  {
   "cell_type": "code",
   "execution_count": 2,
   "id": "63bf695c-3c6e-4d02-a7d3-4f88d30be698",
   "metadata": {},
   "outputs": [
    {
     "data": {
      "text/plain": [
       "10"
      ]
     },
     "execution_count": 2,
     "metadata": {},
     "output_type": "execute_result"
    }
   ],
   "source": [
    "10 // 3 + 7"
   ]
  },
  {
   "cell_type": "code",
   "execution_count": 3,
   "id": "90a5c5d8-61f0-4b10-9629-134e07363ea9",
   "metadata": {},
   "outputs": [
    {
     "data": {
      "text/plain": [
       "1.0"
      ]
     },
     "execution_count": 3,
     "metadata": {},
     "output_type": "execute_result"
    }
   ],
   "source": [
    "10 / (3 + 7)"
   ]
  },
  {
   "cell_type": "code",
   "execution_count": 4,
   "id": "370d9bae-9290-4d9d-9c8a-f8a10e04ccab",
   "metadata": {},
   "outputs": [
    {
     "data": {
      "text/plain": [
       "0.3333333333333335"
      ]
     },
     "execution_count": 4,
     "metadata": {},
     "output_type": "execute_result"
    }
   ],
   "source": [
    "10 / 3 - 3"
   ]
  },
  {
   "cell_type": "code",
   "execution_count": 5,
   "id": "42f077eb-1032-4286-b74f-a9e5f98efae6",
   "metadata": {},
   "outputs": [
    {
     "ename": "ZeroDivisionError",
     "evalue": "division by zero",
     "output_type": "error",
     "traceback": [
      "\u001b[1;31m---------------------------------------------------------------------------\u001b[0m",
      "\u001b[1;31mZeroDivisionError\u001b[0m                         Traceback (most recent call last)",
      "Cell \u001b[1;32mIn[5], line 1\u001b[0m\n\u001b[1;32m----> 1\u001b[0m \u001b[38;5;241;43m10\u001b[39;49m\u001b[43m \u001b[49m\u001b[38;5;241;43m/\u001b[39;49m\u001b[43m \u001b[49m\u001b[43m(\u001b[49m\u001b[38;5;241;43m3\u001b[39;49m\u001b[43m \u001b[49m\u001b[38;5;241;43m-\u001b[39;49m\u001b[43m \u001b[49m\u001b[38;5;241;43m3\u001b[39;49m\u001b[43m)\u001b[49m\n",
      "\u001b[1;31mZeroDivisionError\u001b[0m: division by zero"
     ]
    }
   ],
   "source": [
    "10 / (3 - 3)"
   ]
  },
  {
   "cell_type": "code",
   "execution_count": 6,
   "id": "9351ca8b-f690-4f01-8769-6d4df76f4800",
   "metadata": {},
   "outputs": [
    {
     "ename": "ZeroDivisionError",
     "evalue": "integer division or modulo by zero",
     "output_type": "error",
     "traceback": [
      "\u001b[1;31m---------------------------------------------------------------------------\u001b[0m",
      "\u001b[1;31mZeroDivisionError\u001b[0m                         Traceback (most recent call last)",
      "Cell \u001b[1;32mIn[6], line 1\u001b[0m\n\u001b[1;32m----> 1\u001b[0m \u001b[38;5;241;43m10\u001b[39;49m\u001b[43m \u001b[49m\u001b[38;5;241;43m/\u001b[39;49m\u001b[38;5;241;43m/\u001b[39;49m\u001b[43m \u001b[49m\u001b[43m(\u001b[49m\u001b[38;5;241;43m3\u001b[39;49m\u001b[43m \u001b[49m\u001b[38;5;241;43m-\u001b[39;49m\u001b[43m \u001b[49m\u001b[38;5;241;43m3\u001b[39;49m\u001b[43m)\u001b[49m\n",
      "\u001b[1;31mZeroDivisionError\u001b[0m: integer division or modulo by zero"
     ]
    }
   ],
   "source": [
    "10 // (3 - 3)"
   ]
  }
 ],
 "metadata": {
  "kernelspec": {
   "display_name": "Python 3 (ipykernel)",
   "language": "python",
   "name": "python3"
  },
  "language_info": {
   "codemirror_mode": {
    "name": "ipython",
    "version": 3
   },
   "file_extension": ".py",
   "mimetype": "text/x-python",
   "name": "python",
   "nbconvert_exporter": "python",
   "pygments_lexer": "ipython3",
   "version": "3.11.5"
  }
 },
 "nbformat": 4,
 "nbformat_minor": 5
}
