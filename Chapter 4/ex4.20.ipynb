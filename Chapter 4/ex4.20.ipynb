{
 "cells": [
  {
   "cell_type": "raw",
   "id": "ed4f5514-21fd-4b95-a803-9f4debca903a",
   "metadata": {},
   "source": [
    "(Intro to Data Science: Population Variance vs. Sample Variance) We mentioned in the Intro to Data Science section that there’s a slight difference between the way the statistics module’s functions calculate the population variance and the sample variance. The same is true for the population standard deviation and the sample standard deviation. Research the reason for these differences."
   ]
  },
  {
   "cell_type": "raw",
   "id": "a0b7b53e-8ea8-4f9a-abd7-36d4c0615e83",
   "metadata": {},
   "source": [
    "The difference arises because sample variance divides by n / 1 n−1 (Bessel's correction) to correct for bias in estimating the population variance from a sample, while population variance divides by n since all data points are known. This ensures sample variance is an unbiased estimator of true population variance."
   ]
  }
 ],
 "metadata": {
  "kernelspec": {
   "display_name": "Python 3 (ipykernel)",
   "language": "python",
   "name": "python3"
  },
  "language_info": {
   "codemirror_mode": {
    "name": "ipython",
    "version": 3
   },
   "file_extension": ".py",
   "mimetype": "text/x-python",
   "name": "python",
   "nbconvert_exporter": "python",
   "pygments_lexer": "ipython3",
   "version": "3.10.12"
  }
 },
 "nbformat": 4,
 "nbformat_minor": 5
}
