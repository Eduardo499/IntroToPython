{
 "cells": [
  {
   "cell_type": "raw",
   "id": "22498c48-a7c7-4a04-9d58-31b08618304c",
   "metadata": {},
   "source": [
    "(Play the Multiplication Game) Write a script that lets the user play a multiplication game. To begin, the game randomly selects two numbers between 1 and 10. It displays the selected numbers and asks the player for the product of both numbers. If the player answers correctly, they are asked if they want to play again. This cycle is continued until the player makes a mistake or stops the game."
   ]
  },
  {
   "cell_type": "code",
   "execution_count": 11,
   "id": "76510828-6b24-4c2f-907c-5beb7451738e",
   "metadata": {
    "scrolled": true
   },
   "outputs": [
    {
     "name": "stdin",
     "output_type": "stream",
     "text": [
      "3 X 7 =  21\n"
     ]
    },
    {
     "name": "stdout",
     "output_type": "stream",
     "text": [
      "You Win!\n"
     ]
    },
    {
     "name": "stdin",
     "output_type": "stream",
     "text": [
      "6 X 7 =  5\n"
     ]
    },
    {
     "name": "stdout",
     "output_type": "stream",
     "text": [
      "You Lose!\n"
     ]
    },
    {
     "name": "stdin",
     "output_type": "stream",
     "text": [
      "Do you want to continue? [Y/N]:  y\n"
     ]
    },
    {
     "name": "stdout",
     "output_type": "stream",
     "text": [
      "You got 1 questions right.\n"
     ]
    },
    {
     "name": "stdin",
     "output_type": "stream",
     "text": [
      "1 X 8 =  8\n"
     ]
    },
    {
     "name": "stdout",
     "output_type": "stream",
     "text": [
      "You Win!\n"
     ]
    },
    {
     "name": "stdin",
     "output_type": "stream",
     "text": [
      "8 X 9 =  9\n"
     ]
    },
    {
     "name": "stdout",
     "output_type": "stream",
     "text": [
      "You Lose!\n"
     ]
    },
    {
     "name": "stdin",
     "output_type": "stream",
     "text": [
      "Do you want to continue? [Y/N]:  n\n"
     ]
    },
    {
     "name": "stdout",
     "output_type": "stream",
     "text": [
      "You got 1 questions right.\n"
     ]
    }
   ],
   "source": [
    "from random import randint\n",
    "\n",
    "def multiplication():\n",
    "    a = randint(1, 10)\n",
    "    b = randint(1, 10)\n",
    "    return a, b\n",
    "\n",
    "while True:\n",
    "    number1, number2 = multiplication()\n",
    "    product = int(input(f'{number1} X {number2} = '))\n",
    "    if  product == number1 * number2:\n",
    "        print('You Win!')\n",
    "        count += 1\n",
    "    else:\n",
    "        print('You Lose!')\n",
    "\n",
    "        while True:\n",
    "            cont = str(input('Do you want to continue? [Y/N]: ')).lower()\n",
    "    \n",
    "            if cont == 'y':\n",
    "                break\n",
    "            elif cont == 'n':\n",
    "                break\n",
    "            else:\n",
    "                print('Invalid option')\n",
    "        if cont == 'n':\n",
    "            break\n"
   ]
  },
  {
   "cell_type": "code",
   "execution_count": null,
   "id": "8fedfb80-4284-4563-81ce-da1ce07eb533",
   "metadata": {},
   "outputs": [],
   "source": []
  },
  {
   "cell_type": "code",
   "execution_count": null,
   "id": "e0d0fa7a-fd8e-4acc-b9b4-855ee2f9e731",
   "metadata": {},
   "outputs": [],
   "source": []
  }
 ],
 "metadata": {
  "kernelspec": {
   "display_name": "Python 3 (ipykernel)",
   "language": "python",
   "name": "python3"
  },
  "language_info": {
   "codemirror_mode": {
    "name": "ipython",
    "version": 3
   },
   "file_extension": ".py",
   "mimetype": "text/x-python",
   "name": "python",
   "nbconvert_exporter": "python",
   "pygments_lexer": "ipython3",
   "version": "3.10.12"
  }
 },
 "nbformat": 4,
 "nbformat_minor": 5
}
