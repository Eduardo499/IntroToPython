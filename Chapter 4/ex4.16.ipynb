{
 "cells": [
  {
   "cell_type": "raw",
   "id": "ff62caf8-a76c-4ad5-a24f-8d86ead22e6d",
   "metadata": {},
   "source": [
    "(Computer-Assisted Instruction: Difficulty Levels) Modify the previous exercise to allow the user to enter a difficulty level. At a difficulty level of 1, the program should use only single-digit numbers in the problems and at a difficulty level of 2, numbers as large as two digits."
   ]
  },
  {
   "cell_type": "code",
   "execution_count": 1,
   "id": "fc98e5e5-e07b-4263-bc17-bf45a547c71c",
   "metadata": {},
   "outputs": [
    {
     "name": "stdin",
     "output_type": "stream",
     "text": [
      "How much is 8 times 9? (to stop enter 0)  91\n"
     ]
    },
    {
     "name": "stdout",
     "output_type": "stream",
     "text": [
      "No. Please try again.\n"
     ]
    },
    {
     "name": "stdin",
     "output_type": "stream",
     "text": [
      "How much is 8 times 9? (to stop enter 0)  72\n"
     ]
    },
    {
     "name": "stdout",
     "output_type": "stream",
     "text": [
      "Very good!\n"
     ]
    },
    {
     "name": "stdin",
     "output_type": "stream",
     "text": [
      "How much is 83 times 92? (to stop enter 0)  0\n"
     ]
    }
   ],
   "source": [
    "from random import randint\n",
    "\n",
    "correct = ['Very good!', 'Nice work!', 'Keep up the good work!']\n",
    "wrong = ['No. Please try again.', 'Wrong. Try once more.', 'No. Keep trying.']\n",
    "\n",
    "def multiplication():\n",
    "    level = randint(1, 2)\n",
    "    if level == 1:\n",
    "        a = randint(1, 9)\n",
    "        b = randint(1, 9)\n",
    "    else:\n",
    "        a = randint(10, 99)\n",
    "        b = randint(10, 99)\n",
    "    return a, b\n",
    "\n",
    "while True:\n",
    "    number1, number2 = multiplication()\n",
    "    product = int(input(f'How much is {number1} times {number2}? (to stop enter 0) '))\n",
    "\n",
    "    if product == number1 * number2:\n",
    "        n = randint(0, 2)\n",
    "        print(correct[n])\n",
    "    elif product == 0:\n",
    "        break\n",
    "    else:\n",
    "        n = randint(0, 2)\n",
    "        print(wrong[n])\n",
    "        while True:\n",
    "            product = int(input(f'How much is {number1} times {number2}? (to stop enter 0) '))\n",
    "            if product == number1 * number2:\n",
    "                n = randint(0, 2)\n",
    "                print(correct[n])\n",
    "                break\n",
    "            elif product == 0:\n",
    "                break\n",
    "            else:\n",
    "                n = randint(0, 2)\n",
    "                print(wrong[n])\n",
    "    if product == 0:\n",
    "        break\n"
   ]
  },
  {
   "cell_type": "code",
   "execution_count": null,
   "id": "678699cb-02c2-418f-b590-daa724cad95e",
   "metadata": {},
   "outputs": [],
   "source": []
  }
 ],
 "metadata": {
  "kernelspec": {
   "display_name": "Python 3 (ipykernel)",
   "language": "python",
   "name": "python3"
  },
  "language_info": {
   "codemirror_mode": {
    "name": "ipython",
    "version": 3
   },
   "file_extension": ".py",
   "mimetype": "text/x-python",
   "name": "python",
   "nbconvert_exporter": "python",
   "pygments_lexer": "ipython3",
   "version": "3.10.12"
  }
 },
 "nbformat": 4,
 "nbformat_minor": 5
}
