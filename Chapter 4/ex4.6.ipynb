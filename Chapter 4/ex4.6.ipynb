{
 "cells": [
  {
   "cell_type": "raw",
   "id": "c823a5c2-20c7-4bac-989b-d4f0f563101a",
   "metadata": {},
   "source": [
    "(Modified Average Function) In Exercise 2.10, we calculated the average of three grades without using any function. In Section 4.11, we defined an average function that can receive any number of arguments, but causes a ZeroDivisionError when called with no arguments. Write a new average function to receive one required argument and the arbitrary list argument *args, and update its calculation accordingly. Test your function by having it calculate the average of the grades of a student as in Exercise 2.10. When you call average with no arguments, Python should issue a TypeError indicating \"average() missing 1 required positional argument.\""
   ]
  },
  {
   "cell_type": "code",
   "execution_count": 5,
   "id": "df4336a8-9193-4a70-b0e0-198fce251530",
   "metadata": {},
   "outputs": [
    {
     "data": {
      "text/plain": [
       "2.0"
      ]
     },
     "execution_count": 5,
     "metadata": {},
     "output_type": "execute_result"
    }
   ],
   "source": [
    "def average(m, *args):\n",
    "    s = m + sum(args)\n",
    "    return s / (len(args) + 1)\n",
    "\n",
    "average(1, 2, 3)"
   ]
  }
 ],
 "metadata": {
  "kernelspec": {
   "display_name": "Python 3 (ipykernel)",
   "language": "python",
   "name": "python3"
  },
  "language_info": {
   "codemirror_mode": {
    "name": "ipython",
    "version": 3
   },
   "file_extension": ".py",
   "mimetype": "text/x-python",
   "name": "python",
   "nbconvert_exporter": "python",
   "pygments_lexer": "ipython3",
   "version": "3.10.12"
  }
 },
 "nbformat": 4,
 "nbformat_minor": 5
}
