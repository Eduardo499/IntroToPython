{
 "cells": [
  {
   "cell_type": "code",
   "execution_count": null,
   "id": "9e9f4015-c0e1-413f-be47-8013700a4477",
   "metadata": {},
   "outputs": [
    {
     "name": "stdout",
     "output_type": "stream",
     "text": [
      "BANG !!!!!\n",
      "AND THEY'RE OFF !!!!!\n",
      "----------------------------------------------------------------------\n"
     ]
    }
   ],
   "source": [
    "from random import randint\n",
    "\n",
    "def create_terrain(length):\n",
    "    return ['*' for _ in range(length)]\n",
    "\n",
    "def tortoise(position):\n",
    "    position = 0\n",
    "    i = randint(1, 10)\n",
    "\n",
    "    if 1 <= i <= 5:\n",
    "        position += 3\n",
    "    elif 6 <= i <= 7:\n",
    "        position -= 6\n",
    "    else:\n",
    "        position += 1\n",
    "    return max(0, position)\n",
    "\n",
    "def hare(position):\n",
    "    position = 0\n",
    "    i = randint(1, 10)\n",
    "\n",
    "    if 1 <= i <= 2:\n",
    "        pass\n",
    "    elif 3 <= i <= 4:\n",
    "        position += 9\n",
    "    elif i == 5:\n",
    "        position -= 12\n",
    "    elif 6 <= i <= 8:\n",
    "        position += 1\n",
    "    else:\n",
    "        position -= 2\n",
    "    return max(0, position)\n",
    "\n",
    "def race():\n",
    "    track_length = 70\n",
    "    terrain = create_terrain(track_length)\n",
    "    tortoise_position = 0\n",
    "    hare_position = 0\n",
    "\n",
    "    print('BANG !!!!!')\n",
    "    print(\"AND THEY'RE OFF !!!!!\")\n",
    "    print('-' * track_length)\n",
    "\n",
    "    while tortoise_position < track_length - 1 and hare_position < track_length - 1:\n",
    "        tortoise_position = tortoise(tortoise_position)\n",
    "        hare_position = hare(hare_position)\n",
    "\n",
    "        terrain = create_terrain(track_length)\n",
    "\n",
    "        if tortoise_position == hare_position:\n",
    "            terrain[tortoise_position] = 'OUCH!'\n",
    "        else:\n",
    "            if tortoise_position < track_length:\n",
    "                terrain[tortoise_position] = 'T'\n",
    "            if hare_position < track_length:\n",
    "                terrain[hare_position] = 'H'\n",
    "                \n",
    "        # print(''.join(terrain))\n",
    "        \n",
    "    if tortoise_position >= track_length - 1 and hare_position >= track_length - 1:\n",
    "        print(\"It's a tie!\")\n",
    "    elif tortoise_position >= track_length - 1:\n",
    "        print('TORTOISE WINS!!! YAY!')\n",
    "    else:\n",
    "        print('HARE WINS!!!')\n",
    "        \n",
    "race()"
   ]
  },
  {
   "cell_type": "code",
   "execution_count": null,
   "id": "957b2ef5-143d-462d-933b-fc11ba14fdce",
   "metadata": {},
   "outputs": [],
   "source": []
  }
 ],
 "metadata": {
  "kernelspec": {
   "display_name": "Python 3 (ipykernel)",
   "language": "python",
   "name": "python3"
  },
  "language_info": {
   "codemirror_mode": {
    "name": "ipython",
    "version": 3
   },
   "file_extension": ".py",
   "mimetype": "text/x-python",
   "name": "python",
   "nbconvert_exporter": "python",
   "pygments_lexer": "ipython3",
   "version": "3.10.12"
  }
 },
 "nbformat": 4,
 "nbformat_minor": 5
}
