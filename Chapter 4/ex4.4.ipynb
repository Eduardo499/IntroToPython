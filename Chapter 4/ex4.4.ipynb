{
 "cells": [
  {
   "cell_type": "raw",
   "id": "53363900-5b13-4608-b847-ec8c91bd4101",
   "metadata": {},
   "source": [
    "(What Does This Code Do?) What does the following mystery function do? Assume you pass the list [1, 2, 3, 4, 5] as an argument.\n",
    "def mystery(x):\n",
    "    y = 0\n",
    "    for i in x:\n",
    "        if i % 2 == 0:\n",
    "            y += i\n",
    "    return y"
   ]
  },
  {
   "cell_type": "code",
   "execution_count": null,
   "id": "e33df768-253e-44a8-8227-08b924f521f0",
   "metadata": {},
   "outputs": [],
   "source": [
    "# The function mystery() counts the even numbers in the list"
   ]
  }
 ],
 "metadata": {
  "kernelspec": {
   "display_name": "Python 3 (ipykernel)",
   "language": "python",
   "name": "python3"
  },
  "language_info": {
   "codemirror_mode": {
    "name": "ipython",
    "version": 3
   },
   "file_extension": ".py",
   "mimetype": "text/x-python",
   "name": "python",
   "nbconvert_exporter": "python",
   "pygments_lexer": "ipython3",
   "version": "3.10.12"
  }
 },
 "nbformat": 4,
 "nbformat_minor": 5
}
