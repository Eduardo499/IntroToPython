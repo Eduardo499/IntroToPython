{
 "cells": [
  {
   "cell_type": "raw",
   "id": "acd8128a-3901-4575-9c2b-1e328cc9eefb",
   "metadata": {},
   "source": [
    "(Date and Time) Python’s datetime module contains a datetime type with a method today that returns the current date and time as a datetime object. Write a parameterless date_and_time function containing the following statement, then call that function to display the current date and time:\n",
    "    print(datetime.datetime.today())\n",
    "On our system, the date and time display in the following format:\n",
    "    2018-06-08 13:04:19.214180"
   ]
  },
  {
   "cell_type": "code",
   "execution_count": 3,
   "id": "e776962e-3ab1-498f-bd40-9991cd3572e2",
   "metadata": {},
   "outputs": [
    {
     "name": "stdout",
     "output_type": "stream",
     "text": [
      "2024-12-15 13:25:28.976900\n"
     ]
    }
   ],
   "source": [
    "import datetime\n",
    "\n",
    "def time():\n",
    "    print(datetime.datetime.today())\n",
    "\n",
    "time()"
   ]
  },
  {
   "cell_type": "code",
   "execution_count": null,
   "id": "e4f6e376-5ac5-48b4-8eff-e1dadaa2d697",
   "metadata": {},
   "outputs": [],
   "source": []
  }
 ],
 "metadata": {
  "kernelspec": {
   "display_name": "Python 3 (ipykernel)",
   "language": "python",
   "name": "python3"
  },
  "language_info": {
   "codemirror_mode": {
    "name": "ipython",
    "version": 3
   },
   "file_extension": ".py",
   "mimetype": "text/x-python",
   "name": "python",
   "nbconvert_exporter": "python",
   "pygments_lexer": "ipython3",
   "version": "3.10.12"
  }
 },
 "nbformat": 4,
 "nbformat_minor": 5
}
