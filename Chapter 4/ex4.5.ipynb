{
 "cells": [
  {
   "cell_type": "raw",
   "id": "9e476732-448a-4ce1-903e-a835438000a4",
   "metadata": {},
   "source": [
    "(Fill in the Missing Code) The slope of a line is the number that describes its direction and steepness. It is calculated by dividing the change in height by the change in length. Replace the ***s in the calc_slope function so that it returns the slope of a line drawn in a cartesian coordinate system. The function should receive four integers representing the x and y coordinates of the beginning and end of the line. For example, if you call the function for a line starting at (1,1) and ending at (4,5), the function should return 1.33.\n",
    "def calc_slope(***):\n",
    "    delta_x = ***\n",
    "    delta_y = ***\n",
    "    slope = ***\n",
    "    return ***"
   ]
  },
  {
   "cell_type": "code",
   "execution_count": 4,
   "id": "6d05ded4-764c-4b70-8365-ed9d649bea18",
   "metadata": {},
   "outputs": [
    {
     "name": "stdout",
     "output_type": "stream",
     "text": [
      "1.3333333333333333\n"
     ]
    }
   ],
   "source": [
    "def calc_slope(x1, y1, x2, y2):\n",
    "    delta_x = x2 - x1\n",
    "    delta_y = y2 - y1\n",
    "    if delta_x == 0:\n",
    "        return None\n",
    "    slope = delta_y / delta_x\n",
    "    return slope\n",
    "\n",
    "print(calc_slope(1,1,4,5))"
   ]
  }
 ],
 "metadata": {
  "kernelspec": {
   "display_name": "Python 3 (ipykernel)",
   "language": "python",
   "name": "python3"
  },
  "language_info": {
   "codemirror_mode": {
    "name": "ipython",
    "version": 3
   },
   "file_extension": ".py",
   "mimetype": "text/x-python",
   "name": "python",
   "nbconvert_exporter": "python",
   "pygments_lexer": "ipython3",
   "version": "3.10.12"
  }
 },
 "nbformat": 4,
 "nbformat_minor": 5
}
