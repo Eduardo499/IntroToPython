{
 "cells": [
  {
   "cell_type": "raw",
   "id": "81eb6614-dfb8-4d88-a263-a669b1f6303f",
   "metadata": {},
   "source": [
    "(Functional-Style Programming: What vs. How) Why is programming that emphasizes “what” preferable to programming that emphasizes “how”? What is it that makes “what” programming feasible?"
   ]
  },
  {
   "cell_type": "raw",
   "id": "f4178dfb-311f-40c7-a886-0f9858f78fb7",
   "metadata": {},
   "source": [
    "Programming that emphasizes “what” over “how” is preferable because it enables higher abstraction, improves readability, reduces errors, and allows systems to optimize execution."
   ]
  }
 ],
 "metadata": {
  "kernelspec": {
   "display_name": "Python 3 (ipykernel)",
   "language": "python",
   "name": "python3"
  },
  "language_info": {
   "codemirror_mode": {
    "name": "ipython",
    "version": 3
   },
   "file_extension": ".py",
   "mimetype": "text/x-python",
   "name": "python",
   "nbconvert_exporter": "python",
   "pygments_lexer": "ipython3",
   "version": "3.10.12"
  }
 },
 "nbformat": 4,
 "nbformat_minor": 5
}
