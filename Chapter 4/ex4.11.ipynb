{
 "cells": [
  {
   "cell_type": "raw",
   "id": "73fdc8e8-cebf-4a6e-9bd8-4851c392b171",
   "metadata": {},
   "source": [
    "(Play-the-Multiplication-Game Modification) Modify the previous exercise to count the number of correct multiplications. At the end of the game the total number of  correct exercises is displayed on the screen. Extra challenge: You can extend this exercise further by adding a computer opponent to the game. Write a function that automatically calculates the product of two randomly selected numbers. Add some intelligence to the opponent by implementing smart rules in the function that allow the opponent to make an occasional mistake. The human player and his opponent take turns to calculate a product. The game ends when the player indicates that they do not want to play anymore. The winner of the game is the player with the highest number of correct calculations."
   ]
  },
  {
   "cell_type": "code",
   "execution_count": 6,
   "id": "ee279855-1681-4075-8804-432e36c8ccb7",
   "metadata": {},
   "outputs": [
    {
     "name": "stdin",
     "output_type": "stream",
     "text": [
      "8 X 5 =  40\n"
     ]
    },
    {
     "name": "stdout",
     "output_type": "stream",
     "text": [
      "You got it right!\n"
     ]
    },
    {
     "name": "stdin",
     "output_type": "stream",
     "text": [
      "5 X 2 =  10\n"
     ]
    },
    {
     "name": "stdout",
     "output_type": "stream",
     "text": [
      "You got it right!\n"
     ]
    },
    {
     "name": "stdin",
     "output_type": "stream",
     "text": [
      "6 X 1 =  6\n"
     ]
    },
    {
     "name": "stdout",
     "output_type": "stream",
     "text": [
      "You got it right!\n"
     ]
    },
    {
     "name": "stdin",
     "output_type": "stream",
     "text": [
      "4 X 3 =  12\n"
     ]
    },
    {
     "name": "stdout",
     "output_type": "stream",
     "text": [
      "You got it right!\n"
     ]
    },
    {
     "name": "stdin",
     "output_type": "stream",
     "text": [
      "8 X 3 =  24\n"
     ]
    },
    {
     "name": "stdout",
     "output_type": "stream",
     "text": [
      "You got it right!\n"
     ]
    },
    {
     "name": "stdin",
     "output_type": "stream",
     "text": [
      "10 X 9 =  90\n"
     ]
    },
    {
     "name": "stdout",
     "output_type": "stream",
     "text": [
      "You got it right!\n"
     ]
    },
    {
     "name": "stdin",
     "output_type": "stream",
     "text": [
      "9 X 9 =  6\n"
     ]
    },
    {
     "name": "stdout",
     "output_type": "stream",
     "text": [
      "You made a mistake!\n"
     ]
    },
    {
     "name": "stdin",
     "output_type": "stream",
     "text": [
      "Do you want to continue? [Y/N]:  y\n"
     ]
    },
    {
     "name": "stdout",
     "output_type": "stream",
     "text": [
      "You Win! You (6) vs Computer (0)\n"
     ]
    },
    {
     "name": "stdin",
     "output_type": "stream",
     "text": [
      "5 X 10 =  50\n"
     ]
    },
    {
     "name": "stdout",
     "output_type": "stream",
     "text": [
      "You got it right!\n"
     ]
    },
    {
     "name": "stdin",
     "output_type": "stream",
     "text": [
      "9 X 6 =  54\n"
     ]
    },
    {
     "name": "stdout",
     "output_type": "stream",
     "text": [
      "You got it right!\n"
     ]
    },
    {
     "name": "stdin",
     "output_type": "stream",
     "text": [
      "9 X 6 =  54\n"
     ]
    },
    {
     "name": "stdout",
     "output_type": "stream",
     "text": [
      "You got it right!\n"
     ]
    },
    {
     "name": "stdin",
     "output_type": "stream",
     "text": [
      "6 X 3 =  18\n"
     ]
    },
    {
     "name": "stdout",
     "output_type": "stream",
     "text": [
      "You got it right!\n"
     ]
    },
    {
     "name": "stdin",
     "output_type": "stream",
     "text": [
      "5 X 6 =  30\n"
     ]
    },
    {
     "name": "stdout",
     "output_type": "stream",
     "text": [
      "You got it right!\n"
     ]
    },
    {
     "name": "stdin",
     "output_type": "stream",
     "text": [
      "7 X 9 =  6\n"
     ]
    },
    {
     "name": "stdout",
     "output_type": "stream",
     "text": [
      "You made a mistake!\n"
     ]
    },
    {
     "name": "stdin",
     "output_type": "stream",
     "text": [
      "Do you want to continue? [Y/N]:  n\n"
     ]
    },
    {
     "name": "stdout",
     "output_type": "stream",
     "text": [
      "You Win! You (5) vs Computer (0)\n"
     ]
    }
   ],
   "source": [
    "from random import randint\n",
    "\n",
    "count_human = 0\n",
    "count_computer = 0\n",
    "\n",
    "def multiplication():\n",
    "    a = randint(1, 10)\n",
    "    b = randint(1, 10)\n",
    "    return a, b\n",
    "\n",
    "def computer():\n",
    "    a = randint(1, 10)\n",
    "    b = randint(1, 10)\n",
    "    return a * b\n",
    "\n",
    "while True:\n",
    "    number1, number2 = multiplication()\n",
    "    product = int(input(f'{number1} X {number2} = '))\n",
    "    number3 = computer()\n",
    "\n",
    "    if number3 == number1 * number2:\n",
    "        count_computer += 1\n",
    "    \n",
    "    if  product == number1 * number2:\n",
    "        print('You got it right!')\n",
    "        count_human += 1\n",
    "    else:\n",
    "        print('You made a mistake!')\n",
    "    \n",
    "        while True:\n",
    "            cont = str(input('Do you want to continue? [Y/N]: ')).lower()\n",
    "    \n",
    "            if cont == 'y':\n",
    "                if count_human > count_computer:\n",
    "                    print(f'You Win! You ({count_human}) vs Computer ({count_computer})')\n",
    "                else:\n",
    "                    print(f'You Lose! You ({count_human}) vs Computer ({count_computer})')\n",
    "                count_human = 0\n",
    "                count_computer = 0\n",
    "                break\n",
    "            elif cont == 'n':\n",
    "                if count_human > count_computer:\n",
    "                    print(f'You Win! You ({count_human}) vs Computer ({count_computer})')\n",
    "                else:\n",
    "                    print(f'You Lose! You ({count_human}) vs Computer ({count_computer})')\n",
    "                break\n",
    "            else:\n",
    "                print('Invalid option')\n",
    "                \n",
    "        if cont == 'n':\n",
    "            break\n"
   ]
  },
  {
   "cell_type": "code",
   "execution_count": null,
   "id": "0e2e1f8c-f7de-4270-882d-c0b70035fe74",
   "metadata": {},
   "outputs": [],
   "source": []
  }
 ],
 "metadata": {
  "kernelspec": {
   "display_name": "Python 3 (ipykernel)",
   "language": "python",
   "name": "python3"
  },
  "language_info": {
   "codemirror_mode": {
    "name": "ipython",
    "version": 3
   },
   "file_extension": ".py",
   "mimetype": "text/x-python",
   "name": "python",
   "nbconvert_exporter": "python",
   "pygments_lexer": "ipython3",
   "version": "3.10.12"
  }
 },
 "nbformat": 4,
 "nbformat_minor": 5
}
