{
 "cells": [
  {
   "cell_type": "raw",
   "id": "92072e9c-d3b6-4df1-b14d-1bdb4d61980c",
   "metadata": {},
   "source": [
    "(Discussion: Function-Call Stack) What happens if you keep pushing onto a stack, without enough popping?"
   ]
  },
  {
   "cell_type": "code",
   "execution_count": null,
   "id": "2324a1f5-7d3f-4b30-865d-a165d618a9e6",
   "metadata": {},
   "outputs": [],
   "source": [
    "# A Stack Overflow would occur that would crash the program"
   ]
  }
 ],
 "metadata": {
  "kernelspec": {
   "display_name": "Python 3 (ipykernel)",
   "language": "python",
   "name": "python3"
  },
  "language_info": {
   "codemirror_mode": {
    "name": "ipython",
    "version": 3
   },
   "file_extension": ".py",
   "mimetype": "text/x-python",
   "name": "python",
   "nbconvert_exporter": "python",
   "pygments_lexer": "ipython3",
   "version": "3.10.12"
  }
 },
 "nbformat": 4,
 "nbformat_minor": 5
}
