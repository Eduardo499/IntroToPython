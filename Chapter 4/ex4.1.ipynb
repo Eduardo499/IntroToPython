{
 "cells": [
  {
   "cell_type": "raw",
   "id": "8d7c7274-698a-4399-8395-054c2934efba",
   "metadata": {},
   "source": [
    "(Discussion: else Clause) In the script of Fig. 4.1, we did not include an else clause in the if...elif statement. What are the possible consequences of this choice?"
   ]
  },
  {
   "cell_type": "code",
   "execution_count": 53,
   "id": "d2377a6d-abb7-4b0c-ac74-33410f552fd7",
   "metadata": {},
   "outputs": [
    {
     "data": {
      "text/plain": [
       "15"
      ]
     },
     "execution_count": 53,
     "metadata": {},
     "output_type": "execute_result"
    }
   ],
   "source": [
    "# O else faria com que os números que não foram listados seja escolhido"
   ]
  }
 ],
 "metadata": {
  "kernelspec": {
   "display_name": "Python 3 (ipykernel)",
   "language": "python",
   "name": "python3"
  },
  "language_info": {
   "codemirror_mode": {
    "name": "ipython",
    "version": 3
   },
   "file_extension": ".py",
   "mimetype": "text/x-python",
   "name": "python",
   "nbconvert_exporter": "python",
   "pygments_lexer": "ipython3",
   "version": "3.10.12"
  }
 },
 "nbformat": 4,
 "nbformat_minor": 5
}
