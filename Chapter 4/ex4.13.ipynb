{
 "cells": [
  {
   "cell_type": "raw",
   "id": "fa0ee856-529d-4abe-9d28-b44fa7cad12f",
   "metadata": {},
   "source": [
    "(Arbitrary Argument List) Calculate the average of a series of integers that are passed to the function average, which receives an arbitrary argument list. Test your function with several calls, each with a different number of arguments."
   ]
  },
  {
   "cell_type": "code",
   "execution_count": 3,
   "id": "04ab1cf5-becd-4da1-bff6-2d3e0a665b03",
   "metadata": {},
   "outputs": [
    {
     "data": {
      "text/plain": [
       "5"
      ]
     },
     "execution_count": 3,
     "metadata": {},
     "output_type": "execute_result"
    }
   ],
   "source": [
    "from statistics import mean\n",
    "\n",
    "def average(*args):\n",
    "    return mean(args)\n",
    "\n",
    "average(1, 2, 3, 4, 5, 6, 7, 8, 9)"
   ]
  },
  {
   "cell_type": "code",
   "execution_count": null,
   "id": "4a784cb6-d4b8-4f87-8ef7-9515ad7ed538",
   "metadata": {},
   "outputs": [],
   "source": []
  }
 ],
 "metadata": {
  "kernelspec": {
   "display_name": "Python 3 (ipykernel)",
   "language": "python",
   "name": "python3"
  },
  "language_info": {
   "codemirror_mode": {
    "name": "ipython",
    "version": 3
   },
   "file_extension": ".py",
   "mimetype": "text/x-python",
   "name": "python",
   "nbconvert_exporter": "python",
   "pygments_lexer": "ipython3",
   "version": "3.10.12"
  }
 },
 "nbformat": 4,
 "nbformat_minor": 5
}
