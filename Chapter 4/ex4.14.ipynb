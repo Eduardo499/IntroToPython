{
 "cells": [
  {
   "cell_type": "raw",
   "id": "846fd741-5538-4628-9793-4fae76e34d46",
   "metadata": {},
   "source": [
    "(Computer-Assisted Instruction) Computer-assisted instruction (CAI) refers to the use of computers in education. Write a script to help an elementary school student learn multiplication. Create a function that randomly generates and returns a tuple of two positive one-digit integers. Use that function’s result in your script to prompt the user with a question, such as\n",
    "    How much is 6 times 7?\n",
    "For a correct answer, display the message \"Very good!\" and ask another multiplication question. For an incorrect answer, display the message \"No. Please try again.\" and let the student try the same question repeatedly until the student finally gets it right."
   ]
  },
  {
   "cell_type": "code",
   "execution_count": 3,
   "id": "3d91287e-188f-457a-b037-983cebedacd1",
   "metadata": {},
   "outputs": [
    {
     "name": "stdin",
     "output_type": "stream",
     "text": [
      "How much is 2 times 2? (to stop enter -1)  4\n"
     ]
    },
    {
     "name": "stdout",
     "output_type": "stream",
     "text": [
      "Very Good!\n"
     ]
    },
    {
     "name": "stdin",
     "output_type": "stream",
     "text": [
      "How much is 3 times 10? (to stop enter -1)  30\n"
     ]
    },
    {
     "name": "stdout",
     "output_type": "stream",
     "text": [
      "Very Good!\n"
     ]
    },
    {
     "name": "stdin",
     "output_type": "stream",
     "text": [
      "How much is 8 times 2? (to stop enter -1)  16\n"
     ]
    },
    {
     "name": "stdout",
     "output_type": "stream",
     "text": [
      "Very Good!\n"
     ]
    },
    {
     "name": "stdin",
     "output_type": "stream",
     "text": [
      "How much is 10 times 2? (to stop enter -1)  20\n"
     ]
    },
    {
     "name": "stdout",
     "output_type": "stream",
     "text": [
      "Very Good!\n"
     ]
    },
    {
     "name": "stdin",
     "output_type": "stream",
     "text": [
      "How much is 6 times 2? (to stop enter -1)  12\n"
     ]
    },
    {
     "name": "stdout",
     "output_type": "stream",
     "text": [
      "Very Good!\n"
     ]
    },
    {
     "name": "stdin",
     "output_type": "stream",
     "text": [
      "How much is 5 times 4? (to stop enter -1)  20\n"
     ]
    },
    {
     "name": "stdout",
     "output_type": "stream",
     "text": [
      "Very Good!\n"
     ]
    },
    {
     "name": "stdin",
     "output_type": "stream",
     "text": [
      "How much is 4 times 3? (to stop enter -1)  12\n"
     ]
    },
    {
     "name": "stdout",
     "output_type": "stream",
     "text": [
      "Very Good!\n"
     ]
    },
    {
     "name": "stdin",
     "output_type": "stream",
     "text": [
      "How much is 8 times 4? (to stop enter -1)  5\n"
     ]
    },
    {
     "name": "stdout",
     "output_type": "stream",
     "text": [
      "No. Please try again.\n"
     ]
    },
    {
     "name": "stdin",
     "output_type": "stream",
     "text": [
      "How much is 8 times 4? (to stop enter -1)  6\n"
     ]
    },
    {
     "name": "stdout",
     "output_type": "stream",
     "text": [
      "No. Please try again.\n"
     ]
    },
    {
     "name": "stdin",
     "output_type": "stream",
     "text": [
      "How much is 8 times 4? (to stop enter -1)  2\n"
     ]
    },
    {
     "name": "stdout",
     "output_type": "stream",
     "text": [
      "No. Please try again.\n"
     ]
    },
    {
     "name": "stdin",
     "output_type": "stream",
     "text": [
      "How much is 8 times 4? (to stop enter -1)  24\n"
     ]
    },
    {
     "name": "stdout",
     "output_type": "stream",
     "text": [
      "No. Please try again.\n"
     ]
    },
    {
     "name": "stdin",
     "output_type": "stream",
     "text": [
      "How much is 8 times 4? (to stop enter -1)  32\n"
     ]
    },
    {
     "name": "stdout",
     "output_type": "stream",
     "text": [
      "Very Good!\n"
     ]
    },
    {
     "name": "stdin",
     "output_type": "stream",
     "text": [
      "How much is 3 times 1? (to stop enter -1)  3\n"
     ]
    },
    {
     "name": "stdout",
     "output_type": "stream",
     "text": [
      "Very Good!\n"
     ]
    },
    {
     "name": "stdin",
     "output_type": "stream",
     "text": [
      "How much is 4 times 7? (to stop enter -1)  -1\n"
     ]
    }
   ],
   "source": [
    "from random import randint\n",
    "\n",
    "def multiplication():\n",
    "    a = randint(1, 10)\n",
    "    b = randint(1, 10)\n",
    "    return a, b\n",
    "\n",
    "while True:\n",
    "    number1, number2 = multiplication()\n",
    "    product = int(input(f'How much is {number1} times {number2}? (to stop enter 0) '))\n",
    "\n",
    "    if product == number1 * number2:\n",
    "        print('Very Good!')\n",
    "    elif product == 0:\n",
    "        break\n",
    "    else:\n",
    "        print('No. Please try again.')\n",
    "        while True:\n",
    "            product = int(input(f'How much is {number1} times {number2}? (to stop enter -1) '))\n",
    "            if product == number1 * number2:\n",
    "                print('Very Good!')\n",
    "                break\n",
    "            else:\n",
    "                print('No. Please try again.')\n"
   ]
  },
  {
   "cell_type": "code",
   "execution_count": null,
   "id": "d9593018-72cd-42d3-908d-87ccca9c3c5d",
   "metadata": {},
   "outputs": [],
   "source": []
  },
  {
   "cell_type": "code",
   "execution_count": null,
   "id": "3f21e372-fde4-4311-bc8b-82f03dfb8955",
   "metadata": {},
   "outputs": [],
   "source": []
  }
 ],
 "metadata": {
  "kernelspec": {
   "display_name": "Python 3 (ipykernel)",
   "language": "python",
   "name": "python3"
  },
  "language_info": {
   "codemirror_mode": {
    "name": "ipython",
    "version": 3
   },
   "file_extension": ".py",
   "mimetype": "text/x-python",
   "name": "python",
   "nbconvert_exporter": "python",
   "pygments_lexer": "ipython3",
   "version": "3.10.12"
  }
 },
 "nbformat": 4,
 "nbformat_minor": 5
}
