{
 "cells": [
  {
   "cell_type": "raw",
   "id": "058ed9a5-591d-476f-a853-b2244639ecfb",
   "metadata": {},
   "source": [
    "(Rounding Numbers) Investigate the built-in function round at https://docs.python.org/3/library/functions.html#round. Write a script that allows the user to input a floating point number, and the number of digits after the decimal sign. Use the round function to round the float value to the asked position."
   ]
  },
  {
   "cell_type": "code",
   "execution_count": 1,
   "id": "45211c7a-519d-4a62-80ef-2a82acdc88ec",
   "metadata": {},
   "outputs": [
    {
     "name": "stdin",
     "output_type": "stream",
     "text": [
      "Enter a float number:  5.55555555\n",
      "Enter the number of digits after the decimal point:  3\n"
     ]
    },
    {
     "name": "stdout",
     "output_type": "stream",
     "text": [
      "5.556\n"
     ]
    }
   ],
   "source": [
    "number = float(input('Enter a float number: '))\n",
    "digits = int(input('Enter the number of digits after the decimal point: '))\n",
    "\n",
    "print(round(number, digits))"
   ]
  }
 ],
 "metadata": {
  "kernelspec": {
   "display_name": "Python 3 (ipykernel)",
   "language": "python",
   "name": "python3"
  },
  "language_info": {
   "codemirror_mode": {
    "name": "ipython",
    "version": 3
   },
   "file_extension": ".py",
   "mimetype": "text/x-python",
   "name": "python",
   "nbconvert_exporter": "python",
   "pygments_lexer": "ipython3",
   "version": "3.10.12"
  }
 },
 "nbformat": 4,
 "nbformat_minor": 5
}
