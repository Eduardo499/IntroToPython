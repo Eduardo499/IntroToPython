{
 "cells": [
  {
   "cell_type": "raw",
   "id": "1e410d16-5df0-4073-81b5-cf155aa40162",
   "metadata": {},
   "source": [
    "(Computer-Assisted Instruction: Reducing Student Fatigue) Varying the computer’s responses can help hold the student’s attention. Modify the previous exercise so that various comments are displayed for each answer. Possible responses to a correct answer should include 'Very good!', 'Nice work!' and 'Keep up the good work!' Possible responses to an incorrect answer should include 'No. Please try again.', 'Wrong. Try once more.' and 'No. Keep trying.' Choose a number from 1 to 3, then use that value to select one of the three appropriate responses to each correct or incorrect answer."
   ]
  },
  {
   "cell_type": "code",
   "execution_count": 6,
   "id": "3fdd70ec-6906-47ef-b0e4-3f2433870404",
   "metadata": {},
   "outputs": [
    {
     "name": "stdin",
     "output_type": "stream",
     "text": [
      "How much is 4 times 8? (to stop enter 0)  5\n"
     ]
    },
    {
     "name": "stdout",
     "output_type": "stream",
     "text": [
      "No. Keep trying.\n"
     ]
    },
    {
     "name": "stdin",
     "output_type": "stream",
     "text": [
      "How much is 4 times 8? (to stop enter 0)  5\n"
     ]
    },
    {
     "name": "stdout",
     "output_type": "stream",
     "text": [
      "Wrong. Try once more.\n"
     ]
    },
    {
     "name": "stdin",
     "output_type": "stream",
     "text": [
      "How much is 4 times 8? (to stop enter 0)  0\n"
     ]
    }
   ],
   "source": [
    "from random import randint\n",
    "\n",
    "correct = ['Very good!', 'Nice work!', 'Keep up the good work!']\n",
    "wrong = ['No. Please try again.', 'Wrong. Try once more.', 'No. Keep trying.']\n",
    "\n",
    "def multiplication():\n",
    "    a = randint(1, 10)\n",
    "    b = randint(1, 10)\n",
    "    return a, b\n",
    "\n",
    "while True:\n",
    "    number1, number2 = multiplication()\n",
    "    product = int(input(f'How much is {number1} times {number2}? (to stop enter 0) '))\n",
    "\n",
    "    if product == number1 * number2:\n",
    "        n = randint(0, 2)\n",
    "        print(correct[n])\n",
    "    elif product == 0:\n",
    "        break\n",
    "    else:\n",
    "        n = randint(0, 2)\n",
    "        print(wrong[n])\n",
    "        while True:\n",
    "            product = int(input(f'How much is {number1} times {number2}? (to stop enter 0) '))\n",
    "            if product == number1 * number2:\n",
    "                n = randint(0, 2)\n",
    "                print(correct[n])\n",
    "                break\n",
    "            elif product == 0:\n",
    "                break\n",
    "            else:\n",
    "                n = randint(0, 2)\n",
    "                print(wrong[n])\n",
    "    if product == 0:\n",
    "        break\n"
   ]
  },
  {
   "cell_type": "code",
   "execution_count": null,
   "id": "74683550-4eae-4767-9b6d-f80a6383d84e",
   "metadata": {},
   "outputs": [],
   "source": []
  }
 ],
 "metadata": {
  "kernelspec": {
   "display_name": "Python 3 (ipykernel)",
   "language": "python",
   "name": "python3"
  },
  "language_info": {
   "codemirror_mode": {
    "name": "ipython",
    "version": 3
   },
   "file_extension": ".py",
   "mimetype": "text/x-python",
   "name": "python",
   "nbconvert_exporter": "python",
   "pygments_lexer": "ipython3",
   "version": "3.10.12"
  }
 },
 "nbformat": 4,
 "nbformat_minor": 5
}
