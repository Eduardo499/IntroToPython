{
 "cells": [
  {
   "cell_type": "raw",
   "id": "a1eebcde-6a9c-40fa-8ef1-935ec4b7758b",
   "metadata": {},
   "source": [
    "(What’s Wrong with This Code?) What is wrong with the following cube function’s definition?\n",
    "def cube(x):\n",
    "    \"\"\"Calculate the cube of x.\"\"\"\n",
    "    x ** 3\n",
    "print('The cube of 2 is', cube(2))"
   ]
  },
  {
   "cell_type": "code",
   "execution_count": null,
   "id": "6bb82731-0bc5-431c-829d-ccf6bba35844",
   "metadata": {},
   "outputs": [],
   "source": [
    "# The function do not return a value"
   ]
  }
 ],
 "metadata": {
  "kernelspec": {
   "display_name": "Python 3 (ipykernel)",
   "language": "python",
   "name": "python3"
  },
  "language_info": {
   "codemirror_mode": {
    "name": "ipython",
    "version": 3
   },
   "file_extension": ".py",
   "mimetype": "text/x-python",
   "name": "python",
   "nbconvert_exporter": "python",
   "pygments_lexer": "ipython3",
   "version": "3.10.12"
  }
 },
 "nbformat": 4,
 "nbformat_minor": 5
}
