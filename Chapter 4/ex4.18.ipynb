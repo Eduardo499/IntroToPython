{
 "cells": [
  {
   "cell_type": "raw",
   "id": "cab45ccb-a246-499d-86ff-d4576c38ae8b",
   "metadata": {},
   "source": [
    "(Functional-Style Programming: Internal vs. External Iteration) Why is internal iteration preferable to external iteration in functional-style programming?"
   ]
  },
  {
   "cell_type": "raw",
   "id": "807af971-3547-475c-8cc2-c0e2581d4057",
   "metadata": {},
   "source": [
    "Internal iteration is preferable in functional programming because it promotes immutability"
   ]
  }
 ],
 "metadata": {
  "kernelspec": {
   "display_name": "Python 3 (ipykernel)",
   "language": "python",
   "name": "python3"
  },
  "language_info": {
   "codemirror_mode": {
    "name": "ipython",
    "version": 3
   },
   "file_extension": ".py",
   "mimetype": "text/x-python",
   "name": "python",
   "nbconvert_exporter": "python",
   "pygments_lexer": "ipython3",
   "version": "3.10.12"
  }
 },
 "nbformat": 4,
 "nbformat_minor": 5
}
