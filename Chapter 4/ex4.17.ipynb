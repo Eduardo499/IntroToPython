{
 "cells": [
  {
   "cell_type": "raw",
   "id": "6e17de65-539d-41b6-9967-179d73053131",
   "metadata": {},
   "source": [
    "(Computer-Assisted Instruction: Varying the Types of Problems) Modify the previous exercise to allow the user to pick a type of arithmetic problem to study—1 means addition problems only, 2 means subtraction problems only, 3 means multiplication problems only, 4 means division problems only (avoid dividing by 0) and 5 means a random mixture of all these types."
   ]
  },
  {
   "cell_type": "code",
   "execution_count": 16,
   "id": "53b3d35c-5931-4a87-853a-7b4648fd36b5",
   "metadata": {},
   "outputs": [
    {
     "name": "stdin",
     "output_type": "stream",
     "text": [
      "How much is 5 plus 1? (to stop enter 0)  6\n"
     ]
    },
    {
     "name": "stdout",
     "output_type": "stream",
     "text": [
      "Keep up the good work!\n"
     ]
    },
    {
     "name": "stdin",
     "output_type": "stream",
     "text": [
      "How much is 7 minus 5? (to stop enter 0) -3\n"
     ]
    },
    {
     "name": "stdout",
     "output_type": "stream",
     "text": [
      "No. Keep trying.\n"
     ]
    },
    {
     "name": "stdin",
     "output_type": "stream",
     "text": [
      "How much is 7 minus 5? (to stop enter 0)  -2\n"
     ]
    },
    {
     "name": "stdout",
     "output_type": "stream",
     "text": [
      "No. Please try again.\n"
     ]
    },
    {
     "name": "stdin",
     "output_type": "stream",
     "text": [
      "How much is 7 minus 5? (to stop enter 0)  2\n"
     ]
    },
    {
     "name": "stdout",
     "output_type": "stream",
     "text": [
      "Very good!\n"
     ]
    },
    {
     "name": "stdin",
     "output_type": "stream",
     "text": [
      "How much is 2 minus 4? (to stop enter 0) -2\n"
     ]
    },
    {
     "name": "stdout",
     "output_type": "stream",
     "text": [
      "Keep up the good work!\n"
     ]
    },
    {
     "name": "stdin",
     "output_type": "stream",
     "text": [
      "How much is 4 plus 1? (to stop enter 0)  5\n"
     ]
    },
    {
     "name": "stdout",
     "output_type": "stream",
     "text": [
      "Very good!\n"
     ]
    },
    {
     "name": "stdin",
     "output_type": "stream",
     "text": [
      "How much is 10 times 9? (to stop enter 0) 90\n"
     ]
    },
    {
     "name": "stdout",
     "output_type": "stream",
     "text": [
      "Keep up the good work!\n"
     ]
    },
    {
     "name": "stdin",
     "output_type": "stream",
     "text": [
      "How much is 3 times 9? (to stop enter 0) 27\n"
     ]
    },
    {
     "name": "stdout",
     "output_type": "stream",
     "text": [
      "Keep up the good work!\n"
     ]
    },
    {
     "name": "stdin",
     "output_type": "stream",
     "text": [
      "How much is 6 plus 6? (to stop enter 0)  12\n"
     ]
    },
    {
     "name": "stdout",
     "output_type": "stream",
     "text": [
      "Nice work!\n"
     ]
    },
    {
     "name": "stdin",
     "output_type": "stream",
     "text": [
      "How much is 3 divived 6? (to stop enter 0) 0\n"
     ]
    }
   ],
   "source": [
    "from random import randint\n",
    "\n",
    "correct = ['Very good!', 'Nice work!', 'Keep up the good work!']\n",
    "wrong = ['No. Please try again.', 'Wrong. Try once more.', 'No. Keep trying.']\n",
    "\n",
    "def arithmetic():\n",
    "    a = randint(1, 10)\n",
    "    b = randint(1, 10)\n",
    "    return a, b\n",
    "\n",
    "while True:\n",
    "    number1, number2 = arithmetic()\n",
    "    operation = randint(1, 5)\n",
    "\n",
    "    if operation == 1:\n",
    "        addition = int(input(f'How much is {number1} plus {number2}? (to stop enter 0) '))\n",
    "        \n",
    "        if addition == number1 + number2:\n",
    "            n = randint(0, 2)\n",
    "            print(correct[n])\n",
    "        elif addition == 0:\n",
    "            break\n",
    "        else:\n",
    "            n = randint(0, 2)\n",
    "            print(wrong[n])\n",
    "            \n",
    "            while True:\n",
    "                addition = int(input(f'How much is {number1} plus {number2}? (to stop enter 0) '))\n",
    "                if addition == number1 + number2:\n",
    "                    n = randint(0, 2)\n",
    "                    print(correct[n])\n",
    "                    break\n",
    "                elif addition == 0:\n",
    "                    break\n",
    "                else:\n",
    "                    n = randint(0, 2)\n",
    "                    print(wrong[n])\n",
    "                    \n",
    "        if addition == 0:\n",
    "            break\n",
    "\n",
    "    elif operation == 2:\n",
    "        subtraction = int(input(f'How much is {number1} minus {number2}? (to stop enter 0)'))\n",
    "\n",
    "        if subtraction == number1 - number2:\n",
    "            n = randint(0, 2)\n",
    "            print(correct[n])\n",
    "        elif subtraction == 0:\n",
    "            break\n",
    "        else:\n",
    "            n = randint(0, 2)\n",
    "            print(wrong[n])\n",
    "            \n",
    "            while True:\n",
    "                subtraction = int(input(f'How much is {number1} minus {number2}? (to stop enter 0) '))\n",
    "                if subtraction == number1 - number2:\n",
    "                    n = randint(0, 2)\n",
    "                    print(correct[n])\n",
    "                    break\n",
    "                elif subtraction == 0:\n",
    "                    break\n",
    "                else:\n",
    "                    n = randint(0, 2)\n",
    "                    print(wrong[n])\n",
    "                    \n",
    "        if subtraction == 0:\n",
    "            break\n",
    "\n",
    "    elif operation == 3:\n",
    "        multiplication = int(input(f'How much is {number1} times {number2}? (to stop enter 0)'))\n",
    "\n",
    "        if multiplication == number1 * number2:\n",
    "            n = randint(0, 2)\n",
    "            print(correct[n])\n",
    "        elif multiplication == 0:\n",
    "            break\n",
    "        else:\n",
    "            n = randint(0, 2)\n",
    "            print(wrong[n])\n",
    "            \n",
    "            while True:\n",
    "                multiplication = int(input(f'How much is {number1} times {number2}? (to stop enter 0) '))\n",
    "                if multiplication == number1 * number2:\n",
    "                    n = randint(0, 2)\n",
    "                    print(correct[n])\n",
    "                    break\n",
    "                elif multiplication == 0:\n",
    "                    break\n",
    "                else:\n",
    "                    n = randint(0, 2)\n",
    "                    print(wrong[n])\n",
    "                    \n",
    "        if multiplication == 0:\n",
    "            break\n",
    "\n",
    "    elif operation == 4:\n",
    "        division = int(input(f'How much is {number1} divived {number2}? (to stop enter 0)'))\n",
    "\n",
    "        if division == number1 / number2:\n",
    "            n = randint(0, 2)\n",
    "            print(correct[n])\n",
    "        elif division == 0:\n",
    "            break\n",
    "        else:\n",
    "            n = randint(0, 2)\n",
    "            print(wrong[n])\n",
    "            \n",
    "            while True:\n",
    "                division = int(input(f'How much is {number1} divived {number2}? (to stop enter 0) '))\n",
    "                if number2 == 0:\n",
    "                    print('Cannot divide by zero!')\n",
    "                    break\n",
    "                if division == int(number1 / number2):\n",
    "                    n = randint(0, 2)\n",
    "                    print(correct[n])\n",
    "                    break\n",
    "                elif division == 0:\n",
    "                    break\n",
    "                else:\n",
    "                    n = randint(0, 2)\n",
    "                    print(wrong[n])\n",
    "                    \n",
    "        if division == 0:\n",
    "            break\n"
   ]
  },
  {
   "cell_type": "code",
   "execution_count": null,
   "id": "327db56b-0225-4321-837a-08a73cca9546",
   "metadata": {},
   "outputs": [],
   "source": []
  }
 ],
 "metadata": {
  "kernelspec": {
   "display_name": "Python 3 (ipykernel)",
   "language": "python",
   "name": "python3"
  },
  "language_info": {
   "codemirror_mode": {
    "name": "ipython",
    "version": 3
   },
   "file_extension": ".py",
   "mimetype": "text/x-python",
   "name": "python",
   "nbconvert_exporter": "python",
   "pygments_lexer": "ipython3",
   "version": "3.10.12"
  }
 },
 "nbformat": 4,
 "nbformat_minor": 5
}
