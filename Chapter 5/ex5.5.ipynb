{
 "cells": [
  {
   "cell_type": "raw",
   "id": "0fe9c9f0-cbd2-4ea8-938a-3f6d0720ea4e",
   "metadata": {},
   "source": [
    "(List Slicing) Create a list called numbers containing \"1, 2, 3, 4, 5, 6, 7, 8, 9, 10, 11, 12, 13, 14, 15, 16, 17, 18, 19, 20,\" then perform slicing operations to obtain the following:"
   ]
  },
  {
   "cell_type": "code",
   "execution_count": 2,
   "id": "d9cff36f-d573-4003-a612-67ccd81b0d6b",
   "metadata": {},
   "outputs": [],
   "source": [
    "numbers = [1, 2, 3, 4, 5, 6, 7, 8, 9, 10, 11, 12, 13, 14, 15, 16, 17, 18, 19, 20]"
   ]
  },
  {
   "cell_type": "code",
   "execution_count": 3,
   "id": "4e48a248-6ab4-4ed7-b563-19a3eb5f1de1",
   "metadata": {},
   "outputs": [
    {
     "data": {
      "text/plain": [
       "4"
      ]
     },
     "execution_count": 3,
     "metadata": {},
     "output_type": "execute_result"
    }
   ],
   "source": [
    "# a) a) The third number,\n",
    "numbers[3]"
   ]
  },
  {
   "cell_type": "code",
   "execution_count": 4,
   "id": "328a6516-2652-4095-82e5-0b415467d49b",
   "metadata": {},
   "outputs": [
    {
     "data": {
      "text/plain": [
       "[1, 2, 3, 4, 5]"
      ]
     },
     "execution_count": 4,
     "metadata": {},
     "output_type": "execute_result"
    }
   ],
   "source": [
    "# b) b) The first five numbers,\n",
    "numbers[:5]"
   ]
  },
  {
   "cell_type": "code",
   "execution_count": 5,
   "id": "db1d2efa-d126-408f-855d-4630fdb91553",
   "metadata": {},
   "outputs": [
    {
     "data": {
      "text/plain": [
       "[1, 2, 3, 4, 5, 6, 7, 8, 9, 10]"
      ]
     },
     "execution_count": 5,
     "metadata": {},
     "output_type": "execute_result"
    }
   ],
   "source": [
    "# c) The first half of the list,\n",
    "numbers[:10]"
   ]
  },
  {
   "cell_type": "code",
   "execution_count": 7,
   "id": "5ddc9d6f-3822-4d2c-8f4d-4168cc55a029",
   "metadata": {},
   "outputs": [
    {
     "data": {
      "text/plain": [
       "[16, 17, 18, 19, 20]"
      ]
     },
     "execution_count": 7,
     "metadata": {},
     "output_type": "execute_result"
    }
   ],
   "source": [
    "# d) The last five numbers,\n",
    "numbers[15:]"
   ]
  },
  {
   "cell_type": "code",
   "execution_count": null,
   "id": "ab81a73d-8afb-4174-986d-f8949b0fb412",
   "metadata": {},
   "outputs": [],
   "source": [
    "# e) Every other number,\n",
    "numbers"
   ]
  },
  {
   "cell_type": "code",
   "execution_count": 8,
   "id": "e4083c9c-5e8f-44e9-978a-86d6aac71cab",
   "metadata": {},
   "outputs": [
    {
     "data": {
      "text/plain": [
       "18"
      ]
     },
     "execution_count": 8,
     "metadata": {},
     "output_type": "execute_result"
    }
   ],
   "source": [
    "# g) The third last number.\n",
    "numbers[-3]"
   ]
  },
  {
   "cell_type": "code",
   "execution_count": null,
   "id": "7b7665c8-51be-4059-a055-fe4388a00621",
   "metadata": {},
   "outputs": [],
   "source": []
  }
 ],
 "metadata": {
  "kernelspec": {
   "display_name": "Python 3 (ipykernel)",
   "language": "python",
   "name": "python3"
  },
  "language_info": {
   "codemirror_mode": {
    "name": "ipython",
    "version": 3
   },
   "file_extension": ".py",
   "mimetype": "text/x-python",
   "name": "python",
   "nbconvert_exporter": "python",
   "pygments_lexer": "ipython3",
   "version": "3.10.12"
  }
 },
 "nbformat": 4,
 "nbformat_minor": 5
}
