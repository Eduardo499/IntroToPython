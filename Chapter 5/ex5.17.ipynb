{
 "cells": [
  {
   "cell_type": "raw",
   "id": "75d61c20-1546-4177-8465-8e5454aecc8c",
   "metadata": {},
   "source": [
    "(Filter/Map Performance) With regard to the following code:\n",
    "\n",
    "    numbers = [10, 3, 7, 1, 9, 4, 2, 8, 5, 6]\n",
    "    list(map(lambda x: x ** 2,\n",
    "        filter(lambda x: x % 2 != 0, numbers)))\n",
    "    \n",
    "    a) How many times does the filter operation call its lambda argument? R: 9 times\n",
    "    b) How many times does the map operation call its lambda argument? R: 5 times\n",
    "    c) If you reverse the filter and map operations, how many times does the map operation call its lambda     argument? R: 10 times\n",
    "\n",
    "To help you answer the preceding questions, define functions that perform the same tasks as the lambdas. In each function, include a print statement so you can see each time the function is called. Finally, replace the lambdas in the preceding code with the names of your functions."
   ]
  },
  {
   "cell_type": "code",
   "execution_count": 6,
   "id": "6364e11b-7573-4bf8-ad6a-ad707336894f",
   "metadata": {},
   "outputs": [
    {
     "name": "stdout",
     "output_type": "stream",
     "text": [
      "filter: is_odd(10)\n",
      "filter: is_odd(3)\n",
      "map: square(3)\n",
      "filter: is_odd(7)\n",
      "map: square(7)\n",
      "filter: is_odd(1)\n",
      "map: square(1)\n",
      "filter: is_odd(9)\n",
      "map: square(9)\n",
      "filter: is_odd(4)\n",
      "filter: is_odd(2)\n",
      "filter: is_odd(8)\n",
      "filter: is_odd(5)\n",
      "map: square(5)\n",
      "filter: is_odd(6)\n",
      "Result: [9, 49, 1, 81, 25]\n",
      "map: square(10)\n",
      "filter: is_odd(100)\n",
      "map: square(3)\n",
      "filter: is_odd(9)\n",
      "map: square(7)\n",
      "filter: is_odd(49)\n",
      "map: square(1)\n",
      "filter: is_odd(1)\n",
      "map: square(9)\n",
      "filter: is_odd(81)\n",
      "map: square(4)\n",
      "filter: is_odd(16)\n",
      "map: square(2)\n",
      "filter: is_odd(4)\n",
      "map: square(8)\n",
      "filter: is_odd(64)\n",
      "map: square(5)\n",
      "filter: is_odd(25)\n",
      "map: square(6)\n",
      "filter: is_odd(36)\n",
      "Reversed Result [9, 49, 1, 81, 25]\n"
     ]
    }
   ],
   "source": [
    "def is_odd(x):\n",
    "    print(f'filter: is_odd({x})')\n",
    "    return x % 2 != 0\n",
    "\n",
    "def square(x):\n",
    "    print(f'map: square({x})')\n",
    "    return x ** 2\n",
    "\n",
    "numbers = [10, 3, 7, 1, 9, 4, 2, 8, 5, 6]\n",
    "\n",
    "result = list(map(square, filter(is_odd, numbers)))\n",
    "print('Result:', result)\n",
    "\n",
    "result_reversed = list(filter(is_odd, map(square, numbers)))\n",
    "print('Reversed Result', result_reversed)"
   ]
  },
  {
   "cell_type": "code",
   "execution_count": null,
   "id": "879a6a67-12f8-46c5-9ed4-6fa16a33056c",
   "metadata": {},
   "outputs": [],
   "source": []
  }
 ],
 "metadata": {
  "kernelspec": {
   "display_name": "Python 3 (ipykernel)",
   "language": "python",
   "name": "python3"
  },
  "language_info": {
   "codemirror_mode": {
    "name": "ipython",
    "version": 3
   },
   "file_extension": ".py",
   "mimetype": "text/x-python",
   "name": "python",
   "nbconvert_exporter": "python",
   "pygments_lexer": "ipython3",
   "version": "3.10.12"
  }
 },
 "nbformat": 4,
 "nbformat_minor": 5
}
