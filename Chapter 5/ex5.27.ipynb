{
 "cells": [
  {
   "cell_type": "raw",
   "id": "29292708-7170-4086-bc9f-ce581ac0b9f1",
   "metadata": {},
   "source": [
    "(Intro to Data Science: Duplicate Elimination and Counting Frequencies) Use the list generated in Exercise 5.16 to test NumPy's unique function to obtain the unique values and their frequencies. Display the results."
   ]
  },
  {
   "cell_type": "code",
   "execution_count": 10,
   "id": "0775bdee-2f04-4e78-8b05-91c8c47acd7d",
   "metadata": {},
   "outputs": [
    {
     "name": "stdout",
     "output_type": "stream",
     "text": [
      "['a11' 'a12' 'a14' 'a31' 'a32' 'a33' 'a42' 'a43' 'a44' 'b11' 'b12' 'b14'\n",
      " 'b21' 'b22' 'b32' 'b33' 'b34' 'b41' 'b42' 'b43' 'b44' 'c11' 'c12' 'c13'\n",
      " 'c21' 'c22' 'c23' 'c24' 'c33' 'c41' 'c42' 'c43' 'c44' 'd11' 'd12' 'd13'\n",
      " 'd14' 'd21' 'd24' 'd31' 'd32' 'd33' 'd41' 'd42' 'd43' 'd44' 'e11' 'e12'\n",
      " 'e14' 'e22' 'e24' 'e31' 'e32' 'e33' 'e34' 'e41' 'e43' 'e44' 'f11' 'f12'\n",
      " 'f14' 'f22' 'f23' 'f24' 'f31' 'f32' 'f34' 'f41' 'f42' 'f43' 'f44']\n"
     ]
    }
   ],
   "source": [
    "from random import choice\n",
    "import numpy as np\n",
    "\n",
    "users = []\n",
    "letters = ['a', 'b', 'c', 'd', 'e', 'f']\n",
    "numbers = [1, 2, 3, 4]\n",
    "\n",
    "for _ in range(100):\n",
    "    user = choice(letters) + str(choice(numbers)) + str(choice(numbers))\n",
    "    users.append(user)\n",
    "\n",
    "print(np.unique(users))"
   ]
  },
  {
   "cell_type": "code",
   "execution_count": null,
   "id": "96840a62-b908-4637-b019-d9623c5567e0",
   "metadata": {},
   "outputs": [],
   "source": []
  },
  {
   "cell_type": "code",
   "execution_count": null,
   "id": "625effca-c482-4b85-a31f-68fd4805202b",
   "metadata": {},
   "outputs": [],
   "source": []
  }
 ],
 "metadata": {
  "kernelspec": {
   "display_name": "Python 3 (ipykernel)",
   "language": "python",
   "name": "python3"
  },
  "language_info": {
   "codemirror_mode": {
    "name": "ipython",
    "version": 3
   },
   "file_extension": ".py",
   "mimetype": "text/x-python",
   "name": "python",
   "nbconvert_exporter": "python",
   "pygments_lexer": "ipython3",
   "version": "3.10.12"
  }
 },
 "nbformat": 4,
 "nbformat_minor": 5
}
