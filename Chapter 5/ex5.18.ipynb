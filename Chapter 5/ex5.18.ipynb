{
 "cells": [
  {
   "cell_type": "raw",
   "id": "5ff31a46-975c-4e8a-b2b6-f8f010110e25",
   "metadata": {},
   "source": [
    "(Summing the Triples of the Even Integers from 2 through 10) Starting with a list containing 1 through 10, use filter, map and sum to calculate the total of the triples of the even integers from 2 through 10. Reimplement your code with list comprehensions rather than filter and map."
   ]
  },
  {
   "cell_type": "code",
   "execution_count": 4,
   "id": "6bd31fbf-3898-4503-b85e-eaaf035bffea",
   "metadata": {},
   "outputs": [
    {
     "data": {
      "text/plain": [
       "90"
      ]
     },
     "execution_count": 4,
     "metadata": {},
     "output_type": "execute_result"
    }
   ],
   "source": [
    "numbers = [1, 2, 3, 4, 5, 6, 7, 8, 9, 10]\n",
    "numbers = [i * 3 for i in numbers if i % 2 == 0]\n",
    "sum(numbers)"
   ]
  },
  {
   "cell_type": "code",
   "execution_count": 9,
   "id": "0d5c3044-af5a-401b-badd-5daaaeb7efa4",
   "metadata": {},
   "outputs": [
    {
     "data": {
      "text/plain": [
       "90"
      ]
     },
     "execution_count": 9,
     "metadata": {},
     "output_type": "execute_result"
    }
   ],
   "source": [
    "numbers = [1, 2, 3, 4, 5, 6, 7, 8, 9, 10]\n",
    "numbers = list(map(lambda x: x * 3 ,filter(lambda x: x % 2 == 0, numbers)))\n",
    "sum(numbers)"
   ]
  },
  {
   "cell_type": "code",
   "execution_count": null,
   "id": "ce41cfae-dc1f-4dcb-8e2e-45319fa036e4",
   "metadata": {},
   "outputs": [],
   "source": []
  }
 ],
 "metadata": {
  "kernelspec": {
   "display_name": "Python 3 (ipykernel)",
   "language": "python",
   "name": "python3"
  },
  "language_info": {
   "codemirror_mode": {
    "name": "ipython",
    "version": 3
   },
   "file_extension": ".py",
   "mimetype": "text/x-python",
   "name": "python",
   "nbconvert_exporter": "python",
   "pygments_lexer": "ipython3",
   "version": "3.10.12"
  }
 },
 "nbformat": 4,
 "nbformat_minor": 5
}
