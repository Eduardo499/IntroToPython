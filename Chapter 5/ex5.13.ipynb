{
 "cells": [
  {
   "cell_type": "raw",
   "id": "19f63e27-5215-4150-9f51-b40f7febe98c",
   "metadata": {},
   "source": [
    "(Encrypt) As seen in Exercise 5.11, an extract of a book was often used to encrypt messages during the second world war. They were encrypted by calculating the position of each of its letters in the regular alphabet. This position was used to select the corresponding letter in the encryption key. For example, the letter A has position 1 in the alphabet. The letter A in the message is thus replaced by the first letter in the encryption key. Write a script that uses the encryption key composed in Exercise 5.11 to encrypt “Help me.”"
   ]
  },
  {
   "cell_type": "code",
   "execution_count": 20,
   "id": "70adb913-bb11-49f2-8399-538ca453fc8c",
   "metadata": {},
   "outputs": [
    {
     "data": {
      "text/plain": [
       "851216135"
      ]
     },
     "execution_count": 20,
     "metadata": {},
     "output_type": "execute_result"
    }
   ],
   "source": [
    "alphabet = ['a', 'b', 'c', 'd', 'e', 'f', 'g', 'h', 'i', 'j', 'k', 'l', 'm', 'n', 'o', 'p', 'q', 'r', 's', 't', 'u', 'v', 'w', 'x', 'y', 'z']\n",
    "numbers = [1, 2, 3, 4, 5, 6, 7, 8, 9, 10, 11, 12, 13, 14, 15, 16, 17, 18, 19, 20, 21, 22, 23, 24, 25, 26]\n",
    "\n",
    "def encryption(key):\n",
    "    letters = list(key.replace(' ', '').lower())\n",
    "    encrypted = [numbers[alphabet.index(letter)] for letter in letters]\n",
    "    return int(''.join(map(str, encrypted)))\n",
    "\n",
    "encryption('Help me')"
   ]
  },
  {
   "cell_type": "code",
   "execution_count": null,
   "id": "5a2c5831-03c0-4c53-bbaa-e85ea0285f13",
   "metadata": {},
   "outputs": [],
   "source": []
  }
 ],
 "metadata": {
  "kernelspec": {
   "display_name": "Python 3 (ipykernel)",
   "language": "python",
   "name": "python3"
  },
  "language_info": {
   "codemirror_mode": {
    "name": "ipython",
    "version": 3
   },
   "file_extension": ".py",
   "mimetype": "text/x-python",
   "name": "python",
   "nbconvert_exporter": "python",
   "pygments_lexer": "ipython3",
   "version": "3.10.12"
  }
 },
 "nbformat": 4,
 "nbformat_minor": 5
}
