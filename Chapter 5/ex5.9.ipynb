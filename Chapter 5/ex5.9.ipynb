{
 "cells": [
  {
   "cell_type": "raw",
   "id": "0b56c68d-a687-4ec3-a608-e4534f55684c",
   "metadata": {},
   "source": [
    "(Palindrome Tester) A string that’s spelled identically backward and forward, like 'radar', is a palindrome. Write a function is_palindrome that takes a string and returns True if it’s a palindrome and False otherwise. Use a stack (simulated with a list as we did in Section 5.11) to help determine whether a string is a palindrome. Your function should ignore case sensitivity (that is, 'a' and 'A' are the same), spaces and punctuation."
   ]
  },
  {
   "cell_type": "code",
   "execution_count": 26,
   "id": "579a9294-197d-4c5d-a346-c6a178532063",
   "metadata": {},
   "outputs": [
    {
     "data": {
      "text/plain": [
       "True"
      ]
     },
     "execution_count": 26,
     "metadata": {},
     "output_type": "execute_result"
    }
   ],
   "source": [
    "def is_palindrome(s):\n",
    "    characters = list(s.lower())\n",
    "    characters.reverse()\n",
    "    s_reverse = ''.join(characters)\n",
    "    return s.lower() == s_reverse\n",
    "\n",
    "string = 'radar'\n",
    "is_palindrome(string)"
   ]
  }
 ],
 "metadata": {
  "kernelspec": {
   "display_name": "Python 3 (ipykernel)",
   "language": "python",
   "name": "python3"
  },
  "language_info": {
   "codemirror_mode": {
    "name": "ipython",
    "version": 3
   },
   "file_extension": ".py",
   "mimetype": "text/x-python",
   "name": "python",
   "nbconvert_exporter": "python",
   "pygments_lexer": "ipython3",
   "version": "3.10.12"
  }
 },
 "nbformat": 4,
 "nbformat_minor": 5
}
