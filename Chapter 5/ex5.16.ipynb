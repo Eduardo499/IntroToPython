{
 "cells": [
  {
   "cell_type": "raw",
   "id": "b3263ab0-f2c4-4923-a6a8-0456ba1bcf5a",
   "metadata": {},
   "source": [
    "(Sorting User IDs) For each new user, a system generates a user ID consisting of a randomly chosen letter and two random numbers. Write a script that randomly generates a list containing 8000 user IDs using random letters from the range \"a\" through \"f\" and numbers from the range 1 to 4. Subsequently, remove all duplicate entries from the list and sort this list in descending order."
   ]
  },
  {
   "cell_type": "code",
   "execution_count": 1,
   "id": "574abb26-a17d-47c5-b0a9-2455a89fa043",
   "metadata": {},
   "outputs": [
    {
     "ename": "KeyboardInterrupt",
     "evalue": "",
     "output_type": "error",
     "traceback": [
      "\u001b[0;31m---------------------------------------------------------------------------\u001b[0m",
      "\u001b[0;31mKeyboardInterrupt\u001b[0m                         Traceback (most recent call last)",
      "Cell \u001b[0;32mIn[1], line 8\u001b[0m\n\u001b[1;32m      5\u001b[0m numbers \u001b[38;5;241m=\u001b[39m [\u001b[38;5;241m1\u001b[39m, \u001b[38;5;241m2\u001b[39m, \u001b[38;5;241m3\u001b[39m, \u001b[38;5;241m4\u001b[39m]\n\u001b[1;32m      7\u001b[0m \u001b[38;5;28;01mwhile\u001b[39;00m \u001b[38;5;28mlen\u001b[39m(users) \u001b[38;5;241m<\u001b[39m \u001b[38;5;241m8000\u001b[39m:\n\u001b[0;32m----> 8\u001b[0m     user \u001b[38;5;241m=\u001b[39m \u001b[43mchoice\u001b[49m\u001b[43m(\u001b[49m\u001b[43mletters\u001b[49m\u001b[43m)\u001b[49m \u001b[38;5;241m+\u001b[39m \u001b[38;5;28mstr\u001b[39m(choice(numbers)) \u001b[38;5;241m+\u001b[39m \u001b[38;5;28mstr\u001b[39m(choice(numbers))\n\u001b[1;32m      9\u001b[0m     \u001b[38;5;28;01mif\u001b[39;00m user \u001b[38;5;129;01mnot\u001b[39;00m \u001b[38;5;129;01min\u001b[39;00m users:\n\u001b[1;32m     10\u001b[0m         users\u001b[38;5;241m.\u001b[39mappend(user)\n",
      "File \u001b[0;32m/usr/lib/python3.10/random.py:375\u001b[0m, in \u001b[0;36mRandom.choice\u001b[0;34m(self, seq)\u001b[0m\n\u001b[1;32m    370\u001b[0m     \u001b[38;5;28;01mreturn\u001b[39;00m \u001b[38;5;28mself\u001b[39m\u001b[38;5;241m.\u001b[39mrandrange(a, b\u001b[38;5;241m+\u001b[39m\u001b[38;5;241m1\u001b[39m)\n\u001b[1;32m    373\u001b[0m \u001b[38;5;66;03m## -------------------- sequence methods  -------------------\u001b[39;00m\n\u001b[0;32m--> 375\u001b[0m \u001b[38;5;28;01mdef\u001b[39;00m \u001b[38;5;21mchoice\u001b[39m(\u001b[38;5;28mself\u001b[39m, seq):\n\u001b[1;32m    376\u001b[0m \u001b[38;5;250m    \u001b[39m\u001b[38;5;124;03m\"\"\"Choose a random element from a non-empty sequence.\"\"\"\u001b[39;00m\n\u001b[1;32m    377\u001b[0m     \u001b[38;5;66;03m# raises IndexError if seq is empty\u001b[39;00m\n",
      "\u001b[0;31mKeyboardInterrupt\u001b[0m: "
     ]
    }
   ],
   "source": [
    "from random import choice\n",
    "\n",
    "users = []\n",
    "letters = ['a', 'b', 'c', 'd', 'e', 'f']\n",
    "numbers = [1, 2, 3, 4]\n",
    "\n",
    "while len(users) < 8000:\n",
    "    user = choice(letters) + str(choice(numbers)) + str(choice(numbers))\n",
    "    if user not in users:\n",
    "        users.append(user)\n",
    "\n",
    "for i in users:\n",
    "    print(i, end=' ')"
   ]
  },
  {
   "cell_type": "code",
   "execution_count": null,
   "id": "ba86fd0e-fb9c-4f10-a51e-7db015edb603",
   "metadata": {},
   "outputs": [],
   "source": []
  }
 ],
 "metadata": {
  "kernelspec": {
   "display_name": "Python 3 (ipykernel)",
   "language": "python",
   "name": "python3"
  },
  "language_info": {
   "codemirror_mode": {
    "name": "ipython",
    "version": 3
   },
   "file_extension": ".py",
   "mimetype": "text/x-python",
   "name": "python",
   "nbconvert_exporter": "python",
   "pygments_lexer": "ipython3",
   "version": "3.10.12"
  }
 },
 "nbformat": 4,
 "nbformat_minor": 5
}
