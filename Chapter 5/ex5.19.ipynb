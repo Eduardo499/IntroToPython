{
 "cells": [
  {
   "cell_type": "raw",
   "id": "76158732-de7c-4943-8a19-d155a22f9a57",
   "metadata": {},
   "source": [
    "(Finding the People with a Specified Last Name) Create a list of tuples containing first and last names. Use filter to locate the tuples containing the last name Jones. Ensure that several tuples in your list have that last name."
   ]
  },
  {
   "cell_type": "code",
   "execution_count": 6,
   "id": "0470dccb-f441-4063-bfac-de5c7b29e818",
   "metadata": {},
   "outputs": [
    {
     "data": {
      "text/plain": [
       "[('Jane', 'Jones'), ('Michael', 'Jones'), ('Chris', 'Jones')]"
      ]
     },
     "execution_count": 6,
     "metadata": {},
     "output_type": "execute_result"
    }
   ],
   "source": [
    "names = [\n",
    "    (\"John\", \"Smith\"),\n",
    "    (\"Jane\", \"Jones\"),\n",
    "    (\"Emily\", \"Davis\"),\n",
    "    (\"Michael\", \"Jones\"),\n",
    "    (\"Sarah\", \"Brown\"),\n",
    "    (\"Chris\", \"Jones\"),\n",
    "]\n",
    "\n",
    "jones = list(filter(lambda x: x[1] == 'Jones', names))\n",
    "jones"
   ]
  },
  {
   "cell_type": "code",
   "execution_count": null,
   "id": "5c16d546-7d8c-4edf-8185-7d954c3ae6b1",
   "metadata": {},
   "outputs": [],
   "source": []
  }
 ],
 "metadata": {
  "kernelspec": {
   "display_name": "Python 3 (ipykernel)",
   "language": "python",
   "name": "python3"
  },
  "language_info": {
   "codemirror_mode": {
    "name": "ipython",
    "version": 3
   },
   "file_extension": ".py",
   "mimetype": "text/x-python",
   "name": "python",
   "nbconvert_exporter": "python",
   "pygments_lexer": "ipython3",
   "version": "3.10.12"
  }
 },
 "nbformat": 4,
 "nbformat_minor": 5
}
