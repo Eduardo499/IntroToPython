{
 "cells": [
  {
   "cell_type": "raw",
   "id": "8f4701ed-6e13-4d05-a264-c4711025c67f",
   "metadata": {},
   "source": [
    "(Display Multiplication Tables) Define a function named display_table that receives a two-dimensional list containing the results of the different multiplication tables (1 through 10). It subsequently prints the contents of this two-dimensional list in tabular format. The column and row headings should contain the numbers 1 through 10."
   ]
  },
  {
   "cell_type": "code",
   "execution_count": 15,
   "id": "579b92b4-f75c-42b5-9606-55c200b82bb6",
   "metadata": {},
   "outputs": [
    {
     "name": "stdout",
     "output_type": "stream",
     "text": [
      "   1   2   3   4   5   6   7   8   9  10\n",
      "   2   4   6   8  10  12  14  16  18  20\n",
      "   3   6   9  12  15  18  21  24  27  30\n",
      "   4   8  12  16  20  24  28  32  36  40\n",
      "   5  10  15  20  25  30  35  40  45  50\n",
      "   6  12  18  24  30  36  42  48  54  60\n",
      "   7  14  21  28  35  42  49  56  63  70\n",
      "   8  16  24  32  40  48  56  64  72  80\n",
      "   9  18  27  36  45  54  63  72  81  90\n",
      "  10  20  30  40  50  60  70  80  90 100\n"
     ]
    }
   ],
   "source": [
    "def display_table(tables):\n",
    "    for i in tables:\n",
    "        for j in i:\n",
    "            print(f'{j:>4}', end='')\n",
    "        print()\n",
    "\n",
    "tables = [[i * j for j in range(1, 11)] for i in range(1, 11)]\n",
    "\n",
    "display_table(tables)"
   ]
  }
 ],
 "metadata": {
  "kernelspec": {
   "display_name": "Python 3 (ipykernel)",
   "language": "python",
   "name": "python3"
  },
  "language_info": {
   "codemirror_mode": {
    "name": "ipython",
    "version": 3
   },
   "file_extension": ".py",
   "mimetype": "text/x-python",
   "name": "python",
   "nbconvert_exporter": "python",
   "pygments_lexer": "ipython3",
   "version": "3.10.12"
  }
 },
 "nbformat": 4,
 "nbformat_minor": 5
}
