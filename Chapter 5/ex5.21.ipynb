{
 "cells": [
  {
   "cell_type": "raw",
   "id": "9575a536-fc6e-440c-9fc5-948964ffc8da",
   "metadata": {},
   "source": [
    "(Computer-Assisted Instruction: Reducing Student Fatigue) Re-implement Exercise 4.15 to store the computer’s responses in lists. Use random-number generation to select responses using random list indices."
   ]
  },
  {
   "cell_type": "code",
   "execution_count": 6,
   "id": "b037760b-0aec-4de2-9d01-26651a20cb22",
   "metadata": {},
   "outputs": [
    {
     "name": "stdin",
     "output_type": "stream",
     "text": [
      "How much is 10 times 3? (to stop enter 0)  30\n"
     ]
    },
    {
     "name": "stdout",
     "output_type": "stream",
     "text": [
      "Keep up the good work!\n"
     ]
    },
    {
     "name": "stdin",
     "output_type": "stream",
     "text": [
      "How much is 2 times 3? (to stop enter 0)  6\n"
     ]
    },
    {
     "name": "stdout",
     "output_type": "stream",
     "text": [
      "Keep up the good work!\n"
     ]
    },
    {
     "name": "stdin",
     "output_type": "stream",
     "text": [
      "How much is 2 times 2? (to stop enter 0)  0\n"
     ]
    }
   ],
   "source": [
    "from random import randint, choice\n",
    "\n",
    "correct = ['Very good!', 'Nice work!', 'Keep up the good work!']\n",
    "wrong = ['No. Please try again.', 'Wrong. Try once more.', 'No. Keep trying.']\n",
    "responses = []\n",
    "count = 0\n",
    "\n",
    "def multiplication():\n",
    "    a = randint(1, 10)\n",
    "    b = randint(1, 10)\n",
    "    return a, b\n",
    "\n",
    "def computer():\n",
    "    a = randint(1, 10)\n",
    "    b = randint(1, 10)\n",
    "    return a * b\n",
    "\n",
    "while True:\n",
    "    number1, number2 = multiplication()\n",
    "    number3 = computer()\n",
    "    responses.append(number3)\n",
    "    product = int(input(f'How much is {number1} times {number2}? (to stop enter 0) '))\n",
    "\n",
    "    if choice(responses) == number2 * number2:\n",
    "        count += 1\n",
    "        \n",
    "    if product == number1 * number2:\n",
    "        n = randint(0, 2)\n",
    "        print(correct[n])\n",
    "    elif product == 0:\n",
    "        break\n",
    "    else:\n",
    "        n = randint(0, 2)\n",
    "        print(wrong[n])\n",
    "        while True:\n",
    "            product = int(input(f'How much is {number1} times {number2}? (to stop enter 0) '))\n",
    "            if product == number1 * number2:\n",
    "                n = randint(0, 2)\n",
    "                print(correct[n])\n",
    "                break\n",
    "            elif product == 0:\n",
    "                break\n",
    "            else:\n",
    "                n = randint(0, 2)\n",
    "                print(wrong[n])\n",
    "    if product == 0:\n",
    "        break\n"
   ]
  },
  {
   "cell_type": "code",
   "execution_count": null,
   "id": "d1d3af8f-53c4-46c6-b0d9-939dd500f6c2",
   "metadata": {},
   "outputs": [],
   "source": []
  }
 ],
 "metadata": {
  "kernelspec": {
   "display_name": "Python 3 (ipykernel)",
   "language": "python",
   "name": "python3"
  },
  "language_info": {
   "codemirror_mode": {
    "name": "ipython",
    "version": 3
   },
   "file_extension": ".py",
   "mimetype": "text/x-python",
   "name": "python",
   "nbconvert_exporter": "python",
   "pygments_lexer": "ipython3",
   "version": "3.10.12"
  }
 },
 "nbformat": 4,
 "nbformat_minor": 5
}
