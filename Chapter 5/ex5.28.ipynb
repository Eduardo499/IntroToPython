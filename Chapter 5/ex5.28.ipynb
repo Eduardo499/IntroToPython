{
 "cells": [
  {
   "cell_type": "raw",
   "id": "bdb78499-689f-42a4-9c66-779422582f8c",
   "metadata": {},
   "source": [
    "(Intro to Data Science: COVID-19 Infection Statistics) During the first 20 days of the COVID-19 pandemic, the number of newly infected patients per day in a country were recorded. Place the following numbers in a list:\n",
    "174, 335, 278, 214, 422, 513, 737, 672, 489, 412, 1301, 1105, 1123, 1376, 1502, 894, 665, 1704, 1656, 1342\n",
    "\n",
    "Use the built-in functions in the statistics module to display the following statistics concerning the infection rate: minimum, maximum, range, mean, median, variance, and standard deviation."
   ]
  },
  {
   "cell_type": "code",
   "execution_count": 12,
   "id": "7d38773a-8265-430d-822e-0e7c6b8c307b",
   "metadata": {},
   "outputs": [
    {
     "name": "stdout",
     "output_type": "stream",
     "text": [
      "Minimum: 174\n",
      "Maximum: 1704\n",
      "Range: 1530\n",
      "Mean: 845.7\n",
      "Median: 704.5\n",
      "Variance: 253620.74736842106\n",
      "Standard deviation: 503.60773164082883\n"
     ]
    }
   ],
   "source": [
    "import statistics\n",
    "\n",
    "numbers = [174, 335, 278, 214, 422, 513, 737, 672, 489, 412, 1301, 1105, 1123, 1376, 1502, 894, 665, 1704, 1656, 1342]\n",
    "\n",
    "print('Minimum:', min(numbers))\n",
    "print('Maximum:', max(numbers))\n",
    "print('Range:', max(numbers) - min(numbers))\n",
    "print('Mean:', statistics.mean(numbers))\n",
    "print('Median:', statistics.median(numbers))\n",
    "print('Variance:', statistics.variance(numbers))\n",
    "print('Standard deviation:', statistics.stdev(numbers))"
   ]
  },
  {
   "cell_type": "code",
   "execution_count": null,
   "id": "2a345feb-4dd3-42a6-b31f-1fe9fff3aaee",
   "metadata": {},
   "outputs": [],
   "source": []
  },
  {
   "cell_type": "code",
   "execution_count": null,
   "id": "503ef613-ecf6-4e46-9fd4-a8b2fb6ae812",
   "metadata": {},
   "outputs": [],
   "source": []
  }
 ],
 "metadata": {
  "kernelspec": {
   "display_name": "Python 3 (ipykernel)",
   "language": "python",
   "name": "python3"
  },
  "language_info": {
   "codemirror_mode": {
    "name": "ipython",
    "version": 3
   },
   "file_extension": ".py",
   "mimetype": "text/x-python",
   "name": "python",
   "nbconvert_exporter": "python",
   "pygments_lexer": "ipython3",
   "version": "3.10.12"
  }
 },
 "nbformat": 4,
 "nbformat_minor": 5
}
