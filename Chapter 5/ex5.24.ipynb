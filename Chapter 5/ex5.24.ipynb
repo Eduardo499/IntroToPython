{
 "cells": [
  {
   "cell_type": "raw",
   "id": "ed59c1db-143e-4e77-8c50-fce2a0ffb8a9",
   "metadata": {},
   "source": [
    "(Card Shuffling and Dealing) In Exercises 5.24 through 5.26, you’ll use lists of tuples in scripts that simulate card shuffling and dealing. Each tuple represents one card in the deck and contains a face (e.g., 'Ace', 'Deuce', 'Three', ..., 'Jack', 'Queen', 'King') and a suit (e.g., 'Hearts', 'Diamonds', 'Clubs', 'Spades'). Create an initialize_deck function to initialize the deck of card tuples with 'Ace' through 'King' of each suit, as in\n",
    "    deck = [('Ace', 'Hearts'), ..., ('King', 'Hearts'),\n",
    "        ('Ace', 'Diamonds'), ..., ('King', 'Diamonds'),\n",
    "        ('Ace', 'Clubs'), ..., ('King', 'Clubs'),\n",
    "        ('Ace', 'Spades'), ..., ('King', 'Spades')]\n",
    "Before returning the list, use the random module’s shuffle function to randomly order the list elements. Output the shuffled cards in the following four-column format:\n",
    "\n",
    "Three of Spades      Seven of Hearts      Five of Clubs        Nine of Clubs        \n",
    "Eight of Spades      Ace of Diamonds      Two of Diamonds      Four of Spades       \n",
    "Ten of Spades        Queen of Spades      Four of Diamonds     Two of Clubs         \n",
    "Eight of Clubs       King of Diamonds     Nine of Diamonds     Three of Clubs       \n",
    "Five of Spades       Six of Diamonds      Nine of Spades       Seven of Spades      \n",
    "King of Clubs        Six of Clubs         Eight of Hearts      Two of Hearts        \n",
    "Nine of Hearts       Four of Clubs        King of Spades       Three of Diamonds    \n",
    "Six of Spades        Five of Diamonds     Seven of Clubs       Ten of Diamonds      \n",
    "Ace of Spades        Seven of Diamonds    Six of Hearts        Ace of Hearts        \n",
    "Ten of Hearts        Four of Hearts       Jack of Spades       Jack of Clubs        \n",
    "Two of Spades        Queen of Clubs       Queen of Hearts      Queen of Diamonds    \n",
    "Three of Hearts      King of Hearts       Eight of Diamonds    Ace of Clubs         \n",
    "Jack of Diamonds     Jack of Hearts       Five of Hearts       Ten of Clubs "
   ]
  },
  {
   "cell_type": "code",
   "execution_count": 62,
   "id": "23691a4e-8533-4f82-a748-318e0cc58ebf",
   "metadata": {},
   "outputs": [
    {
     "name": "stdout",
     "output_type": "stream",
     "text": [
      "Ace of Spades        Two of Spades        Six of Diamonds      Seven of Spades      \n",
      "Two of Clubs         Queen of Spades      King of Hearts       Ace of Clubs         \n",
      "Ace of Diamonds      Three of Hearts      Four of Clubs        Nine of Hearts       \n",
      "Queen of Hearts      Five of Clubs        Nine of Diamonds     Three of Spades      \n",
      "Queen of Diamonds    Five of Spades       Eight of Clubs       Three of Diamonds    \n",
      "Three of Clubs       Nine of Spades       Four of Hearts       Jack of Clubs        \n",
      "King of Clubs        Six of Spades        Five of Hearts       Four of Diamonds     \n",
      "Ten of Clubs         Two of Hearts        Ten of Hearts        Queen of Clubs       \n",
      "Jack of Diamonds     Eight of Diamonds    Four of Spades       Ace of Hearts        \n",
      "Six of Clubs         King of Diamonds     Eight of Spades      Ten of Spades        \n",
      "Jack of Spades       Seven of Clubs       Ten of Diamonds      Jack of Hearts       \n",
      "Seven of Hearts      Eight of Hearts      Two of Diamonds      King of Spades       \n",
      "Six of Hearts        Five of Diamonds     Seven of Diamonds    Nine of Clubs        \n"
     ]
    }
   ],
   "source": [
    "from random import shuffle\n",
    "\n",
    "deck = [\n",
    "    ('Ace', 'Hearts'), ('Two', 'Hearts'), ('Three', 'Hearts'), ('Four', 'Hearts'), ('Five', 'Hearts'), \n",
    "    ('Six', 'Hearts'), ('Seven', 'Hearts'), ('Eight', 'Hearts'), ('Nine', 'Hearts'), ('Ten', 'Hearts'), \n",
    "    ('Jack', 'Hearts'), ('Queen', 'Hearts'), ('King', 'Hearts'),\n",
    "    \n",
    "    ('Ace', 'Diamonds'), ('Two', 'Diamonds'), ('Three', 'Diamonds'), ('Four', 'Diamonds'), \n",
    "    ('Five', 'Diamonds'), ('Six', 'Diamonds'), ('Seven', 'Diamonds'), ('Eight', 'Diamonds'), \n",
    "    ('Nine', 'Diamonds'), ('Ten', 'Diamonds'), ('Jack', 'Diamonds'), ('Queen', 'Diamonds'), \n",
    "    ('King', 'Diamonds'),\n",
    "    \n",
    "    ('Ace', 'Clubs'), ('Two', 'Clubs'), ('Three', 'Clubs'), ('Four', 'Clubs'), ('Five', 'Clubs'), \n",
    "    ('Six', 'Clubs'), ('Seven', 'Clubs'), ('Eight', 'Clubs'), ('Nine', 'Clubs'), ('Ten', 'Clubs'), \n",
    "    ('Jack', 'Clubs'), ('Queen', 'Clubs'), ('King', 'Clubs'),\n",
    "    \n",
    "    ('Ace', 'Spades'), ('Two', 'Spades'), ('Three', 'Spades'), ('Four', 'Spades'), ('Five', 'Spades'), \n",
    "    ('Six', 'Spades'), ('Seven', 'Spades'), ('Eight', 'Spades'), ('Nine', 'Spades'), ('Ten', 'Spades'), \n",
    "    ('Jack', 'Spades'), ('Queen', 'Spades'), ('King', 'Spades')\n",
    "]\n",
    "\n",
    "def initialize_deck(deck):\n",
    "    shuffle(deck)\n",
    "    return deck\n",
    "    \n",
    "def display_deck(deck):\n",
    "    count = 0\n",
    "    shuffled_deck = initialize_deck(deck)\n",
    "\n",
    "    for i in range(13):\n",
    "        for j in range(4):\n",
    "            index = i + j * 13\n",
    "            if index < len(shuffled_deck):\n",
    "                card = shuffled_deck[index]\n",
    "                print(f'{card[0]} of {card[1]}'.ljust(20), end=' ')\n",
    "        print()\n",
    "    \n",
    "display_deck(deck)"
   ]
  },
  {
   "cell_type": "code",
   "execution_count": null,
   "id": "97776da6-6d94-43a4-a73c-96f32f16a5a1",
   "metadata": {},
   "outputs": [],
   "source": []
  },
  {
   "cell_type": "code",
   "execution_count": null,
   "id": "05c4c13c-b434-41de-9eb0-738666e2eb1f",
   "metadata": {},
   "outputs": [],
   "source": []
  },
  {
   "cell_type": "code",
   "execution_count": null,
   "id": "034e132f-2176-4af2-85d6-725828cf0b81",
   "metadata": {},
   "outputs": [],
   "source": []
  }
 ],
 "metadata": {
  "kernelspec": {
   "display_name": "Python 3 (ipykernel)",
   "language": "python",
   "name": "python3"
  },
  "language_info": {
   "codemirror_mode": {
    "name": "ipython",
    "version": 3
   },
   "file_extension": ".py",
   "mimetype": "text/x-python",
   "name": "python",
   "nbconvert_exporter": "python",
   "pygments_lexer": "ipython3",
   "version": "3.10.12"
  }
 },
 "nbformat": 4,
 "nbformat_minor": 5
}
