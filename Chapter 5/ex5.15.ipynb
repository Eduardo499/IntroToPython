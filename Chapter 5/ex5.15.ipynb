{
 "cells": [
  {
   "cell_type": "raw",
   "id": "d4f00b27-aa18-48e1-9ac0-8bd50ddb23e4",
   "metadata": {},
   "source": [
    "(Tuples Representing Invoices) When you purchase products or services from a company, you typically receive an invoice listing what you purchased and the total amount of money due. Use tuples to represent hardware store invoices that consist of four pieces of data—a part ID string, a part description string, an integer quantity of the item being purchased and, for simplicity, a float item price (in general, Decimal should be used for monetary amounts). Use the sample hardware data shown in the following table.\n",
    "\n",
    "Part number            Part description            Quantify            Price\n",
    "83                     Eletric sander               7                  57.98\n",
    "24                     Power saw                   18                  99.99\n",
    " 7                     Sledge hammer               11                  21.50\n",
    "77                     Hammer                      76                  11.99\n",
    "39                     Jig saw                      3                  79.50\n",
    "\n",
    "Perform the following tasks on a list of invoice tuples:"
   ]
  },
  {
   "cell_type": "code",
   "execution_count": 5,
   "id": "d8e3bf07-1118-440a-8bdc-ac3aa52cd439",
   "metadata": {},
   "outputs": [],
   "source": [
    "from operator import itemgetter\n",
    "\n",
    "invoices = [\n",
    "    ('83', 'Eletric sander', 7, 57.98),\n",
    "    ('24', 'Power saw', 18, 99.99),\n",
    "    ('7', 'Sledge hammer', 11, 21.50),\n",
    "    ('77', 'Hammer', 76, 11.99),\n",
    "    ('39', 'Jig saw', 3, 79.50)\n",
    "]"
   ]
  },
  {
   "cell_type": "raw",
   "id": "d7c2cfed-2540-4886-9414-41ab5423acfe",
   "metadata": {},
   "source": [
    "a) Use function sorted with a key argument to sort the tuples by part description, then display the results. To specify the element of the tuple that should be used for sorting, first import the itemgetter function from the operator module as in\n",
    "    from operator import itemgetter\n",
    "Then, for sorted’s key argument specify itemgetter(index) where index specifies which element of the tuple should be used for sorting purposes."
   ]
  },
  {
   "cell_type": "code",
   "execution_count": 6,
   "id": "eff03aab-80fe-4577-b656-d3709c168e0c",
   "metadata": {},
   "outputs": [
    {
     "name": "stdout",
     "output_type": "stream",
     "text": [
      "a) Sorted by part description:\n",
      "('83', 'Eletric sander', 7, 57.98)\n",
      "('77', 'Hammer', 76, 11.99)\n",
      "('39', 'Jig saw', 3, 79.5)\n",
      "('24', 'Power saw', 18, 99.99)\n",
      "('7', 'Sledge hammer', 11, 21.5)\n"
     ]
    }
   ],
   "source": [
    "sorted_by_description = sorted(invoices, key=itemgetter(1))\n",
    "print('a) Sorted by part description:')\n",
    "for invoice in sorted_by_description:\n",
    "    print(invoice)"
   ]
  },
  {
   "cell_type": "raw",
   "id": "8fbb22fb-ade9-4b17-b01f-269598ada6e1",
   "metadata": {},
   "source": [
    "b) Use the sorted function with a key argument to sort the tuples by price, then display the results."
   ]
  },
  {
   "cell_type": "code",
   "execution_count": 8,
   "id": "5e452fbd-9bb2-4d68-969c-9df3fe8305d0",
   "metadata": {},
   "outputs": [
    {
     "name": "stdout",
     "output_type": "stream",
     "text": [
      "b) Sorted by price:\n",
      "('77', 'Hammer', 76, 11.99)\n",
      "('7', 'Sledge hammer', 11, 21.5)\n",
      "('83', 'Eletric sander', 7, 57.98)\n",
      "('39', 'Jig saw', 3, 79.5)\n",
      "('24', 'Power saw', 18, 99.99)\n"
     ]
    }
   ],
   "source": [
    "sorted_by_price = sorted(invoices, key=itemgetter(3))\n",
    "print('b) Sorted by price:')\n",
    "for invoice in sorted_by_price:\n",
    "    print(invoice)"
   ]
  },
  {
   "cell_type": "raw",
   "id": "ded47e6b-7983-4d95-9d22-e09e648f5f7b",
   "metadata": {},
   "source": [
    "c) Map each invoice tuple to a tuple containing the part description and quantity, sort the results by quantity, then display the results."
   ]
  },
  {
   "cell_type": "code",
   "execution_count": 9,
   "id": "052f0dea-3b62-4f6f-afaa-e921f6642159",
   "metadata": {},
   "outputs": [
    {
     "name": "stdout",
     "output_type": "stream",
     "text": [
      "c) Sorted by quantity:\n",
      "('Jig saw', 3)\n",
      "('Eletric sander', 7)\n",
      "('Sledge hammer', 11)\n",
      "('Power saw', 18)\n",
      "('Hammer', 76)\n"
     ]
    }
   ],
   "source": [
    "description_and_quantity = sorted([(invoice[1], invoice[2]) for invoice in invoices], key=itemgetter(1))\n",
    "print('c) Sorted by quantity:')\n",
    "for item in description_and_quantity:\n",
    "    print(item)"
   ]
  },
  {
   "cell_type": "raw",
   "id": "670e437c-b461-4466-bc2b-3bab638d1d56",
   "metadata": {},
   "source": [
    "d) Map each invoice tuple to a tuple containing the part description and the value of the invoice (the product of the quantity and the item price), sort the results by the invoice value, then display the results."
   ]
  },
  {
   "cell_type": "code",
   "execution_count": 10,
   "id": "3a586aff-5f30-467e-a2eb-7ced53fb2a98",
   "metadata": {},
   "outputs": [
    {
     "name": "stdout",
     "output_type": "stream",
     "text": [
      "d) Sorted by invoice value:\n",
      "('Sledge hammer', 236.5)\n",
      "('Jig saw', 238.5)\n",
      "('Eletric sander', 405.85999999999996)\n",
      "('Hammer', 911.24)\n",
      "('Power saw', 1799.82)\n"
     ]
    }
   ],
   "source": [
    "description_and_value = sorted([(invoice[1], invoice[2] * invoice[3]) for invoice in invoices], key=itemgetter(1))\n",
    "print('d) Sorted by invoice value:')\n",
    "for item in description_and_value:\n",
    "    print(item)"
   ]
  },
  {
   "cell_type": "raw",
   "id": "c313bcb8-aeb1-443c-8d39-a1ddff22ed4f",
   "metadata": {},
   "source": [
    "e) Modify Part (d) to filter the results to invoice values in the range $200 to $500."
   ]
  },
  {
   "cell_type": "code",
   "execution_count": 11,
   "id": "ed182cc1-9544-4a9c-8b86-9ed2313e4507",
   "metadata": {},
   "outputs": [
    {
     "name": "stdout",
     "output_type": "stream",
     "text": [
      "e) Invoice values in the range $200 to $500:\n",
      "('Sledge hammer', 236.5)\n",
      "('Jig saw', 238.5)\n",
      "('Eletric sander', 405.85999999999996)\n"
     ]
    }
   ],
   "source": [
    "filtered_values = [(desc, value) for desc, value in description_and_value if 200 <= value <= 500]\n",
    "print(\"e) Invoice values in the range $200 to $500:\")\n",
    "for item in filtered_values:\n",
    "    print(item)"
   ]
  },
  {
   "cell_type": "raw",
   "id": "4bbb9e8a-a0c2-46c3-bde4-8409de7c9c71",
   "metadata": {},
   "source": [
    "f) Calculate the total of all the invoices."
   ]
  },
  {
   "cell_type": "code",
   "execution_count": null,
   "id": "e2fe30e3-4604-4493-9aff-4c31348aaf74",
   "metadata": {},
   "outputs": [],
   "source": [
    "total = sum(invoice[2] * invoice[3] for in)"
   ]
  }
 ],
 "metadata": {
  "kernelspec": {
   "display_name": "Python 3 (ipykernel)",
   "language": "python",
   "name": "python3"
  },
  "language_info": {
   "codemirror_mode": {
    "name": "ipython",
    "version": 3
   },
   "file_extension": ".py",
   "mimetype": "text/x-python",
   "name": "python",
   "nbconvert_exporter": "python",
   "pygments_lexer": "ipython3",
   "version": "3.10.12"
  }
 },
 "nbformat": 4,
 "nbformat_minor": 5
}
