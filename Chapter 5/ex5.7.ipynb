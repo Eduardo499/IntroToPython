{
 "cells": [
  {
   "cell_type": "raw",
   "id": "4c21afe0-a3f0-484e-9ffb-283b138d2eab",
   "metadata": {},
   "source": [
    "(Duplicate Elimination) In organizations, a list of email addresses is often compiled for marketing purposes. However, duplicate email addresses need to be removed from this list. Write a function that receives a list and returns a list containing only unique values. Test your function with a list of email addresses."
   ]
  },
  {
   "cell_type": "code",
   "execution_count": 2,
   "id": "82023418-5011-46a4-a1ef-8a61c350cc9b",
   "metadata": {},
   "outputs": [
    {
     "data": {
      "text/plain": [
       "[1, 2, 3, 4, 5]"
      ]
     },
     "execution_count": 2,
     "metadata": {},
     "output_type": "execute_result"
    }
   ],
   "source": [
    "emails = [1, 1, 1, 1, 1, 2, 2, 2, 2, 3, 3, 3, 3, 3, 4, 4, 4, 5, 5, 5]\n",
    "emails_unique = []\n",
    "\n",
    "for i in emails:\n",
    "    if i not in emails_unique:\n",
    "        emails_unique.append(i)\n",
    "emails_unique"
   ]
  },
  {
   "cell_type": "code",
   "execution_count": null,
   "id": "42648912-a25c-44c0-b485-d8f3e9439a22",
   "metadata": {},
   "outputs": [],
   "source": []
  }
 ],
 "metadata": {
  "kernelspec": {
   "display_name": "Python 3 (ipykernel)",
   "language": "python",
   "name": "python3"
  },
  "language_info": {
   "codemirror_mode": {
    "name": "ipython",
    "version": 3
   },
   "file_extension": ".py",
   "mimetype": "text/x-python",
   "name": "python",
   "nbconvert_exporter": "python",
   "pygments_lexer": "ipython3",
   "version": "3.10.12"
  }
 },
 "nbformat": 4,
 "nbformat_minor": 5
}
