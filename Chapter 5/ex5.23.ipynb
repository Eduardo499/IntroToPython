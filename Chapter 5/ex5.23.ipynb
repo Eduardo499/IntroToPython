{
 "cells": [
  {
   "cell_type": "raw",
   "id": "33a29314-f58c-48ff-8638-1912f83f94e3",
   "metadata": {},
   "source": [
    "(Functional-Style Programming: Order of filter and map Calls) When combining filter and map operations, the order in which they’re performed matters. Consider a list numbers containing 10, 3, 7, 1, 9, 4, 2, 8, 5, 6 and the following code:\n",
    "\n",
    "In [1]: numbers = [10, 3, 7, 1, 9, 4, 2, 8, 5, 6]\n",
    "In [2]: list(map(lambda x: x * 2,\n",
    "            filter(lambda x: x % 2 == 0, numbers)))\n",
    "    ...:\n",
    "    ...:\n",
    "Out[3]: [20, 8, 4, 16, 12]\n",
    "Reorder this code to call map first and filter second. What happens and why?"
   ]
  },
  {
   "cell_type": "code",
   "execution_count": 1,
   "id": "f64d9fc1-545f-43cb-abd0-d135f9a2ee84",
   "metadata": {},
   "outputs": [
    {
     "data": {
      "text/plain": [
       "[20, 8, 4, 16, 12]"
      ]
     },
     "execution_count": 1,
     "metadata": {},
     "output_type": "execute_result"
    }
   ],
   "source": [
    "numbers = [10, 3, 7, 1, 9, 4, 2, 8, 5, 6]\n",
    "list(map(lambda x: x * 2, filter(lambda x: x % 2 == 0, numbers)))"
   ]
  },
  {
   "cell_type": "code",
   "execution_count": 2,
   "id": "5ed2c8a8-abd8-41f3-a53b-b685dfc43c47",
   "metadata": {},
   "outputs": [
    {
     "data": {
      "text/plain": [
       "[20, 6, 14, 2, 18, 8, 4, 16, 10, 12]"
      ]
     },
     "execution_count": 2,
     "metadata": {},
     "output_type": "execute_result"
    }
   ],
   "source": [
    "numbers = [10, 3, 7, 1, 9, 4, 2, 8, 5, 6]\n",
    "list(filter(lambda x: x % 2 == 0, map(lambda x: x * 2, numbers)))"
   ]
  },
  {
   "cell_type": "code",
   "execution_count": null,
   "id": "4f6de1b4-b1c5-41fd-9ff4-71ba74ad69f8",
   "metadata": {},
   "outputs": [],
   "source": []
  }
 ],
 "metadata": {
  "kernelspec": {
   "display_name": "Python 3 (ipykernel)",
   "language": "python",
   "name": "python3"
  },
  "language_info": {
   "codemirror_mode": {
    "name": "ipython",
    "version": 3
   },
   "file_extension": ".py",
   "mimetype": "text/x-python",
   "name": "python",
   "nbconvert_exporter": "python",
   "pygments_lexer": "ipython3",
   "version": "3.10.12"
  }
 },
 "nbformat": 4,
 "nbformat_minor": 5
}
