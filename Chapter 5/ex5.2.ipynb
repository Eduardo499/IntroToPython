{
 "cells": [
  {
   "cell_type": "raw",
   "id": "31b5ab6e-0ef2-4a31-a675-f2ca454c41c1",
   "metadata": {},
   "source": [
    "(What Does This Code Do?) What does the following function do, based on the sequence it receives as an argument?\n",
    "    def mystery(sequence):\n",
    "        return sequence == sorted(sequence)"
   ]
  },
  {
   "cell_type": "raw",
   "id": "aa7429b3-8b29-420c-834f-f5c7c73d64e2",
   "metadata": {},
   "source": [
    "Receives a list and returns another sorted list"
   ]
  }
 ],
 "metadata": {
  "kernelspec": {
   "display_name": "Python 3 (ipykernel)",
   "language": "python",
   "name": "python3"
  },
  "language_info": {
   "codemirror_mode": {
    "name": "ipython",
    "version": 3
   },
   "file_extension": ".py",
   "mimetype": "text/x-python",
   "name": "python",
   "nbconvert_exporter": "python",
   "pygments_lexer": "ipython3",
   "version": "3.10.12"
  }
 },
 "nbformat": 4,
 "nbformat_minor": 5
}
