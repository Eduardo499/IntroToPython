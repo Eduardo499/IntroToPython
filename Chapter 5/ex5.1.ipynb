{
 "cells": [
  {
   "cell_type": "raw",
   "id": "a558608b-90c4-4b23-95bd-c964cc6adc37",
   "metadata": {},
   "source": [
    "(What’s Wrong with This Code?) What, if anything, is wrong with each of the following code segments?"
   ]
  },
  {
   "cell_type": "raw",
   "id": "8040ddff-4407-4103-8dbd-364684488c32",
   "metadata": {},
   "source": [
    "a) Two variables vs three values in tuple\n",
    "b) There is no index 10 in the list\n",
    "c) Strings are imutables\n",
    "d) There is no index float\n",
    "e) Tuples are imutables\n",
    "f) Cannot concatenate tuples and strings\n",
    "g) Cannot concatenate tuples and strings\n",
    "h) x is not a list\n",
    "i) 10 not in lista\n",
    "j) list.extend() takes exactly one argument (3 given)\n",
    "k) 10 not in lista\n",
    "l) The list is empty\n"
   ]
  },
  {
   "cell_type": "code",
   "execution_count": null,
   "id": "b4e642ad-4472-43f9-a00c-cf12d3abff88",
   "metadata": {},
   "outputs": [],
   "source": []
  }
 ],
 "metadata": {
  "kernelspec": {
   "display_name": "Python 3 (ipykernel)",
   "language": "python",
   "name": "python3"
  },
  "language_info": {
   "codemirror_mode": {
    "name": "ipython",
    "version": 3
   },
   "file_extension": ".py",
   "mimetype": "text/x-python",
   "name": "python",
   "nbconvert_exporter": "python",
   "pygments_lexer": "ipython3",
   "version": "3.10.12"
  }
 },
 "nbformat": 4,
 "nbformat_minor": 5
}
