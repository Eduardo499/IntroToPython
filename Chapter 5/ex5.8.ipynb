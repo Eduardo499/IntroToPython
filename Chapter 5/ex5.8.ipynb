{
 "cells": [
  {
   "cell_type": "raw",
   "id": "d11fa1ac-bec1-4202-bf4a-1bd8eb7e9d67",
   "metadata": {},
   "source": [
    "(Insertion Sort Algorithm) In computer science, there are several algorithms available to sort the elements of a list such as quicksort, merge, heapsort, and insertion sort. Although insertion sort is not the most efficient sorting algorithm when dealing with large lists, it is very efficient for small data sets and easy to implement. The algorithm splits a list into a sorted and unsorted part. Each value from the unsorted part is sequentially compared to each element in the sorted part and placed in the correct position. The process to sorting the list is:\n",
    "a) Get a list of unsorted numbers.\n",
    "b) Compare the first two elements.\n",
    "c) If they are in descending order, switch them. This is now your sorted sub-list.\n",
    "d) Take the third element of the list. Compare, and if necessary, swap it with the second element. Now compare the new second element and swap, if necessary, with the first element.\n",
    "e) Take the fourth element of the list. Compare and swap with the third element, if necessary.\n",
    "f) Keep repeating Steps (a) to (e) until every element of the list is in its correct place. \n",
    "When this process completes, the list of numbers is sorted in ascending order. Write a function insertion sort implementing the described algorithm. Use a list of 10 unique and randomly picked numbers between 0 and 100 to test this function. Display the unsorted and the sorted list to evaluate the validity of your function."
   ]
  },
  {
   "cell_type": "code",
   "execution_count": 3,
   "id": "45954569-2cfb-4230-9102-7bcc5f29b31a",
   "metadata": {},
   "outputs": [
    {
     "name": "stdout",
     "output_type": "stream",
     "text": [
      "Unsorted list: [33, 0, 26, 6, 73, 31, 86, 43, 56, 38]\n",
      "Sorted list: [0, 6, 26, 31, 33, 38, 43, 56, 73, 86]\n"
     ]
    }
   ],
   "source": [
    "import random\n",
    "\n",
    "def insertion_sort(arr):\n",
    "    for i in range(1, len(arr)):\n",
    "        key = arr[i]\n",
    "        j = i - 1\n",
    "\n",
    "        while j >= 0 and key < arr[j]:\n",
    "            arr[j + 1] = arr[j]\n",
    "            j -= 1\n",
    "        arr[j + 1] = key\n",
    "\n",
    "unsorted_list = random.sample(range(101), 10)\n",
    "print(f'Unsorted list: {unsorted_list}')\n",
    "\n",
    "insertion_sort(unsorted_list)\n",
    "print(f'Sorted list: {unsorted_list}')"
   ]
  },
  {
   "cell_type": "code",
   "execution_count": null,
   "id": "9776594f-5cec-4932-810d-7dc1da2d1baf",
   "metadata": {},
   "outputs": [],
   "source": []
  }
 ],
 "metadata": {
  "kernelspec": {
   "display_name": "Python 3 (ipykernel)",
   "language": "python",
   "name": "python3"
  },
  "language_info": {
   "codemirror_mode": {
    "name": "ipython",
    "version": 3
   },
   "file_extension": ".py",
   "mimetype": "text/x-python",
   "name": "python",
   "nbconvert_exporter": "python",
   "pygments_lexer": "ipython3",
   "version": "3.10.12"
  }
 },
 "nbformat": 4,
 "nbformat_minor": 5
}
