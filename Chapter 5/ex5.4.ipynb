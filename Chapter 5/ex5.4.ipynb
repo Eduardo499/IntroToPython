{
 "cells": [
  {
   "cell_type": "raw",
   "id": "3baefcd6-72b6-4e2a-841c-7df8a11224e5",
   "metadata": {},
   "source": [
    "(Square Numbers) A square number is the product of an integer with itself. 16, for example, is the product of 4 with itself and is thus a square number. Write a program that can visualize that 16 is a square number. Use a loop to create a 4-by-4 list containing zeros. Display each element of this list in tabular format. Use the column indices as headings across the top, and the row indices to the left of each row."
   ]
  },
  {
   "cell_type": "code",
   "execution_count": 7,
   "id": "85233dd8-d5a8-4410-aa03-6b58265d5b05",
   "metadata": {},
   "outputs": [
    {
     "name": "stdout",
     "output_type": "stream",
     "text": [
      " * * * *\n",
      " * * * *\n",
      " * * * *\n",
      " * * * *\n"
     ]
    }
   ],
   "source": [
    "character = '*'\n",
    "number = 4\n",
    "\n",
    "for i in range(number):\n",
    "    for j in range(number):\n",
    "        print(f'{character:>2}',end='')\n",
    "    print()\n"
   ]
  },
  {
   "cell_type": "code",
   "execution_count": null,
   "id": "004e7d9a-1d11-406f-9466-8532791caf60",
   "metadata": {},
   "outputs": [],
   "source": []
  }
 ],
 "metadata": {
  "kernelspec": {
   "display_name": "Python 3 (ipykernel)",
   "language": "python",
   "name": "python3"
  },
  "language_info": {
   "codemirror_mode": {
    "name": "ipython",
    "version": 3
   },
   "file_extension": ".py",
   "mimetype": "text/x-python",
   "name": "python",
   "nbconvert_exporter": "python",
   "pygments_lexer": "ipython3",
   "version": "3.10.12"
  }
 },
 "nbformat": 4,
 "nbformat_minor": 5
}
