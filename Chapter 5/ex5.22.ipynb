{
 "cells": [
  {
   "cell_type": "raw",
   "id": "85af0af7-ad6a-4c6a-8578-c66d48a5090c",
   "metadata": {},
   "source": [
    "(Simulating a Queue with a List) In this chapter, you simulated a stack using a list. You also can simulate a queue collection with a list. Queues represent waiting lines similar to a checkout line in a supermarket. The cashier services the person at the front of the line first. Other customers enter the line only at the end and wait for service.\n",
    "\n",
    "In a queue, you insert items at the back (known as the tail) and delete items from the front (known as the head). For this reason, queues are first-in, first-out (FIFO) collections. The insert and remove operations are commonly known as enqueue and dequeue.\n",
    "\n",
    "Queues have many uses in computer systems, such as sharing CPUs among a potentially large number of competing applications and the operating system itself. Applications not currently being serviced sit in a queue until a CPU becomes available. The application at the front of the queue is the next to receive service. Each application gradually advances to the front as the applications before it receive service.\n",
    "\n",
    "Simulate a queue of integers using list methods append (to simulate enqueue) and pop with the argument 0 (to simulate dequeue). Enqueue the values 3, 2 and 1, then dequeue them to show that they’re removed in FIFO order."
   ]
  },
  {
   "cell_type": "code",
   "execution_count": 8,
   "id": "00cfc9a0-327f-4ae8-9a3b-ab985d98c861",
   "metadata": {},
   "outputs": [
    {
     "data": {
      "text/plain": [
       "[4, 5, 6]"
      ]
     },
     "execution_count": 8,
     "metadata": {},
     "output_type": "execute_result"
    }
   ],
   "source": [
    "queue = [1, 2, 3, 4, 5, 6]\n",
    "queue.pop(0)\n",
    "queue\n",
    "queue.pop(0)\n",
    "queue\n",
    "queue.pop(0)\n",
    "queue\n"
   ]
  },
  {
   "cell_type": "code",
   "execution_count": null,
   "id": "7d20201a-fbe7-4442-bff7-21a1ec0aa69d",
   "metadata": {},
   "outputs": [],
   "source": []
  },
  {
   "cell_type": "code",
   "execution_count": null,
   "id": "41f75e17-1ade-474e-a241-062a61359829",
   "metadata": {},
   "outputs": [],
   "source": []
  }
 ],
 "metadata": {
  "kernelspec": {
   "display_name": "Python 3 (ipykernel)",
   "language": "python",
   "name": "python3"
  },
  "language_info": {
   "codemirror_mode": {
    "name": "ipython",
    "version": 3
   },
   "file_extension": ".py",
   "mimetype": "text/x-python",
   "name": "python",
   "nbconvert_exporter": "python",
   "pygments_lexer": "ipython3",
   "version": "3.10.12"
  }
 },
 "nbformat": 4,
 "nbformat_minor": 5
}
