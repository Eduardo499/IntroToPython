{
 "cells": [
  {
   "cell_type": "raw",
   "id": "25d4882b-693a-4f40-883e-0f52651e24ab",
   "metadata": {},
   "source": [
    "(Encryption Key) During the second world war, messages were often encrypted based on an extract of a book. The unique letters of such an extract were summarized into an encryption key. This key was then used to encrypt a message. Write a function that accepts a string as input and isolates the different unique letters ignoring punctuation, spaces, and case sensitivity. The function should check if the encryption key contains all letters of the alphabet. If not, the missing letters should be added to the key."
   ]
  },
  {
   "cell_type": "code",
   "execution_count": 13,
   "id": "a854831f-a169-467d-a53d-9c2f64c29fdb",
   "metadata": {},
   "outputs": [
    {
     "data": {
      "text/plain": [
       "['p',\n",
       " 'a',\n",
       " 's',\n",
       " 'w',\n",
       " 'o',\n",
       " 'r',\n",
       " 'd',\n",
       " 'b',\n",
       " 'c',\n",
       " 'e',\n",
       " 'f',\n",
       " 'g',\n",
       " 'h',\n",
       " 'i',\n",
       " 'j',\n",
       " 'k',\n",
       " 'l',\n",
       " 'm',\n",
       " 'n',\n",
       " 'q',\n",
       " 't',\n",
       " 'u',\n",
       " 'v',\n",
       " 'x',\n",
       " 'y',\n",
       " 'z']"
      ]
     },
     "execution_count": 13,
     "metadata": {},
     "output_type": "execute_result"
    }
   ],
   "source": [
    "alphabet = ['a', 'b', 'c', 'd', 'e', 'f', 'g', 'h', 'i', 'j', 'k', 'l', 'm', 'n', 'o', 'p', 'q', 'r', 's', 't', 'u', 'v', 'w', 'x', 'y', 'z']\n",
    "\n",
    "def remove_repetion(key):\n",
    "    unique = []\n",
    "    for letter in key:\n",
    "        if letter not in unique:\n",
    "            unique.append(letter.lower())\n",
    "    return unique\n",
    "\n",
    "def encryption(unique):\n",
    "    for letter in alphabet:\n",
    "        if letter not in unique:\n",
    "            unique.append(letter)\n",
    "    return unique\n",
    "\n",
    "string = 'Password'\n",
    "encryption(remove_repetion(string))"
   ]
  },
  {
   "cell_type": "code",
   "execution_count": null,
   "id": "9d5f5046-ad63-4a73-bb0e-0e00186f31dc",
   "metadata": {},
   "outputs": [],
   "source": []
  }
 ],
 "metadata": {
  "kernelspec": {
   "display_name": "Python 3 (ipykernel)",
   "language": "python",
   "name": "python3"
  },
  "language_info": {
   "codemirror_mode": {
    "name": "ipython",
    "version": 3
   },
   "file_extension": ".py",
   "mimetype": "text/x-python",
   "name": "python",
   "nbconvert_exporter": "python",
   "pygments_lexer": "ipython3",
   "version": "3.10.12"
  }
 },
 "nbformat": 4,
 "nbformat_minor": 5
}
