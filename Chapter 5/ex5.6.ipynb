{
 "cells": [
  {
   "cell_type": "raw",
   "id": "59e7cc26-1280-48e8-8577-a21f24811855",
   "metadata": {},
   "source": [
    "(Fibonacci) As seen in Exercise 3.15, the Fibonacci numbers are a sequence in which each number is the sum of the two preceding ones. Define a function fib that receives three consecutive numbers of the Fibonacci series and returns the three subsequent values. Then, call the function three times starting with the numbers 0, 1, and 1 and restarting the function each time with the resulting numbers of the previous iteration."
   ]
  },
  {
   "cell_type": "code",
   "execution_count": 4,
   "id": "f48ba20b-28b4-4e44-9fe7-a6620a519fef",
   "metadata": {},
   "outputs": [
    {
     "data": {
      "text/plain": [
       "(2, 3, 5)"
      ]
     },
     "execution_count": 4,
     "metadata": {},
     "output_type": "execute_result"
    }
   ],
   "source": [
    "def fib(a, b, c):\n",
    "    return c + b, c + b + c, c + b + c + c + b\n",
    "\n",
    "fib(0, 1, 1)"
   ]
  },
  {
   "cell_type": "code",
   "execution_count": null,
   "id": "782336ca-1683-4365-85df-6fd3df75ffcd",
   "metadata": {},
   "outputs": [],
   "source": []
  }
 ],
 "metadata": {
  "kernelspec": {
   "display_name": "Python 3 (ipykernel)",
   "language": "python",
   "name": "python3"
  },
  "language_info": {
   "codemirror_mode": {
    "name": "ipython",
    "version": 3
   },
   "file_extension": ".py",
   "mimetype": "text/x-python",
   "name": "python",
   "nbconvert_exporter": "python",
   "pygments_lexer": "ipython3",
   "version": "3.10.12"
  }
 },
 "nbformat": 4,
 "nbformat_minor": 5
}
