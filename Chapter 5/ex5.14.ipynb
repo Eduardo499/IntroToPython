{
 "cells": [
  {
   "cell_type": "raw",
   "id": "6b9db363-539e-43dc-b850-dee25cc6bca1",
   "metadata": {},
   "source": [
    "(List Sorting) Write a function is_sorted that compares the results from your insertion_sort function in Exercise 5.8 to the result from the built-in sorted function. If both functions return the same sorted list, the is_sorted function returns True. Test your function with several sorted and unsorted lists."
   ]
  },
  {
   "cell_type": "code",
   "execution_count": 3,
   "id": "2bc67f8f-7f62-4e6b-9564-4a6ff9f4d968",
   "metadata": {},
   "outputs": [
    {
     "data": {
      "text/plain": [
       "True"
      ]
     },
     "execution_count": 3,
     "metadata": {},
     "output_type": "execute_result"
    }
   ],
   "source": [
    "def insertion_sort(arr):\n",
    "    for i in range(1, len(arr)):\n",
    "        key = arr[i]\n",
    "        j = i - 1\n",
    "\n",
    "        while j >= 0 and key < arr[j]:\n",
    "            arr[j + 1] = arr[j]\n",
    "            j -= 1\n",
    "        arr[j + 1] = key\n",
    "\n",
    "def is_sorted(a, b):\n",
    "    return insertion_sort(a) == b.sort()\n",
    "\n",
    "a = [1, 1, 1, 1, 2, 2, 2, 3,3 ,4 ,5, 6, 7, 7, 33, 235, 3, 5, 6, 4, 5, 6]\n",
    "b = [1, 1, 1, 1, 2, 2, 2, 3,3 ,4 ,5, 6, 7, 7, 33, 235, 3, 5, 6, 4, 5, 6]\n",
    "\n",
    "is_sorted(a, b)"
   ]
  },
  {
   "cell_type": "code",
   "execution_count": null,
   "id": "da9f2032-b0e3-4c35-962a-4a11b9dfdb62",
   "metadata": {},
   "outputs": [],
   "source": []
  }
 ],
 "metadata": {
  "kernelspec": {
   "display_name": "Python 3 (ipykernel)",
   "language": "python",
   "name": "python3"
  },
  "language_info": {
   "codemirror_mode": {
    "name": "ipython",
    "version": 3
   },
   "file_extension": ".py",
   "mimetype": "text/x-python",
   "name": "python",
   "nbconvert_exporter": "python",
   "pygments_lexer": "ipython3",
   "version": "3.10.12"
  }
 },
 "nbformat": 4,
 "nbformat_minor": 5
}
