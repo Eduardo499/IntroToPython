{
 "cells": [
  {
   "cell_type": "raw",
   "id": "26e3e5f5",
   "metadata": {},
   "source": [
    "(Fill in the Missing Code) A square number is the result of multiplying an integer\n",
    "by itself, for example, 4, 9, and 16. Complete the code below to demonstrate this property\n",
    "for the number 9:\n",
    "\n",
    "for ***:\n",
    "    for ***:\n",
    "        print('0', end='')\n",
    "    print()\n",
    "    \n",
    "replace the *** so that executing the code displays the following output:\n",
    "\n",
    "000\n",
    "000\n",
    "000"
   ]
  },
  {
   "cell_type": "code",
   "execution_count": 1,
   "id": "79d8fb01",
   "metadata": {},
   "outputs": [
    {
     "name": "stdout",
     "output_type": "stream",
     "text": [
      "000\n",
      "000\n",
      "000\n"
     ]
    }
   ],
   "source": [
    "for i in range(3):\n",
    "    for i in range(3):\n",
    "        print('0', end='')\n",
    "    print()"
   ]
  },
  {
   "cell_type": "code",
   "execution_count": null,
   "id": "d0b54520",
   "metadata": {},
   "outputs": [],
   "source": []
  }
 ],
 "metadata": {
  "kernelspec": {
   "display_name": "Python 3 (ipykernel)",
   "language": "python",
   "name": "python3"
  },
  "language_info": {
   "codemirror_mode": {
    "name": "ipython",
    "version": 3
   },
   "file_extension": ".py",
   "mimetype": "text/x-python",
   "name": "python",
   "nbconvert_exporter": "python",
   "pygments_lexer": "ipython3",
   "version": "3.11.5"
  }
 },
 "nbformat": 4,
 "nbformat_minor": 5
}
