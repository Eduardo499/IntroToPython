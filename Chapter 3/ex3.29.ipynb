{
 "cells": [
  {
   "cell_type": "raw",
   "id": "7149111b",
   "metadata": {},
   "source": [
    "(Intro to Data Science: Problem with the Median) For an odd number of values,\n",
    "to get the median you simply arrange them in order and take the middle value. For an even\n",
    "number, you average the two middle values. What problem occurs if those two values are\n",
    "different?"
   ]
  },
  {
   "cell_type": "code",
   "execution_count": 1,
   "id": "2254733e",
   "metadata": {},
   "outputs": [
    {
     "name": "stdout",
     "output_type": "stream",
     "text": [
      "4.5\n"
     ]
    }
   ],
   "source": [
    "from statistics import median\n",
    "\n",
    "numbers = [1, 2, 3, 4, 5, 6, 7, 8]\n",
    "print(median(numbers))"
   ]
  },
  {
   "cell_type": "code",
   "execution_count": null,
   "id": "6a4c16fe",
   "metadata": {},
   "outputs": [],
   "source": []
  }
 ],
 "metadata": {
  "kernelspec": {
   "display_name": "Python 3 (ipykernel)",
   "language": "python",
   "name": "python3"
  },
  "language_info": {
   "codemirror_mode": {
    "name": "ipython",
    "version": 3
   },
   "file_extension": ".py",
   "mimetype": "text/x-python",
   "name": "python",
   "nbconvert_exporter": "python",
   "pygments_lexer": "ipython3",
   "version": "3.11.5"
  }
 },
 "nbformat": 4,
 "nbformat_minor": 5
}
