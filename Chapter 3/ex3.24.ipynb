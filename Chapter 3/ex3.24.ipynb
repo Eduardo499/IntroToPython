{
 "cells": [
  {
   "cell_type": "raw",
   "id": "d4540fd4",
   "metadata": {},
   "source": [
    "(Project: Using the prospector Static Code Analysis Tool) The prospector tool runs several popular static code analysis tools to check your Python code for common errors and to help you improve your code. Check that you’ve installed prospector (see the Before You Begin section that follows the Preface). Run prospector on each of the scripts in this chapter. To do so, open the folder containing the scripts in a Terminal (macOS/Linux), Command Prompt (Windows) or shell (Linux), then run the following command from that folder:\n",
    "\n",
    "prospector --strictness veryhigh --doc-warnings \n",
    "\n",
    "Study the output to see the kinds of issues prospector locates in Python code. In general, run prospector on all new code you create."
   ]
  }
 ],
 "metadata": {
  "kernelspec": {
   "display_name": "Python 3 (ipykernel)",
   "language": "python",
   "name": "python3"
  },
  "language_info": {
   "codemirror_mode": {
    "name": "ipython",
    "version": 3
   },
   "file_extension": ".py",
   "mimetype": "text/x-python",
   "name": "python",
   "nbconvert_exporter": "python",
   "pygments_lexer": "ipython3",
   "version": "3.11.5"
  }
 },
 "nbformat": 4,
 "nbformat_minor": 5
}
