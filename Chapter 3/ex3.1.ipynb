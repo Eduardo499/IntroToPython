{
 "cells": [
  {
   "cell_type": "raw",
   "id": "66baf362",
   "metadata": {},
   "source": [
    "(Validating User Input) Modify the script of Fig. 3.3 to validate its inputs. For any\n",
    "input, if the value entered is other than 1 or 2, keep looping until the user enters a correct\n",
    "value. Use one counter to keep track of the number of passes, then calculate the number\n",
    "of failures after all the user’s inputs have been received."
   ]
  },
  {
   "cell_type": "code",
   "execution_count": 4,
   "id": "ba9e6f8d",
   "metadata": {},
   "outputs": [
    {
     "name": "stdout",
     "output_type": "stream",
     "text": [
      "Enter result (1=pass, 2=fail, 0=stop): 1\n",
      "Enter result (1=pass, 2=fail, 0=stop): 1\n",
      "Enter result (1=pass, 2=fail, 0=stop): 1\n",
      "Enter result (1=pass, 2=fail, 0=stop): 2\n",
      "Enter result (1=pass, 2=fail, 0=stop): 2\n",
      "Enter result (1=pass, 2=fail, 0=stop): 2\n",
      "Enter result (1=pass, 2=fail, 0=stop): 0\n",
      "3 passes\n",
      "3 failures\n"
     ]
    }
   ],
   "source": [
    "passes = 0\n",
    "failures = 0\n",
    "result = -1\n",
    "\n",
    "while result != 0:\n",
    "    result = int(input('Enter result (1=pass, 2=fail, 0=stop): '))\n",
    "    \n",
    "    if result == 1:\n",
    "        passes += 1\n",
    "    elif result == 2:\n",
    "        failures += 1\n",
    "    else:\n",
    "        pass\n",
    "\n",
    "print(f'{passes} passes')\n",
    "print(f'{failures} failures')\n"
   ]
  },
  {
   "cell_type": "code",
   "execution_count": null,
   "id": "105f7ba2",
   "metadata": {},
   "outputs": [],
   "source": []
  }
 ],
 "metadata": {
  "kernelspec": {
   "display_name": "Python 3 (ipykernel)",
   "language": "python",
   "name": "python3"
  },
  "language_info": {
   "codemirror_mode": {
    "name": "ipython",
    "version": 3
   },
   "file_extension": ".py",
   "mimetype": "text/x-python",
   "name": "python",
   "nbconvert_exporter": "python",
   "pygments_lexer": "ipython3",
   "version": "3.11.5"
  }
 },
 "nbformat": 4,
 "nbformat_minor": 5
}
