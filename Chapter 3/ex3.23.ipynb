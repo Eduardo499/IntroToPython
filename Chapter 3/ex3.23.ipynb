{
 "cells": [
  {
   "cell_type": "raw",
   "id": "7383dfcf",
   "metadata": {},
   "source": [
    "(Validating Indentation) The file validate_indents.py in this chapter’s ch03 examples folder contains the following code with incorrect indentation:\n",
    "\n",
    "grade = 93\n",
    "\n",
    "if grade >= 90:\n",
    "    print('A')\n",
    "   print('Great Job!')\n",
    "    print('Take a break from studying')\n",
    "    \n",
    "The Python Standard Library includes a code indentation validator module named\n",
    "tabnanny, which you can run as a script to check your code for proper indentation—this"
   ]
  },
  {
   "cell_type": "code",
   "execution_count": 2,
   "id": "ecc34575",
   "metadata": {},
   "outputs": [
    {
     "ename": "IndentationError",
     "evalue": "unindent does not match any outer indentation level (<tokenize>, line 5)",
     "output_type": "error",
     "traceback": [
      "\u001b[1;36m  File \u001b[1;32m<tokenize>:5\u001b[1;36m\u001b[0m\n\u001b[1;33m    print('Great Job!')\u001b[0m\n\u001b[1;37m    ^\u001b[0m\n\u001b[1;31mIndentationError\u001b[0m\u001b[1;31m:\u001b[0m unindent does not match any outer indentation level\n"
     ]
    }
   ],
   "source": [
    "grade = 93\n",
    "\n",
    "if grade >= 90:\n",
    "    print('A')\n",
    "   print('Great Job!')\n",
    "    print('Take a break from studying')"
   ]
  },
  {
   "cell_type": "code",
   "execution_count": null,
   "id": "db85fe4a",
   "metadata": {},
   "outputs": [],
   "source": []
  }
 ],
 "metadata": {
  "kernelspec": {
   "display_name": "Python 3 (ipykernel)",
   "language": "python",
   "name": "python3"
  },
  "language_info": {
   "codemirror_mode": {
    "name": "ipython",
    "version": 3
   },
   "file_extension": ".py",
   "mimetype": "text/x-python",
   "name": "python",
   "nbconvert_exporter": "python",
   "pygments_lexer": "ipython3",
   "version": "3.11.5"
  }
 },
 "nbformat": 4,
 "nbformat_minor": 5
}
