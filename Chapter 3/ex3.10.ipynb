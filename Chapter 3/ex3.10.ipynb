{
 "cells": [
  {
   "cell_type": "raw",
   "id": "52ce4e69",
   "metadata": {},
   "source": [
    "(Hourly Wage Calculator) Reimplement Exercise 2.12 to use a loop that calculates\n",
    "and displays the hourly wage an employee earns after a good performance review for years\n",
    "1 through 10."
   ]
  },
  {
   "cell_type": "code",
   "execution_count": 2,
   "id": "14070355",
   "metadata": {},
   "outputs": [
    {
     "name": "stdout",
     "output_type": "stream",
     "text": [
      "Year 1: 10.3\n",
      "Year 2: 10.609\n",
      "Year 3: 10.92727\n",
      "Year 4: 11.255088100000002\n",
      "Year 5: 11.592740743\n",
      "Year 6: 11.94052296529\n",
      "Year 7: 12.298738654248702\n",
      "Year 8: 12.667700813876163\n",
      "Year 9: 13.04773183829245\n",
      "Year 10: 13.439163793441223\n"
     ]
    }
   ],
   "source": [
    "o = 10\n",
    "w = 0\n",
    "\n",
    "for year in range(10):\n",
    "    w = o * (1 + 0.03) ** (year + 1)\n",
    "    print(f'Year {year + 1}: {w}')\n"
   ]
  },
  {
   "cell_type": "code",
   "execution_count": null,
   "id": "e106ee48",
   "metadata": {},
   "outputs": [],
   "source": []
  }
 ],
 "metadata": {
  "kernelspec": {
   "display_name": "Python 3 (ipykernel)",
   "language": "python",
   "name": "python3"
  },
  "language_info": {
   "codemirror_mode": {
    "name": "ipython",
    "version": 3
   },
   "file_extension": ".py",
   "mimetype": "text/x-python",
   "name": "python",
   "nbconvert_exporter": "python",
   "pygments_lexer": "ipython3",
   "version": "3.11.5"
  }
 },
 "nbformat": 4,
 "nbformat_minor": 5
}
