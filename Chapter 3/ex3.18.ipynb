{
 "cells": [
  {
   "cell_type": "raw",
   "id": "eb3f6e55",
   "metadata": {},
   "source": [
    "3.18 (Challenge: Nested Looping) Modify your script from Exercise 3.17 to display all four patterns side-by-side (as shown above) by making clever use of nested for loops. Separate each triangle from the next by three horizontal spaces. [Hint: One for loop should control the row number. Its nested for loops should calculate from the row number the\n",
    "appropriate number of asterisks and spaces for each of the four patterns.]"
   ]
  },
  {
   "cell_type": "code",
   "execution_count": 23,
   "id": "cd38dc82",
   "metadata": {},
   "outputs": [
    {
     "name": "stdout",
     "output_type": "stream",
     "text": [
      "*            **********   **********            *\n",
      "**           *********     *********           **\n",
      "***          ********       ********          ***\n",
      "****         *******         *******         ****\n",
      "*****        ******           ******        *****\n",
      "******       *****             *****       ******\n",
      "*******      ****               ****      *******\n",
      "********     ***                 ***     ********\n",
      "*********    **                   **    *********\n",
      "**********   *                     *   **********\n"
     ]
    }
   ],
   "source": [
    "max_size = 10\n",
    "spacing = 3\n",
    "\n",
    "for i in range(1, max_size + 1):\n",
    "    print(\"*\" * i, end = \" \" * (max_size - i + spacing))   \n",
    "    print(\"*\" * (max_size - i + 1), end = \" \" * (i - 1 + spacing))\n",
    "    print(\" \" * (i - 1) + \"*\" * (max_size - i + 1), end = \" \" * spacing)\n",
    "    print(\" \" * (max_size - i) + \"*\" * i)"
   ]
  },
  {
   "cell_type": "code",
   "execution_count": null,
   "id": "961d1bdf",
   "metadata": {},
   "outputs": [],
   "source": []
  }
 ],
 "metadata": {
  "kernelspec": {
   "display_name": "Python 3 (ipykernel)",
   "language": "python",
   "name": "python3"
  },
  "language_info": {
   "codemirror_mode": {
    "name": "ipython",
    "version": 3
   },
   "file_extension": ".py",
   "mimetype": "text/x-python",
   "name": "python",
   "nbconvert_exporter": "python",
   "pygments_lexer": "ipython3",
   "version": "3.11.5"
  }
 },
 "nbformat": 4,
 "nbformat_minor": 5
}
