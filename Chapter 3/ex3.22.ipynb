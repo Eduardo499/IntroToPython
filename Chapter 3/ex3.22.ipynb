{
 "cells": [
  {
   "cell_type": "raw",
   "id": "e2630644",
   "metadata": {},
   "source": [
    "(Optional else Clause of a Loop) The while and for statements each have an optional else clause. In a while statement, the else clause executes when the condition becomes False. In a for statement, the else clause executes when there are no more items to process. If you break out of a while or for that has an else, the else part does not execute. Execute the following code to see that the else clause executes only if the break statement does not:\n",
    "\n",
    "for i in range(2):\n",
    "    value = int(input('Enter an integer (-1 to break): '))\n",
    "    print('You entered:', value)\n",
    "    \n",
    "    if value == -1:\n",
    "        break\n",
    "    \n",
    "else:\n",
    "    print('The loop terminated without executing the break')\n",
    "\n",
    "For more information on loop else clauses, see\n",
    "https://docs.python.org/3/tutorial/controlflow.html#break-and-continue-statements-and-else-clauses-on-loops"
   ]
  },
  {
   "cell_type": "code",
   "execution_count": 3,
   "id": "a4a16b83",
   "metadata": {},
   "outputs": [
    {
     "name": "stdout",
     "output_type": "stream",
     "text": [
      "Enter an integer (-1 to break): -1\n",
      "You entered: -1\n"
     ]
    }
   ],
   "source": [
    "for i in range(2):\n",
    "    value = int(input('Enter an integer (-1 to break): '))\n",
    "    print('You entered:', value)\n",
    "    \n",
    "    if value == -1:\n",
    "        break\n",
    "    \n",
    "else:\n",
    "    print('The loop terminated without executing the break')\n"
   ]
  },
  {
   "cell_type": "code",
   "execution_count": null,
   "id": "2e48e6c1",
   "metadata": {},
   "outputs": [],
   "source": []
  }
 ],
 "metadata": {
  "kernelspec": {
   "display_name": "Python 3 (ipykernel)",
   "language": "python",
   "name": "python3"
  },
  "language_info": {
   "codemirror_mode": {
    "name": "ipython",
    "version": 3
   },
   "file_extension": ".py",
   "mimetype": "text/x-python",
   "name": "python",
   "nbconvert_exporter": "python",
   "pygments_lexer": "ipython3",
   "version": "3.11.5"
  }
 },
 "nbformat": 4,
 "nbformat_minor": 5
}
