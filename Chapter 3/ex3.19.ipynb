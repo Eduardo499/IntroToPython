{
 "cells": [
  {
   "cell_type": "raw",
   "id": "e64340e2",
   "metadata": {},
   "source": [
    "(Prime Factorization) A prime number is divisible only by itself and 1 (e.g., 2, 3, 5, 7, 11, 13, ...). The prime factors of a number are a set of prime numbers that multiply together to result in the given number. Thus, if a number is a divider of the given number and also a prime number, it is a prime factor of the given number. Prime factorization is the search for all prime factors of a given number. Write a script that uses a trial and error approach to determine the prime factors of the number 1537."
   ]
  },
  {
   "cell_type": "code",
   "execution_count": 38,
   "id": "0dfabc5c",
   "metadata": {},
   "outputs": [
    {
     "name": "stdout",
     "output_type": "stream",
     "text": [
      "Enter a number: 1537\n",
      "1537 is not prime.\n",
      "Your primes factors:\n",
      "29 53 "
     ]
    }
   ],
   "source": [
    "n = int(input('Enter a number: '))\n",
    "count = 0\n",
    "numbers = []\n",
    "\n",
    "for i in range(1, n + 1):\n",
    "    if n % i == 0:\n",
    "        count += 1\n",
    "        numbers.append(i)\n",
    "    else:\n",
    "        pass\n",
    "\n",
    "if count == 2:\n",
    "    print(f'{n} is prime.')\n",
    "else:\n",
    "    print(f'{n} is not prime.')\n",
    "    \n",
    "    del numbers[-1]\n",
    "    del numbers[0]\n",
    "    \n",
    "    print('Your primes factors:')\n",
    "    for i in numbers:\n",
    "        print(i, end=' ')\n",
    "        "
   ]
  },
  {
   "cell_type": "code",
   "execution_count": null,
   "id": "2b0e58f5",
   "metadata": {},
   "outputs": [],
   "source": []
  },
  {
   "cell_type": "code",
   "execution_count": null,
   "id": "2c795310",
   "metadata": {},
   "outputs": [],
   "source": []
  }
 ],
 "metadata": {
  "kernelspec": {
   "display_name": "Python 3 (ipykernel)",
   "language": "python",
   "name": "python3"
  },
  "language_info": {
   "codemirror_mode": {
    "name": "ipython",
    "version": 3
   },
   "file_extension": ".py",
   "mimetype": "text/x-python",
   "name": "python",
   "nbconvert_exporter": "python",
   "pygments_lexer": "ipython3",
   "version": "3.11.5"
  }
 },
 "nbformat": 4,
 "nbformat_minor": 5
}
