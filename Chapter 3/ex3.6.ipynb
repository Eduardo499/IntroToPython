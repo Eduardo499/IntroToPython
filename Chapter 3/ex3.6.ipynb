{
 "cells": [
  {
   "cell_type": "raw",
   "id": "fffbe393",
   "metadata": {},
   "source": [
    "3.6 (Turing Test) The great British mathematician Alan Turing proposed a simple test to determine whether machines could exhibit intelligent behavior. A user sits at a computer and does the same text chat with a human sitting at a computer and a computer operating by itself. The user doesn’t know if the responses are coming back from the human or the independent computer. If the user can’t distinguish which responses are coming from the human and which are coming from the computer, then it’s reasonable to say that the computer is exhibiting intelligence.\n",
    "\n",
    "Create a script that plays the part of the independent computer, giving its user a simple medical diagnosis. The script should prompt the user with 'What is your problem?'\n",
    "\n",
    "When the user answers and presses Enter, the script should simply ignore the user’s input, then prompt the user again with 'Have you had this problem before (yes or no)?' If the user enters 'yes', print 'Well, you have it again.' If the user answers 'no', print 'Well, you have it now.' Would this conversation convince the user that the entity at the other end exhibited intelligent behavior? Why or why not?"
   ]
  },
  {
   "cell_type": "code",
   "execution_count": 2,
   "id": "013e3823",
   "metadata": {},
   "outputs": [
    {
     "name": "stdout",
     "output_type": "stream",
     "text": [
      "What is your problem?ksjdjeorjf\n",
      "Have you had this problem before (yes or no)?yes\n",
      "Well, you have it again.\n"
     ]
    }
   ],
   "source": [
    "problem = input('What is your problem?')\n",
    "question = input('Have you had this problem before (yes or no)?')\n",
    "\n",
    "if question == 'yes':\n",
    "    print('Well, you have it again.')\n",
    "elif question == 'no':\n",
    "    print('Well, you have it now')\n",
    "else:\n",
    "    print('Just yes or no')"
   ]
  },
  {
   "cell_type": "code",
   "execution_count": null,
   "id": "bdce9aa5",
   "metadata": {},
   "outputs": [],
   "source": []
  }
 ],
 "metadata": {
  "kernelspec": {
   "display_name": "Python 3 (ipykernel)",
   "language": "python",
   "name": "python3"
  },
  "language_info": {
   "codemirror_mode": {
    "name": "ipython",
    "version": 3
   },
   "file_extension": ".py",
   "mimetype": "text/x-python",
   "name": "python",
   "nbconvert_exporter": "python",
   "pygments_lexer": "ipython3",
   "version": "3.11.5"
  }
 },
 "nbformat": 4,
 "nbformat_minor": 5
}
