{
 "cells": [
  {
   "cell_type": "raw",
   "id": "17cdbee9",
   "metadata": {},
   "source": [
    "(Table of Bacteria) In Exercise 2.8, you wrote a script to calculate the growth in\n",
    "the number of bacteria after 0, 5, 10 and 15 hours and printed the resulting values in table\n",
    "format. Reimplement your script using a for loop and the f-string capabilities you learned\n",
    "_ __ _ g y, y ,\n",
    "\n",
    "Exercises 161\n",
    "\n",
    "in this chapter to produce the following table with the numbers right aligned in each col-\n",
    "umn.\n",
    "\n",
    "Hour    Number of Bacteria\n",
    "0       200\n",
    "5       6400\n",
    "10      204800\n",
    "15      6553600"
   ]
  },
  {
   "cell_type": "code",
   "execution_count": 10,
   "id": "fe332770",
   "metadata": {},
   "outputs": [
    {
     "name": "stdout",
     "output_type": "stream",
     "text": [
      "Hours     Number of Bacteria\n",
      "    0                 200\n",
      "    5                6400\n",
      "   10              204800\n",
      "   15             6553600\n"
     ]
    }
   ],
   "source": [
    "initial_bacteria = 200\n",
    "\n",
    "print(f\"{'Hours':<8}{'Number of Bacteria':>20}\")\n",
    "\n",
    "for hour in range(0, 16, 5):\n",
    "    number_of_bacteria = initial_bacteria * 2 ** hour\n",
    "    print(f'{hour:>5}{number_of_bacteria:>20}')\n"
   ]
  },
  {
   "cell_type": "code",
   "execution_count": null,
   "id": "e8b8be15",
   "metadata": {},
   "outputs": [],
   "source": []
  }
 ],
 "metadata": {
  "kernelspec": {
   "display_name": "Python 3 (ipykernel)",
   "language": "python",
   "name": "python3"
  },
  "language_info": {
   "codemirror_mode": {
    "name": "ipython",
    "version": 3
   },
   "file_extension": ".py",
   "mimetype": "text/x-python",
   "name": "python",
   "nbconvert_exporter": "python",
   "pygments_lexer": "ipython3",
   "version": "3.11.5"
  }
 },
 "nbformat": 4,
 "nbformat_minor": 5
}
