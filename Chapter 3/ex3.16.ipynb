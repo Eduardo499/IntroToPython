{
 "cells": [
  {
   "cell_type": "raw",
   "id": "0106d945",
   "metadata": {},
   "source": [
    "(Fastest Runners) Use a loop to find the fastest and second fastest from 10 runners\n",
    "whose speeds are entered. The speed of each runner is entered by the user in m/sec."
   ]
  },
  {
   "cell_type": "code",
   "execution_count": 10,
   "id": "5e6292e2",
   "metadata": {},
   "outputs": [
    {
     "name": "stdout",
     "output_type": "stream",
     "text": [
      "Enter the speed (m/s) of the runner 1: 10\n",
      "Enter the speed (m/s) of the runner 2: 10\n",
      "Enter the speed (m/s) of the runner 3: 30\n",
      "Enter the speed (m/s) of the runner 4: 50\n",
      "Enter the speed (m/s) of the runner 5: 30\n",
      "Enter the speed (m/s) of the runner 6: 20\n",
      "Enter the speed (m/s) of the runner 7: 70\n",
      "Enter the speed (m/s) of the runner 8: 60\n",
      "Enter the speed (m/s) of the runner 9: 30\n",
      "Enter the speed (m/s) of the runner 10: 40\n",
      "1st place: 10 m/s\n",
      "2nd place: 10 m/s\n",
      "3rd place: 30 m/s\n",
      "4th place: 50 m/s\n",
      "5th place: 30 m/s\n",
      "6th place: 20 m/s\n",
      "7th place: 70 m/s\n",
      "8th place: 60 m/s\n",
      "9th place: 30 m/s\n",
      "10th place: 40 m/s\n"
     ]
    }
   ],
   "source": [
    "runners = []\n",
    "\n",
    "for i in range(10):\n",
    "    speed = int(input(f'Enter the speed (m/s) of the runner {i + 1}: '))\n",
    "    runners.append(speed)\n",
    "\n",
    "# Classification\n",
    "\n",
    "for i in range(10):\n",
    "    if i == 0:\n",
    "        print(f'1st place: {runners[i]} m/s')\n",
    "    elif i == 1:\n",
    "        print(f'2nd place: {runners[i]} m/s')\n",
    "    elif i == 2:\n",
    "        print(f'3rd place: {runners[i]} m/s')\n",
    "    else:\n",
    "        print(f'{i + 1}th place: {runners[i]} m/s')"
   ]
  },
  {
   "cell_type": "code",
   "execution_count": null,
   "id": "dab5d68d",
   "metadata": {},
   "outputs": [],
   "source": []
  },
  {
   "cell_type": "code",
   "execution_count": null,
   "id": "cd196637",
   "metadata": {},
   "outputs": [],
   "source": []
  }
 ],
 "metadata": {
  "kernelspec": {
   "display_name": "Python 3 (ipykernel)",
   "language": "python",
   "name": "python3"
  },
  "language_info": {
   "codemirror_mode": {
    "name": "ipython",
    "version": 3
   },
   "file_extension": ".py",
   "mimetype": "text/x-python",
   "name": "python",
   "nbconvert_exporter": "python",
   "pygments_lexer": "ipython3",
   "version": "3.11.5"
  }
 },
 "nbformat": 4,
 "nbformat_minor": 5
}
