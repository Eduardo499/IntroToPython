{
 "cells": [
  {
   "cell_type": "raw",
   "id": "0fc6beda",
   "metadata": {},
   "source": [
    "(Perfect Numbers) In number theory, a perfect number is a positive integer that is\n",
    "equal to the sum of its divisors. Perfect numbers were first studied by the Pythagoreans\n",
    "who thought that they had mystical properties. They were also extensively studied by\n",
    "Greeks (including Euclid) for their numerological properties.\n",
    "\n",
    "The smallest perfect number is 6, because 6 = 3 + 2 + 1, with 3, 2, and 1 being the divi-\n",
    "sors. Other examples of perfect numbers are: 28, 496 and 8128. Write a script that inputs\n",
    "a nonnegative integer and displays whether it is a perfect number or not."
   ]
  },
  {
   "cell_type": "code",
   "execution_count": 15,
   "id": "dd74d813",
   "metadata": {},
   "outputs": [
    {
     "name": "stdout",
     "output_type": "stream",
     "text": [
      "Enter a number: 9583976\n",
      "9583976 is not a perfect number.\n"
     ]
    }
   ],
   "source": [
    "def divisors(num):\n",
    "    for i in range(1, num//2+1):\n",
    "        if num % i == 0: \n",
    "            yield i\n",
    "    yield num\n",
    "\n",
    "    \n",
    "number = int(input('Enter a number: '))\n",
    "number_test = 0\n",
    "\n",
    "if number > 0:\n",
    "    list_divisors = list(divisors(number))\n",
    "    for i in list_divisors:\n",
    "        number_test += i\n",
    "    number_test -= number\n",
    "    if number_test == number:\n",
    "        print(f'{number} is a perfect number.')\n",
    "    else:\n",
    "        print(f'{number} is not a perfect number.')\n",
    "else:\n",
    "    print('The number must be greater than zero.')"
   ]
  },
  {
   "cell_type": "code",
   "execution_count": null,
   "id": "a93e1833",
   "metadata": {},
   "outputs": [],
   "source": []
  },
  {
   "cell_type": "code",
   "execution_count": null,
   "id": "d3ae2671",
   "metadata": {},
   "outputs": [],
   "source": []
  }
 ],
 "metadata": {
  "kernelspec": {
   "display_name": "Python 3 (ipykernel)",
   "language": "python",
   "name": "python3"
  },
  "language_info": {
   "codemirror_mode": {
    "name": "ipython",
    "version": 3
   },
   "file_extension": ".py",
   "mimetype": "text/x-python",
   "name": "python",
   "nbconvert_exporter": "python",
   "pygments_lexer": "ipython3",
   "version": "3.11.5"
  }
 },
 "nbformat": 4,
 "nbformat_minor": 5
}
