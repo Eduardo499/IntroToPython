{
 "cells": [
  {
   "cell_type": "raw",
   "id": "88a5a162",
   "metadata": {},
   "source": [
    "(Binary-to-Decimal Conversion) Input an integer containing 0s and 1s (i.e., a “binary” integer) and display its decimal equivalent. The online appendix, “Number Systems,” discusses the binary number system. [Hint: Use the modulus and division operators to pick off the “binary” number’s digits one at a time from right to left. Just as in the decimal number system, where the rightmost digit has the positional value 1 and the next digit to the left has the positional value 10, then 100, then 1000, etc., in the binary number system, the rightmost digit has the positional value 1, the next digit to the left has the positional value 2, then 4, then 8, etc. Thus, the decimal number 234 can be interpreted as 2 * 100 + 3 * 10 + 4 * 1. The decimal equivalent of binary 1101 is 1 * 8 + 1 * 4 + 0 * 2 + 1 * 1.]"
   ]
  },
  {
   "cell_type": "code",
   "execution_count": 6,
   "id": "067ec5a2",
   "metadata": {},
   "outputs": [
    {
     "name": "stdout",
     "output_type": "stream",
     "text": [
      "Enter a binary number to converter to decimal: 1101001011\n",
      "1101001011 ---> 843\n"
     ]
    }
   ],
   "source": [
    "binary = int(input('Enter a binary number to converter to decimal: '))\n",
    "n = len(str(binary))\n",
    "value = binary\n",
    "decimal = 0\n",
    "i = 0\n",
    "\n",
    "while n >= 0:\n",
    "    rest = binary % 10\n",
    "    decimal += (rest * (2 ** i))\n",
    "    n -= 1\n",
    "    i += 1\n",
    "    binary //= 10\n",
    "\n",
    "\n",
    "print(f'{value} ---> {decimal}')\n"
   ]
  },
  {
   "cell_type": "code",
   "execution_count": null,
   "id": "b4cbe877",
   "metadata": {},
   "outputs": [],
   "source": []
  }
 ],
 "metadata": {
  "kernelspec": {
   "display_name": "Python 3 (ipykernel)",
   "language": "python",
   "name": "python3"
  },
  "language_info": {
   "codemirror_mode": {
    "name": "ipython",
    "version": 3
   },
   "file_extension": ".py",
   "mimetype": "text/x-python",
   "name": "python",
   "nbconvert_exporter": "python",
   "pygments_lexer": "ipython3",
   "version": "3.11.5"
  }
 },
 "nbformat": 4,
 "nbformat_minor": 5
}
