{
 "cells": [
  {
   "cell_type": "code",
   "execution_count": null,
   "id": "6c709050-37b2-4504-9c82-4e3d06e5eba8",
   "metadata": {},
   "outputs": [],
   "source": [
    "# The average, as it is included in its calculation. \n",
    "# As for the median and mode, it is possible to simply ignore these results."
   ]
  }
 ],
 "metadata": {
  "kernelspec": {
   "display_name": "Python 3 (ipykernel)",
   "language": "python",
   "name": "python3"
  },
  "language_info": {
   "codemirror_mode": {
    "name": "ipython",
    "version": 3
   },
   "file_extension": ".py",
   "mimetype": "text/x-python",
   "name": "python",
   "nbconvert_exporter": "python",
   "pygments_lexer": "ipython3",
   "version": "3.10.12"
  }
 },
 "nbformat": 4,
 "nbformat_minor": 5
}
