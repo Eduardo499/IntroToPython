{
 "cells": [
  {
   "cell_type": "raw",
   "id": "a4e0d83c",
   "metadata": {},
   "source": [
    "(Rabbit Births) A farmer wants to keep track of the average number of rabbits born\n",
    "on his farm every month. He records the number of does (female rabbits) he has combined\n",
    "with the number rabbits born every month. Develop a sentinel-controlled-repetition\n",
    "script that prompts the user to input the number of does living in the farm and the number\n",
    "of rabbits born in a specific month. After processing all input information, the script\n",
    "should calculate and display the combined average number of rabbits born per doe.\n",
    "\n",
    "Enter the number of does in the rabbit colony (-1 to end): 5\n",
    "Number of baby rabbits born in the past month: 15\n",
    "On average 3.0 baby rabbits were born for each doe\n",
    "Enter the number of does in the rabbit colony (-1 to end): 10\n",
    "Number of baby rabbits born in the past month: 50\n",
    "On average 5.0 baby rabbits were born for each doe\n",
    "Enter the number of does in the rabbit colony (-1 to end): 20\n",
    "Number of baby rabbits born in the past month: 90\n",
    "On average 4.5 baby rabbits were born for each doe\n",
    "Enter the number of does in the rabbit colony (-1 to end): -1\n",
    "Total number of baby rabbits for each doe so far: 4.428571428571429"
   ]
  },
  {
   "cell_type": "code",
   "execution_count": 10,
   "id": "7bf7dd48",
   "metadata": {},
   "outputs": [
    {
     "name": "stdout",
     "output_type": "stream",
     "text": [
      "Enter the number of does in the rabbit colony (-1 to end): 5\n",
      "Number of baby rabbits born in the past month: 15\n",
      "On average 3.0 baby rabbits were born for each doe\n",
      "Enter the number of does in the rabbit colony (-1 to end): 10\n",
      "Number of baby rabbits born in the past month: 50\n",
      "On average 4.3 baby rabbits were born for each doe\n",
      "Enter the number of does in the rabbit colony (-1 to end): 20\n",
      "Number of baby rabbits born in the past month: 90\n",
      "On average 4.4 baby rabbits were born for each doe\n",
      "Enter the number of does in the rabbit colony (-1 to end): -1\n",
      "Total number of baby rabbits for each doe so far: 4.428571428571429\n"
     ]
    }
   ],
   "source": [
    "females = 0\n",
    "total_females = 0\n",
    "babies = 0\n",
    "total_babies = 0\n",
    "\n",
    "while females != -1:\n",
    "    females = int(input('Enter the number of does in the rabbit colony (-1 to end): '))\n",
    "    if females != -1:\n",
    "        total_females += females\n",
    "        babies = int(input('Number of baby rabbits born in the past month: '))\n",
    "        total_babies += babies\n",
    "        print(f'On average {total_babies / total_females:.1f} baby rabbits were born for each doe')\n",
    "    else:\n",
    "        break\n",
    "\n",
    "print(f'Total number of baby rabbits for each doe so far: {total_babies / total_females}')\n"
   ]
  },
  {
   "cell_type": "code",
   "execution_count": null,
   "id": "70ff0625",
   "metadata": {},
   "outputs": [],
   "source": []
  }
 ],
 "metadata": {
  "kernelspec": {
   "display_name": "Python 3 (ipykernel)",
   "language": "python",
   "name": "python3"
  },
  "language_info": {
   "codemirror_mode": {
    "name": "ipython",
    "version": 3
   },
   "file_extension": ".py",
   "mimetype": "text/x-python",
   "name": "python",
   "nbconvert_exporter": "python",
   "pygments_lexer": "ipython3",
   "version": "3.11.5"
  }
 },
 "nbformat": 4,
 "nbformat_minor": 5
}
