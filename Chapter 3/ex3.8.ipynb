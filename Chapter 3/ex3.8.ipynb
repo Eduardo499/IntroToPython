{
 "cells": [
  {
   "cell_type": "raw",
   "id": "23d269e7",
   "metadata": {},
   "source": [
    "(Flu Patients Data Processing) During the flu season, it is important to keep track\n",
    "of the number of infected patients. Write a script in which the user can input the number\n",
    "of reported infections per day over one week. Calculate the total, average, smallest, and\n",
    "largest of these values. Write your script using a loop structure."
   ]
  },
  {
   "cell_type": "code",
   "execution_count": 7,
   "id": "af7ed002",
   "metadata": {},
   "outputs": [
    {
     "name": "stdout",
     "output_type": "stream",
     "text": [
      "Enter the number of infected patients on the 1st day: 8\n",
      "Enter the number of infected patients on the 2nd day: 8\n",
      "Enter the number of infected patients on the 3rd day: 8\n",
      "Enter the number of infected patients on the 4th day: 8\n",
      "Enter the number of infected patients on the 5th day: 8\n",
      "Enter the number of infected patients on the 6th day: 8\n",
      "Enter the number of infected patients on the 7th day: 8\n",
      "The largest number of infected people is 8\n",
      "The smallest number of infected people is 8\n",
      "The average is 8.0\n"
     ]
    }
   ],
   "source": [
    "count = 0\n",
    "infections = []\n",
    "total = 0\n",
    "\n",
    "for day in range(7):\n",
    "    if day == 0:\n",
    "        infection = int(input(f'Enter the number of infected patients on the {day + 1}st day: '))\n",
    "    elif day == 1:\n",
    "        infection = int(input(f'Enter the number of infected patients on the {day + 1}nd day: '))\n",
    "    elif day == 2:\n",
    "        infection = int(input(f'Enter the number of infected patients on the {day + 1}rd day: '))\n",
    "    else:\n",
    "        infection = int(input(f'Enter the number of infected patients on the {day + 1}th day: '))\n",
    "    infections.append(infection)\n",
    "    count += 1\n",
    "    total += infection\n",
    "\n",
    "print(f'The largest number of infected people is {max(infections)}')\n",
    "print(f'The smallest number of infected people is {min(infections)}')\n",
    "print(f'The average is {total / count}')\n"
   ]
  },
  {
   "cell_type": "code",
   "execution_count": null,
   "id": "0559496a",
   "metadata": {},
   "outputs": [],
   "source": []
  },
  {
   "cell_type": "code",
   "execution_count": null,
   "id": "77470cd1",
   "metadata": {},
   "outputs": [],
   "source": []
  }
 ],
 "metadata": {
  "kernelspec": {
   "display_name": "Python 3 (ipykernel)",
   "language": "python",
   "name": "python3"
  },
  "language_info": {
   "codemirror_mode": {
    "name": "ipython",
    "version": 3
   },
   "file_extension": ".py",
   "mimetype": "text/x-python",
   "name": "python",
   "nbconvert_exporter": "python",
   "pygments_lexer": "ipython3",
   "version": "3.11.5"
  }
 },
 "nbformat": 4,
 "nbformat_minor": 5
}
