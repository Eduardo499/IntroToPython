{
 "cells": [
  {
   "cell_type": "raw",
   "id": "8fec3ef8",
   "metadata": {},
   "source": [
    "(World Population Growth) World population has grown considerably over the centuries. Continued growth could eventually challenge the limits of breathable air, drinkable water, arable land and other limited resources. There’s evidence that growth has been slowing in recent years and that world population could peak some time this century, then start to decline.\n",
    "    For this exercise, research world population growth issues. This is a controversial topic, so be sure to investigate various viewpoints. Get estimates for the current world population and its growth rate. Write a script that calculates world population growth each year for the next 100 years, using the simplifying assumption that the current growth rate will stay constant. Print the results in a table. The first column should display the year from 1 to 100. The second column should display the anticipated world population at the end of that year. The third column should display the numerical increase in the world population that would occur that year. Using your results, determine the years in which the population would be double and eventually quadruple what it is today."
   ]
  },
  {
   "cell_type": "code",
   "execution_count": 2,
   "id": "14139a54",
   "metadata": {},
   "outputs": [
    {
     "name": "stdout",
     "output_type": "stream",
     "text": [
      "    Years   Population  Numerical Increase\n",
      "0       1   8039999999            39999999\n",
      "1       2   8080199998            80199998\n",
      "2       3   8120600997           120600997\n",
      "3       4   8161204001           161204001\n",
      "4       5   8202010021           202010021\n",
      "..    ...          ...                 ...\n",
      "95     96  12913141604          4913141604\n",
      "96     97  12977707312          4977707312\n",
      "97     98  13042595848          5042595848\n",
      "98     99  13107808827          5107808827\n",
      "99    100  13173347871          5173347871\n",
      "\n",
      "[100 rows x 3 columns]\n"
     ]
    }
   ],
   "source": [
    "import pandas as pd\n",
    "\n",
    "initial_population = 8000000000\n",
    "actual_population = 8000000000\n",
    "years = list(range(1, 101))\n",
    "population = []\n",
    "numerical_increase = []\n",
    "\n",
    "for year in years:\n",
    "    initial_population = int(initial_population * 1.005)\n",
    "    population.append(initial_population)\n",
    "    numerical_increase.append(initial_population - actual_population)\n",
    "\n",
    "data = {'Years': years, 'Population': population, 'Numerical Increase': numerical_increase}\n",
    "df = pd.DataFrame(data)\n",
    "print(df)"
   ]
  },
  {
   "cell_type": "code",
   "execution_count": null,
   "id": "5c06ec7a",
   "metadata": {},
   "outputs": [],
   "source": []
  }
 ],
 "metadata": {
  "kernelspec": {
   "display_name": "Python 3 (ipykernel)",
   "language": "python",
   "name": "python3"
  },
  "language_info": {
   "codemirror_mode": {
    "name": "ipython",
    "version": 3
   },
   "file_extension": ".py",
   "mimetype": "text/x-python",
   "name": "python",
   "nbconvert_exporter": "python",
   "pygments_lexer": "ipython3",
   "version": "3.11.5"
  }
 },
 "nbformat": 4,
 "nbformat_minor": 5
}
