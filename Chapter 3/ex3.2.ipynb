{
 "cells": [
  {
   "cell_type": "raw",
   "id": "2afa5861",
   "metadata": {},
   "source": [
    "(What’s Wrong with This Code?) What is wrong with the following code?\n",
    "a = b = 7\n",
    "print('a =', a, '\\nb =', b)\n",
    "First, answer the question, then check your work in an IPython session."
   ]
  },
  {
   "cell_type": "code",
   "execution_count": 2,
   "id": "2c9aed4f",
   "metadata": {},
   "outputs": [
    {
     "name": "stdout",
     "output_type": "stream",
     "text": [
      "a = 7 \n",
      "b = 7\n"
     ]
    }
   ],
   "source": [
    "a = b = 7\n",
    "print('a =', a, '\\nb =', b)"
   ]
  },
  {
   "cell_type": "raw",
   "id": "34ead6fd",
   "metadata": {},
   "source": [
    "Nothing wrong!"
   ]
  }
 ],
 "metadata": {
  "kernelspec": {
   "display_name": "Python 3 (ipykernel)",
   "language": "python",
   "name": "python3"
  },
  "language_info": {
   "codemirror_mode": {
    "name": "ipython",
    "version": 3
   },
   "file_extension": ".py",
   "mimetype": "text/x-python",
   "name": "python",
   "nbconvert_exporter": "python",
   "pygments_lexer": "ipython3",
   "version": "3.11.5"
  }
 },
 "nbformat": 4,
 "nbformat_minor": 5
}
