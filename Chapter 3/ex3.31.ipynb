{
 "cells": [
  {
   "cell_type": "code",
   "execution_count": null,
   "id": "0be51fcc-fdf0-40d9-b181-fc136f25fdb8",
   "metadata": {},
   "outputs": [],
   "source": [
    "# Frequencies, percentages, fractions and/or relative frequencies."
   ]
  }
 ],
 "metadata": {
  "kernelspec": {
   "display_name": "Python 3 (ipykernel)",
   "language": "python",
   "name": "python3"
  },
  "language_info": {
   "codemirror_mode": {
    "name": "ipython",
    "version": 3
   },
   "file_extension": ".py",
   "mimetype": "text/x-python",
   "name": "python",
   "nbconvert_exporter": "python",
   "pygments_lexer": "ipython3",
   "version": "3.10.12"
  }
 },
 "nbformat": 4,
 "nbformat_minor": 5
}
