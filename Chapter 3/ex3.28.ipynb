{
 "cells": [
  {
   "cell_type": "raw",
   "id": "e2602fcf",
   "metadata": {},
   "source": [
    "(Intro to Data Science: Mean, Median and Mode) Calculate the mean, median, and\n",
    "mode of the temperatures measured in Sidney on the first 9 days of February (in °C): 19.5,\n",
    "19.5, 21.6, 20.2, 19.7, 20.2, 18.6, 17.2 and 19.5. Suppose 20.2°C is measured on day 10\n",
    "and added to the dataset. What problem might occur?"
   ]
  },
  {
   "cell_type": "code",
   "execution_count": 9,
   "id": "2c414558",
   "metadata": {},
   "outputs": [
    {
     "name": "stdout",
     "output_type": "stream",
     "text": [
      "The mean of the temperatures is 18.44 °C\n",
      "The median of the temperatures is 19.5\n",
      "The mode of the temperatures is 19.5 °C\n",
      "The mean of the temperatures is 18.62 °C\n",
      "The median of the temperatures is 19.6\n",
      "The mode of the temperatures is 20.2 °C\n"
     ]
    }
   ],
   "source": [
    "from statistics import *\n",
    "\n",
    "temperatures = [9.5, 19.5, 21.6, 20.2, 19.7, 20.2, 18.6, 17.2, 19.5]\n",
    "print(f'The mean of the temperatures is {mean(temperatures):.2f} °C')\n",
    "print(f'The median of the temperatures is {median(temperatures)}')\n",
    "print(f'The mode of the temperatures is {mode(temperatures)} °C')\n",
    "\n",
    "# additing 20.2\n",
    "\n",
    "temperatures.append(20.2)\n",
    "print(f'The mean of the temperatures is {mean(temperatures):.2f} °C')\n",
    "print(f'The median of the temperatures is {median(temperatures)}')\n",
    "print(f'The mode of the temperatures is {mode(temperatures)} °C')\n"
   ]
  },
  {
   "cell_type": "code",
   "execution_count": null,
   "id": "f6288eb9",
   "metadata": {},
   "outputs": [],
   "source": []
  }
 ],
 "metadata": {
  "kernelspec": {
   "display_name": "Python 3 (ipykernel)",
   "language": "python",
   "name": "python3"
  },
  "language_info": {
   "codemirror_mode": {
    "name": "ipython",
    "version": 3
   },
   "file_extension": ".py",
   "mimetype": "text/x-python",
   "name": "python",
   "nbconvert_exporter": "python",
   "pygments_lexer": "ipython3",
   "version": "3.11.5"
  }
 },
 "nbformat": 4,
 "nbformat_minor": 5
}
