{
 "cells": [
  {
   "cell_type": "raw",
   "id": "be67838f",
   "metadata": {},
   "source": [
    "(Triangles) In an equilateral triangle, the lengths of all three sides are equal. Consequently, it is also equiangular with all three internal angles congruent to each other and measuring 60°. Write a script where a user can input the length of the three sides of a triangle. The script should determine if it is an equilateral triangle or not."
   ]
  },
  {
   "cell_type": "code",
   "execution_count": 2,
   "id": "2c150013",
   "metadata": {},
   "outputs": [
    {
     "name": "stdout",
     "output_type": "stream",
     "text": [
      "Enter the length of the fisrt side: 1\n",
      "Enter the length of the second side: 1\n",
      "Enter the length of the third side: 1\n",
      "The triangle is equilateral\n"
     ]
    }
   ],
   "source": [
    "a = int(input('Enter the length of the fisrt side: '))\n",
    "b = int(input('Enter the length of the second side: '))\n",
    "c = int(input('Enter the length of the third side: '))\n",
    "\n",
    "if a == b == c:\n",
    "    print('The triangle is equilateral')\n",
    "else:\n",
    "    print('The triangle is not equilateral')\n"
   ]
  },
  {
   "cell_type": "code",
   "execution_count": null,
   "id": "34c3b8b1",
   "metadata": {},
   "outputs": [],
   "source": []
  }
 ],
 "metadata": {
  "kernelspec": {
   "display_name": "Python 3 (ipykernel)",
   "language": "python",
   "name": "python3"
  },
  "language_info": {
   "codemirror_mode": {
    "name": "ipython",
    "version": 3
   },
   "file_extension": ".py",
   "mimetype": "text/x-python",
   "name": "python",
   "nbconvert_exporter": "python",
   "pygments_lexer": "ipython3",
   "version": "3.11.5"
  }
 },
 "nbformat": 4,
 "nbformat_minor": 5
}
