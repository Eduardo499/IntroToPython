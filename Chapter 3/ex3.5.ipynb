{
 "cells": [
  {
   "cell_type": "raw",
   "id": "c5123015",
   "metadata": {},
   "source": [
    "(if...else Statements) Reimplement the script of Fig. 2.1 using three if...else\n",
    "\n",
    "statements rather than six if statements. [Hint: For example, think of == and != as “op-\n",
    "posite” tests.]"
   ]
  },
  {
   "cell_type": "code",
   "execution_count": 1,
   "id": "cdf90a2e",
   "metadata": {},
   "outputs": [
    {
     "name": "stdout",
     "output_type": "stream",
     "text": [
      "Enter two integers, and I will tell you the relationships they satisfy.\n",
      "Enter first integer: 1\n",
      "Enter second integer: 3\n",
      "1 is not equal to 3\n",
      "1 is less than 3\n",
      "1 is less than or equal to 3\n"
     ]
    }
   ],
   "source": [
    "# fig02_01.py\n",
    "\"\"\"Comparing integers using if statements and comparison operators.\"\"\"\n",
    "\n",
    "print('Enter two integers, and I will tell you', 'the relationships they satisfy.')\n",
    "\n",
    "# read first integer\n",
    "number1 = int(input('Enter first integer: '))\n",
    "\n",
    "# read second integer\n",
    "number2 = int(input('Enter second integer: '))\n",
    "\n",
    "if number1 == number2:\n",
    "    print(number1, 'is equal to', number2)\n",
    "else:\n",
    "    print(number1, 'is not equal to', number2)\n",
    "    \n",
    "if number1 < number2:\n",
    "    print(number1, 'is less than', number2)\n",
    "else:\n",
    "    print(number1, 'is greater than', number2)\n",
    "    \n",
    "if number1 <= number2:\n",
    "    print(number1, 'is less than or equal to', number2)\n",
    "else:\n",
    "    print(number1, 'is greater than or equal to', number2)\n"
   ]
  },
  {
   "cell_type": "code",
   "execution_count": null,
   "id": "11e11cf0",
   "metadata": {},
   "outputs": [],
   "source": []
  }
 ],
 "metadata": {
  "kernelspec": {
   "display_name": "Python 3 (ipykernel)",
   "language": "python",
   "name": "python3"
  },
  "language_info": {
   "codemirror_mode": {
    "name": "ipython",
    "version": 3
   },
   "file_extension": ".py",
   "mimetype": "text/x-python",
   "name": "python",
   "nbconvert_exporter": "python",
   "pygments_lexer": "ipython3",
   "version": "3.11.5"
  }
 },
 "nbformat": 4,
 "nbformat_minor": 5
}
