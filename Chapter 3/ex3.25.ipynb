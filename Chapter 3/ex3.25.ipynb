{
 "cells": [
  {
   "cell_type": "raw",
   "id": "aa915bfe",
   "metadata": {},
   "source": [
    "(Project: Using prospector to Analyze Open-Source Code on GitHub) Locate a\n",
    "Python open-source project on GitHub, download its source code and extract it into a\n",
    "folder on your system. Open that folder in a Terminal (macOS/Linux), Command\n",
    "Prompt (Windows) or shell (Linux), then run the following command from that folder:\n",
    "\n",
    "prospector --strictness veryhigh --doc-warnings\n",
    "\n",
    "Study the output to see more of the kinds of issues prospector locates in Python code."
   ]
  }
 ],
 "metadata": {
  "kernelspec": {
   "display_name": "Python 3 (ipykernel)",
   "language": "python",
   "name": "python3"
  },
  "language_info": {
   "codemirror_mode": {
    "name": "ipython",
    "version": 3
   },
   "file_extension": ".py",
   "mimetype": "text/x-python",
   "name": "python",
   "nbconvert_exporter": "python",
   "pygments_lexer": "ipython3",
   "version": "3.11.5"
  }
 },
 "nbformat": 4,
 "nbformat_minor": 5
}
