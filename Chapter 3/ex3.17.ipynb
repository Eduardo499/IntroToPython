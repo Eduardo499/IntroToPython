{
 "cells": [
  {
   "cell_type": "raw",
   "id": "8ffa498c",
   "metadata": {},
   "source": [
    "(Nested Loops) Write a script that displays the following triangle patterns separately, one below the other. Separate each pattern from the next by one blank line. Use for\n",
    "loops to generate the patterns. Display all asterisks (*) with a single statement of the form\n",
    "\n",
    "print('*', end='')\n",
    "\n",
    "which causes the asterisks to display side by side. [Hint: For the last two patterns, begin\n",
    "each line with zero or more space characters.]"
   ]
  },
  {
   "cell_type": "code",
   "execution_count": 35,
   "id": "f616ffa5",
   "metadata": {},
   "outputs": [
    {
     "name": "stdout",
     "output_type": "stream",
     "text": [
      "(a)\n",
      "\n",
      "*\n",
      "**\n",
      "***\n",
      "****\n",
      "*****\n",
      "******\n",
      "*******\n",
      "********\n",
      "*********\n",
      "**********\n",
      "(b)\n",
      "**********\n",
      "*********\n",
      "********\n",
      "*******\n",
      "******\n",
      "*****\n",
      "****\n",
      "***\n",
      "**\n",
      "*\n",
      "(c)\n",
      "**********\n",
      " *********\n",
      "  ********\n",
      "   *******\n",
      "    ******\n",
      "     *****\n",
      "      ****\n",
      "       ***\n",
      "        **\n",
      "         *\n",
      "(d)\n",
      "         *\n",
      "        **\n",
      "       ***\n",
      "      ****\n",
      "     *****\n",
      "    ******\n",
      "   *******\n",
      "  ********\n",
      " *********\n",
      "**********\n"
     ]
    }
   ],
   "source": [
    "def a(n):\n",
    "    for i in range(n + 1):\n",
    "        print('*' * i)\n",
    "\n",
    "\n",
    "def b(n):\n",
    "    for i in range(n, 0, -1):\n",
    "        print('*' * i)\n",
    "\n",
    "\n",
    "def c(n):\n",
    "    for i in range(n, 0, -1):\n",
    "        for j in range(n - i):\n",
    "            print(' ', end='')\n",
    "        for j in range(i):\n",
    "            print('*', end='')\n",
    "        print()\n",
    "        \n",
    "        \n",
    "def d(n):        \n",
    "    for i in range(n, 0, -1):\n",
    "        for j in range(i - 1):\n",
    "            print(' ', end='')\n",
    "        for j in range(n - i + 1):\n",
    "            print('*', end='')\n",
    "        print()\n",
    "        \n",
    "n = 10\n",
    "print('(a)')\n",
    "a(n)\n",
    "print('(b)')\n",
    "b(n)\n",
    "print('(c)')\n",
    "c(n)\n",
    "print('(d)')\n",
    "d(n)"
   ]
  },
  {
   "cell_type": "code",
   "execution_count": null,
   "id": "b2d91a46",
   "metadata": {},
   "outputs": [],
   "source": []
  }
 ],
 "metadata": {
  "kernelspec": {
   "display_name": "Python 3 (ipykernel)",
   "language": "python",
   "name": "python3"
  },
  "language_info": {
   "codemirror_mode": {
    "name": "ipython",
    "version": 3
   },
   "file_extension": ".py",
   "mimetype": "text/x-python",
   "name": "python",
   "nbconvert_exporter": "python",
   "pygments_lexer": "ipython3",
   "version": "3.11.5"
  }
 },
 "nbformat": 4,
 "nbformat_minor": 5
}
