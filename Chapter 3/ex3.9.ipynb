{
 "cells": [
  {
   "cell_type": "raw",
   "id": "eda09fd3",
   "metadata": {},
   "source": [
    "(Calculating Time) In Exercise 2.11, you wrote a script that calculated the number\n",
    "of hours, minutes, and remaining seconds based on the number of seconds received\n",
    "through user input. Reimplement your script to use a loop that in an iterative process\n",
    "“picks off” the hours, minutes, and remaining seconds using the // and % operators."
   ]
  },
  {
   "cell_type": "code",
   "execution_count": 4,
   "id": "4561f0de",
   "metadata": {},
   "outputs": [
    {
     "name": "stdout",
     "output_type": "stream",
     "text": [
      "Enter seconds: 3750\n",
      "1 - 2 - 1 - 30\n"
     ]
    }
   ],
   "source": [
    "seconds = int(input('Enter seconds: '))\n",
    "\n",
    "if seconds >= 3600:\n",
    "    hours = seconds // 3600\n",
    "    seconds %= 3600\n",
    "    \n",
    "    minutes = seconds // 60\n",
    "    seconds %= 60\n",
    "    \n",
    "    print(hours, ' - ', minutes, ' - ', seconds)\n",
    "else:\n",
    "    print('Must be a value greater or equal than 3600')"
   ]
  },
  {
   "cell_type": "code",
   "execution_count": null,
   "id": "f5ca4ca8",
   "metadata": {},
   "outputs": [],
   "source": []
  }
 ],
 "metadata": {
  "kernelspec": {
   "display_name": "Python 3 (ipykernel)",
   "language": "python",
   "name": "python3"
  },
  "language_info": {
   "codemirror_mode": {
    "name": "ipython",
    "version": 3
   },
   "file_extension": ".py",
   "mimetype": "text/x-python",
   "name": "python",
   "nbconvert_exporter": "python",
   "pygments_lexer": "ipython3",
   "version": "3.11.5"
  }
 },
 "nbformat": 4,
 "nbformat_minor": 5
}
