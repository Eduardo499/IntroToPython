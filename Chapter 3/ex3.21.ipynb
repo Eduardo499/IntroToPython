{
 "cells": [
  {
   "cell_type": "raw",
   "id": "3321c9fc",
   "metadata": {},
   "source": [
    "(Calculate Distance in m, dm, cm and mm) A trainer wants to calculate the additional distance an athlete needs to jump to break the world record for the longest long\n",
    "jump (8.85 m). Write a script that accepts the current jumping distance of the athlete in\n",
    "meters as input. Display the difference in distance between the world record and the current jump in m, dm, cm, and mm. For example, when an athlete jumps 6.43 m, the script\n",
    "\n",
    "would output:\n",
    "\n",
    "You need to jump: 2.42 additional meters to improve the world record.\n",
    "Meters: 2.0\n",
    "Decimeters: 4.0\n",
    "Centimeters: 2.0\n",
    "Millimeters: 0.0"
   ]
  },
  {
   "cell_type": "code",
   "execution_count": 52,
   "id": "ddf065e8",
   "metadata": {},
   "outputs": [
    {
     "name": "stdout",
     "output_type": "stream",
     "text": [
      "Enter the jumping distance in meters: 8.84\n",
      "You need to jump: 0.01 additional meters to improve the world record.\n",
      "Meters: 0\n",
      "Decimeters: 0\n",
      "Centimeters: 1\n",
      "Milimeters: 0\n"
     ]
    }
   ],
   "source": [
    "jump = float(input('Enter the jumping distance in meters: '))\n",
    "record = 8.85 - jump\n",
    "\n",
    "if record == 0:\n",
    "    print('You achieved the world record.')\n",
    "if record < 0:\n",
    "    print('You broke the world record.')\n",
    "else:\n",
    "    print(f'You need to jump: {record:.2f} additional meters to improve the world record.')\n",
    "    meters = int(record)\n",
    "    print(f'Meters: {meters}')\n",
    "    decimeters = int((record - meters) * 10)\n",
    "    print(f'Decimeters: {decimeters}')\n",
    "    centimeters = (record - meters - decimeters / 10) * 100\n",
    "    print(f'Centimeters: {centimeters:.0f}')\n",
    "    milimeters = (record - meters - decimeters / 10 - centimeters / 100) * 1000\n",
    "    print(f'Milimeters: {milimeters:.0f}')\n"
   ]
  },
  {
   "cell_type": "code",
   "execution_count": null,
   "id": "61922cc8",
   "metadata": {},
   "outputs": [],
   "source": []
  }
 ],
 "metadata": {
  "kernelspec": {
   "display_name": "Python 3 (ipykernel)",
   "language": "python",
   "name": "python3"
  },
  "language_info": {
   "codemirror_mode": {
    "name": "ipython",
    "version": 3
   },
   "file_extension": ".py",
   "mimetype": "text/x-python",
   "name": "python",
   "nbconvert_exporter": "python",
   "pygments_lexer": "ipython3",
   "version": "3.11.5"
  }
 },
 "nbformat": 4,
 "nbformat_minor": 5
}
