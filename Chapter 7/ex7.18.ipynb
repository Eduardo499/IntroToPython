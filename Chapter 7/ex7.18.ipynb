{
 "cells": [
  {
   "cell_type": "raw",
   "id": "86a85d69-946a-4bd6-a4f2-02aa9e84542c",
   "metadata": {},
   "source": [
    "(Median and Mode of an array) NumPy arrays offer a mean method, but not median or mode. Write functions median and mode that use existing NumPy capabilities to determine the median (middle) and mode (most frequent) of the values in an array. Your functions should determine the median and mode regardless of the array’s shape. Test your function on three arrays of different shapes."
   ]
  },
  {
   "cell_type": "code",
   "execution_count": 7,
   "id": "f18aded3-e296-4947-8c1a-df632de4bc35",
   "metadata": {},
   "outputs": [
    {
     "name": "stdout",
     "output_type": "stream",
     "text": [
      "3.0 3\n",
      "3.5 1\n",
      "4.5 1\n"
     ]
    }
   ],
   "source": [
    "import numpy as np\n",
    "\n",
    "def median(arr):\n",
    "    return np.median(arr)\n",
    "\n",
    "def mode(arr):\n",
    "    values, counts = np.unique(arr, return_counts=True)\n",
    "    index_max = np.argmax(counts)\n",
    "    return values[index_max]\n",
    "\n",
    "matrix_1d = np.array([1, 2, 2, 3, 4, 5, 2, 3, 3, 3])\n",
    "matrix_2d = np.array([[1, 2, 3], [4, 5, 6]])\n",
    "matrix_3d = np.array([[[1, 2], [3, 4]], [[5, 6], [7, 8]]])\n",
    "\n",
    "median_1d = median(matrix_1d)\n",
    "mode_1d = mode(matrix_1d)\n",
    "\n",
    "print(median_1d, mode_1d)\n",
    "\n",
    "median_2d = median(matrix_2d)\n",
    "mode_2d = mode(matrix_2d)\n",
    "\n",
    "print(median_2d, mode_2d)\n",
    "\n",
    "median_3d = median(matrix_3d)\n",
    "mode_3d = mode(matrix_3d)\n",
    "\n",
    "print(median_3d, mode_3d)"
   ]
  },
  {
   "cell_type": "code",
   "execution_count": null,
   "id": "2c497e7b-7617-4c31-bb64-e1258f7d9570",
   "metadata": {},
   "outputs": [],
   "source": []
  },
  {
   "cell_type": "code",
   "execution_count": null,
   "id": "d877b008-f134-4eba-b6ec-60ba6394986f",
   "metadata": {},
   "outputs": [],
   "source": []
  }
 ],
 "metadata": {
  "kernelspec": {
   "display_name": "Python 3 (ipykernel)",
   "language": "python",
   "name": "python3"
  },
  "language_info": {
   "codemirror_mode": {
    "name": "ipython",
    "version": 3
   },
   "file_extension": ".py",
   "mimetype": "text/x-python",
   "name": "python",
   "nbconvert_exporter": "python",
   "pygments_lexer": "ipython3",
   "version": "3.10.12"
  }
 },
 "nbformat": 4,
 "nbformat_minor": 5
}
