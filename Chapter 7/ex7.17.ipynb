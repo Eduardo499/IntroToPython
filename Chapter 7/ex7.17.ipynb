{
 "cells": [
  {
   "cell_type": "raw",
   "id": "834acd66-33ba-40a7-8da1-8453efc88ee6",
   "metadata": {},
   "source": [
    "(Research: NumPy bincount Function) Use the Numpy randint function to create an array of 99 0’s and 1’s. A “0” indicates a vote for Candidate 1 and a “1” indicates a vote for Candidate 2. Research and use the NumPy bincount function to count the number of votes per candidate."
   ]
  },
  {
   "cell_type": "code",
   "execution_count": 6,
   "id": "5d1c0f9f-1cb3-491c-be0a-de2648f2de8e",
   "metadata": {},
   "outputs": [
    {
     "name": "stdout",
     "output_type": "stream",
     "text": [
      "[48 51]\n"
     ]
    }
   ],
   "source": [
    "import numpy as np\n",
    "\n",
    "votes = np.random.randint(0, 2, size=99)\n",
    "\n",
    "votes_counts = np.bincount(votes)\n",
    "\n",
    "print(votes_counts)"
   ]
  },
  {
   "cell_type": "code",
   "execution_count": null,
   "id": "15de2566-0837-40f7-bd4f-2a47bd05dad1",
   "metadata": {},
   "outputs": [],
   "source": []
  },
  {
   "cell_type": "code",
   "execution_count": null,
   "id": "81ce59a4-24b5-45e6-87f4-bf047cd0995b",
   "metadata": {},
   "outputs": [],
   "source": []
  }
 ],
 "metadata": {
  "kernelspec": {
   "display_name": "Python 3 (ipykernel)",
   "language": "python",
   "name": "python3"
  },
  "language_info": {
   "codemirror_mode": {
    "name": "ipython",
    "version": 3
   },
   "file_extension": ".py",
   "mimetype": "text/x-python",
   "name": "python",
   "nbconvert_exporter": "python",
   "pygments_lexer": "ipython3",
   "version": "3.10.12"
  }
 },
 "nbformat": 4,
 "nbformat_minor": 5
}
