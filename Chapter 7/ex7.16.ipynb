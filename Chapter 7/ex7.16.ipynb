{
 "cells": [
  {
   "cell_type": "raw",
   "id": "77325e82-9fcf-4d38-a314-63cd90e83ae7",
   "metadata": {},
   "source": [
    "(Research: NumPy tile Function) Research NumPy's tile function. Use the tile, vstack, and hstack functions to create a checkerboard pattern. Each “square” should consist of 4 zeros or 4 ones."
   ]
  },
  {
   "cell_type": "code",
   "execution_count": 7,
   "id": "6db58888-2106-4878-9f39-3e3d0fd170b2",
   "metadata": {},
   "outputs": [],
   "source": [
    "import numpy as np\n",
    "\n",
    "zeros = np.full((2, 2), 0)\n",
    "ones = np.full((2, 2), 1)"
   ]
  },
  {
   "cell_type": "code",
   "execution_count": 17,
   "id": "43a7478e-ec41-4d72-9ee0-2f84e4f8695b",
   "metadata": {},
   "outputs": [],
   "source": [
    "chess_bottom = np.hstack((zeros, ones, zeros, ones, zeros, ones, zeros, ones))\n",
    "chess_top = np.hstack((ones, zeros, ones, zeros, ones, zeros, ones, zeros))"
   ]
  },
  {
   "cell_type": "code",
   "execution_count": 21,
   "id": "e4874c7d-0119-4a06-91ab-8e823560eaee",
   "metadata": {},
   "outputs": [
    {
     "name": "stdout",
     "output_type": "stream",
     "text": [
      "[[1 1 0 0 1 1 0 0 1 1 0 0 1 1 0 0]\n",
      " [1 1 0 0 1 1 0 0 1 1 0 0 1 1 0 0]\n",
      " [0 0 1 1 0 0 1 1 0 0 1 1 0 0 1 1]\n",
      " [0 0 1 1 0 0 1 1 0 0 1 1 0 0 1 1]\n",
      " [1 1 0 0 1 1 0 0 1 1 0 0 1 1 0 0]\n",
      " [1 1 0 0 1 1 0 0 1 1 0 0 1 1 0 0]\n",
      " [0 0 1 1 0 0 1 1 0 0 1 1 0 0 1 1]\n",
      " [0 0 1 1 0 0 1 1 0 0 1 1 0 0 1 1]\n",
      " [1 1 0 0 1 1 0 0 1 1 0 0 1 1 0 0]\n",
      " [1 1 0 0 1 1 0 0 1 1 0 0 1 1 0 0]\n",
      " [0 0 1 1 0 0 1 1 0 0 1 1 0 0 1 1]\n",
      " [0 0 1 1 0 0 1 1 0 0 1 1 0 0 1 1]\n",
      " [1 1 0 0 1 1 0 0 1 1 0 0 1 1 0 0]\n",
      " [1 1 0 0 1 1 0 0 1 1 0 0 1 1 0 0]\n",
      " [0 0 1 1 0 0 1 1 0 0 1 1 0 0 1 1]\n",
      " [0 0 1 1 0 0 1 1 0 0 1 1 0 0 1 1]]\n"
     ]
    }
   ],
   "source": [
    "chess = np.vstack((chess_top, chess_bottom, chess_top, chess_bottom, chess_top, chess_bottom, chess_top, chess_bottom))\n",
    "print(chess)"
   ]
  },
  {
   "cell_type": "code",
   "execution_count": 23,
   "id": "c80cef88-b67a-4a43-a497-0e269c23daa9",
   "metadata": {},
   "outputs": [
    {
     "name": "stdout",
     "output_type": "stream",
     "text": [
      "[[1 0 1 0 1 0 1 0]\n",
      " [0 1 0 1 0 1 0 1]\n",
      " [1 0 1 0 1 0 1 0]\n",
      " [0 1 0 1 0 1 0 1]\n",
      " [1 0 1 0 1 0 1 0]\n",
      " [0 1 0 1 0 1 0 1]\n",
      " [1 0 1 0 1 0 1 0]\n",
      " [0 1 0 1 0 1 0 1]]\n"
     ]
    }
   ],
   "source": [
    "row_top = np.tile([1, 0], 4)\n",
    "row_bottom = np.tile([0, 1], 4)\n",
    "\n",
    "chess = np.tile(np.vstack((row_top, row_bottom)), (4, 1))\n",
    "print(chess)"
   ]
  }
 ],
 "metadata": {
  "kernelspec": {
   "display_name": "Python 3 (ipykernel)",
   "language": "python",
   "name": "python3"
  },
  "language_info": {
   "codemirror_mode": {
    "name": "ipython",
    "version": 3
   },
   "file_extension": ".py",
   "mimetype": "text/x-python",
   "name": "python",
   "nbconvert_exporter": "python",
   "pygments_lexer": "ipython3",
   "version": "3.10.12"
  }
 },
 "nbformat": 4,
 "nbformat_minor": 5
}
