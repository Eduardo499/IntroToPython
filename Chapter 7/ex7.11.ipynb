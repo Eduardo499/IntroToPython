{
 "cells": [
  {
   "cell_type": "raw",
   "id": "76cba040-b49f-4c6d-9545-7a035278cc7c",
   "metadata": {},
   "source": [
    "(Challenge Project: Tic-Tac-Toe with Player Against the Computer) Modify your script from the previous exercise so that the computer makes the moves for one of the players. Also, allow the player to specify whether he or she wants to go first or second."
   ]
  },
  {
   "cell_type": "code",
   "execution_count": 8,
   "id": "2a216fac-a362-4370-83b2-340bb63ce0e9",
   "metadata": {},
   "outputs": [
    {
     "name": "stdin",
     "output_type": "stream",
     "text": [
      "Choose your symbol (X or O):  X\n",
      "Do you want to go first? (yes or no):  yes\n"
     ]
    },
    {
     "name": "stdout",
     "output_type": "stream",
     "text": [
      "  |   |  \n",
      "  |   |  \n",
      "  |   |  \n",
      "-----\n"
     ]
    },
    {
     "name": "stdin",
     "output_type": "stream",
     "text": [
      "Enter the row (0, 1, 2):  0\n",
      "Enter the collum (0, 1, 2):  1\n"
     ]
    },
    {
     "name": "stdout",
     "output_type": "stream",
     "text": [
      "  | X |  \n",
      "  |   |  \n",
      "  |   |  \n",
      "-----\n",
      "O | X |  \n",
      "  |   |  \n",
      "  |   |  \n",
      "-----\n"
     ]
    },
    {
     "name": "stdin",
     "output_type": "stream",
     "text": [
      "Enter the row (0, 1, 2):  2\n",
      "Enter the collum (0, 1, 2):  1\n"
     ]
    },
    {
     "name": "stdout",
     "output_type": "stream",
     "text": [
      "O | X |  \n",
      "  |   |  \n",
      "  | X |  \n",
      "-----\n",
      "O | X |  \n",
      "O |   |  \n",
      "  | X |  \n",
      "-----\n"
     ]
    },
    {
     "name": "stdin",
     "output_type": "stream",
     "text": [
      "Enter the row (0, 1, 2):  2\n",
      "Enter the collum (0, 1, 2):  0\n"
     ]
    },
    {
     "name": "stdout",
     "output_type": "stream",
     "text": [
      "O | X |  \n",
      "O |   |  \n",
      "X | X |  \n",
      "-----\n",
      "O | X | O\n",
      "O |   |  \n",
      "X | X |  \n",
      "-----\n"
     ]
    },
    {
     "name": "stdin",
     "output_type": "stream",
     "text": [
      "Enter the row (0, 1, 2):  2\n",
      "Enter the collum (0, 1, 2):  2\n"
     ]
    },
    {
     "name": "stdout",
     "output_type": "stream",
     "text": [
      "O | X | O\n",
      "O |   |  \n",
      "X | X | X\n",
      "-----\n",
      "Congratulations! You win!\n"
     ]
    }
   ],
   "source": [
    "import numpy as np\n",
    "import random\n",
    "\n",
    "def print_board(board):\n",
    "    print(\"\\n\".join(\" | \".join(row) for row in board))\n",
    "\n",
    "def is_winner(board, player):\n",
    "    return any(\n",
    "        all(board[i, :] == player) or all(board[:, i] == player) for i in range(3)\n",
    "    ) or all(np.diag(board) == player) or all(np.diag(np.fliplr(board)) == player)\n",
    "\n",
    "def main():\n",
    "    board = np.full((3, 3), ' ')\n",
    "    player = input(\"Choose your symbol (X or O): \").upper()\n",
    "    while player not in ('X', 'O'):\n",
    "        player = input(\"Invalid choice. Choose X or O: \").upper()\n",
    "    computer = 'O' if player == 'X' else 'X'\n",
    "\n",
    "    turn = input(\"Do you want to go first? (yes or no): \").lower() == 'yes'\n",
    "\n",
    "    for _ in range(9):\n",
    "        print_board(board)\n",
    "        if turn:\n",
    "            try:\n",
    "                row = int(input('Enter the row (0, 1, 2): '))\n",
    "                col = int(input('Enter the collum (0, 1, 2): '))\n",
    "                if board[row, col] != ' ':\n",
    "                    print(\"Invalid move. Try again.\")\n",
    "                    continue\n",
    "                board[row, col] = player\n",
    "            except (ValueError, IndexError):\n",
    "                print(\"Invalid input. Try again.\")\n",
    "                continue\n",
    "        else:\n",
    "            row, col = random.choice(np.argwhere(board == ' '))\n",
    "            board[row, col] = computer\n",
    "\n",
    "        if is_winner(board, player):\n",
    "            print_board(board)\n",
    "            print(\"Congratulations! You win!\")\n",
    "            return\n",
    "        if is_winner(board, computer):\n",
    "            print_board(board)\n",
    "            print(\"Computer wins! Better luck next time.\")\n",
    "            return\n",
    "\n",
    "        turn = not turn\n",
    "\n",
    "    print_board(board)\n",
    "    print(\"It's a draw!\")\n",
    "\n",
    "if __name__ == \"__main__\":\n",
    "    main()\n"
   ]
  },
  {
   "cell_type": "code",
   "execution_count": null,
   "id": "7940dd14-afb0-486e-98ac-b04704f2018b",
   "metadata": {},
   "outputs": [],
   "source": []
  }
 ],
 "metadata": {
  "kernelspec": {
   "display_name": "Python 3 (ipykernel)",
   "language": "python",
   "name": "python3"
  },
  "language_info": {
   "codemirror_mode": {
    "name": "ipython",
    "version": 3
   },
   "file_extension": ".py",
   "mimetype": "text/x-python",
   "name": "python",
   "nbconvert_exporter": "python",
   "pygments_lexer": "ipython3",
   "version": "3.10.12"
  }
 },
 "nbformat": 4,
 "nbformat_minor": 5
}
