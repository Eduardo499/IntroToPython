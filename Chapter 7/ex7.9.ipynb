{
 "cells": [
  {
   "cell_type": "raw",
   "id": "0f581879-be6d-4c4d-9274-881916c75142",
   "metadata": {},
   "source": [
    "(Indexing and Slicing arrays) Create an array containing the values 1–15, reshape it into a 3-by-5 array, then use indexing and slicing techniques to perform each of the following operations: [implement operations (a) to (c) twice, once with positive indexing and once with negative indexing]:\n",
    "    a) Select row 2.\n",
    "    b) Select column 4.\n",
    "    c) Select columns 1–3.\n",
    "    d) Select the element that is in row 1 and column 4.\n",
    "    e) Select all elements from rows 1 and 2 that are in columns 0, 2, and 4."
   ]
  },
  {
   "cell_type": "code",
   "execution_count": 2,
   "id": "e1358571-0df8-4b2b-8be1-4d1207039aee",
   "metadata": {},
   "outputs": [
    {
     "data": {
      "text/plain": [
       "array([[ 1,  2,  3,  4,  5],\n",
       "       [ 6,  7,  8,  9, 10],\n",
       "       [11, 12, 13, 14, 15]])"
      ]
     },
     "execution_count": 2,
     "metadata": {},
     "output_type": "execute_result"
    }
   ],
   "source": [
    "import numpy as np\n",
    "\n",
    "array = np.arange(1, 16).reshape(3, 5)"
   ]
  },
  {
   "cell_type": "code",
   "execution_count": 4,
   "id": "07e6f8be-fb6b-4450-adf9-0791b8485aeb",
   "metadata": {},
   "outputs": [
    {
     "data": {
      "text/plain": [
       "array([ 6,  7,  8,  9, 10])"
      ]
     },
     "execution_count": 4,
     "metadata": {},
     "output_type": "execute_result"
    }
   ],
   "source": [
    "array[1]"
   ]
  },
  {
   "cell_type": "code",
   "execution_count": 9,
   "id": "a3dcc969-7d52-496f-b689-089ec4051439",
   "metadata": {},
   "outputs": [
    {
     "data": {
      "text/plain": [
       "array([ 4,  9, 14])"
      ]
     },
     "execution_count": 9,
     "metadata": {},
     "output_type": "execute_result"
    }
   ],
   "source": [
    "array[:,3]"
   ]
  },
  {
   "cell_type": "code",
   "execution_count": 12,
   "id": "2097d4bc-3630-490c-a392-4212d5b7577d",
   "metadata": {},
   "outputs": [
    {
     "data": {
      "text/plain": [
       "array([[ 1,  2,  3],\n",
       "       [ 6,  7,  8],\n",
       "       [11, 12, 13]])"
      ]
     },
     "execution_count": 12,
     "metadata": {},
     "output_type": "execute_result"
    }
   ],
   "source": [
    "array[:, [0, 1, 2]]"
   ]
  },
  {
   "cell_type": "code",
   "execution_count": 13,
   "id": "68a14bc1-7f98-4cf6-8fc5-490912ed0e18",
   "metadata": {},
   "outputs": [
    {
     "data": {
      "text/plain": [
       "4"
      ]
     },
     "execution_count": 13,
     "metadata": {},
     "output_type": "execute_result"
    }
   ],
   "source": [
    "array[0, 3]"
   ]
  },
  {
   "cell_type": "code",
   "execution_count": 15,
   "id": "d715177c-bba3-477f-b29f-1e3a4e637c1d",
   "metadata": {},
   "outputs": [
    {
     "data": {
      "text/plain": [
       "array([[ 1,  3,  5],\n",
       "       [ 6,  8, 10]])"
      ]
     },
     "execution_count": 15,
     "metadata": {},
     "output_type": "execute_result"
    }
   ],
   "source": [
    "array[0:2, [0, 2, 4]]"
   ]
  }
 ],
 "metadata": {
  "kernelspec": {
   "display_name": "Python 3 (ipykernel)",
   "language": "python",
   "name": "python3"
  },
  "language_info": {
   "codemirror_mode": {
    "name": "ipython",
    "version": 3
   },
   "file_extension": ".py",
   "mimetype": "text/x-python",
   "name": "python",
   "nbconvert_exporter": "python",
   "pygments_lexer": "ipython3",
   "version": "3.10.12"
  }
 },
 "nbformat": 4,
 "nbformat_minor": 5
}
