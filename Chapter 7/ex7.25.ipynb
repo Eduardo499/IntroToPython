{
 "cells": [
  {
   "cell_type": "raw",
   "id": "f3b8fd09-b36d-4d76-b0e6-f7d46f89ac38",
   "metadata": {},
   "source": [
    "(Knight’s Tour Project: Brute-Force Approaches) In Part (c) of the previous exercise, we developed a solution to the Knight’s Tour problem. The approach used, called the “accessibility heuristic,” generates many solutions and executes efficiently. As computers continue to increase in power, we’ll be able to solve more problems with sheer computer power and relatively unsophisticated algorithms. Let’s call this approach “brute-force” problem solving.\n",
    "\n",
    "a) Use random-number generation to enable the knight to walk around the chessboard (in its legitimate L-shaped moves) at random. Your script should run one tour and display the final chessboard. How far did the knight get\n",
    "b) Most likely, the script in Part (a) produced a relatively short tour. Now modify your script to attempt 1,000,000 tours. Use a one-dimensional array to keep track of the number of tours of each length. When your script finishes attempting the 1,000,000 tours, it should display this information in a neat tabular format. What was the best result\n",
    "c) Most likely, the script in Part (b) gave you some “respectable” tours, but no full tours. Now let your script run until it produces a full tour. [Caution: This version of the script could run for hours on a powerful computer.] Once again, keep a table of the number of tours of each length, and display this table when the first full tour is found. How many tours did your script attempt before producing a full tour? How much time did it take\n",
    "d) Compare the brute-force version of the Knight’s Tour with the accessibility-heuristic version. Which required a more careful study of the problem? Which algorithm was more challenging to develop? Which required more computer\n",
    "power? Could we be certain (in advance) of obtaining a full tour with the accessibility-heuristic approach? Could we be certain (in advance) of obtaining a full tour with the brute-force approach? Argue the pros and cons of brute-force problem-solving in general."
   ]
  },
  {
   "cell_type": "code",
   "execution_count": 3,
   "id": "77351636-02a0-49a8-aee5-66d23127c0b6",
   "metadata": {},
   "outputs": [
    {
     "name": "stdout",
     "output_type": "stream",
     "text": [
      "Final board:\n",
      "[[ 0  0  0  5  0  0  0  0]\n",
      " [ 0  0 15  0  0  4  0  0]\n",
      " [ 0  0  0  0  6  1 20  0]\n",
      " [ 0 14  0 16  3 18  0  0]\n",
      " [ 0  0 12  7  0 21  2 19]\n",
      " [13 28  0 26 17  8  0 22]\n",
      " [ 0 25 30 11  0 23 32  9]\n",
      " [29  0 27 24 31 10  0  0]]\n",
      "The horse performed 32 movements.\n"
     ]
    }
   ],
   "source": [
    "import numpy as np\n",
    "import random\n",
    "\n",
    "horizontal = [2, 1, -1, -2, -2, -1, 1, 2]\n",
    "vertical = [-1, -2, -2, -1, 1, 2, 2, 1]\n",
    "\n",
    "def is_valid_move(row, col, board):\n",
    "    return 0 <= row < 8 and 0 <= col < 8 and board[row, col] == 0\n",
    "\n",
    "def random_knights_tour():\n",
    "    board = np.zeros((8, 8), dtype=int)\n",
    "    current_row, current_col = random.randint(0, 7), random.randint(0, 7)\n",
    "    board[current_row, current_col] = 1\n",
    "    counter = 2\n",
    "\n",
    "    while True:\n",
    "        valid_moves = []\n",
    "        for move_number in range(8):\n",
    "            next_row = current_row + vertical[move_number]\n",
    "            next_col = current_col + horizontal[move_number]\n",
    "            if is_valid_move(next_row, next_col, board):\n",
    "                valid_moves.append((next_row, next_col))\n",
    "\n",
    "        if not valid_moves: \n",
    "            break\n",
    "\n",
    "        current_row, current_col = random.choice(valid_moves)\n",
    "        board[current_row, current_col] = counter\n",
    "        counter += 1\n",
    "\n",
    "    return board, counter - 1\n",
    "\n",
    "board, moves = random_knights_tour()\n",
    "print(\"Final board:\")\n",
    "print(board)\n",
    "print(f\"The horse performed {moves} movements.\")\n"
   ]
  },
  {
   "cell_type": "code",
   "execution_count": null,
   "id": "3bdb04b0-7e7e-42ee-b12b-bb63b7559f43",
   "metadata": {},
   "outputs": [],
   "source": [
    "import matplotlib.pyplot as plt\n",
    "\n",
    "def simulate_random_tours(num_tours=1000000):\n",
    "    lengths = [0] * 65 \n",
    "    for _ in range(num_tours):\n",
    "        _, moves = random_knights_tour()\n",
    "        lengths[moves] += 1\n",
    "\n",
    "    return lengths\n",
    "\n",
    "lengths = simulate_random_tours(1000000)\n",
    "\n",
    "print(\"Tour Length:\")\n",
    "print(\"Movements | Frequency\")\n",
    "for i, freq in enumerate(lengths):\n",
    "    if freq > 0:\n",
    "        print(f\"     {i:<8}  |  {freq}\")\n",
    "\n",
    "plt.bar(range(65), lengths)\n",
    "plt.xlabel(\"Number of Moves\")\n",
    "plt.ylabel(\"Frequency\")\n",
    "plt.title(\"Tour Length Distribution\")\n",
    "plt.show()\n"
   ]
  },
  {
   "cell_type": "code",
   "execution_count": null,
   "id": "aeee04a0-68fc-4fd6-b751-6ad04a559713",
   "metadata": {},
   "outputs": [],
   "source": [
    "import time\n",
    "\n",
    "def find_complete_tour():\n",
    "    lengths = [0] * 65\n",
    "    complete_tour_found = False\n",
    "    attempts = 0\n",
    "    start_time = time.time()\n",
    "\n",
    "    while not complete_tour_found:\n",
    "        _, moves = random_knights_tour()\n",
    "        lengths[moves] += 1\n",
    "        attempts += 1\n",
    "        if moves == 64:\n",
    "            complete_tour_found = True\n",
    "\n",
    "    end_time = time.time()\n",
    "    elapsed_time = end_time - start_time\n",
    "\n",
    "    print(\"Tour Length Chart:\")\n",
    "    print(\"Movements | Frequency\")\n",
    "    for i, freq in enumerate(lengths):\n",
    "        if freq > 0:\n",
    "            print(f\"     {i:<8}  |  {freq}\")\n",
    "\n",
    "    print(f\"Full tour found after {attempts} attempts.\")\n",
    "    print(f\"Total time: {elapsed_time:.2f} seconds.\")\n",
    "\n",
    "find_complete_tour()\n"
   ]
  },
  {
   "cell_type": "code",
   "execution_count": null,
   "id": "217f599d-99ca-4f02-95bc-e1f323a04f76",
   "metadata": {},
   "outputs": [],
   "source": []
  }
 ],
 "metadata": {
  "kernelspec": {
   "display_name": "Python 3 (ipykernel)",
   "language": "python",
   "name": "python3"
  },
  "language_info": {
   "codemirror_mode": {
    "name": "ipython",
    "version": 3
   },
   "file_extension": ".py",
   "mimetype": "text/x-python",
   "name": "python",
   "nbconvert_exporter": "python",
   "pygments_lexer": "ipython3",
   "version": "3.10.12"
  }
 },
 "nbformat": 4,
 "nbformat_minor": 5
}
