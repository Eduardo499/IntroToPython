{
 "cells": [
  {
   "cell_type": "raw",
   "id": "a1244090-50da-48e9-89df-87b58c42990d",
   "metadata": {},
   "source": [
    "(Flattening arrays with flatten vs. ravel) Using the array created in Exercise 7.4, first, flatten the array with the method flatten. Change the second element of the new array to 10. Compare the new and the original array. Second, flatten the array using the method ravel and perform the same comparison."
   ]
  },
  {
   "cell_type": "code",
   "execution_count": 6,
   "id": "2c07f8a3-2098-4641-aa16-949753ded745",
   "metadata": {},
   "outputs": [
    {
     "data": {
      "text/plain": [
       "array([[10,  8,  6,  4,  2,  0],\n",
       "       [ 0,  2,  4,  6,  8, 10]])"
      ]
     },
     "execution_count": 6,
     "metadata": {},
     "output_type": "execute_result"
    }
   ],
   "source": [
    "import numpy as np\n",
    "\n",
    "a = [[10, 8, 6, 4, 2, 0], [0, 2, 4, 6, 8, 10]]\n",
    "b = np.array(a)\n",
    "b"
   ]
  },
  {
   "cell_type": "code",
   "execution_count": 10,
   "id": "3975bffc-5de7-4ff4-b418-8aca420187ac",
   "metadata": {},
   "outputs": [
    {
     "name": "stdout",
     "output_type": "stream",
     "text": [
      "[10 10  6  4  2  0  0  2  4  6  8 10]\n",
      "[[10  8  6  4  2  0]\n",
      " [ 0  2  4  6  8 10]]\n"
     ]
    }
   ],
   "source": [
    "c = b.flatten()\n",
    "c[1] = 10\n",
    "print(c)\n",
    "print(b)"
   ]
  },
  {
   "cell_type": "code",
   "execution_count": 12,
   "id": "a88188f0-c849-41ff-9865-db12d98c2bd3",
   "metadata": {},
   "outputs": [
    {
     "name": "stdout",
     "output_type": "stream",
     "text": [
      "[10 10  6  4  2  0  0  2  4  6  8 10]\n",
      "[[10 10  6  4  2  0]\n",
      " [ 0  2  4  6  8 10]]\n"
     ]
    }
   ],
   "source": [
    "d = b.ravel()\n",
    "d[1] = 10\n",
    "print(d)\n",
    "print(b)"
   ]
  },
  {
   "cell_type": "code",
   "execution_count": null,
   "id": "b0bf27d8-4544-46aa-a67a-202c355987dc",
   "metadata": {},
   "outputs": [],
   "source": []
  }
 ],
 "metadata": {
  "kernelspec": {
   "display_name": "Python 3 (ipykernel)",
   "language": "python",
   "name": "python3"
  },
  "language_info": {
   "codemirror_mode": {
    "name": "ipython",
    "version": 3
   },
   "file_extension": ".py",
   "mimetype": "text/x-python",
   "name": "python",
   "nbconvert_exporter": "python",
   "pygments_lexer": "ipython3",
   "version": "3.10.12"
  }
 },
 "nbformat": 4,
 "nbformat_minor": 5
}
