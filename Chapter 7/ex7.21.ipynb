{
 "cells": [
  {
   "cell_type": "raw",
   "id": "1357fb4d-749b-47e7-875e-4f4cea469e26",
   "metadata": {},
   "source": [
    "(Shallow vs. Deep Copy) In this chapter, we discussed shallow vs. deep copies of arrays. A shallow copy can be made in several ways. Research the different ways to make a copy of a dictionary. Use the following dictionary\n",
    "    dictionary = {'Sophia': [97, 88]}\n",
    "implement two different methods to make a shallow copy of this dictionary. Then, modify the list stored in the original dictionary. Display all three dictionaries to see that they have the same contents. Next, use the copy module’s deepcopy function to create a deep copy of the dic- tionary. Modify the list stored in the original dictionary, then display both dictionaries to prove that each has its own data."
   ]
  },
  {
   "cell_type": "code",
   "execution_count": 2,
   "id": "b31858fe-4e54-4e2a-8d6e-84009a1b4e20",
   "metadata": {},
   "outputs": [
    {
     "name": "stdout",
     "output_type": "stream",
     "text": [
      "{'Sophia': [97, 88]}\n",
      "{'Sophia': [97, 88]}\n",
      "\n",
      "{'Sophia': [97, 88], 'Bob': [99, 83]}\n",
      "{'Sophia': [97, 88], 'Bob': [99, 83]}\n"
     ]
    }
   ],
   "source": [
    "dictionary = {'Sophia': [97, 88]}\n",
    "copy = dictionary\n",
    "\n",
    "print(dictionary)\n",
    "print(copy)\n",
    "\n",
    "print()\n",
    "\n",
    "copy['Bob'] = [99, 83]\n",
    "\n",
    "print(dictionary)\n",
    "print(copy)"
   ]
  },
  {
   "cell_type": "code",
   "execution_count": 3,
   "id": "be2dd8a4-09ec-469b-9a7e-810f1dc4b72d",
   "metadata": {},
   "outputs": [
    {
     "name": "stdout",
     "output_type": "stream",
     "text": [
      "{'Sophia': [97, 88]}\n",
      "{'Sophia': [97, 88]}\n",
      "\n",
      "{'Sophia': [97, 88]}\n",
      "{'Sophia': [97, 88], 'Bob': [99, 83]}\n"
     ]
    }
   ],
   "source": [
    "dictionary = {'Sophia': [97, 88]}\n",
    "copy = dictionary.copy()\n",
    "\n",
    "print(dictionary)\n",
    "print(copy)\n",
    "\n",
    "print()\n",
    "\n",
    "copy['Bob'] = [99, 83]\n",
    "\n",
    "print(dictionary)\n",
    "print(copy)"
   ]
  },
  {
   "cell_type": "code",
   "execution_count": null,
   "id": "494ee2c4-263e-4c5b-a06d-32e86d060a02",
   "metadata": {},
   "outputs": [],
   "source": []
  }
 ],
 "metadata": {
  "kernelspec": {
   "display_name": "Python 3 (ipykernel)",
   "language": "python",
   "name": "python3"
  },
  "language_info": {
   "codemirror_mode": {
    "name": "ipython",
    "version": 3
   },
   "file_extension": ".py",
   "mimetype": "text/x-python",
   "name": "python",
   "nbconvert_exporter": "python",
   "pygments_lexer": "ipython3",
   "version": "3.10.12"
  }
 },
 "nbformat": 4,
 "nbformat_minor": 5
}
