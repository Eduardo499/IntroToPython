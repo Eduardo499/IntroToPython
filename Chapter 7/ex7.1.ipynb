{
 "cells": [
  {
   "cell_type": "raw",
   "id": "7a4e828e-ab1b-4189-8a29-2cc40929a890",
   "metadata": {},
   "source": [
    "(Filling arrays) Fill a 2-by-3 array with ones, a 3-by-3 array with zeros and a 2-by-5 array with 7s."
   ]
  },
  {
   "cell_type": "code",
   "execution_count": 5,
   "id": "7ad107fc-11d4-4da8-9cad-b51ad391df16",
   "metadata": {},
   "outputs": [
    {
     "data": {
      "text/plain": [
       "array([[1., 1., 1.],\n",
       "       [1., 1., 1.]])"
      ]
     },
     "execution_count": 5,
     "metadata": {},
     "output_type": "execute_result"
    }
   ],
   "source": [
    "import numpy as np\n",
    "\n",
    "array1 = np.ones((2, 3))\n",
    "array1"
   ]
  },
  {
   "cell_type": "code",
   "execution_count": 8,
   "id": "e4392e45-7291-4215-9018-6366a1fbf901",
   "metadata": {},
   "outputs": [
    {
     "data": {
      "text/plain": [
       "array([[0., 0., 0.],\n",
       "       [0., 0., 0.],\n",
       "       [0., 0., 0.]])"
      ]
     },
     "execution_count": 8,
     "metadata": {},
     "output_type": "execute_result"
    }
   ],
   "source": [
    "array2 = np.zeros((3, 3))\n",
    "array2"
   ]
  },
  {
   "cell_type": "code",
   "execution_count": 11,
   "id": "120b8c33-7cfd-4462-b830-ddaa30b77cda",
   "metadata": {},
   "outputs": [
    {
     "data": {
      "text/plain": [
       "array([[7, 7, 7, 7, 7],\n",
       "       [7, 7, 7, 7, 7]])"
      ]
     },
     "execution_count": 11,
     "metadata": {},
     "output_type": "execute_result"
    }
   ],
   "source": [
    "array3 = np.full((2, 5), 7)\n",
    "array3"
   ]
  },
  {
   "cell_type": "code",
   "execution_count": null,
   "id": "95cd10e1-fa57-4707-906d-cf831c8a943c",
   "metadata": {},
   "outputs": [],
   "source": []
  }
 ],
 "metadata": {
  "kernelspec": {
   "display_name": "Python 3 (ipykernel)",
   "language": "python",
   "name": "python3"
  },
  "language_info": {
   "codemirror_mode": {
    "name": "ipython",
    "version": 3
   },
   "file_extension": ".py",
   "mimetype": "text/x-python",
   "name": "python",
   "nbconvert_exporter": "python",
   "pygments_lexer": "ipython3",
   "version": "3.10.12"
  }
 },
 "nbformat": 4,
 "nbformat_minor": 5
}
