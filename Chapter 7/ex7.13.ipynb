{
 "cells": [
  {
   "cell_type": "raw",
   "id": "43980748-268d-48c6-98da-7f009f759717",
   "metadata": {},
   "source": [
    "(Research and Use Other Broadcasting Capabilities) Research the NumPy broadcasting rules, then create your own arrays to test the rules"
   ]
  },
  {
   "cell_type": "code",
   "execution_count": 3,
   "id": "33f6f622-9a5b-4d73-a7e8-6b84aebe078b",
   "metadata": {},
   "outputs": [
    {
     "data": {
      "text/plain": [
       "array([[11, 22, 33],\n",
       "       [14, 25, 36]])"
      ]
     },
     "execution_count": 3,
     "metadata": {},
     "output_type": "execute_result"
    }
   ],
   "source": [
    "# If the arrays do not have the same number of dimensions, the smaller one is padded with extra dimensions on the left.\n",
    "array_1 = np.array([[1, 2, 3], [4, 5, 6]])  # Shape (2, 3)\n",
    "array_2 = np.array([10, 20, 30])            # Shape (3,)\n",
    "result_1 = array_1 + array_2\n",
    "result_1"
   ]
  },
  {
   "cell_type": "code",
   "execution_count": 5,
   "id": "69ca7d6c-3ad2-4f9f-af85-40e2d01f1119",
   "metadata": {},
   "outputs": [
    {
     "data": {
      "text/plain": [
       "array([[11, 21, 31],\n",
       "       [12, 22, 32],\n",
       "       [13, 23, 33]])"
      ]
     },
     "execution_count": 5,
     "metadata": {},
     "output_type": "execute_result"
    }
   ],
   "source": [
    "# Dimension sizes must be equal or one of them must be 1 to allow transmission.\n",
    "array_3 = np.array([[1], [2], [3]])  # Shape (3, 1)\n",
    "array_4 = np.array([10, 20, 30])    # Shape (3,)\n",
    "try:\n",
    "    result_2 = array_3 + array_4\n",
    "except ValueError as e:\n",
    "    result_2 = str(e)\n",
    "\n",
    "result_2"
   ]
  },
  {
   "cell_type": "code",
   "execution_count": 6,
   "id": "44b80dc0-2c5b-4c7d-9fae-fa7e26af00f9",
   "metadata": {},
   "outputs": [
    {
     "data": {
      "text/plain": [
       "array([[11, 12, 13],\n",
       "       [21, 22, 23]])"
      ]
     },
     "execution_count": 6,
     "metadata": {},
     "output_type": "execute_result"
    }
   ],
   "source": [
    "# Otherwise, a dimension mismatch error occurs.\n",
    "array_5 = np.array([1, 2, 3])    # Shape (3,)\n",
    "array_6 = np.array([[10], [20]]) # Shape (2, 1)\n",
    "result_3 = array_5 + array_6\n",
    "\n",
    "result_3"
   ]
  },
  {
   "cell_type": "code",
   "execution_count": null,
   "id": "b58e1c7e-a414-4539-ac17-e56eb2c23c0a",
   "metadata": {},
   "outputs": [],
   "source": []
  }
 ],
 "metadata": {
  "kernelspec": {
   "display_name": "Python 3 (ipykernel)",
   "language": "python",
   "name": "python3"
  },
  "language_info": {
   "codemirror_mode": {
    "name": "ipython",
    "version": 3
   },
   "file_extension": ".py",
   "mimetype": "text/x-python",
   "name": "python",
   "nbconvert_exporter": "python",
   "pygments_lexer": "ipython3",
   "version": "3.10.12"
  }
 },
 "nbformat": 4,
 "nbformat_minor": 5
}
