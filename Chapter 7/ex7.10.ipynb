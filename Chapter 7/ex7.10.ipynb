{
 "cells": [
  {
   "cell_type": "raw",
   "id": "92edf769-dc27-47c8-b7c0-9f0c48c0099b",
   "metadata": {},
   "source": [
    "(Project: Two-Player, Two-Dimensional Tic-Tac-Toe) Write a script to play two-dimensional Tic-Tac-Toe between two human players who alternate entering their moves on the same computer. Use a 3-by-3 two-dimensional array. Each player indicates their moves by entering a pair of numbers representing the row and column indices of the square in which they want to place their mark, either an 'X' or an 'O'. When the first player moves, place an 'X' in the specified square. When the second player moves, place an 'O' in the specified square. Each move must be to an empty square. After each move, determine whether the game has been won and whether it’s a draw."
   ]
  },
  {
   "cell_type": "code",
   "execution_count": 9,
   "id": "5869fade-ee48-4f95-89d5-9fc1f1ac21ff",
   "metadata": {},
   "outputs": [
    {
     "name": "stdout",
     "output_type": "stream",
     "text": [
      "  |   |  \n",
      "-----\n",
      "  |   |  \n",
      "-----\n",
      "  |   |  \n",
      "-----\n",
      "player X's turn:\n"
     ]
    },
    {
     "name": "stdin",
     "output_type": "stream",
     "text": [
      "enter the row (0, 1, 2):  1\n",
      "Enter the collum (0, 1, 2):  2\n"
     ]
    },
    {
     "name": "stdout",
     "output_type": "stream",
     "text": [
      "  |   |  \n",
      "-----\n",
      "  |   | X\n",
      "-----\n",
      "  |   |  \n",
      "-----\n",
      "player O's turn:\n"
     ]
    },
    {
     "name": "stdin",
     "output_type": "stream",
     "text": [
      "enter the row (0, 1, 2):  2\n",
      "Enter the collum (0, 1, 2):  2\n"
     ]
    },
    {
     "name": "stdout",
     "output_type": "stream",
     "text": [
      "  |   |  \n",
      "-----\n",
      "  |   | X\n",
      "-----\n",
      "  |   | O\n",
      "-----\n",
      "player X's turn:\n"
     ]
    },
    {
     "name": "stdin",
     "output_type": "stream",
     "text": [
      "enter the row (0, 1, 2):  2\n",
      "Enter the collum (0, 1, 2):  2\n"
     ]
    },
    {
     "name": "stdout",
     "output_type": "stream",
     "text": [
      "Invalid movement. Try again.\n",
      "  |   |  \n",
      "-----\n",
      "  |   | X\n",
      "-----\n",
      "  |   | O\n",
      "-----\n",
      "player X's turn:\n"
     ]
    },
    {
     "name": "stdin",
     "output_type": "stream",
     "text": [
      "enter the row (0, 1, 2):  1\n",
      "Enter the collum (0, 1, 2):  3\n"
     ]
    },
    {
     "name": "stdout",
     "output_type": "stream",
     "text": [
      "Invalid movement. Try again.\n",
      "  |   |  \n",
      "-----\n",
      "  |   | X\n",
      "-----\n",
      "  |   | O\n",
      "-----\n",
      "player X's turn:\n"
     ]
    },
    {
     "name": "stdin",
     "output_type": "stream",
     "text": [
      "enter the row (0, 1, 2):  1\n",
      "Enter the collum (0, 1, 2):  0\n"
     ]
    },
    {
     "name": "stdout",
     "output_type": "stream",
     "text": [
      "  |   |  \n",
      "-----\n",
      "X |   | X\n",
      "-----\n",
      "  |   | O\n",
      "-----\n",
      "player O's turn:\n"
     ]
    },
    {
     "name": "stdin",
     "output_type": "stream",
     "text": [
      "enter the row (0, 1, 2):  0\n",
      "Enter the collum (0, 1, 2):  1\n"
     ]
    },
    {
     "name": "stdout",
     "output_type": "stream",
     "text": [
      "  | O |  \n",
      "-----\n",
      "X |   | X\n",
      "-----\n",
      "  |   | O\n",
      "-----\n",
      "player X's turn:\n"
     ]
    },
    {
     "name": "stdin",
     "output_type": "stream",
     "text": [
      "enter the row (0, 1, 2):  2\n",
      "Enter the collum (0, 1, 2):  1\n"
     ]
    },
    {
     "name": "stdout",
     "output_type": "stream",
     "text": [
      "  | O |  \n",
      "-----\n",
      "X |   | X\n",
      "-----\n",
      "  | X | O\n",
      "-----\n",
      "player O's turn:\n"
     ]
    },
    {
     "name": "stdin",
     "output_type": "stream",
     "text": [
      "enter the row (0, 1, 2):  2\n",
      "Enter the collum (0, 1, 2):  0\n"
     ]
    },
    {
     "name": "stdout",
     "output_type": "stream",
     "text": [
      "  | O |  \n",
      "-----\n",
      "X |   | X\n",
      "-----\n",
      "O | X | O\n",
      "-----\n",
      "player X's turn:\n"
     ]
    },
    {
     "name": "stdin",
     "output_type": "stream",
     "text": [
      "enter the row (0, 1, 2):  0\n",
      "Enter the collum (0, 1, 2):  2\n"
     ]
    },
    {
     "name": "stdout",
     "output_type": "stream",
     "text": [
      "  | O | X\n",
      "-----\n",
      "X |   | X\n",
      "-----\n",
      "O | X | O\n",
      "-----\n",
      "player O's turn:\n"
     ]
    },
    {
     "name": "stdin",
     "output_type": "stream",
     "text": [
      "enter the row (0, 1, 2):  1\n",
      "Enter the collum (0, 1, 2):  1\n"
     ]
    },
    {
     "name": "stdout",
     "output_type": "stream",
     "text": [
      "  | O | X\n",
      "-----\n",
      "X | O | X\n",
      "-----\n",
      "O | X | O\n",
      "-----\n",
      "player X's turn:\n"
     ]
    },
    {
     "name": "stdin",
     "output_type": "stream",
     "text": [
      "enter the row (0, 1, 2):  0\n",
      "Enter the collum (0, 1, 2):  0\n"
     ]
    },
    {
     "name": "stdout",
     "output_type": "stream",
     "text": [
      "X | O | X\n",
      "-----\n",
      "X | O | X\n",
      "-----\n",
      "O | X | O\n",
      "-----\n",
      "Draw!\n"
     ]
    }
   ],
   "source": [
    "import numpy as np\n",
    "\n",
    "def display_board(board):\n",
    "    for row in board:\n",
    "        print(' | '.join(row))\n",
    "        print('-' * 5)\n",
    "\n",
    "def check_victory(board, player):\n",
    "    for i in range(3):\n",
    "        if np.all(board[i, :] == player):\n",
    "            return True\n",
    "        if np.all(board[:, i] == player):\n",
    "            return True\n",
    "            \n",
    "    if np.all(np.diag(board) == player):\n",
    "        return True\n",
    "    if np.all(np.diag(np.fliplr(board)) == player):\n",
    "        return True\n",
    "        \n",
    "    return False\n",
    "\n",
    "def check_draw(board):\n",
    "    return np.all(board != ' ')\n",
    "\n",
    "def tic_tac_toe():\n",
    "    board = np.full((3, 3), ' ')\n",
    "\n",
    "    players = ['X', 'O']\n",
    "    turn = 0\n",
    "\n",
    "    while True:\n",
    "        display_board(board)\n",
    "\n",
    "        print(f\"player {players[turn]}'s turn:\")\n",
    "        row = int(input(\"enter the row (0, 1, 2): \"))\n",
    "        collum = int(input(\"Enter the collum (0, 1, 2): \"))\n",
    "\n",
    "        if row < 0 or row > 2 or collum < 0 or collum > 2 or board[row, collum] != ' ':\n",
    "            print(\"Invalid movement. Try again.\")\n",
    "            continue\n",
    "\n",
    "        board[row, collum] = players[turn]\n",
    "\n",
    "        if check_victory(board, players[turn]):\n",
    "            display_board(board)\n",
    "            print(f\"Player {players[turn]} won!\")\n",
    "            break\n",
    "\n",
    "        if check_draw(board):\n",
    "            display_board(board)\n",
    "            print('Draw!')\n",
    "            break\n",
    "\n",
    "        turn = 1 - turn\n",
    "\n",
    "if __name__ == '__main__':\n",
    "    tic_tac_toe()\n"
   ]
  },
  {
   "cell_type": "code",
   "execution_count": null,
   "id": "427b3f19-bf15-48be-b14d-b753958d1adb",
   "metadata": {},
   "outputs": [],
   "source": []
  }
 ],
 "metadata": {
  "kernelspec": {
   "display_name": "Python 3 (ipykernel)",
   "language": "python",
   "name": "python3"
  },
  "language_info": {
   "codemirror_mode": {
    "name": "ipython",
    "version": 3
   },
   "file_extension": ".py",
   "mimetype": "text/x-python",
   "name": "python",
   "nbconvert_exporter": "python",
   "pygments_lexer": "ipython3",
   "version": "3.10.12"
  }
 },
 "nbformat": 4,
 "nbformat_minor": 5
}
