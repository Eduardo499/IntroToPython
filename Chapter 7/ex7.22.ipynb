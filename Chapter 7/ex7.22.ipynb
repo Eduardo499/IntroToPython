{
 "cells": [
  {
   "cell_type": "raw",
   "id": "6b4a6147-7bda-4114-a054-626297e5206d",
   "metadata": {},
   "source": [
    "(Pandas: Series) Perform the following tasks with pandas Series:\n",
    "a) Create a Series from the list [7, 11, 13, 17].\n",
    "b) Create a Series with five elements that are all 100.0.\n",
    "c) Create a Series with 20 elements that are all random numbers in the range 0 to 100. Use method describe to produce the Series’ basic descriptive statistics.\n",
    "d) Create a Series called temperatures of the floating-point values 98.6, 98.9, 100.2 and 97.9. Using the index keyword argument, specify the custom indices 'Julie', 'Charlie', 'Sam' and 'Andrea'.\n",
    "e) Form a dictionary from the names and values in Part (d), then use it to initialize a Series."
   ]
  },
  {
   "cell_type": "code",
   "execution_count": 4,
   "id": "4985192b-cd44-4290-a1df-ae103bf97886",
   "metadata": {},
   "outputs": [
    {
     "name": "stdout",
     "output_type": "stream",
     "text": [
      "0     7\n",
      "1    11\n",
      "2    13\n",
      "3    17\n",
      "dtype: int64\n"
     ]
    }
   ],
   "source": [
    "import pandas as pd\n",
    "from random import randint\n",
    "\n",
    "a = [7, 11, 13, 17]\n",
    "\n",
    "series = pd.Series(a)\n",
    "\n",
    "print(series)"
   ]
  },
  {
   "cell_type": "code",
   "execution_count": 2,
   "id": "fe6dd5f1-012d-45e7-b7ae-0d3923cec42a",
   "metadata": {},
   "outputs": [
    {
     "name": "stdout",
     "output_type": "stream",
     "text": [
      "0    100\n",
      "1    100\n",
      "2    100\n",
      "3    100\n",
      "4    100\n",
      "dtype: int64\n"
     ]
    }
   ],
   "source": [
    "b = [100, 100, 100, 100, 100]\n",
    "\n",
    "series = pd.Series(b)\n",
    "\n",
    "print(series)"
   ]
  },
  {
   "cell_type": "code",
   "execution_count": 14,
   "id": "9180c85d-4d70-4bf7-9e4c-d5f53b695ec6",
   "metadata": {},
   "outputs": [
    {
     "name": "stdout",
     "output_type": "stream",
     "text": [
      "count    20.000000\n",
      "mean     55.100000\n",
      "std      29.894375\n",
      "min       4.000000\n",
      "25%      35.500000\n",
      "50%      55.000000\n",
      "75%      83.250000\n",
      "max      99.000000\n",
      "dtype: float64\n"
     ]
    }
   ],
   "source": [
    "c = [randint(0, 100) for _ in range(20)]\n",
    "\n",
    "series = pd.Series(c)\n",
    "\n",
    "print(series.describe())"
   ]
  },
  {
   "cell_type": "code",
   "execution_count": 15,
   "id": "30382746-ef53-46e0-aa72-fdf77a42dc3f",
   "metadata": {},
   "outputs": [
    {
     "name": "stdout",
     "output_type": "stream",
     "text": [
      "Julie       98.6\n",
      "Charlie     98.9\n",
      "Sam        100.2\n",
      "Andrea      97.9\n",
      "dtype: float64\n"
     ]
    }
   ],
   "source": [
    "dictionary = {'Julie': 98.6, 'Charlie': 98.9, 'Sam': 100.2, 'Andrea': 97.9}\n",
    "\n",
    "temperatures = pd.Series(dictionary)\n",
    "\n",
    "print(temperatures)"
   ]
  },
  {
   "cell_type": "code",
   "execution_count": null,
   "id": "c862b31f-47d1-4b2b-9ce2-6cf09f32cce1",
   "metadata": {},
   "outputs": [],
   "source": []
  }
 ],
 "metadata": {
  "kernelspec": {
   "display_name": "Python 3 (ipykernel)",
   "language": "python",
   "name": "python3"
  },
  "language_info": {
   "codemirror_mode": {
    "name": "ipython",
    "version": 3
   },
   "file_extension": ".py",
   "mimetype": "text/x-python",
   "name": "python",
   "nbconvert_exporter": "python",
   "pygments_lexer": "ipython3",
   "version": "3.10.12"
  }
 },
 "nbformat": 4,
 "nbformat_minor": 5
}
