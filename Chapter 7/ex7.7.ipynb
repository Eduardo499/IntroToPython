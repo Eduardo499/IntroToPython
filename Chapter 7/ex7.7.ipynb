{
 "cells": [
  {
   "cell_type": "raw",
   "id": "f21e4a2c-bd13-4850-a880-f4b34731568f",
   "metadata": {},
   "source": [
    "(Challenge Project: Reimplement NumPy array Output) You saw that NumPy outputs two-dimensional arrays in a nice column-based format that right-aligns every element in a field width. The field width’s size is determined by the array element value that requires the most character positions to display. To understand how powerful it is to have this formatting simply built-in, write a function that reimplements NumPy’s array formatting for two-dimensional arrays using loops. Assume the array contains only positive integer values."
   ]
  },
  {
   "cell_type": "code",
   "execution_count": 3,
   "id": "a29f948d-e4c4-4da4-b072-fc1f9ae6ce48",
   "metadata": {},
   "outputs": [
    {
     "name": "stdout",
     "output_type": "stream",
     "text": [
      "   1   23  456\n",
      "7890   12    3\n",
      "  45    6   78\n"
     ]
    }
   ],
   "source": [
    "def format_array(array):\n",
    "    max_width = max(len(str(element)) for row in array for element in row)\n",
    "\n",
    "    formatted_rows = []\n",
    "    for row in array:\n",
    "        formatted_row = \" \".join(f\"{element:>{max_width}}\" for element in row)\n",
    "        formatted_rows.append(formatted_row)\n",
    "\n",
    "    return \"\\n\".join(formatted_rows)\n",
    "\n",
    "array = [\n",
    "    [1, 23, 456],\n",
    "    [7890, 12, 3],\n",
    "    [45, 6, 78]\n",
    "]\n",
    "\n",
    "formatted_array = format_array(array)\n",
    "print(formatted_array)"
   ]
  },
  {
   "cell_type": "code",
   "execution_count": null,
   "id": "2fd18ab1-2e40-4b6b-a745-ab2a9d460342",
   "metadata": {},
   "outputs": [],
   "source": []
  }
 ],
 "metadata": {
  "kernelspec": {
   "display_name": "Python 3 (ipykernel)",
   "language": "python",
   "name": "python3"
  },
  "language_info": {
   "codemirror_mode": {
    "name": "ipython",
    "version": 3
   },
   "file_extension": ".py",
   "mimetype": "text/x-python",
   "name": "python",
   "nbconvert_exporter": "python",
   "pygments_lexer": "ipython3",
   "version": "3.10.12"
  }
 },
 "nbformat": 4,
 "nbformat_minor": 5
}
