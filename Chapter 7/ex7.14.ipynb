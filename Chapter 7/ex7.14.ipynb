{
 "cells": [
  {
   "cell_type": "raw",
   "id": "368734a7-926b-4c88-a43d-334dcd723f2a",
   "metadata": {},
   "source": [
    "(Horizontal and Vertical Stacking and Splitting) Create the following arrays:\n",
    "\n",
    "array1 = np.array([[0, 2], [4, 6]])\n",
    "array2 = np.array([[1, 3], [5, 7]])"
   ]
  },
  {
   "cell_type": "code",
   "execution_count": 3,
   "id": "5b49ffa3-f6d0-4b20-a54a-3939bf24177a",
   "metadata": {},
   "outputs": [],
   "source": [
    "import numpy as np\n",
    "\n",
    "array1 = np.array([[0, 2], [4, 6]])\n",
    "array2 = np.array([[1, 3], [5, 7]])"
   ]
  },
  {
   "cell_type": "code",
   "execution_count": 14,
   "id": "857ca8f2-4b9c-4774-a8bf-2ce38d8805f5",
   "metadata": {},
   "outputs": [
    {
     "name": "stdout",
     "output_type": "stream",
     "text": [
      "[[0 2 1 3]\n",
      " [4 6 5 7]]\n"
     ]
    }
   ],
   "source": [
    "# a) Use horizontal stacking to create array3 with array2 to the right of array1.\n",
    "\n",
    "array3 = np.hstack((array1, array2))\n",
    "print(array3)"
   ]
  },
  {
   "cell_type": "code",
   "execution_count": 15,
   "id": "df5ed982-7913-48a0-8eab-86ce6c8b63e4",
   "metadata": {},
   "outputs": [
    {
     "name": "stdout",
     "output_type": "stream",
     "text": [
      "[[0 2 1 3]]\n",
      "[[4 6 5 7]]\n"
     ]
    }
   ],
   "source": [
    "# b) Use vertical splitting to create array4 and array5, with array4 containing the top row of array3 and array5 containing the bottom row.\n",
    "\n",
    "array4, array5 = np.vsplit(array3, 2)\n",
    "print(array4)\n",
    "print(array5)"
   ]
  },
  {
   "cell_type": "code",
   "execution_count": 18,
   "id": "02a52842-85b6-4222-af37-472de179c104",
   "metadata": {},
   "outputs": [
    {
     "name": "stdout",
     "output_type": "stream",
     "text": [
      "[[0 1 2 3 4 5 6 7]]\n"
     ]
    }
   ],
   "source": [
    "# c) Sort both array4 and array5 and use horizontal stacking for both sorted arrays to create array6.\n",
    "\n",
    "array4_sorted = np.sort(array4, axis=1)\n",
    "array5_sorted = np.sort(array5, axis=1)\n",
    "array6 = np.hstack((array4_sorted, array5_sorted))\n",
    "print(array6)"
   ]
  },
  {
   "cell_type": "code",
   "execution_count": 20,
   "id": "312a610a-37ff-49c4-af1c-5c17de6b8b3d",
   "metadata": {},
   "outputs": [
    {
     "name": "stdout",
     "output_type": "stream",
     "text": [
      "[[ 0  1  2  3  4  5  6  7]\n",
      " [ 0 10 20 30 40 50 60 70]]\n"
     ]
    }
   ],
   "source": [
    "# d) Use vertical stacking to create array7 stacking array6 and the product of array6 with 10.\n",
    "\n",
    "array7 = np.vstack((array6, array6 * 10))\n",
    "print(array7)"
   ]
  },
  {
   "cell_type": "code",
   "execution_count": null,
   "id": "7dd3b0b6-3d20-4ab2-aa77-858e817ac6bf",
   "metadata": {},
   "outputs": [],
   "source": []
  }
 ],
 "metadata": {
  "kernelspec": {
   "display_name": "Python 3 (ipykernel)",
   "language": "python",
   "name": "python3"
  },
  "language_info": {
   "codemirror_mode": {
    "name": "ipython",
    "version": 3
   },
   "file_extension": ".py",
   "mimetype": "text/x-python",
   "name": "python",
   "nbconvert_exporter": "python",
   "pygments_lexer": "ipython3",
   "version": "3.10.12"
  }
 },
 "nbformat": 4,
 "nbformat_minor": 5
}
