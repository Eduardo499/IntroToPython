{
 "cells": [
  {
   "cell_type": "raw",
   "id": "e8e936a6-7f87-4e24-af18-91c17ce3de0e",
   "metadata": {},
   "source": [
    "(Research and Use NumPy’s concatenate Function) Research NumPy function concatenate, then use it to reimplement parts (a), (c), and (d) from the previous exercise."
   ]
  },
  {
   "cell_type": "code",
   "execution_count": 2,
   "id": "e6d66017-bbbe-4545-9b69-18ff717dcacc",
   "metadata": {},
   "outputs": [],
   "source": [
    "import numpy as np\n",
    "\n",
    "array1 = np.array([[0, 2], [4, 6]])\n",
    "array2 = np.array([[1, 3], [5, 7]])"
   ]
  },
  {
   "cell_type": "code",
   "execution_count": 3,
   "id": "6681873d-d225-4137-943d-9101d3262917",
   "metadata": {},
   "outputs": [
    {
     "name": "stdout",
     "output_type": "stream",
     "text": [
      "[[0 2]\n",
      " [4 6]\n",
      " [1 3]\n",
      " [5 7]]\n"
     ]
    }
   ],
   "source": [
    "#A\n",
    "\n",
    "array3 = np.concatenate((array1, array2))\n",
    "print(array3)"
   ]
  },
  {
   "cell_type": "code",
   "execution_count": 4,
   "id": "72d0cd44-465e-4d64-acc5-17a61bcad043",
   "metadata": {},
   "outputs": [
    {
     "name": "stdout",
     "output_type": "stream",
     "text": [
      "[[0 2]\n",
      " [4 6]]\n",
      "[[1 3]\n",
      " [5 7]]\n"
     ]
    }
   ],
   "source": [
    "array4, array5 = np.vsplit(array3, 2)\n",
    "print(array4)\n",
    "print(array5)"
   ]
  },
  {
   "cell_type": "code",
   "execution_count": 5,
   "id": "735e78bb-b375-4c36-a4c4-14e702e009b5",
   "metadata": {},
   "outputs": [
    {
     "name": "stdout",
     "output_type": "stream",
     "text": [
      "[[0 2]\n",
      " [4 6]\n",
      " [1 3]\n",
      " [5 7]]\n"
     ]
    }
   ],
   "source": [
    "#C\n",
    "\n",
    "array4_sorted = np.sort(array4, axis=1)\n",
    "array5_sorted = np.sort(array5, axis=1)\n",
    "array6 = np.concatenate((array4_sorted, array5_sorted))\n",
    "print(array6)"
   ]
  },
  {
   "cell_type": "code",
   "execution_count": 6,
   "id": "5865de8b-8739-474b-b47b-cdcad3285602",
   "metadata": {},
   "outputs": [
    {
     "name": "stdout",
     "output_type": "stream",
     "text": [
      "[[ 0  2]\n",
      " [ 4  6]\n",
      " [ 1  3]\n",
      " [ 5  7]\n",
      " [ 0 20]\n",
      " [40 60]\n",
      " [10 30]\n",
      " [50 70]]\n"
     ]
    }
   ],
   "source": [
    "#D\n",
    "\n",
    "array7 = np.concatenate((array6, array6 * 10))\n",
    "print(array7)"
   ]
  },
  {
   "cell_type": "code",
   "execution_count": null,
   "id": "9cfa8a40-f412-46ab-82fc-e591d2f4385b",
   "metadata": {},
   "outputs": [],
   "source": []
  }
 ],
 "metadata": {
  "kernelspec": {
   "display_name": "Python 3 (ipykernel)",
   "language": "python",
   "name": "python3"
  },
  "language_info": {
   "codemirror_mode": {
    "name": "ipython",
    "version": 3
   },
   "file_extension": ".py",
   "mimetype": "text/x-python",
   "name": "python",
   "nbconvert_exporter": "python",
   "pygments_lexer": "ipython3",
   "version": "3.10.12"
  }
 },
 "nbformat": 4,
 "nbformat_minor": 5
}
