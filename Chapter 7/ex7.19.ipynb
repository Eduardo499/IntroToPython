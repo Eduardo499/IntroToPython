{
 "cells": [
  {
   "cell_type": "raw",
   "id": "22e26bba-c03c-46ee-a5fa-b3819c004dbf",
   "metadata": {},
   "source": [
    "(Enhanced Median and Mode of an array) Modify your functions from the previous exercise to allow the user to provide an axis keyword argument so the calculations can be performed row-by-row or column-by-column on a two-dimensional array."
   ]
  },
  {
   "cell_type": "code",
   "execution_count": null,
   "id": "1fc255df-6b4b-4ca4-a3fc-fad8ba69f57b",
   "metadata": {},
   "outputs": [],
   "source": [
    "import numpy as np\n",
    "\n",
    "def median(arr, axis=None):\n",
    "    return np.median(arr, axis=axis)\n",
    "\n",
    "def mode(arr, axis=None):\n",
    "    if axis is None:\n",
    "        # Flatten the array if no axis is specified\n",
    "        arr = arr.flatten()\n",
    "    values, counts = np.unique(arr, return_counts=True)\n",
    "    index_max = np.argmax(counts)\n",
    "    return values[index_max]\n",
    "\n",
    "# Example 1D, 2D, and 3D arrays\n",
    "matrix_1d = np.array([1, 2, 2, 3, 4, 5, 2, 3, 3, 3])\n",
    "matrix_2d = np.array([[1, 2, 3], [4, 5, 6]])\n",
    "matrix_3d = np.array([[[1, 2], [3, 4]], [[5, 6], [7, 8]]])\n",
    "\n",
    "# Median and mode calculations for 1D array (no axis needed)\n",
    "median_1d = median(matrix_1d)\n",
    "mode_1d = mode(matrix_1d)\n",
    "\n",
    "print(\"1D Array:\")\n",
    "print(f\"Median: {median_1d}, Mode: {mode_1d}\")\n",
    "\n",
    "# Median and mode calculations for 2D array\n",
    "median_2d_row = median(matrix_2d, axis=1)  # Row-wise median\n",
    "mode_2d_row = mode(matrix_2d, axis=1)  # Row-wise mode\n",
    "\n",
    "median_2d_column = median(matrix_2d, axis=0)  # Column-wise median\n",
    "mode_2d_column = mode(matrix_2d, axis=0)  # Column-wise mode\n",
    "\n",
    "print(\"\\n2D Array:\")\n",
    "print(f\"Row-wise Median: {median_2d_row}, Row-wise Mode: {mode_2d_row}\")\n",
    "print(f\"Column-wise Median: {median_2d_column}, Column-wise Mode: {mode_2d_column}\")\n",
    "\n",
    "# Median and mode calculations for 3D array\n",
    "median_3d = median(matrix_3d, axis=None)  # Median across all elements\n",
    "mode_3d = mode(matrix_3d, axis=None)  # Mode across all elements\n",
    "\n",
    "print(\"\\n3D Array:\")\n",
    "print(f\"Median (all elements): {median_3d}, Mode (all elements): {mode_3d}\")\n"
   ]
  }
 ],
 "metadata": {
  "kernelspec": {
   "display_name": "Python 3 (ipykernel)",
   "language": "python",
   "name": "python3"
  },
  "language_info": {
   "codemirror_mode": {
    "name": "ipython",
    "version": 3
   },
   "file_extension": ".py",
   "mimetype": "text/x-python",
   "name": "python",
   "nbconvert_exporter": "python",
   "pygments_lexer": "ipython3",
   "version": "3.10.12"
  }
 },
 "nbformat": 4,
 "nbformat_minor": 5
}
