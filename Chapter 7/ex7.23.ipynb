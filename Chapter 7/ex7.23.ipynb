{
 "cells": [
  {
   "cell_type": "raw",
   "id": "0cdb08d0-276e-4068-b5b1-71f2e316f2a4",
   "metadata": {},
   "source": [
    "(Pandas: DataFrames) Perform the following tasks with pandas DataFrames:\n",
    "a) Create a DataFrame named temperatures from a dictionary of three temperature readings each for 'Maxine', 'James' and 'Amanda'.\n",
    "b) Recreate the DataFrame temperatures in Part (a) with custom indices using the index keyword argument and a list containing 'Morning', 'Afternoon' and 'Evening'.\n",
    "c) Select from temperatures the column of temperature readings for 'Maxine'.\n",
    "d) Select from temperatures the row of 'Morning' temperature readings.\n",
    "e) Select from temperatures the rows for 'Morning' and 'Evening' temperature readings.\n",
    "f) Select from temperatures the columns of temperature readings for 'Amanda' and 'Maxine'.\n",
    "g) Select from temperatures the elements for 'Amanda' and 'Maxine' in the 'Morning' and 'Afternoon'.\n",
    "h) Use the describe method to produce temperatures’ descriptive statistics.\n",
    "i) Transpose temperatures.\n",
    "j) Sort temperatures so that its column names are in alphabetical order."
   ]
  },
  {
   "cell_type": "code",
   "execution_count": 3,
   "id": "11fb9efb-1e2f-4464-bf2e-a75c1cf8ca60",
   "metadata": {},
   "outputs": [
    {
     "name": "stdout",
     "output_type": "stream",
     "text": [
      "   Maxine  James  Amanda\n",
      "0   100.2   99.8    97.6\n",
      "1    95.4   99.3    95.4\n",
      "2    93.7   99.4    93.2\n"
     ]
    }
   ],
   "source": [
    "import pandas as pd\n",
    "\n",
    "temperatures = {'Maxine': [100.2, 95.4, 93.7], 'James': [99.8, 99.3, 99.4], 'Amanda': [97.6, 95.4, 93.2]}\n",
    "\n",
    "df = pd.DataFrame(a)\n",
    "\n",
    "print(df)"
   ]
  },
  {
   "cell_type": "code",
   "execution_count": 5,
   "id": "1cbdd494-2a3b-4cd4-ac31-b6bbc2076cae",
   "metadata": {},
   "outputs": [
    {
     "name": "stdout",
     "output_type": "stream",
     "text": [
      "           Maxine  James  Amanda\n",
      "Morning     100.2   99.8    97.6\n",
      "Afternoon    95.4   99.3    95.4\n",
      "Evening      93.7   99.4    93.2\n"
     ]
    }
   ],
   "source": [
    "df.index = ['Morning', 'Afternoon', 'Evening']\n",
    "\n",
    "print(df)"
   ]
  },
  {
   "cell_type": "code",
   "execution_count": 9,
   "id": "93a6e9e4-2c92-4114-b52d-331f388284dc",
   "metadata": {},
   "outputs": [
    {
     "name": "stdout",
     "output_type": "stream",
     "text": [
      "Morning      100.2\n",
      "Afternoon     95.4\n",
      "Evening       93.7\n",
      "Name: Maxine, dtype: float64\n"
     ]
    }
   ],
   "source": [
    "print(df['Maxine'])"
   ]
  },
  {
   "cell_type": "code",
   "execution_count": 16,
   "id": "b43128b7-6a46-4230-a187-0c88a171a8b0",
   "metadata": {},
   "outputs": [
    {
     "name": "stdout",
     "output_type": "stream",
     "text": [
      "         Maxine  James  Amanda\n",
      "Morning   100.2   99.8    97.6\n"
     ]
    }
   ],
   "source": [
    "print(df.loc[['Morning']])"
   ]
  },
  {
   "cell_type": "code",
   "execution_count": 18,
   "id": "15f00a78-163b-41e3-83e9-07e11dd527a2",
   "metadata": {},
   "outputs": [
    {
     "name": "stdout",
     "output_type": "stream",
     "text": [
      "         Maxine  James  Amanda\n",
      "Morning   100.2   99.8    97.6\n",
      "Evening    93.7   99.4    93.2\n"
     ]
    }
   ],
   "source": [
    "print(df.loc[['Morning', 'Evening']])"
   ]
  },
  {
   "cell_type": "code",
   "execution_count": 20,
   "id": "ccef38c7-30c1-46bc-bded-fe1f43dbbc0e",
   "metadata": {},
   "outputs": [
    {
     "name": "stdout",
     "output_type": "stream",
     "text": [
      "           Amanda  Maxine\n",
      "Morning      97.6   100.2\n",
      "Afternoon    95.4    95.4\n",
      "Evening      93.2    93.7\n"
     ]
    }
   ],
   "source": [
    "print(df[['Amanda', 'Maxine']])"
   ]
  },
  {
   "cell_type": "code",
   "execution_count": 22,
   "id": "437b7be9-e0bf-477c-9844-54ecd3fa2a68",
   "metadata": {},
   "outputs": [
    {
     "name": "stdout",
     "output_type": "stream",
     "text": [
      "           Amanda  Maxine\n",
      "Morning      97.6   100.2\n",
      "Afternoon    95.4    95.4\n"
     ]
    }
   ],
   "source": [
    "print(df.loc[['Morning', 'Afternoon']][['Amanda', 'Maxine']])"
   ]
  },
  {
   "cell_type": "code",
   "execution_count": 23,
   "id": "8b6c4434-4a46-4527-9a18-5488935b0ea1",
   "metadata": {},
   "outputs": [
    {
     "name": "stdout",
     "output_type": "stream",
     "text": [
      "           Maxine      James  Amanda\n",
      "count    3.000000   3.000000     3.0\n",
      "mean    96.433333  99.500000    95.4\n",
      "std      3.370954   0.264575     2.2\n",
      "min     93.700000  99.300000    93.2\n",
      "25%     94.550000  99.350000    94.3\n",
      "50%     95.400000  99.400000    95.4\n",
      "75%     97.800000  99.600000    96.5\n",
      "max    100.200000  99.800000    97.6\n"
     ]
    }
   ],
   "source": [
    "print(df.describe())"
   ]
  },
  {
   "cell_type": "code",
   "execution_count": 24,
   "id": "62bd892c-3899-441a-8c95-07213dc69e31",
   "metadata": {},
   "outputs": [
    {
     "name": "stdout",
     "output_type": "stream",
     "text": [
      "        Morning  Afternoon  Evening\n",
      "Maxine    100.2       95.4     93.7\n",
      "James      99.8       99.3     99.4\n",
      "Amanda     97.6       95.4     93.2\n"
     ]
    }
   ],
   "source": [
    "print(df.T)"
   ]
  },
  {
   "cell_type": "code",
   "execution_count": 27,
   "id": "9292b9f4-f116-4215-a4f4-f54e6332c54f",
   "metadata": {},
   "outputs": [
    {
     "name": "stdout",
     "output_type": "stream",
     "text": [
      "           Amanda  James  Maxine\n",
      "Morning      97.6   99.8   100.2\n",
      "Afternoon    95.4   99.3    95.4\n",
      "Evening      93.2   99.4    93.7\n"
     ]
    }
   ],
   "source": [
    "print(df.sort_index(axis=1))"
   ]
  },
  {
   "cell_type": "code",
   "execution_count": null,
   "id": "1ed9e2cb-d7b4-4073-96c5-de2579ed21b9",
   "metadata": {},
   "outputs": [],
   "source": []
  }
 ],
 "metadata": {
  "kernelspec": {
   "display_name": "Python 3 (ipykernel)",
   "language": "python",
   "name": "python3"
  },
  "language_info": {
   "codemirror_mode": {
    "name": "ipython",
    "version": 3
   },
   "file_extension": ".py",
   "mimetype": "text/x-python",
   "name": "python",
   "nbconvert_exporter": "python",
   "pygments_lexer": "ipython3",
   "version": "3.10.12"
  }
 },
 "nbformat": 4,
 "nbformat_minor": 5
}
