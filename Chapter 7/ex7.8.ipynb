{
 "cells": [
  {
   "cell_type": "raw",
   "id": "38693ee3-f3f2-487b-99b9-6b4ba73d7e40",
   "metadata": {},
   "source": [
    "(Challenge Project: Reimplement DataFrame Output) You saw that pandas displays DataFrames in an attractive column-based format with row and column labels. The values within each column are right aligned in the same field width, which is determined by that column’s widest value. To understand how powerful it is to have this formatting built-in, write a function that reimplements DataFrame formatting using loops. Assume the DataFrame contains only positive integer values and that both the row and column labels are each integer values beginning at 0."
   ]
  },
  {
   "cell_type": "code",
   "execution_count": 3,
   "id": "b37333fa-a508-44e3-ac7e-c7dbd3a59d33",
   "metadata": {},
   "outputs": [
    {
     "name": "stdout",
     "output_type": "stream",
     "text": [
      "   0  1   2\n",
      "0    1 23 456\n",
      "1 7890 12   3\n",
      "2   45  6  78\n"
     ]
    }
   ],
   "source": [
    "def format_dataframe(data):\n",
    "    num_cols = len(data[0])\n",
    "    max_widths = [max(len(str(row[i])) for row in data) for i in range(num_cols)]\n",
    "    max_widths = [max(max_widths[i], len(str(i))) for i in range(num_cols)]\n",
    "\n",
    "    header = \" \".join(f\"{i:>{max_widths[i]}}\" for i in range(num_cols))\n",
    "\n",
    "    formatted_rows = []\n",
    "    for i, row in enumerate(data):\n",
    "        formatted_row = \" \".join(f\"{row[j]:>{max_widths[j]}}\" for j in range(num_cols))\n",
    "        formatted_rows.append(f\"{i} {formatted_row}\")\n",
    "        \n",
    "    return f\"{header}\\n\" + \"\\n\".join(formatted_rows)\n",
    "\n",
    "data = [\n",
    "    [1, 23, 456],\n",
    "    [7890, 12, 3],\n",
    "    [45, 6, 78]\n",
    "]\n",
    "\n",
    "formatted_dataframe = format_dataframe(data)\n",
    "print(formatted_dataframe)"
   ]
  },
  {
   "cell_type": "code",
   "execution_count": null,
   "id": "f64bd9d4-0b8e-471f-91ed-eb1a8715ba98",
   "metadata": {},
   "outputs": [],
   "source": []
  }
 ],
 "metadata": {
  "kernelspec": {
   "display_name": "Python 3 (ipykernel)",
   "language": "python",
   "name": "python3"
  },
  "language_info": {
   "codemirror_mode": {
    "name": "ipython",
    "version": 3
   },
   "file_extension": ".py",
   "mimetype": "text/x-python",
   "name": "python",
   "nbconvert_exporter": "python",
   "pygments_lexer": "ipython3",
   "version": "3.10.12"
  }
 },
 "nbformat": 4,
 "nbformat_minor": 5
}
