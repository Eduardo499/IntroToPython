{
 "cells": [
  {
   "cell_type": "raw",
   "id": "d2cff93d-92dd-413c-bec2-3ad67f52edcb",
   "metadata": {},
   "source": [
    "(Knight’s Tour Project: Closed-Tour Test) In the Knight’s Tour, a full tour occurs when the knight makes 64 moves, touching each square of the chessboard once and only once. A closed tour occurs when the 64th move is one move away from the square in which the knight started the tour. Modify the script you wrote in Exercise 7.24 to test for a closed tour if a full tour has occurred."
   ]
  },
  {
   "cell_type": "code",
   "execution_count": 4,
   "id": "008c215c-62db-44ca-b9ac-4809fab914a7",
   "metadata": {},
   "outputs": [
    {
     "name": "stdout",
     "output_type": "stream",
     "text": [
      "A complete tour was not achieved.\n",
      "\n",
      "Final board:\n",
      "[[ 1 10 23 42  7  4 13 18]\n",
      " [24 41  8  3 12 17  6 15]\n",
      " [ 9  2 11 22  5 14 19 32]\n",
      " [ 0 25 40 35 20 31 16  0]\n",
      " [ 0 36 21  0 39  0 33 30]\n",
      " [26  0 38  0 34 29  0  0]\n",
      " [37  0  0 28  0  0  0  0]\n",
      " [ 0 27  0  0  0  0  0  0]]\n",
      "\n",
      "Moves performed: 42\n"
     ]
    }
   ],
   "source": [
    "import numpy as np\n",
    "\n",
    "# Initialize the chessboard\n",
    "board = np.zeros((8, 8), dtype=int)\n",
    "\n",
    "# Arrays for possible knight moves\n",
    "horizontal = [2, 1, -1, -2, -2, -1, 1, 2]\n",
    "vertical = [-1, -2, -2, -1, 1, 2, 2, 1]\n",
    "\n",
    "# Starting position of the knight\n",
    "start_row, start_col = 0, 0\n",
    "current_row, current_column = start_row, start_col\n",
    "board[current_row, current_column] = 1\n",
    "counter = 2\n",
    "\n",
    "# Function to check if a move is valid\n",
    "def is_valid_move(row, col):\n",
    "    return 0 <= row < 8 and 0 <= col < 8 and board[row, col] == 0\n",
    "\n",
    "# Perform the knight's tour\n",
    "while True:\n",
    "    moved = False\n",
    "    for move_number in range(8):\n",
    "        next_row = current_row + vertical[move_number]\n",
    "        next_column = current_column + horizontal[move_number]\n",
    "\n",
    "        if is_valid_move(next_row, next_column):\n",
    "            current_row, current_column = next_row, next_column\n",
    "            board[current_row, current_column] = counter\n",
    "            counter += 1\n",
    "            moved = True\n",
    "            break\n",
    "    if not moved:\n",
    "        break\n",
    "\n",
    "# Check if a complete tour occurred\n",
    "if counter - 1 == 64:\n",
    "    # Test if the knight can return to the starting square\n",
    "    closed_tour = False\n",
    "    for move_number in range(8):\n",
    "        test_row = current_row + vertical[move_number]\n",
    "        test_col = current_column + horizontal[move_number]\n",
    "        if test_row == start_row and test_col == start_col:\n",
    "            closed_tour = True\n",
    "            break\n",
    "\n",
    "    print(\"Complete tour achieved!\")\n",
    "    if closed_tour:\n",
    "        print(\"The tour is closed!\")\n",
    "    else:\n",
    "        print(\"The tour is NOT closed!\")\n",
    "else:\n",
    "    print(\"A complete tour was not achieved.\")\n",
    "\n",
    "# Display the final board and number of moves\n",
    "print(\"\\nFinal board:\")\n",
    "print(board)\n",
    "print(f\"\\nMoves performed: {counter - 1}\")\n"
   ]
  },
  {
   "cell_type": "code",
   "execution_count": null,
   "id": "0ee13e22-2139-4321-830b-a9b2e91cbee3",
   "metadata": {},
   "outputs": [],
   "source": []
  }
 ],
 "metadata": {
  "kernelspec": {
   "display_name": "Python 3 (ipykernel)",
   "language": "python",
   "name": "python3"
  },
  "language_info": {
   "codemirror_mode": {
    "name": "ipython",
    "version": 3
   },
   "file_extension": ".py",
   "mimetype": "text/x-python",
   "name": "python",
   "nbconvert_exporter": "python",
   "pygments_lexer": "ipython3",
   "version": "3.10.12"
  }
 },
 "nbformat": 4,
 "nbformat_minor": 5
}
