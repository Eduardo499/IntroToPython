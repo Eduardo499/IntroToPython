{
 "cells": [
  {
   "cell_type": "raw",
   "id": "a1244090-50da-48e9-89df-87b58c42990d",
   "metadata": {},
   "source": [
    "(array from List of Lists) Create an array from a list of two lists. The first list con- sists of the even numbers counting down from 10 to 0 and the second counting up from 0 to 10."
   ]
  },
  {
   "cell_type": "code",
   "execution_count": null,
   "id": "2c07f8a3-2098-4641-aa16-949753ded745",
   "metadata": {},
   "outputs": [],
   "source": [
    "import numpy as np\n",
    "\n",
    "a = [[10, 8, 6, 4, 2, 0], [0, 2, 4, 6, 8, 10]]\n",
    "b = np.array(a)\n",
    "b"
   ]
  }
 ],
 "metadata": {
  "kernelspec": {
   "display_name": "Python 3 (ipykernel)",
   "language": "python",
   "name": "python3"
  },
  "language_info": {
   "codemirror_mode": {
    "name": "ipython",
    "version": 3
   },
   "file_extension": ".py",
   "mimetype": "text/x-python",
   "name": "python",
   "nbconvert_exporter": "python",
   "pygments_lexer": "ipython3",
   "version": "3.10.12"
  }
 },
 "nbformat": 4,
 "nbformat_minor": 5
}
