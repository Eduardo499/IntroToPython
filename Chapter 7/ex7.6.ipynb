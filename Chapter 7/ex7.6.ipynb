{
 "cells": [
  {
   "cell_type": "raw",
   "id": "a220ad9d-af32-4cc5-9305-3d488181acbe",
   "metadata": {},
   "source": [
    "(Research: array Method astype) Research in the NumPy documentation the array method astype, which converts an array's elements to another type. Use linspace to create a 1-by-6 array with the values 1.1, 2.2, ..., 6.6. Then, use astype to convert the array to integers, then convert it to an array with floats and finally, convert it to an array of strings."
   ]
  },
  {
   "cell_type": "code",
   "execution_count": 5,
   "id": "25f37c7a-a013-4fc2-9fcb-ab305a9b3d83",
   "metadata": {},
   "outputs": [
    {
     "data": {
      "text/plain": [
       "array([1., 2., 3., 4., 5., 6.])"
      ]
     },
     "execution_count": 5,
     "metadata": {},
     "output_type": "execute_result"
    }
   ],
   "source": [
    "import numpy as np\n",
    "\n",
    "array = np.linspace(1, 6, 6)\n",
    "array"
   ]
  },
  {
   "cell_type": "code",
   "execution_count": 6,
   "id": "6189ecd5-5a4a-4de1-ae4a-8255ac372bfa",
   "metadata": {},
   "outputs": [
    {
     "data": {
      "text/plain": [
       "array([1, 2, 3, 4, 5, 6])"
      ]
     },
     "execution_count": 6,
     "metadata": {},
     "output_type": "execute_result"
    }
   ],
   "source": [
    "array.astype(int)"
   ]
  },
  {
   "cell_type": "code",
   "execution_count": 7,
   "id": "eed2c4ae-d897-411c-ae3d-5341542b02cd",
   "metadata": {},
   "outputs": [
    {
     "data": {
      "text/plain": [
       "array([1., 2., 3., 4., 5., 6.])"
      ]
     },
     "execution_count": 7,
     "metadata": {},
     "output_type": "execute_result"
    }
   ],
   "source": [
    "array.astype(float)"
   ]
  },
  {
   "cell_type": "code",
   "execution_count": 8,
   "id": "8854fb29-d2a6-46ff-91ff-0cf38705fb7f",
   "metadata": {},
   "outputs": [
    {
     "data": {
      "text/plain": [
       "array(['1.0', '2.0', '3.0', '4.0', '5.0', '6.0'], dtype='<U32')"
      ]
     },
     "execution_count": 8,
     "metadata": {},
     "output_type": "execute_result"
    }
   ],
   "source": [
    "array.astype(str)"
   ]
  }
 ],
 "metadata": {
  "kernelspec": {
   "display_name": "Python 3 (ipykernel)",
   "language": "python",
   "name": "python3"
  },
  "language_info": {
   "codemirror_mode": {
    "name": "ipython",
    "version": 3
   },
   "file_extension": ".py",
   "mimetype": "text/x-python",
   "name": "python",
   "nbconvert_exporter": "python",
   "pygments_lexer": "ipython3",
   "version": "3.10.12"
  }
 },
 "nbformat": 4,
 "nbformat_minor": 5
}
