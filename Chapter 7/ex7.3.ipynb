{
 "cells": [
  {
   "cell_type": "raw",
   "id": "27a33481-e6dd-4afc-8f01-f7e41c90a6be",
   "metadata": {},
   "source": [
    "(Element-Wise array Multiplication) Create a 10-by-10 array containing the number 4 in each position. Create a second 10-by-10 array containing the numbers 1 to 100 in ascending order. Multiply the first array by the second array."
   ]
  },
  {
   "cell_type": "code",
   "execution_count": 7,
   "id": "438f681d-b48a-41ce-a718-612d99c4b41a",
   "metadata": {},
   "outputs": [],
   "source": [
    "import numpy as np\n",
    "\n",
    "array1 = np.full((10, 10), 4)\n",
    "\n",
    "array2 = np.arange(1, 101).reshape(10, 10)"
   ]
  },
  {
   "cell_type": "code",
   "execution_count": 8,
   "id": "39b93121-db8c-45c3-9679-448c1a1d2294",
   "metadata": {},
   "outputs": [
    {
     "data": {
      "text/plain": [
       "array([[  4,   8,  12,  16,  20,  24,  28,  32,  36,  40],\n",
       "       [ 44,  48,  52,  56,  60,  64,  68,  72,  76,  80],\n",
       "       [ 84,  88,  92,  96, 100, 104, 108, 112, 116, 120],\n",
       "       [124, 128, 132, 136, 140, 144, 148, 152, 156, 160],\n",
       "       [164, 168, 172, 176, 180, 184, 188, 192, 196, 200],\n",
       "       [204, 208, 212, 216, 220, 224, 228, 232, 236, 240],\n",
       "       [244, 248, 252, 256, 260, 264, 268, 272, 276, 280],\n",
       "       [284, 288, 292, 296, 300, 304, 308, 312, 316, 320],\n",
       "       [324, 328, 332, 336, 340, 344, 348, 352, 356, 360],\n",
       "       [364, 368, 372, 376, 380, 384, 388, 392, 396, 400]])"
      ]
     },
     "execution_count": 8,
     "metadata": {},
     "output_type": "execute_result"
    }
   ],
   "source": [
    "array1 * array2"
   ]
  },
  {
   "cell_type": "code",
   "execution_count": null,
   "id": "f084d50e-b503-4686-ab86-3fe331bcd0a4",
   "metadata": {},
   "outputs": [],
   "source": []
  }
 ],
 "metadata": {
  "kernelspec": {
   "display_name": "Python 3 (ipykernel)",
   "language": "python",
   "name": "python3"
  },
  "language_info": {
   "codemirror_mode": {
    "name": "ipython",
    "version": 3
   },
   "file_extension": ".py",
   "mimetype": "text/x-python",
   "name": "python",
   "nbconvert_exporter": "python",
   "pygments_lexer": "ipython3",
   "version": "3.10.12"
  }
 },
 "nbformat": 4,
 "nbformat_minor": 5
}
