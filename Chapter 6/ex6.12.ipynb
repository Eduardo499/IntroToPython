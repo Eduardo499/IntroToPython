{
 "cells": [
  {
   "cell_type": "raw",
   "id": "83c1f049-0014-4064-aadd-caa04ccbf18c",
   "metadata": {},
   "source": [
    "(Guessing Game) Modify your solution for Exercise 5.12 to replace the lists of roles and actors with a dictionary. This dictionary contains the actors as keys and their roles as values. Use this dictionary to test if the players can match the right roles to the right actors the way it was done in Exercise 5.12."
   ]
  },
  {
   "cell_type": "code",
   "execution_count": null,
   "id": "e5e0b568-a698-4544-a09f-2b50c241c7cc",
   "metadata": {},
   "outputs": [],
   "source": [
    "actors = {'Sean Bean': 'Ned Stark', 'Mark Addy': 'Robert Baratheon', 'Nikolaj Coster-Waldau': 'Jaime Lannister', 'Michelle Fairley': 'Catelyn Stark', 'Lena Headey': 'Carsei Lannister'}\n",
    "\n",
    " question1 = int(input(\n",
    "\"\"\"Who played Ned Stark?\n",
    "1 - Sean Bean\n",
    "2 - Mark Addy \n",
    "3 - Nikolaj Coster-Waldau\n",
    "4 - Michelle Fairley\n",
    "5 - Lena Headey\n",
    "\"\"\"))\n",
    "\n",
    "    question2 = int(input(\n",
    "\"\"\"Who played Robert Baratheon?\n",
    "1 - Sean Bean\n",
    "2 - Mark Addy \n",
    "3 - Nikolaj Coster-Waldau\n",
    "4 - Michelle Fairley\n",
    "5 - Lena Headey\n",
    "\"\"\"))\n",
    "\n",
    "    question3 = int(input(\n",
    "\"\"\"Who played Jaime Lannister?\n",
    "1 - Sean Bean\n",
    "2 - Mark Addy \n",
    "3 - Nikolaj Coster-Waldau\n",
    "4 - Michelle Fairley\n",
    "5 - Lena Headey\n",
    "\"\"\"))\n",
    "\n",
    "    question4 = int(input(\n",
    "\"\"\"Who played Catelyn Stark?\n",
    "1 - Sean Bean\n",
    "2 - Mark Addy \n",
    "3 - Nikolaj Coster-Waldau\n",
    "4 - Michelle Fairley\n",
    "5 - Lena Headey\n",
    "\"\"\"))\n",
    "\n",
    "    question5 = int(input(\n",
    "\"\"\"Who played Carsei Lannister?\n",
    "1 - Sean Bean\n",
    "2 - Mark Addy \n",
    "3 - Nikolaj Coster-Waldau\n",
    "4 - Michelle Fairley\n",
    "5 - Lena Headey\n",
    "\"\"\"))\n",
    "\n",
    "    if question1 == 1:\n",
    "        count += 1\n",
    "    if question2 == 2:\n",
    "        count += 1\n",
    "    if question3 == 3:\n",
    "        count += 1\n",
    "    if question4 == 4:\n",
    "        count += 1\n",
    "    if question5 == 5:\n",
    "        count += 1\n",
    "\n",
    "    print(f'You score is {count}')\n",
    "\n",
    "question()"
   ]
  }
 ],
 "metadata": {
  "kernelspec": {
   "display_name": "Python 3 (ipykernel)",
   "language": "python",
   "name": "python3"
  },
  "language_info": {
   "codemirror_mode": {
    "name": "ipython",
    "version": 3
   },
   "file_extension": ".py",
   "mimetype": "text/x-python",
   "name": "python",
   "nbconvert_exporter": "python",
   "pygments_lexer": "ipython3",
   "version": "3.10.12"
  }
 },
 "nbformat": 4,
 "nbformat_minor": 5
}
