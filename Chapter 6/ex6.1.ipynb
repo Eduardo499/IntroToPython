{
 "cells": [
  {
   "cell_type": "raw",
   "id": "a88d0435-28fa-4b7d-b788-8ece9642fd29",
   "metadata": {},
   "source": [
    "(Discussion: Dictionary Methods) Briefly explain the operation of each of the following dictionary methods:\n",
    "a) add\n",
    "R: dict' object has no attribute 'add'\n",
    "b) keys\n",
    "R: Returns a tuple with the keys\n",
    "c) values\n",
    "R: Returns a tuple with the values\n",
    "d) items\n",
    "R: Returns a tuple with the keys and values"
   ]
  },
  {
   "cell_type": "code",
   "execution_count": null,
   "id": "e507dc8e-22bc-4f39-baa7-7a32b8478cad",
   "metadata": {},
   "outputs": [],
   "source": []
  }
 ],
 "metadata": {
  "kernelspec": {
   "display_name": "Python 3 (ipykernel)",
   "language": "python",
   "name": "python3"
  },
  "language_info": {
   "codemirror_mode": {
    "name": "ipython",
    "version": 3
   },
   "file_extension": ".py",
   "mimetype": "text/x-python",
   "name": "python",
   "nbconvert_exporter": "python",
   "pygments_lexer": "ipython3",
   "version": "3.10.12"
  }
 },
 "nbformat": 4,
 "nbformat_minor": 5
}
