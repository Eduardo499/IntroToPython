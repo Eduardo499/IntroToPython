{
 "cells": [
  {
   "cell_type": "raw",
   "id": "7bc3409f-b725-4a8b-ae45-b1018cfac786",
   "metadata": {},
   "source": [
    "(Project: Cooking with Healthier Ingredients) In the “Strings: A Deeper Look” chapter’s exercises, you’ll write a script that enables its user to enter ingredients from a cooking recipe, then recommends healthier replacements.3 In preparation for that exercise, create a dictionary that maps ingredients to lists of potential replacements. Some ingredient replacements are shown below:\n",
    "\n",
    "Ingredient                Substitution\n",
    "1 cup sour cream          1 cup yogurt\n",
    "1 cup milk                1/2 cup evaporated milk and 1/2 cup water\n",
    "1 teaspoon lemon juice    1/2 teaspoon vinegar\n",
    "1 cup sugar               1/2 cup honey, 1 cup molasses or 1/4 cup agave nectar\n",
    "1 cup butter              1 cup margarine or yogurt\n",
    "1 cup flour               1 cup rye or rice flour\n",
    "1 cup mayonnaise          1 cup cottage cheese or 1/8 cup mayonnaise and 7/8 cup yogurt\n",
    "1 egg                     2 tablespoons cornstarch, arrowroot flour or potato starch or 2 egg  whites or 1/2 of a large                                banana (mashed)\n",
    "1 cup milk                1 cup soy milk\n",
    "1 cup oil                 1 cup applesauce\n",
    "\n",
    "Your dictionary should take into consideration that replacements are not always one-for-one. For example, if a cake recipe calls for three eggs, it might reasonably use six egg whites instead. Research conversion data for measurements and ingredient substitutes online. Your dictionary should map the ingredients to lists of potential substitutes."
   ]
  },
  {
   "cell_type": "code",
   "execution_count": 2,
   "id": "335dd654-ddae-43b3-8836-b91db13af6ef",
   "metadata": {},
   "outputs": [
    {
     "name": "stdin",
     "output_type": "stream",
     "text": [
      "Enter a ingredient:  1 cup sugar\n"
     ]
    },
    {
     "name": "stdout",
     "output_type": "stream",
     "text": [
      "Possible healthier substitutes for 1 cup sugar:\n",
      "- 1/2 cup honey\n",
      "- 1 cup molasses\n",
      "- 1/4 cup agave nectar\n"
     ]
    }
   ],
   "source": [
    "ingredient_substitutes = {\n",
    "    \"1 cup sour cream\": [\"1 cup yogurt\"],\n",
    "    \"1 cup milk\": [\"1/2 cup evaporated milk and 1/2 cup water\", \"1 cup soy milk\"],\n",
    "    \"1 teaspoon lemon juice\": [\"1/2 teaspoon vinegar\"],\n",
    "    \"1 cup sugar\": [\"1/2 cup honey\", \"1 cup molasses\", \"1/4 cup agave nectar\"],\n",
    "    \"1 cup butter\": [\"1 cup margarine\", \"1 cup yogurt\"],\n",
    "    \"1 cup flour\": [\"1 cup rye flour\", \"1 cup rice flour\"],\n",
    "    \"1 cup mayonnaise\": [\"1 cup cottage cheese\", \"1/8 cup mayonnaise and 7/8 cup yogurt\"],\n",
    "    \"1 egg\": [\n",
    "        \"2 tablespoons cornstarch\",\n",
    "        \"2 tablespoons arrowroot flour\",\n",
    "        \"2 tablespoons potato starch\",\n",
    "        \"2 egg whites\",\n",
    "        \"1/2 of a large banana (mashed)\"\n",
    "    ],\n",
    "    \"1 cup oil\": [\"1 cup applesauce\"]\n",
    "}\n",
    "\n",
    "ingredient = str(input('Enter a ingredient: '))\n",
    "if ingredient in ingredient_substitutes:\n",
    "    print(f\"Possible healthier substitutes for {ingredient}:\")\n",
    "    for substitute in ingredient_substitutes[ingredient]:\n",
    "        print(f\"- {substitute}\")\n",
    "else:\n",
    "     print(f\"No substitutions found for {ingredient}.\")"
   ]
  },
  {
   "cell_type": "code",
   "execution_count": null,
   "id": "92ce62c7-ae25-4d5f-b160-b7f09d6753ce",
   "metadata": {},
   "outputs": [],
   "source": []
  }
 ],
 "metadata": {
  "kernelspec": {
   "display_name": "Python 3 (ipykernel)",
   "language": "python",
   "name": "python3"
  },
  "language_info": {
   "codemirror_mode": {
    "name": "ipython",
    "version": 3
   },
   "file_extension": ".py",
   "mimetype": "text/x-python",
   "name": "python",
   "nbconvert_exporter": "python",
   "pygments_lexer": "ipython3",
   "version": "3.10.12"
  }
 },
 "nbformat": 4,
 "nbformat_minor": 5
}
