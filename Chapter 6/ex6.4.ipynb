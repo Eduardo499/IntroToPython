{
 "cells": [
  {
   "cell_type": "raw",
   "id": "6a385e46-d69c-41a7-b3af-9cb6c8f203cd",
   "metadata": {},
   "source": [
    "(Fill in the Missing Code) In each of the following expressions, replace the ***s with a set operator that produces the result shown in the comment. The last operation should check whether the left operand is an improper subset of the right operand. For each of the first four expressions, specify the name of the set operation that produces the specified result."
   ]
  },
  {
   "cell_type": "code",
   "execution_count": 1,
   "id": "da9c03a5-8a73-44cf-917e-73baa08e8d55",
   "metadata": {},
   "outputs": [
    {
     "data": {
      "text/plain": [
       "{1, 2, 4, 8, 16, 64, 256}"
      ]
     },
     "execution_count": 1,
     "metadata": {},
     "output_type": "execute_result"
    }
   ],
   "source": [
    "#a\n",
    "{1, 2, 4, 8, 16} | {1, 4, 16, 64, 256}"
   ]
  },
  {
   "cell_type": "code",
   "execution_count": 3,
   "id": "08de444d-b977-48ce-a67d-99313b50e4a9",
   "metadata": {},
   "outputs": [
    {
     "data": {
      "text/plain": [
       "{1, 4, 16}"
      ]
     },
     "execution_count": 3,
     "metadata": {},
     "output_type": "execute_result"
    }
   ],
   "source": [
    "#b\n",
    "{1, 2, 4, 8, 16} & {1, 4, 16, 64, 256}"
   ]
  },
  {
   "cell_type": "code",
   "execution_count": 4,
   "id": "2be6b119-4f7b-47b3-8155-b7bf87212686",
   "metadata": {},
   "outputs": [
    {
     "data": {
      "text/plain": [
       "{2, 8}"
      ]
     },
     "execution_count": 4,
     "metadata": {},
     "output_type": "execute_result"
    }
   ],
   "source": [
    "#b\n",
    "{1, 2, 4, 8, 16} - {1, 4, 16, 64, 256}"
   ]
  },
  {
   "cell_type": "code",
   "execution_count": 6,
   "id": "8b0b93fd-10d9-489b-a1f7-fa45d4fd0997",
   "metadata": {},
   "outputs": [
    {
     "data": {
      "text/plain": [
       "{2, 8, 64, 256}"
      ]
     },
     "execution_count": 6,
     "metadata": {},
     "output_type": "execute_result"
    }
   ],
   "source": [
    "#c\n",
    "{1, 2, 4, 8, 16} ^ {1, 4, 16, 64, 256}"
   ]
  },
  {
   "cell_type": "code",
   "execution_count": 7,
   "id": "cebeee5c-55b3-4c65-90a7-6be3ef26c887",
   "metadata": {},
   "outputs": [
    {
     "data": {
      "text/plain": [
       "False"
      ]
     },
     "execution_count": 7,
     "metadata": {},
     "output_type": "execute_result"
    }
   ],
   "source": [
    "#d\n",
    "{1, 2, 4, 8, 16} == {1, 4, 16, 64, 256}"
   ]
  },
  {
   "cell_type": "code",
   "execution_count": null,
   "id": "32b61c27-2a0e-4e6f-8eb4-3619e44d1db7",
   "metadata": {},
   "outputs": [],
   "source": []
  }
 ],
 "metadata": {
  "kernelspec": {
   "display_name": "Python 3 (ipykernel)",
   "language": "python",
   "name": "python3"
  },
  "language_info": {
   "codemirror_mode": {
    "name": "ipython",
    "version": 3
   },
   "file_extension": ".py",
   "mimetype": "text/x-python",
   "name": "python",
   "nbconvert_exporter": "python",
   "pygments_lexer": "ipython3",
   "version": "3.10.12"
  }
 },
 "nbformat": 4,
 "nbformat_minor": 5
}
