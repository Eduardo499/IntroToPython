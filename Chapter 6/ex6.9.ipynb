{
 "cells": [
  {
   "cell_type": "raw",
   "id": "cefd2171-7793-47ad-b4c0-63bc5f908db3",
   "metadata": {},
   "source": [
    "(Dictionary Manipulations) Using the following dictionary, which maps country names to abbreviations:\n",
    "    tlds = {'Canada': 'ca', 'United States': 'us', 'Mexico': 'mx'}\n",
    "Write a script that shows the user a list of dictionary manipulation options to choose from. Based on the choice, the corresponding manipulation is performed, and the result is shown on the screen. The following choices can be made by the user:\n",
    "    a) Show the abbreviation of a country chosen by the user.\n",
    "    b) Display all key-value pairs in a two-column format.\n",
    "    c) Add a new key-value pair to the dictionary or change the value of an existing key-value pair.\n",
    "    d) Create a new dictionary with the values of the first dictionary as keys and the\n",
    "    keys of the first dictionary as values.\n",
    "    e) Convert all the abbreviations in the dictionary to uppercase letters."
   ]
  },
  {
   "cell_type": "code",
   "execution_count": 35,
   "id": "a6d01fa4-fb52-4714-961d-fef5f9167a83",
   "metadata": {},
   "outputs": [
    {
     "name": "stdout",
     "output_type": "stream",
     "text": [
      "----------\n"
     ]
    },
    {
     "name": "stdin",
     "output_type": "stream",
     "text": [
      "Chose one\n",
      "a) Show the abbreviation of a country\n",
      "b) Display all key-value pairs\n",
      "c) Add a new key-value pair to the dictionary\n",
      "d) Create a new dictionary with the values of the first dictionary as keys and the keys of the first dictionary as values\n",
      "e) Convert all the abbreviations in the dictionary to uppercase letters\n",
      "f) Exit\n",
      " e\n"
     ]
    },
    {
     "name": "stdout",
     "output_type": "stream",
     "text": [
      "----------\n",
      "----------\n"
     ]
    },
    {
     "name": "stdin",
     "output_type": "stream",
     "text": [
      "Chose one\n",
      "a) Show the abbreviation of a country\n",
      "b) Display all key-value pairs\n",
      "c) Add a new key-value pair to the dictionary\n",
      "d) Create a new dictionary with the values of the first dictionary as keys and the keys of the first dictionary as values\n",
      "e) Convert all the abbreviations in the dictionary to uppercase letters\n",
      "f) Exit\n",
      " b\n"
     ]
    },
    {
     "name": "stdout",
     "output_type": "stream",
     "text": [
      "----------\n",
      "Canada: CA\n",
      "United States: US\n",
      "Mexico: MX\n",
      "----------\n",
      "----------\n"
     ]
    },
    {
     "name": "stdin",
     "output_type": "stream",
     "text": [
      "Chose one\n",
      "a) Show the abbreviation of a country\n",
      "b) Display all key-value pairs\n",
      "c) Add a new key-value pair to the dictionary\n",
      "d) Create a new dictionary with the values of the first dictionary as keys and the keys of the first dictionary as values\n",
      "e) Convert all the abbreviations in the dictionary to uppercase letters\n",
      "f) Exit\n",
      " f\n"
     ]
    },
    {
     "name": "stdout",
     "output_type": "stream",
     "text": [
      "----------\n"
     ]
    }
   ],
   "source": [
    "tlds = {'Canada': 'ca', 'United States': 'us', 'Mexico': 'mx'}\n",
    "new_dict = dict()\n",
    "\n",
    "def show_abbreviation(codes, country):\n",
    "    if country in codes.keys():\n",
    "        print(f'{country} = {codes[country]}')\n",
    "    else:\n",
    "        print('Country not found.')\n",
    "\n",
    "def display(codes):\n",
    "    for keys, values in codes.items():\n",
    "        print(f'{keys}: {values}')\n",
    "\n",
    "while True:\n",
    "    print(\"-\" * 10)\n",
    "    choice = str(input(\"\"\"Chose one\n",
    "a) Show the abbreviation of a country\n",
    "b) Display all key-value pairs\n",
    "c) Add a new key-value pair to the dictionary\n",
    "d) Create a new dictionary with the values of the first dictionary as keys and the keys of the first dictionary as values\n",
    "e) Convert all the abbreviations in the dictionary to uppercase letters\n",
    "f) Exit\n",
    "\"\"\"))\n",
    "    \n",
    "    print('-' * 10)\n",
    "    \n",
    "    if choice.lower() == 'a':\n",
    "        country = str(input('Enter a Country to find its abbreviation: '))\n",
    "        print('-' * 10)\n",
    "        show_abbreviation(tlds, country.capitalize())\n",
    "        print('-' * 10)\n",
    "    elif choice.lower() == 'b':\n",
    "        display(tlds)\n",
    "        print('-' * 10)\n",
    "    elif choice.lower() == 'c':\n",
    "        new_key = str(input('Enter a new country: '))\n",
    "        new_value = str(input('Enter a new abbreviation: '))\n",
    "        tlds[new_key] = new_value\n",
    "        print('-' * 10)\n",
    "    elif choice.lower() == 'd':\n",
    "        for keys, values in tlds.items():\n",
    "            new_dict[values] = keys\n",
    "        print(new_dict)\n",
    "        print('-' * 10)\n",
    "    elif choice.lower() == 'e':\n",
    "        tlds = {country: abbreviation.upper() for country, abbreviation in tlds.items()}\n",
    "    elif choice.lower() == 'f':\n",
    "        break\n",
    "    else:\n",
    "        print('Invalid option.')\n",
    "        print('-' * 10)"
   ]
  },
  {
   "cell_type": "code",
   "execution_count": null,
   "id": "70d3fdff-84c8-46e9-9f9a-2254d7d2c6ae",
   "metadata": {},
   "outputs": [],
   "source": []
  },
  {
   "cell_type": "code",
   "execution_count": null,
   "id": "c2b9ce94-9a2c-48f0-ab10-ad5be7764fe9",
   "metadata": {},
   "outputs": [],
   "source": []
  }
 ],
 "metadata": {
  "kernelspec": {
   "display_name": "Python 3 (ipykernel)",
   "language": "python",
   "name": "python3"
  },
  "language_info": {
   "codemirror_mode": {
    "name": "ipython",
    "version": 3
   },
   "file_extension": ".py",
   "mimetype": "text/x-python",
   "name": "python",
   "nbconvert_exporter": "python",
   "pygments_lexer": "ipython3",
   "version": "3.10.12"
  }
 },
 "nbformat": 4,
 "nbformat_minor": 5
}
