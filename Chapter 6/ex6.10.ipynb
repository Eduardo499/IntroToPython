{
 "cells": [
  {
   "cell_type": "raw",
   "id": "8f3937ce-754b-4784-9901-6b418f3bfed3",
   "metadata": {},
   "source": [
    "(Set Manipulation) Write a script where two sets of colors are created. Write functions that use either the comparison operators or the mathematical set operators to display the following results:\n",
    "    a) Display the set with the highest number of elements.\n",
    "    b) Display whether Set 1 = Set 2.\n",
    "    c) Display the results of the |, &, -, and ^ operations."
   ]
  },
  {
   "cell_type": "code",
   "execution_count": 4,
   "id": "54d6664b-d0e8-417c-abaf-14cea15b0d77",
   "metadata": {},
   "outputs": [
    {
     "name": "stdout",
     "output_type": "stream",
     "text": [
      "{'yellow', 'black', 'orange', 'gray', 'purple', 'brown'}\n",
      "False\n",
      "|\n",
      "{'blue', 'red', 'yellow', 'orange', 'purple', 'green', 'brown', 'black', 'white', 'gray'}\n",
      "&\n",
      "set()\n",
      "-\n",
      "{'blue', 'white', 'green', 'red'}\n",
      "^\n",
      "{'blue', 'green', 'brown', 'yellow', 'red', 'orange', 'purple', 'white', 'black', 'gray'}\n"
     ]
    }
   ],
   "source": [
    "set1 = {'red', 'blue', 'green', 'white'}\n",
    "set2 = {'black', 'orange', 'purple', 'yellow', 'gray', 'brown'}\n",
    "\n",
    "if set1 > set2:\n",
    "    print(set1)\n",
    "else:\n",
    "    print(set2)\n",
    "\n",
    "print(set1 == set2)\n",
    "\n",
    "print('|')\n",
    "print(f'{set1 | set2}')\n",
    "print('&')\n",
    "print(f'{set1 & set2}')\n",
    "print('-')\n",
    "print(f'{set1 - set2}')\n",
    "print('^')\n",
    "print(f'{set1 ^ set2}')\n"
   ]
  },
  {
   "cell_type": "code",
   "execution_count": null,
   "id": "1f567fb5-c0b7-4ad6-99be-52ac70a8502f",
   "metadata": {},
   "outputs": [],
   "source": []
  }
 ],
 "metadata": {
  "kernelspec": {
   "display_name": "Python 3 (ipykernel)",
   "language": "python",
   "name": "python3"
  },
  "language_info": {
   "codemirror_mode": {
    "name": "ipython",
    "version": 3
   },
   "file_extension": ".py",
   "mimetype": "text/x-python",
   "name": "python",
   "nbconvert_exporter": "python",
   "pygments_lexer": "ipython3",
   "version": "3.10.12"
  }
 },
 "nbformat": 4,
 "nbformat_minor": 5
}
