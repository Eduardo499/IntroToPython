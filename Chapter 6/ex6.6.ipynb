{
 "cells": [
  {
   "cell_type": "raw",
   "id": "6c3918e9-b497-4838-a76d-2407648a280e",
   "metadata": {},
   "source": [
    "(Counting Votes) Write a script that uses a dictionary to determine the number of votes received by candidates in an election. The votes are concatenated in a string where each vote is separated from the next by a comma. Use the techniques you learned in Section 6.2.7. [Hint: split can take in an argument for the specific delimiter you wish to use in a string.]"
   ]
  },
  {
   "cell_type": "code",
   "execution_count": 7,
   "id": "67496c77-78f7-47d7-83a2-7ddf5257dff0",
   "metadata": {},
   "outputs": [
    {
     "name": "stdout",
     "output_type": "stream",
     "text": [
      "A  545\n",
      "B  344\n",
      "C  222\n"
     ]
    }
   ],
   "source": [
    "votes = {'A': 545, 'B': 344, 'C': 222}\n",
    "\n",
    "for candidate, vote in votes.items():\n",
    "    print(f'{candidate:<3}{vote}')"
   ]
  }
 ],
 "metadata": {
  "kernelspec": {
   "display_name": "Python 3 (ipykernel)",
   "language": "python",
   "name": "python3"
  },
  "language_info": {
   "codemirror_mode": {
    "name": "ipython",
    "version": 3
   },
   "file_extension": ".py",
   "mimetype": "text/x-python",
   "name": "python",
   "nbconvert_exporter": "python",
   "pygments_lexer": "ipython3",
   "version": "3.10.12"
  }
 },
 "nbformat": 4,
 "nbformat_minor": 5
}
