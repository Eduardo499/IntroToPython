{
 "cells": [
  {
   "cell_type": "raw",
   "id": "fc20060c-e5aa-493a-834e-48bbe93319c3",
   "metadata": {},
   "source": [
    "(Character Frequency Analysis) In cryptoanalysis, the technique of character frequency analysis is often used to decipher a message when the key is unknown. This technique calculates the frequency of each character in the encrypted text and maps this to the frequency of characters used in, for instance, the English language. Write a script that uses a dictionary to summarize the frequency of each letter in a given text. Ignore case, ignore spaces and assume that the user does not enter any punctuation. Display a two-column table of the letters and their frequency."
   ]
  },
  {
   "cell_type": "code",
   "execution_count": 3,
   "id": "c54044f3-45ef-4224-adc2-a4e495e6454c",
   "metadata": {},
   "outputs": [
    {
     "name": "stdout",
     "output_type": "stream",
     "text": [
      "E  1\n",
      "n  8\n",
      "t  17\n",
      "e  15\n",
      "r  9\n",
      "h  5\n",
      "u  3\n",
      "i  4\n",
      "m  2\n",
      "c  4\n",
      "o  7\n",
      "x  2\n",
      "a  3\n",
      "d  2\n",
      "s  1\n",
      "b  2\n",
      "j  2\n",
      "l  1\n"
     ]
    }
   ],
   "source": [
    "from collections import Counter\n",
    "\n",
    "text = 'Enter the runtime context and return either this object or another object related to the runtime context'.replace(' ', '')\n",
    "letters = Counter(text)\n",
    "\n",
    "for letter, frequency in letters.items():\n",
    "    print(f'{letter:<3}{frequency}')"
   ]
  },
  {
   "cell_type": "code",
   "execution_count": null,
   "id": "e5200b85-1be8-4588-ba66-a3c7749c0ddf",
   "metadata": {},
   "outputs": [],
   "source": []
  }
 ],
 "metadata": {
  "kernelspec": {
   "display_name": "Python 3 (ipykernel)",
   "language": "python",
   "name": "python3"
  },
  "language_info": {
   "codemirror_mode": {
    "name": "ipython",
    "version": 3
   },
   "file_extension": ".py",
   "mimetype": "text/x-python",
   "name": "python",
   "nbconvert_exporter": "python",
   "pygments_lexer": "ipython3",
   "version": "3.10.12"
  }
 },
 "nbformat": 4,
 "nbformat_minor": 5
}
