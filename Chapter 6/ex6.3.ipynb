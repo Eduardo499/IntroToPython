{
 "cells": [
  {
   "cell_type": "raw",
   "id": "cefd1787-da34-4e7d-ba1c-ad727515e900",
   "metadata": {},
   "source": [
    "(What Does This Code Do?) The dictionary temperatures contains three Fahren- heit temperature samples for each of four days. What does the for statement do?"
   ]
  },
  {
   "cell_type": "code",
   "execution_count": 1,
   "id": "0be31acc-2015-4206-977c-f625b333cad0",
   "metadata": {},
   "outputs": [
    {
     "name": "stdout",
     "output_type": "stream",
     "text": [
      "Monday: 70.00\n",
      "Tuesday: 56.67\n",
      "Wednesday: 79.33\n",
      "Thursday: 74.00\n"
     ]
    }
   ],
   "source": [
    "temperatures = {\n",
    "'Monday': [66, 70, 74],\n",
    "'Tuesday': [50, 56, 64],\n",
    "'Wednesday': [75, 80, 83],\n",
    "'Thursday': [67, 74, 81]\n",
    "}\n",
    "\n",
    "for k, v in temperatures.items():\n",
    "    print(f'{k}: {sum(v)/len(v):.2f}')"
   ]
  },
  {
   "cell_type": "code",
   "execution_count": null,
   "id": "36d2947b-65c5-40a3-9811-9e0876f9beca",
   "metadata": {},
   "outputs": [],
   "source": [
    "The code returns the average of temperatures"
   ]
  }
 ],
 "metadata": {
  "kernelspec": {
   "display_name": "Python 3 (ipykernel)",
   "language": "python",
   "name": "python3"
  },
  "language_info": {
   "codemirror_mode": {
    "name": "ipython",
    "version": 3
   },
   "file_extension": ".py",
   "mimetype": "text/x-python",
   "name": "python",
   "nbconvert_exporter": "python",
   "pygments_lexer": "ipython3",
   "version": "3.10.12"
  }
 },
 "nbformat": 4,
 "nbformat_minor": 5
}
