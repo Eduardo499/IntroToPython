{
 "cells": [
  {
   "cell_type": "raw",
   "id": "da94379a-630c-4f32-82e8-886af65eb467",
   "metadata": {},
   "source": [
    "(Personnel Files) Create a dictionary containing information about a company’s staff. Within the dictionary, their personnel numbers are used as dictionary keys. For each staff member, their name, date of birth, and office branch are used as values. Display the dictionary’s contents as a key with an indented list of staff information below it."
   ]
  },
  {
   "cell_type": "code",
   "execution_count": 2,
   "id": "6f6dfb3b-5cb2-41e2-b264-005ec3316b29",
   "metadata": {},
   "outputs": [
    {
     "name": "stdout",
     "output_type": "stream",
     "text": [
      "Personnel Number: 101\n",
      "    Name: Alice Johnson\n",
      "    Date of Birth: 1985-03-12\n",
      "    Office Branch: New York\n",
      "\n",
      "Personnel Number: 102\n",
      "    Name: Bob Smith\n",
      "    Date of Birth: 1990-07-24\n",
      "    Office Branch: Los Angeles\n",
      "\n",
      "Personnel Number: 103\n",
      "    Name: Catherine Lee\n",
      "    Date of Birth: 1982-11-05\n",
      "    Office Branch: Chicago\n",
      "\n",
      "Personnel Number: 104\n",
      "    Name: David Brown\n",
      "    Date of Birth: 1995-01-15\n",
      "    Office Branch: Houston\n",
      "\n"
     ]
    }
   ],
   "source": [
    "personnel_files = {\n",
    "    101: {\"Name\": \"Alice Johnson\", \"Date of Birth\": \"1985-03-12\", \"Office Branch\": \"New York\"},\n",
    "    102: {\"Name\": \"Bob Smith\", \"Date of Birth\": \"1990-07-24\", \"Office Branch\": \"Los Angeles\"},\n",
    "    103: {\"Name\": \"Catherine Lee\", \"Date of Birth\": \"1982-11-05\", \"Office Branch\": \"Chicago\"},\n",
    "    104: {\"Name\": \"David Brown\", \"Date of Birth\": \"1995-01-15\", \"Office Branch\": \"Houston\"},\n",
    "}\n",
    "\n",
    "for personnel_number, details in personnel_files.items():\n",
    "    print(f'Personnel Number: {personnel_number}')\n",
    "    for key, value in details.items():\n",
    "        print(f'    {key}: {value}')\n",
    "    print()"
   ]
  },
  {
   "cell_type": "code",
   "execution_count": null,
   "id": "55977953-3c65-4a40-8775-240b4246bf4f",
   "metadata": {},
   "outputs": [],
   "source": []
  }
 ],
 "metadata": {
  "kernelspec": {
   "display_name": "Python 3 (ipykernel)",
   "language": "python",
   "name": "python3"
  },
  "language_info": {
   "codemirror_mode": {
    "name": "ipython",
    "version": 3
   },
   "file_extension": ".py",
   "mimetype": "text/x-python",
   "name": "python",
   "nbconvert_exporter": "python",
   "pygments_lexer": "ipython3",
   "version": "3.10.12"
  }
 },
 "nbformat": 4,
 "nbformat_minor": 5
}
