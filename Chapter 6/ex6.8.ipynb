{
 "cells": [
  {
   "cell_type": "raw",
   "id": "17bd8359-e397-4f3e-8b5e-a52dd5d841b1",
   "metadata": {},
   "source": [
    "(Challenge: Writing the Word Equivalent of a Check Amount) In check-writing systems, it’s crucial to prevent alteration of check amounts. One common security method requires that the amount be written in numbers and spelled out in words as well. Even if someone can alter the numerical amount of the check, it’s tough to change the amount in words. Create a dictionary that maps numbers to their corresponding word equivalents. Write a script that inputs a numeric check amount that’s less than 1000 and uses the dictionary to write the word equivalent of the amount. For example, the amount 112.43 should be written as\n",
    "    ONE HUNDRED TWELVE AND 43/100"
   ]
  },
  {
   "cell_type": "code",
   "execution_count": 6,
   "id": "0914bf08-1eae-40f6-a975-5debf8e3a566",
   "metadata": {},
   "outputs": [
    {
     "name": "stdin",
     "output_type": "stream",
     "text": [
      "Enter the check amount (less than 1000):  112.43\n"
     ]
    },
    {
     "name": "stdout",
     "output_type": "stream",
     "text": [
      "ONE HUNDRED TWELVE AND 43/100\n"
     ]
    }
   ],
   "source": [
    "def number_to_words(number):\n",
    "    ones = {\n",
    "        0: \"\", 1: \"ONE\", 2: \"TWO\", 3: \"THREE\", 4: \"FOUR\", 5: \"FIVE\", \n",
    "        6: \"SIX\", 7: \"SEVEN\", 8: \"EIGHT\", 9: \"NINE\"\n",
    "    }\n",
    "    teens = {\n",
    "        10: \"TEN\", 11: \"ELEVEN\", 12: \"TWELVE\", 13: \"THIRTEEN\", 14: \"FOURTEEN\", \n",
    "        15: \"FIFTEEN\", 16: \"SIXTEEN\", 17: \"SEVENTEEN\", 18: \"EIGHTEEN\", 19: \"NINETEEN\"\n",
    "    }\n",
    "    tens = {\n",
    "        2: \"TWENTY\", 3: \"THIRTY\", 4: \"FORTY\", 5: \"FIFTY\", 6: \"SIXTY\", \n",
    "        7: \"SEVENTY\", 8: \"EIGHTY\", 9: \"NINETY\"\n",
    "    }\n",
    "\n",
    "    def convert_hundreds(n):\n",
    "        if n == 0:\n",
    "            return ''\n",
    "        words = ''\n",
    "        if n // 100 > 0:\n",
    "            words += ones[n // 100] + ' HUNDRED'\n",
    "            if n % 100 > 0:\n",
    "                words += ' '\n",
    "        n %= 100\n",
    "        if n >= 20:\n",
    "            words += [ten // 10]\n",
    "            if n % 10 > 0:\n",
    "                words += ' ' + ones[n % 10]\n",
    "        elif n >= 10:\n",
    "            words += teens[n]\n",
    "        elif n > 0:\n",
    "            words += ones[n]\n",
    "        return words\n",
    "\n",
    "    dollars = int(number)\n",
    "    cents = round((number - dollars) * 100)\n",
    "\n",
    "    if dollars == 0:\n",
    "        dollar_words = 'ZERO'\n",
    "    else:\n",
    "        dollar_words = convert_hundreds(dollars)\n",
    "\n",
    "    result = f'{dollar_words} AND {cents:02}/100'\n",
    "    return result\n",
    "\n",
    "amount = float(input('Enter the check amount (less than 1000): '))   \n",
    "if amount >= 1000:\n",
    "    print(\"Amount exceeds the limit of 1000.\")\n",
    "else:\n",
    "    print(number_to_words(amount))"
   ]
  },
  {
   "cell_type": "code",
   "execution_count": null,
   "id": "2602cc1c-2828-4ca3-9cd1-2b6ea535e261",
   "metadata": {},
   "outputs": [],
   "source": []
  },
  {
   "cell_type": "code",
   "execution_count": null,
   "id": "7af507f9-30c2-450e-87c5-c9c3179157a9",
   "metadata": {},
   "outputs": [],
   "source": []
  }
 ],
 "metadata": {
  "kernelspec": {
   "display_name": "Python 3 (ipykernel)",
   "language": "python",
   "name": "python3"
  },
  "language_info": {
   "codemirror_mode": {
    "name": "ipython",
    "version": 3
   },
   "file_extension": ".py",
   "mimetype": "text/x-python",
   "name": "python",
   "nbconvert_exporter": "python",
   "pygments_lexer": "ipython3",
   "version": "3.10.12"
  }
 },
 "nbformat": 4,
 "nbformat_minor": 5
}
